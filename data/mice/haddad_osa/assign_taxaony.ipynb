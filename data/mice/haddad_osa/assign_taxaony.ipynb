{
 "cells": [
  {
   "cell_type": "markdown",
   "source": [
    "In Haddad OSA article, they assigned the taxonomy based on GreenGenes dataset. We want a taxonomy assignment that based on GTDB. Therefore, we will use their OTU and assign the taxonomy ourselves. These notebooks will be used for this proccess.\n",
    " "
   ],
   "metadata": {
    "collapsed": false
   },
   "id": "57bafec7253f2fa4"
  },
  {
   "cell_type": "markdown",
   "source": [
    "Extract the OTUs (that we would like to assign, from haddad_6weeks_deblur_otus_rare2k_matched.txt) to a fasta file. "
   ],
   "metadata": {
    "collapsed": false
   },
   "id": "3cc1930f6289251d"
  },
  {
   "cell_type": "code",
   "source": [
    "import numpy as np\n",
    "# outs_names.fasta\n",
    "import pandas as pd\n",
    "sotu=pd.read_table('original/haddad_6weeks_deblur_otus_rare2k_matched.txt', sep='\\t', dtype=str, index_col=0)\n"
   ],
   "metadata": {
    "collapsed": false,
    "ExecuteTime": {
     "end_time": "2023-12-31T09:30:46.853185807Z",
     "start_time": "2023-12-31T09:30:46.830220927Z"
    }
   },
   "id": "28319d53ae54035a",
   "execution_count": 59,
   "outputs": []
  },
  {
   "cell_type": "code",
   "source": [
    "sotu.head()"
   ],
   "metadata": {
    "collapsed": false,
    "ExecuteTime": {
     "end_time": "2023-12-31T09:29:57.651251640Z",
     "start_time": "2023-12-31T09:29:57.645768063Z"
    }
   },
   "id": "c89135c6d7af70ff",
   "execution_count": 52,
   "outputs": []
  },
  {
   "cell_type": "code",
   "source": [
    "sotu = sotu.astype(np.float32)"
   ],
   "metadata": {
    "collapsed": false,
    "ExecuteTime": {
     "end_time": "2023-12-31T09:30:59.058652582Z",
     "start_time": "2023-12-31T09:30:59.017545542Z"
    }
   },
   "id": "e55d4375e1a06ec0",
   "execution_count": 61,
   "outputs": []
  },
  {
   "cell_type": "code",
   "source": [
    "def write_otu_list_to_fasta(otus_names_list, file_name='outs_names.fasta'):\n",
    "    with open(file_name, 'w') as f:\n",
    "        for otu in otus_names_list:\n",
    "            f.write(f'>{otu}\\n')\n",
    "            f.write(f'{otu}\\n')\n",
    "            \n",
    "write_otu_list_to_fasta(sotu.columns)"
   ],
   "metadata": {
    "collapsed": false,
    "ExecuteTime": {
     "end_time": "2023-12-26T09:16:32.957282420Z",
     "start_time": "2023-12-26T09:16:32.942333656Z"
    }
   },
   "id": "bd97afd0a68f9b66",
   "execution_count": 8,
   "outputs": []
  },
  {
   "cell_type": "markdown",
   "source": [
    "Use the taxonomy annotation from DADA2 using GTDB, to annotate the samples:"
   ],
   "metadata": {
    "collapsed": false
   },
   "id": "95d017e230bdf9ce"
  },
  {
   "cell_type": "code",
   "source": [
    "otus_taxonomy = pd.read_csv('otus_taxonomy_assignment.csv', index_col=0)"
   ],
   "metadata": {
    "collapsed": false,
    "ExecuteTime": {
     "end_time": "2023-12-31T09:31:03.177354322Z",
     "start_time": "2023-12-31T09:31:03.170964898Z"
    }
   },
   "id": "82d25054ff8cdcc2",
   "execution_count": 62,
   "outputs": []
  },
  {
   "cell_type": "code",
   "source": [
    "otus_taxonomy.head()"
   ],
   "metadata": {
    "collapsed": false,
    "ExecuteTime": {
     "end_time": "2023-12-31T09:31:04.929112106Z",
     "start_time": "2023-12-31T09:31:04.921599706Z"
    }
   },
   "id": "b7707bfe1afdfa78",
   "execution_count": 63,
   "outputs": []
  },
  {
   "cell_type": "code",
   "source": [
    "otus_to_genus = otus_taxonomy['Genus'].fillna('Unknown')"
   ],
   "metadata": {
    "collapsed": false,
    "ExecuteTime": {
     "end_time": "2023-12-31T09:31:07.487834798Z",
     "start_time": "2023-12-31T09:31:07.485486240Z"
    }
   },
   "id": "38d9c0bf0272dce6",
   "execution_count": 64,
   "outputs": []
  },
  {
   "cell_type": "code",
   "source": [
    "otus_to_genus"
   ],
   "metadata": {
    "collapsed": false,
    "ExecuteTime": {
     "end_time": "2023-12-31T09:31:09.837969912Z",
     "start_time": "2023-12-31T09:31:09.834838796Z"
    }
   },
   "id": "49af30418f4660bf",
   "execution_count": 65,
   "outputs": []
  },
  {
   "cell_type": "code",
   "source": [
    "otus_to_genus.unique()"
   ],
   "metadata": {
    "collapsed": false,
    "ExecuteTime": {
     "end_time": "2023-12-31T09:31:22.676659738Z",
     "start_time": "2023-12-31T09:31:22.673917399Z"
    }
   },
   "id": "45068d3a2cba5179",
   "execution_count": 66,
   "outputs": []
  },
  {
   "cell_type": "code",
   "source": [
    "sotu = sotu.rename(columns = otus_to_genus).groupby(lambda x:x, axis=1).sum()"
   ],
   "metadata": {
    "collapsed": false,
    "ExecuteTime": {
     "end_time": "2023-12-31T09:31:30.326800338Z",
     "start_time": "2023-12-31T09:31:30.284502229Z"
    }
   },
   "id": "be3ccad26e1f38f6",
   "execution_count": 67,
   "outputs": []
  },
  {
   "cell_type": "code",
   "source": [
    "sotu.head()"
   ],
   "metadata": {
    "collapsed": false,
    "ExecuteTime": {
     "end_time": "2023-12-31T09:31:32.271386670Z",
     "start_time": "2023-12-31T09:31:32.265186562Z"
    }
   },
   "id": "3fd801a694d7b4a3",
   "execution_count": 68,
   "outputs": []
  },
  {
   "cell_type": "code",
   "source": [
    "sotu.shape"
   ],
   "metadata": {
    "collapsed": false,
    "ExecuteTime": {
     "end_time": "2023-12-31T09:34:54.177285423Z",
     "start_time": "2023-12-31T09:34:54.158209001Z"
    }
   },
   "id": "cdc17a119e7ce797",
   "execution_count": 72,
   "outputs": []
  },
  {
   "cell_type": "code",
   "source": [
    "sotu.to_csv('taxonomic_observed_abundance_HaddadOSA.csv')"
   ],
   "metadata": {
    "collapsed": false,
    "ExecuteTime": {
     "end_time": "2023-12-31T09:36:44.594958434Z",
     "start_time": "2023-12-31T09:36:44.550902911Z"
    }
   },
   "id": "e80f47e0464f14",
   "execution_count": 73,
   "outputs": []
  }
 ],
 "metadata": {
  "kernelspec": {
   "display_name": "Python 3",
   "language": "python",
   "name": "python3"
  },
  "language_info": {
   "codemirror_mode": {
    "name": "ipython",
    "version": 2
   },
   "file_extension": ".py",
   "mimetype": "text/x-python",
   "name": "python",
   "nbconvert_exporter": "python",
   "pygments_lexer": "ipython2",
   "version": "2.7.6"
  }
 },
 "nbformat": 4,
 "nbformat_minor": 5
}
