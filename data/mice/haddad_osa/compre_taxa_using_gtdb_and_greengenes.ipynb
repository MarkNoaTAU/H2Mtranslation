{
 "cells": [
  {
   "cell_type": "markdown",
   "source": [
    "Due to the large freq of \"unknown\" in the taxonomic annotation (in the gene level) - we will try to better understand the source of this problem and the alternatives in our hands. \n",
    "First, we will compare the freq of \"unknown\" in relative abundance using GTDB vs. Greengenes. \n",
    "Second, we will try to assign taxonomy using MGBC, and see how much improvement do we get. "
   ],
   "metadata": {
    "collapsed": false
   },
   "id": "47db99ea62469dfa"
  },
  {
   "cell_type": "code",
   "source": [
    "import pandas as pd\n",
    "import numpy as np\n",
    "import scipy.stats as stats\n",
    "from data.taxonomy_normalizer import NaiveTaxonomyNormalizer, preprocess_filter_rare_taxa\n",
    "\n",
    "\n",
    "taxa = pd.read_csv('taxonomic_observed_abundance_HaddadOSA.csv').set_index('#SampleID')\n",
    "metadata = pd.read_csv('relevant_metadata_haddad_osa.csv').set_index('#SampleID')\n",
    "sotu_greengenes = pd.read_table(\"original/haddad_6weeks_deblur_otus_rare2k_matched_wtaxa.txt\", sep='\\t')\n"
   ],
   "metadata": {
    "collapsed": false,
    "ExecuteTime": {
     "end_time": "2024-03-03T14:24:28.936277Z",
     "start_time": "2024-03-03T14:24:28.306353Z"
    }
   },
   "id": "37d0e11ddd4f6354",
   "execution_count": 1,
   "outputs": []
  },
  {
   "cell_type": "code",
   "source": [
    "control_samples = metadata[metadata.control].index\n",
    "taxa = taxa.loc[control_samples, :]"
   ],
   "metadata": {
    "collapsed": false,
    "ExecuteTime": {
     "end_time": "2024-03-03T14:24:28.940501Z",
     "start_time": "2024-03-03T14:24:28.937406Z"
    }
   },
   "id": "246dbec6063e118c",
   "execution_count": 2,
   "outputs": []
  },
  {
   "cell_type": "code",
   "source": [
    "DROP_UNKNOWN_TAXA = False\n",
    "UNKNOWN_TH = 1.0\n",
    "naive_normalizer = NaiveTaxonomyNormalizer(drop_unknown_taxa=DROP_UNKNOWN_TAXA, unknown_taxa_sample_threshold=UNKNOWN_TH)\n",
    "taxa = preprocess_filter_rare_taxa(taxa, verbose=False, percentage=10)\n",
    "relative_abundance = naive_normalizer.normalize(taxa)"
   ],
   "metadata": {
    "collapsed": false,
    "ExecuteTime": {
     "end_time": "2024-03-03T14:24:28.947792Z",
     "start_time": "2024-03-03T14:24:28.941170Z"
    }
   },
   "id": "641757c286ab8e43",
   "execution_count": 3,
   "outputs": []
  },
  {
   "cell_type": "code",
   "source": [
    "sotu_greengenes = pd.read_table(\"original/haddad_6weeks_deblur_otus_rare2k_matched_wtaxa.txt\", sep='\\t')\n",
    "sotu_greengenes = sotu_greengenes.drop(columns=['#OTU ID'])\n",
    "sotu_greengenes['taxonomy'] = sotu_greengenes['taxonomy'].str.extract(r'.*(g__.+);.*', expand=False).fillna(value='Unknown')\n",
    "sotu_greengenes = sotu_greengenes.groupby('taxonomy').sum().T\n",
    "sotu_greengenes = sotu_greengenes.loc[control_samples, :]\n"
   ],
   "metadata": {
    "collapsed": false,
    "ExecuteTime": {
     "end_time": "2024-03-03T14:27:24.399017Z",
     "start_time": "2024-03-03T14:27:24.377344Z"
    }
   },
   "id": "3e431d63afe15c30",
   "execution_count": 14,
   "outputs": []
  },
  {
   "cell_type": "code",
   "source": [
    "taxa_greengenes = preprocess_filter_rare_taxa(sotu_greengenes, verbose=True, percentage=10)\n",
    "relative_abundance_greengenes = naive_normalizer.normalize(taxa_greengenes)"
   ],
   "metadata": {
    "collapsed": false,
    "ExecuteTime": {
     "end_time": "2024-03-03T14:27:27.734351Z",
     "start_time": "2024-03-03T14:27:26.882280Z"
    }
   },
   "id": "6ed6acc7ea3f26d6",
   "execution_count": 15,
   "outputs": []
  },
  {
   "cell_type": "code",
   "source": [
    "relative_abundance['Unknown'].describe()\n"
   ],
   "metadata": {
    "collapsed": false,
    "ExecuteTime": {
     "end_time": "2024-03-03T14:28:09.458308Z",
     "start_time": "2024-03-03T14:28:09.453213Z"
    }
   },
   "id": "6b52a19fd88839f6",
   "execution_count": 16,
   "outputs": []
  },
  {
   "cell_type": "code",
   "source": [
    "relative_abundance_greengenes['Unknown'].describe()"
   ],
   "metadata": {
    "collapsed": false,
    "ExecuteTime": {
     "end_time": "2024-03-03T14:28:26.918676Z",
     "start_time": "2024-03-03T14:28:26.914311Z"
    }
   },
   "id": "30c297a1f7047ef1",
   "execution_count": 17,
   "outputs": []
  }
 ],
 "metadata": {
  "kernelspec": {
   "display_name": "Python 3",
   "language": "python",
   "name": "python3"
  },
  "language_info": {
   "codemirror_mode": {
    "name": "ipython",
    "version": 2
   },
   "file_extension": ".py",
   "mimetype": "text/x-python",
   "name": "python",
   "nbconvert_exporter": "python",
   "pygments_lexer": "ipython2",
   "version": "2.7.6"
  }
 },
 "nbformat": 4,
 "nbformat_minor": 5
}
