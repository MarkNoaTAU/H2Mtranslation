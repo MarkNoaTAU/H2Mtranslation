{
 "cells": [
  {
   "metadata": {},
   "cell_type": "markdown",
   "source": [
    "Translate the microbiome-metabolism correlation from mice to human. \n",
    "MICE - OSA\n",
    "HUMAN - iHMP"
   ],
   "id": "a6c23ba5b2355fd4"
  },
  {
   "metadata": {
    "ExecuteTime": {
     "end_time": "2024-05-30T09:10:19.806997Z",
     "start_time": "2024-05-30T09:10:19.803607Z"
    }
   },
   "cell_type": "code",
   "source": [
    "import pandas as pd\n",
    "import numpy as np\n",
    "import scipy.stats as stats"
   ],
   "id": "72f183f1e9fa4c5a",
   "outputs": [],
   "execution_count": 5
  },
  {
   "metadata": {
    "ExecuteTime": {
     "end_time": "2024-05-30T09:10:21.559077Z",
     "start_time": "2024-05-30T09:10:21.537538Z"
    }
   },
   "cell_type": "code",
   "source": [
    "mice_significant_corr = pd.read_pickle('mice/haddad_osa/analysis/metabolome_bacteria_significant_corr_kendall-tau.pkl')\n",
    "mice_corr_coefficient= pd.read_pickle('mice/haddad_osa/analysis/metabolome_bacteria_corr_coefficient_kendall-tau.pkl')\n",
    "mice_p_values_fdr_correction = pd.read_pickle('mice/haddad_osa/analysis/metabolome_bacteria_p_values_fdr_correction_kendall-tau.pkl')\n",
    "\n",
    "human_significant_corr = pd.read_pickle('human/iHMP_IBDMDB_2019/metabolome_bacteria_significant_corr_kendall-tau.pkl')\n",
    "human_corr_coefficient = pd.read_pickle('human/iHMP_IBDMDB_2019/metabolome_bacteria_corr_coefficient_kendall-tau.pkl')\n",
    "human_p_values_fdr_correction = pd.read_pickle('human/iHMP_IBDMDB_2019/metabolome_bacteria_p_values_fdr_correction_kendall-tau.pkl')"
   ],
   "id": "a531650e2da69bea",
   "outputs": [],
   "execution_count": 6
  },
  {
   "metadata": {
    "ExecuteTime": {
     "end_time": "2024-05-30T09:14:33.909993Z",
     "start_time": "2024-05-30T09:14:33.835408Z"
    }
   },
   "cell_type": "code",
   "source": [
    "# Keep only the genus label for simplicity: \n",
    "\n",
    "taxa_rename_to_genus = pd.Series(human_corr_coefficient.index.get_level_values(1), index=human_corr_coefficient.index.get_level_values(1)).str.extract('.*g__(.*)').squeeze()\n",
    "human_significant_corr = human_significant_corr.rename(taxa_rename_to_genus.to_dict(), axis=0, level=1)\n",
    "human_corr_coefficient = human_corr_coefficient.rename(taxa_rename_to_genus.to_dict(), axis=0, level=1)\n",
    "human_p_values_fdr_correction = human_p_values_fdr_correction.rename(taxa_rename_to_genus.to_dict(), axis=0, level=1)\n"
   ],
   "id": "eae57b57b320712c",
   "outputs": [],
   "execution_count": 12
  },
  {
   "metadata": {},
   "cell_type": "markdown",
   "source": [
    "Analysis \n",
    "\n",
    "How many genus are shared (mice - human)? \n",
    "(Note, when calculating the discrete matrix - I should also present the baseline (aka how many genus are shared without any translation)"
   ],
   "id": "aafbe0924abe5c7f"
  },
  {
   "metadata": {
    "ExecuteTime": {
     "end_time": "2024-05-30T09:17:11.782209Z",
     "start_time": "2024-05-30T09:17:11.776444Z"
    }
   },
   "cell_type": "code",
   "source": [
    "human_genus = human_corr_coefficient.index.get_level_values(1).unique()\n",
    "mice_genus = mice_corr_coefficient.index.get_level_values(1).unique()"
   ],
   "id": "cb4b90cb09be324",
   "outputs": [],
   "execution_count": 21
  },
  {
   "metadata": {
    "ExecuteTime": {
     "end_time": "2024-05-30T09:25:56.658697Z",
     "start_time": "2024-05-30T09:25:56.655059Z"
    }
   },
   "cell_type": "code",
   "source": [
    "print(f\"There are {len(mice_genus.intersection(human_genus))} genus shared in the mice and human data. \\n\"\n",
    "      f\"Out of {len(mice_genus)} genus in mice and {len(human_genus)} genus in human. \\n \"\n",
    "      f\"AKA {round(len(mice_genus.intersection(human_genus)) / len(mice_genus) * 100, 2)} % of the genus in mice are shared with humans in our ds.\")"
   ],
   "id": "d9a46fcad15a141a",
   "outputs": [
    {
     "name": "stdout",
     "output_type": "stream",
     "text": [
      "There are 16 genus shared in the mice and human data. \n",
      "Out of 39 genus in mice and 107 genus in human. \n",
      " AKA 41.03 % of the genus in mice are shared with humans in our ds.\n"
     ]
    }
   ],
   "execution_count": 30
  },
  {
   "metadata": {},
   "cell_type": "markdown",
   "source": "Taxonomic distance mapping based on MGBC closest taxa table ",
   "id": "89b16bce78bb1bcf"
  },
  {
   "metadata": {
    "ExecuteTime": {
     "end_time": "2024-05-30T12:49:24.112392Z",
     "start_time": "2024-05-30T12:49:24.041832Z"
    }
   },
   "cell_type": "code",
   "source": [
    "mgbc_clostest_taxa_table_path = '/home/noa/lab_code/MGBC-Toolkit/data/closest_tax.tsv'\n",
    "mgbc_clostest_taxa_table = pd.read_csv(mgbc_clostest_taxa_table_path, sep='\\t', header=None, names = ['method', 'reference_genome', 'query_genome', 'distance', 'reference_taxonomy', 'query_taxonomy'])"
   ],
   "id": "fc15a7693a8d5c04",
   "outputs": [],
   "execution_count": 35
  },
  {
   "metadata": {
    "ExecuteTime": {
     "end_time": "2024-05-30T12:49:26.736894Z",
     "start_time": "2024-05-30T12:49:26.731039Z"
    }
   },
   "cell_type": "code",
   "source": "mgbc_clostest_taxa_table.head()",
   "id": "d3437122122f57f0",
   "outputs": [
    {
     "data": {
      "text/plain": [
       "     method  reference_genome query_genome  distance  \\\n",
       "0  taxonomy  GUT_GENOME000010   MGBC000100  0.020884   \n",
       "1  taxonomy  GUT_GENOME000035   MGBC000465  0.009662   \n",
       "2  taxonomy  GUT_GENOME000049   MGBC109121  0.200162   \n",
       "3  taxonomy  GUT_GENOME000057   MGBC115383  0.008205   \n",
       "4  taxonomy  GUT_GENOME000064   MGBC161554  0.625505   \n",
       "\n",
       "                                  reference_taxonomy  \\\n",
       "0  d__Bacteria;p__Firmicutes_A;c__Clostridia;o__O...   \n",
       "1  d__Bacteria;p__Bacteroidota;c__Bacteroidia;o__...   \n",
       "2  d__Bacteria;p__Firmicutes_A;c__Clostridia;o__L...   \n",
       "3  d__Bacteria;p__Proteobacteria;c__Gammaproteoba...   \n",
       "4  d__Bacteria;p__Firmicutes;c__Bacilli;o__Lactob...   \n",
       "\n",
       "                                      query_taxonomy  \n",
       "0  d__Bacteria;p__Firmicutes_A;c__Clostridia;o__O...  \n",
       "1  d__Bacteria;p__Bacteroidota;c__Bacteroidia;o__...  \n",
       "2  d__Bacteria;p__Firmicutes_A;c__Clostridia;o__L...  \n",
       "3  d__Bacteria;p__Proteobacteria;c__Gammaproteoba...  \n",
       "4  d__Bacteria;p__Firmicutes;c__Bacilli;o__Lactob...  "
      ],
      "text/html": [
       "<div>\n",
       "<style scoped>\n",
       "    .dataframe tbody tr th:only-of-type {\n",
       "        vertical-align: middle;\n",
       "    }\n",
       "\n",
       "    .dataframe tbody tr th {\n",
       "        vertical-align: top;\n",
       "    }\n",
       "\n",
       "    .dataframe thead th {\n",
       "        text-align: right;\n",
       "    }\n",
       "</style>\n",
       "<table border=\"1\" class=\"dataframe\">\n",
       "  <thead>\n",
       "    <tr style=\"text-align: right;\">\n",
       "      <th></th>\n",
       "      <th>method</th>\n",
       "      <th>reference_genome</th>\n",
       "      <th>query_genome</th>\n",
       "      <th>distance</th>\n",
       "      <th>reference_taxonomy</th>\n",
       "      <th>query_taxonomy</th>\n",
       "    </tr>\n",
       "  </thead>\n",
       "  <tbody>\n",
       "    <tr>\n",
       "      <th>0</th>\n",
       "      <td>taxonomy</td>\n",
       "      <td>GUT_GENOME000010</td>\n",
       "      <td>MGBC000100</td>\n",
       "      <td>0.020884</td>\n",
       "      <td>d__Bacteria;p__Firmicutes_A;c__Clostridia;o__O...</td>\n",
       "      <td>d__Bacteria;p__Firmicutes_A;c__Clostridia;o__O...</td>\n",
       "    </tr>\n",
       "    <tr>\n",
       "      <th>1</th>\n",
       "      <td>taxonomy</td>\n",
       "      <td>GUT_GENOME000035</td>\n",
       "      <td>MGBC000465</td>\n",
       "      <td>0.009662</td>\n",
       "      <td>d__Bacteria;p__Bacteroidota;c__Bacteroidia;o__...</td>\n",
       "      <td>d__Bacteria;p__Bacteroidota;c__Bacteroidia;o__...</td>\n",
       "    </tr>\n",
       "    <tr>\n",
       "      <th>2</th>\n",
       "      <td>taxonomy</td>\n",
       "      <td>GUT_GENOME000049</td>\n",
       "      <td>MGBC109121</td>\n",
       "      <td>0.200162</td>\n",
       "      <td>d__Bacteria;p__Firmicutes_A;c__Clostridia;o__L...</td>\n",
       "      <td>d__Bacteria;p__Firmicutes_A;c__Clostridia;o__L...</td>\n",
       "    </tr>\n",
       "    <tr>\n",
       "      <th>3</th>\n",
       "      <td>taxonomy</td>\n",
       "      <td>GUT_GENOME000057</td>\n",
       "      <td>MGBC115383</td>\n",
       "      <td>0.008205</td>\n",
       "      <td>d__Bacteria;p__Proteobacteria;c__Gammaproteoba...</td>\n",
       "      <td>d__Bacteria;p__Proteobacteria;c__Gammaproteoba...</td>\n",
       "    </tr>\n",
       "    <tr>\n",
       "      <th>4</th>\n",
       "      <td>taxonomy</td>\n",
       "      <td>GUT_GENOME000064</td>\n",
       "      <td>MGBC161554</td>\n",
       "      <td>0.625505</td>\n",
       "      <td>d__Bacteria;p__Firmicutes;c__Bacilli;o__Lactob...</td>\n",
       "      <td>d__Bacteria;p__Firmicutes;c__Bacilli;o__Lactob...</td>\n",
       "    </tr>\n",
       "  </tbody>\n",
       "</table>\n",
       "</div>"
      ]
     },
     "execution_count": 36,
     "metadata": {},
     "output_type": "execute_result"
    }
   ],
   "execution_count": 36
  },
  {
   "metadata": {},
   "cell_type": "markdown",
   "source": [
    "The direction of translation is important. Here we translate mice to human.\n",
    "Therefore, we demand that reference_genome will be from MGBC (MGBC prefix)"
   ],
   "id": "1f68515008b92bbb"
  },
  {
   "metadata": {
    "ExecuteTime": {
     "end_time": "2024-05-30T12:53:30.228153Z",
     "start_time": "2024-05-30T12:53:30.213496Z"
    }
   },
   "cell_type": "code",
   "source": "taxonomic_table = mgbc_clostest_taxa_table.query('method == \"taxonomy\" & reference_genome.str.contains(\"MGBC\")')",
   "id": "a798785f5d36e3e0",
   "outputs": [],
   "execution_count": 43
  },
  {
   "metadata": {
    "ExecuteTime": {
     "end_time": "2024-05-30T12:58:29.406489Z",
     "start_time": "2024-05-30T12:58:29.399069Z"
    }
   },
   "cell_type": "code",
   "source": [
    "# extract reference genus\n",
    "taxonomic_table['reference_genus'] = taxonomic_table.reference_taxonomy.str.extract('(.*;g__[^;]+).*')"
   ],
   "id": "fafb2ac14064102c",
   "outputs": [
    {
     "name": "stderr",
     "output_type": "stream",
     "text": [
      "/tmp/ipykernel_7747/3870564890.py:2: SettingWithCopyWarning: \n",
      "A value is trying to be set on a copy of a slice from a DataFrame.\n",
      "Try using .loc[row_indexer,col_indexer] = value instead\n",
      "\n",
      "See the caveats in the documentation: https://pandas.pydata.org/pandas-docs/stable/user_guide/indexing.html#returning-a-view-versus-a-copy\n",
      "  taxonomic_table['reference_genus'] = taxonomic_table.reference_taxonomy.str.extract('(.*;g__[^;]+).*')\n"
     ]
    }
   ],
   "execution_count": 49
  },
  {
   "metadata": {
    "ExecuteTime": {
     "end_time": "2024-05-30T13:00:52.187009Z",
     "start_time": "2024-05-30T13:00:52.181842Z"
    }
   },
   "cell_type": "code",
   "source": "taxonomic_table['query_genus'] = taxonomic_table.query_taxonomy.str.extract('(.*;g__[^;]+).*')\n",
   "id": "4c4024c281882d93",
   "outputs": [
    {
     "name": "stderr",
     "output_type": "stream",
     "text": [
      "/tmp/ipykernel_7747/2204288660.py:1: SettingWithCopyWarning: \n",
      "A value is trying to be set on a copy of a slice from a DataFrame.\n",
      "Try using .loc[row_indexer,col_indexer] = value instead\n",
      "\n",
      "See the caveats in the documentation: https://pandas.pydata.org/pandas-docs/stable/user_guide/indexing.html#returning-a-view-versus-a-copy\n",
      "  taxonomic_table['query_genus'] = taxonomic_table.query_taxonomy.str.extract('(.*;g__[^;]+).*')\n"
     ]
    }
   ],
   "execution_count": 53
  },
  {
   "metadata": {
    "ExecuteTime": {
     "end_time": "2024-05-30T13:04:17.761788Z",
     "start_time": "2024-05-30T13:04:17.746554Z"
    }
   },
   "cell_type": "code",
   "source": [
    "# sanity check: we expect all the genus to be mapped to the same genus according to taxonomic distance\n",
    "# some_genus = taxonomic_table['reference_genus'].iloc[0]\n",
    "# taxonomic_table.query('reference_genus == @some_genus').query_genus.unique()\n",
    "number_of_genus_mapped_per_reference_genus = taxonomic_table.groupby('reference_genus').apply(lambda x: len(x.query_genus.unique()))"
   ],
   "id": "9d5e6f4ea8d8c92f",
   "outputs": [],
   "execution_count": 60
  },
  {
   "metadata": {
    "ExecuteTime": {
     "end_time": "2024-05-30T13:04:47.002216Z",
     "start_time": "2024-05-30T13:04:46.995922Z"
    }
   },
   "cell_type": "code",
   "source": "number_of_genus_mapped_per_reference_genus.describe()",
   "id": "dbac59b3b72df07c",
   "outputs": [
    {
     "data": {
      "text/plain": [
       "count    225.000000\n",
       "mean       1.008889\n",
       "std        0.094070\n",
       "min        1.000000\n",
       "25%        1.000000\n",
       "50%        1.000000\n",
       "75%        1.000000\n",
       "max        2.000000\n",
       "dtype: float64"
      ]
     },
     "execution_count": 63,
     "metadata": {},
     "output_type": "execute_result"
    }
   ],
   "execution_count": 63
  },
  {
   "metadata": {
    "ExecuteTime": {
     "end_time": "2024-05-30T13:05:26.478499Z",
     "start_time": "2024-05-30T13:05:26.473261Z"
    }
   },
   "cell_type": "code",
   "source": "np.count_nonzero(number_of_genus_mapped_per_reference_genus == 2)",
   "id": "2c1e3cf1d2e56f16",
   "outputs": [
    {
     "data": {
      "text/plain": [
       "2"
      ]
     },
     "execution_count": 64,
     "metadata": {},
     "output_type": "execute_result"
    }
   ],
   "execution_count": 64
  },
  {
   "metadata": {
    "ExecuteTime": {
     "end_time": "2024-05-30T13:14:38.948396Z",
     "start_time": "2024-05-30T13:14:38.937531Z"
    }
   },
   "cell_type": "code",
   "source": [
    "outlier_genus = number_of_genus_mapped_per_reference_genus[number_of_genus_mapped_per_reference_genus == 2].index\n",
    "taxonomic_table.query('reference_genus in @outlier_genus[0]')[['reference_taxonomy', 'query_taxonomy', 'query_genus']]\n",
    "# One of the species was not labeled to genus level, only to family level - which explain the difference (actully they are the same and we can ignore, we just need to verify we take the genus mapping and ignore the nuns.) "
   ],
   "id": "c2e1b5842520f08f",
   "outputs": [
    {
     "data": {
      "text/plain": [
       "                                      reference_taxonomy  \\\n",
       "45836  d__Bacteria;p__Bacteroidota;c__Bacteroidia;o__...   \n",
       "45846  d__Bacteria;p__Bacteroidota;c__Bacteroidia;o__...   \n",
       "\n",
       "                                          query_taxonomy  \\\n",
       "45836  d__Bacteria;p__Bacteroidota;c__Bacteroidia;o__...   \n",
       "45846  d__Bacteria;p__Bacteroidota;c__Bacteroidia;o__...   \n",
       "\n",
       "                                             query_genus  \n",
       "45836                                                NaN  \n",
       "45846  d__Bacteria;p__Bacteroidota;c__Bacteroidia;o__...  "
      ],
      "text/html": [
       "<div>\n",
       "<style scoped>\n",
       "    .dataframe tbody tr th:only-of-type {\n",
       "        vertical-align: middle;\n",
       "    }\n",
       "\n",
       "    .dataframe tbody tr th {\n",
       "        vertical-align: top;\n",
       "    }\n",
       "\n",
       "    .dataframe thead th {\n",
       "        text-align: right;\n",
       "    }\n",
       "</style>\n",
       "<table border=\"1\" class=\"dataframe\">\n",
       "  <thead>\n",
       "    <tr style=\"text-align: right;\">\n",
       "      <th></th>\n",
       "      <th>reference_taxonomy</th>\n",
       "      <th>query_taxonomy</th>\n",
       "      <th>query_genus</th>\n",
       "    </tr>\n",
       "  </thead>\n",
       "  <tbody>\n",
       "    <tr>\n",
       "      <th>45836</th>\n",
       "      <td>d__Bacteria;p__Bacteroidota;c__Bacteroidia;o__...</td>\n",
       "      <td>d__Bacteria;p__Bacteroidota;c__Bacteroidia;o__...</td>\n",
       "      <td>NaN</td>\n",
       "    </tr>\n",
       "    <tr>\n",
       "      <th>45846</th>\n",
       "      <td>d__Bacteria;p__Bacteroidota;c__Bacteroidia;o__...</td>\n",
       "      <td>d__Bacteria;p__Bacteroidota;c__Bacteroidia;o__...</td>\n",
       "      <td>d__Bacteria;p__Bacteroidota;c__Bacteroidia;o__...</td>\n",
       "    </tr>\n",
       "  </tbody>\n",
       "</table>\n",
       "</div>"
      ]
     },
     "execution_count": 72,
     "metadata": {},
     "output_type": "execute_result"
    }
   ],
   "execution_count": 72
  },
  {
   "metadata": {
    "ExecuteTime": {
     "end_time": "2024-05-30T13:24:15.163924Z",
     "start_time": "2024-05-30T13:24:15.152282Z"
    }
   },
   "cell_type": "code",
   "source": "taxonomic_table.query('reference_genus in @outlier_genus[1]')[['reference_taxonomy', 'query_taxonomy']]\n",
   "id": "ee54b930eb3b2ebc",
   "outputs": [
    {
     "data": {
      "text/plain": [
       "                                      reference_taxonomy  \\\n",
       "45343  d__Bacteria;p__Firmicutes_A;c__Clostridia;o__L...   \n",
       "45405  d__Bacteria;p__Firmicutes_A;c__Clostridia;o__L...   \n",
       "45611  d__Bacteria;p__Firmicutes_A;c__Clostridia;o__L...   \n",
       "45654  d__Bacteria;p__Firmicutes_A;c__Clostridia;o__L...   \n",
       "45700  d__Bacteria;p__Firmicutes_A;c__Clostridia;o__L...   \n",
       "45795  d__Bacteria;p__Firmicutes_A;c__Clostridia;o__L...   \n",
       "45867  d__Bacteria;p__Firmicutes_A;c__Clostridia;o__L...   \n",
       "45869  d__Bacteria;p__Firmicutes_A;c__Clostridia;o__L...   \n",
       "45876  d__Bacteria;p__Firmicutes_A;c__Clostridia;o__L...   \n",
       "45881  d__Bacteria;p__Firmicutes_A;c__Clostridia;o__L...   \n",
       "46114  d__Bacteria;p__Firmicutes_A;c__Clostridia;o__L...   \n",
       "46175  d__Bacteria;p__Firmicutes_A;c__Clostridia;o__L...   \n",
       "\n",
       "                                          query_taxonomy  \n",
       "45343  d__Bacteria;p__Firmicutes_A;c__Clostridia;o__L...  \n",
       "45405  d__Bacteria;p__Firmicutes_A;c__Clostridia;o__L...  \n",
       "45611  d__Bacteria;p__Firmicutes_A;c__Clostridia;o__L...  \n",
       "45654  d__Bacteria;p__Firmicutes_A;c__Clostridia;o__L...  \n",
       "45700  d__Bacteria;p__Firmicutes_A;c__Clostridia;o__L...  \n",
       "45795  d__Bacteria;p__Firmicutes_A;c__Clostridia;o__L...  \n",
       "45867  d__Bacteria;p__Firmicutes_A;c__Clostridia;o__L...  \n",
       "45869  d__Bacteria;p__Firmicutes_A;c__Clostridia;o__L...  \n",
       "45876  d__Bacteria;p__Firmicutes_A;c__Clostridia;o__L...  \n",
       "45881  d__Bacteria;p__Firmicutes_A;c__Clostridia;o__L...  \n",
       "46114  d__Bacteria;p__Firmicutes_A;c__Clostridia;o__L...  \n",
       "46175  d__Bacteria;p__Firmicutes_A;c__Clostridia;o__L...  "
      ],
      "text/html": [
       "<div>\n",
       "<style scoped>\n",
       "    .dataframe tbody tr th:only-of-type {\n",
       "        vertical-align: middle;\n",
       "    }\n",
       "\n",
       "    .dataframe tbody tr th {\n",
       "        vertical-align: top;\n",
       "    }\n",
       "\n",
       "    .dataframe thead th {\n",
       "        text-align: right;\n",
       "    }\n",
       "</style>\n",
       "<table border=\"1\" class=\"dataframe\">\n",
       "  <thead>\n",
       "    <tr style=\"text-align: right;\">\n",
       "      <th></th>\n",
       "      <th>reference_taxonomy</th>\n",
       "      <th>query_taxonomy</th>\n",
       "    </tr>\n",
       "  </thead>\n",
       "  <tbody>\n",
       "    <tr>\n",
       "      <th>45343</th>\n",
       "      <td>d__Bacteria;p__Firmicutes_A;c__Clostridia;o__L...</td>\n",
       "      <td>d__Bacteria;p__Firmicutes_A;c__Clostridia;o__L...</td>\n",
       "    </tr>\n",
       "    <tr>\n",
       "      <th>45405</th>\n",
       "      <td>d__Bacteria;p__Firmicutes_A;c__Clostridia;o__L...</td>\n",
       "      <td>d__Bacteria;p__Firmicutes_A;c__Clostridia;o__L...</td>\n",
       "    </tr>\n",
       "    <tr>\n",
       "      <th>45611</th>\n",
       "      <td>d__Bacteria;p__Firmicutes_A;c__Clostridia;o__L...</td>\n",
       "      <td>d__Bacteria;p__Firmicutes_A;c__Clostridia;o__L...</td>\n",
       "    </tr>\n",
       "    <tr>\n",
       "      <th>45654</th>\n",
       "      <td>d__Bacteria;p__Firmicutes_A;c__Clostridia;o__L...</td>\n",
       "      <td>d__Bacteria;p__Firmicutes_A;c__Clostridia;o__L...</td>\n",
       "    </tr>\n",
       "    <tr>\n",
       "      <th>45700</th>\n",
       "      <td>d__Bacteria;p__Firmicutes_A;c__Clostridia;o__L...</td>\n",
       "      <td>d__Bacteria;p__Firmicutes_A;c__Clostridia;o__L...</td>\n",
       "    </tr>\n",
       "    <tr>\n",
       "      <th>45795</th>\n",
       "      <td>d__Bacteria;p__Firmicutes_A;c__Clostridia;o__L...</td>\n",
       "      <td>d__Bacteria;p__Firmicutes_A;c__Clostridia;o__L...</td>\n",
       "    </tr>\n",
       "    <tr>\n",
       "      <th>45867</th>\n",
       "      <td>d__Bacteria;p__Firmicutes_A;c__Clostridia;o__L...</td>\n",
       "      <td>d__Bacteria;p__Firmicutes_A;c__Clostridia;o__L...</td>\n",
       "    </tr>\n",
       "    <tr>\n",
       "      <th>45869</th>\n",
       "      <td>d__Bacteria;p__Firmicutes_A;c__Clostridia;o__L...</td>\n",
       "      <td>d__Bacteria;p__Firmicutes_A;c__Clostridia;o__L...</td>\n",
       "    </tr>\n",
       "    <tr>\n",
       "      <th>45876</th>\n",
       "      <td>d__Bacteria;p__Firmicutes_A;c__Clostridia;o__L...</td>\n",
       "      <td>d__Bacteria;p__Firmicutes_A;c__Clostridia;o__L...</td>\n",
       "    </tr>\n",
       "    <tr>\n",
       "      <th>45881</th>\n",
       "      <td>d__Bacteria;p__Firmicutes_A;c__Clostridia;o__L...</td>\n",
       "      <td>d__Bacteria;p__Firmicutes_A;c__Clostridia;o__L...</td>\n",
       "    </tr>\n",
       "    <tr>\n",
       "      <th>46114</th>\n",
       "      <td>d__Bacteria;p__Firmicutes_A;c__Clostridia;o__L...</td>\n",
       "      <td>d__Bacteria;p__Firmicutes_A;c__Clostridia;o__L...</td>\n",
       "    </tr>\n",
       "    <tr>\n",
       "      <th>46175</th>\n",
       "      <td>d__Bacteria;p__Firmicutes_A;c__Clostridia;o__L...</td>\n",
       "      <td>d__Bacteria;p__Firmicutes_A;c__Clostridia;o__L...</td>\n",
       "    </tr>\n",
       "  </tbody>\n",
       "</table>\n",
       "</div>"
      ]
     },
     "execution_count": 75,
     "metadata": {},
     "output_type": "execute_result"
    }
   ],
   "execution_count": 75
  },
  {
   "metadata": {
    "ExecuteTime": {
     "end_time": "2024-05-30T13:20:26.938498Z",
     "start_time": "2024-05-30T13:20:26.923624Z"
    }
   },
   "cell_type": "code",
   "source": "taxonomic_table.query('reference_genus in @outlier_genus[1]')",
   "id": "29361b3762ad0675",
   "outputs": [
    {
     "data": {
      "text/plain": [
       "         method reference_genome      query_genome  distance  \\\n",
       "45343  taxonomy       MGBC104730  GUT_GENOME009178  0.394019   \n",
       "45405  taxonomy       MGBC107002  GUT_GENOME009178  0.397136   \n",
       "45611  taxonomy       MGBC117467  GUT_GENOME009178  0.377058   \n",
       "45654  taxonomy       MGBC119940  GUT_GENOME009178  0.394995   \n",
       "45700  taxonomy       MGBC123503  GUT_GENOME009178  0.394050   \n",
       "45795  taxonomy       MGBC130483  GUT_GENOME009178  0.398698   \n",
       "45867  taxonomy       MGBC139490  GUT_GENOME009178  0.362799   \n",
       "45869  taxonomy       MGBC139512  GUT_GENOME009178  0.351621   \n",
       "45876  taxonomy       MGBC139895  GUT_GENOME009178  0.397381   \n",
       "45881  taxonomy       MGBC139981  GUT_GENOME009178  0.395103   \n",
       "46114  taxonomy       MGBC164303  GUT_GENOME018982  0.139477   \n",
       "46175  taxonomy       MGBC166616  GUT_GENOME009178  0.373808   \n",
       "\n",
       "                                      reference_taxonomy  \\\n",
       "45343  d__Bacteria;p__Firmicutes_A;c__Clostridia;o__L...   \n",
       "45405  d__Bacteria;p__Firmicutes_A;c__Clostridia;o__L...   \n",
       "45611  d__Bacteria;p__Firmicutes_A;c__Clostridia;o__L...   \n",
       "45654  d__Bacteria;p__Firmicutes_A;c__Clostridia;o__L...   \n",
       "45700  d__Bacteria;p__Firmicutes_A;c__Clostridia;o__L...   \n",
       "45795  d__Bacteria;p__Firmicutes_A;c__Clostridia;o__L...   \n",
       "45867  d__Bacteria;p__Firmicutes_A;c__Clostridia;o__L...   \n",
       "45869  d__Bacteria;p__Firmicutes_A;c__Clostridia;o__L...   \n",
       "45876  d__Bacteria;p__Firmicutes_A;c__Clostridia;o__L...   \n",
       "45881  d__Bacteria;p__Firmicutes_A;c__Clostridia;o__L...   \n",
       "46114  d__Bacteria;p__Firmicutes_A;c__Clostridia;o__L...   \n",
       "46175  d__Bacteria;p__Firmicutes_A;c__Clostridia;o__L...   \n",
       "\n",
       "                                          query_taxonomy  \\\n",
       "45343  d__Bacteria;p__Firmicutes_A;c__Clostridia;o__L...   \n",
       "45405  d__Bacteria;p__Firmicutes_A;c__Clostridia;o__L...   \n",
       "45611  d__Bacteria;p__Firmicutes_A;c__Clostridia;o__L...   \n",
       "45654  d__Bacteria;p__Firmicutes_A;c__Clostridia;o__L...   \n",
       "45700  d__Bacteria;p__Firmicutes_A;c__Clostridia;o__L...   \n",
       "45795  d__Bacteria;p__Firmicutes_A;c__Clostridia;o__L...   \n",
       "45867  d__Bacteria;p__Firmicutes_A;c__Clostridia;o__L...   \n",
       "45869  d__Bacteria;p__Firmicutes_A;c__Clostridia;o__L...   \n",
       "45876  d__Bacteria;p__Firmicutes_A;c__Clostridia;o__L...   \n",
       "45881  d__Bacteria;p__Firmicutes_A;c__Clostridia;o__L...   \n",
       "46114  d__Bacteria;p__Firmicutes_A;c__Clostridia;o__L...   \n",
       "46175  d__Bacteria;p__Firmicutes_A;c__Clostridia;o__L...   \n",
       "\n",
       "                                         reference_genus  \\\n",
       "45343  d__Bacteria;p__Firmicutes_A;c__Clostridia;o__L...   \n",
       "45405  d__Bacteria;p__Firmicutes_A;c__Clostridia;o__L...   \n",
       "45611  d__Bacteria;p__Firmicutes_A;c__Clostridia;o__L...   \n",
       "45654  d__Bacteria;p__Firmicutes_A;c__Clostridia;o__L...   \n",
       "45700  d__Bacteria;p__Firmicutes_A;c__Clostridia;o__L...   \n",
       "45795  d__Bacteria;p__Firmicutes_A;c__Clostridia;o__L...   \n",
       "45867  d__Bacteria;p__Firmicutes_A;c__Clostridia;o__L...   \n",
       "45869  d__Bacteria;p__Firmicutes_A;c__Clostridia;o__L...   \n",
       "45876  d__Bacteria;p__Firmicutes_A;c__Clostridia;o__L...   \n",
       "45881  d__Bacteria;p__Firmicutes_A;c__Clostridia;o__L...   \n",
       "46114  d__Bacteria;p__Firmicutes_A;c__Clostridia;o__L...   \n",
       "46175  d__Bacteria;p__Firmicutes_A;c__Clostridia;o__L...   \n",
       "\n",
       "                                             query_genus  \n",
       "45343  d__Bacteria;p__Firmicutes_A;c__Clostridia;o__L...  \n",
       "45405  d__Bacteria;p__Firmicutes_A;c__Clostridia;o__L...  \n",
       "45611  d__Bacteria;p__Firmicutes_A;c__Clostridia;o__L...  \n",
       "45654  d__Bacteria;p__Firmicutes_A;c__Clostridia;o__L...  \n",
       "45700  d__Bacteria;p__Firmicutes_A;c__Clostridia;o__L...  \n",
       "45795  d__Bacteria;p__Firmicutes_A;c__Clostridia;o__L...  \n",
       "45867  d__Bacteria;p__Firmicutes_A;c__Clostridia;o__L...  \n",
       "45869  d__Bacteria;p__Firmicutes_A;c__Clostridia;o__L...  \n",
       "45876  d__Bacteria;p__Firmicutes_A;c__Clostridia;o__L...  \n",
       "45881  d__Bacteria;p__Firmicutes_A;c__Clostridia;o__L...  \n",
       "46114  d__Bacteria;p__Firmicutes_A;c__Clostridia;o__L...  \n",
       "46175  d__Bacteria;p__Firmicutes_A;c__Clostridia;o__L...  "
      ],
      "text/html": [
       "<div>\n",
       "<style scoped>\n",
       "    .dataframe tbody tr th:only-of-type {\n",
       "        vertical-align: middle;\n",
       "    }\n",
       "\n",
       "    .dataframe tbody tr th {\n",
       "        vertical-align: top;\n",
       "    }\n",
       "\n",
       "    .dataframe thead th {\n",
       "        text-align: right;\n",
       "    }\n",
       "</style>\n",
       "<table border=\"1\" class=\"dataframe\">\n",
       "  <thead>\n",
       "    <tr style=\"text-align: right;\">\n",
       "      <th></th>\n",
       "      <th>method</th>\n",
       "      <th>reference_genome</th>\n",
       "      <th>query_genome</th>\n",
       "      <th>distance</th>\n",
       "      <th>reference_taxonomy</th>\n",
       "      <th>query_taxonomy</th>\n",
       "      <th>reference_genus</th>\n",
       "      <th>query_genus</th>\n",
       "    </tr>\n",
       "  </thead>\n",
       "  <tbody>\n",
       "    <tr>\n",
       "      <th>45343</th>\n",
       "      <td>taxonomy</td>\n",
       "      <td>MGBC104730</td>\n",
       "      <td>GUT_GENOME009178</td>\n",
       "      <td>0.394019</td>\n",
       "      <td>d__Bacteria;p__Firmicutes_A;c__Clostridia;o__L...</td>\n",
       "      <td>d__Bacteria;p__Firmicutes_A;c__Clostridia;o__L...</td>\n",
       "      <td>d__Bacteria;p__Firmicutes_A;c__Clostridia;o__L...</td>\n",
       "      <td>d__Bacteria;p__Firmicutes_A;c__Clostridia;o__L...</td>\n",
       "    </tr>\n",
       "    <tr>\n",
       "      <th>45405</th>\n",
       "      <td>taxonomy</td>\n",
       "      <td>MGBC107002</td>\n",
       "      <td>GUT_GENOME009178</td>\n",
       "      <td>0.397136</td>\n",
       "      <td>d__Bacteria;p__Firmicutes_A;c__Clostridia;o__L...</td>\n",
       "      <td>d__Bacteria;p__Firmicutes_A;c__Clostridia;o__L...</td>\n",
       "      <td>d__Bacteria;p__Firmicutes_A;c__Clostridia;o__L...</td>\n",
       "      <td>d__Bacteria;p__Firmicutes_A;c__Clostridia;o__L...</td>\n",
       "    </tr>\n",
       "    <tr>\n",
       "      <th>45611</th>\n",
       "      <td>taxonomy</td>\n",
       "      <td>MGBC117467</td>\n",
       "      <td>GUT_GENOME009178</td>\n",
       "      <td>0.377058</td>\n",
       "      <td>d__Bacteria;p__Firmicutes_A;c__Clostridia;o__L...</td>\n",
       "      <td>d__Bacteria;p__Firmicutes_A;c__Clostridia;o__L...</td>\n",
       "      <td>d__Bacteria;p__Firmicutes_A;c__Clostridia;o__L...</td>\n",
       "      <td>d__Bacteria;p__Firmicutes_A;c__Clostridia;o__L...</td>\n",
       "    </tr>\n",
       "    <tr>\n",
       "      <th>45654</th>\n",
       "      <td>taxonomy</td>\n",
       "      <td>MGBC119940</td>\n",
       "      <td>GUT_GENOME009178</td>\n",
       "      <td>0.394995</td>\n",
       "      <td>d__Bacteria;p__Firmicutes_A;c__Clostridia;o__L...</td>\n",
       "      <td>d__Bacteria;p__Firmicutes_A;c__Clostridia;o__L...</td>\n",
       "      <td>d__Bacteria;p__Firmicutes_A;c__Clostridia;o__L...</td>\n",
       "      <td>d__Bacteria;p__Firmicutes_A;c__Clostridia;o__L...</td>\n",
       "    </tr>\n",
       "    <tr>\n",
       "      <th>45700</th>\n",
       "      <td>taxonomy</td>\n",
       "      <td>MGBC123503</td>\n",
       "      <td>GUT_GENOME009178</td>\n",
       "      <td>0.394050</td>\n",
       "      <td>d__Bacteria;p__Firmicutes_A;c__Clostridia;o__L...</td>\n",
       "      <td>d__Bacteria;p__Firmicutes_A;c__Clostridia;o__L...</td>\n",
       "      <td>d__Bacteria;p__Firmicutes_A;c__Clostridia;o__L...</td>\n",
       "      <td>d__Bacteria;p__Firmicutes_A;c__Clostridia;o__L...</td>\n",
       "    </tr>\n",
       "    <tr>\n",
       "      <th>45795</th>\n",
       "      <td>taxonomy</td>\n",
       "      <td>MGBC130483</td>\n",
       "      <td>GUT_GENOME009178</td>\n",
       "      <td>0.398698</td>\n",
       "      <td>d__Bacteria;p__Firmicutes_A;c__Clostridia;o__L...</td>\n",
       "      <td>d__Bacteria;p__Firmicutes_A;c__Clostridia;o__L...</td>\n",
       "      <td>d__Bacteria;p__Firmicutes_A;c__Clostridia;o__L...</td>\n",
       "      <td>d__Bacteria;p__Firmicutes_A;c__Clostridia;o__L...</td>\n",
       "    </tr>\n",
       "    <tr>\n",
       "      <th>45867</th>\n",
       "      <td>taxonomy</td>\n",
       "      <td>MGBC139490</td>\n",
       "      <td>GUT_GENOME009178</td>\n",
       "      <td>0.362799</td>\n",
       "      <td>d__Bacteria;p__Firmicutes_A;c__Clostridia;o__L...</td>\n",
       "      <td>d__Bacteria;p__Firmicutes_A;c__Clostridia;o__L...</td>\n",
       "      <td>d__Bacteria;p__Firmicutes_A;c__Clostridia;o__L...</td>\n",
       "      <td>d__Bacteria;p__Firmicutes_A;c__Clostridia;o__L...</td>\n",
       "    </tr>\n",
       "    <tr>\n",
       "      <th>45869</th>\n",
       "      <td>taxonomy</td>\n",
       "      <td>MGBC139512</td>\n",
       "      <td>GUT_GENOME009178</td>\n",
       "      <td>0.351621</td>\n",
       "      <td>d__Bacteria;p__Firmicutes_A;c__Clostridia;o__L...</td>\n",
       "      <td>d__Bacteria;p__Firmicutes_A;c__Clostridia;o__L...</td>\n",
       "      <td>d__Bacteria;p__Firmicutes_A;c__Clostridia;o__L...</td>\n",
       "      <td>d__Bacteria;p__Firmicutes_A;c__Clostridia;o__L...</td>\n",
       "    </tr>\n",
       "    <tr>\n",
       "      <th>45876</th>\n",
       "      <td>taxonomy</td>\n",
       "      <td>MGBC139895</td>\n",
       "      <td>GUT_GENOME009178</td>\n",
       "      <td>0.397381</td>\n",
       "      <td>d__Bacteria;p__Firmicutes_A;c__Clostridia;o__L...</td>\n",
       "      <td>d__Bacteria;p__Firmicutes_A;c__Clostridia;o__L...</td>\n",
       "      <td>d__Bacteria;p__Firmicutes_A;c__Clostridia;o__L...</td>\n",
       "      <td>d__Bacteria;p__Firmicutes_A;c__Clostridia;o__L...</td>\n",
       "    </tr>\n",
       "    <tr>\n",
       "      <th>45881</th>\n",
       "      <td>taxonomy</td>\n",
       "      <td>MGBC139981</td>\n",
       "      <td>GUT_GENOME009178</td>\n",
       "      <td>0.395103</td>\n",
       "      <td>d__Bacteria;p__Firmicutes_A;c__Clostridia;o__L...</td>\n",
       "      <td>d__Bacteria;p__Firmicutes_A;c__Clostridia;o__L...</td>\n",
       "      <td>d__Bacteria;p__Firmicutes_A;c__Clostridia;o__L...</td>\n",
       "      <td>d__Bacteria;p__Firmicutes_A;c__Clostridia;o__L...</td>\n",
       "    </tr>\n",
       "    <tr>\n",
       "      <th>46114</th>\n",
       "      <td>taxonomy</td>\n",
       "      <td>MGBC164303</td>\n",
       "      <td>GUT_GENOME018982</td>\n",
       "      <td>0.139477</td>\n",
       "      <td>d__Bacteria;p__Firmicutes_A;c__Clostridia;o__L...</td>\n",
       "      <td>d__Bacteria;p__Firmicutes_A;c__Clostridia;o__L...</td>\n",
       "      <td>d__Bacteria;p__Firmicutes_A;c__Clostridia;o__L...</td>\n",
       "      <td>d__Bacteria;p__Firmicutes_A;c__Clostridia;o__L...</td>\n",
       "    </tr>\n",
       "    <tr>\n",
       "      <th>46175</th>\n",
       "      <td>taxonomy</td>\n",
       "      <td>MGBC166616</td>\n",
       "      <td>GUT_GENOME009178</td>\n",
       "      <td>0.373808</td>\n",
       "      <td>d__Bacteria;p__Firmicutes_A;c__Clostridia;o__L...</td>\n",
       "      <td>d__Bacteria;p__Firmicutes_A;c__Clostridia;o__L...</td>\n",
       "      <td>d__Bacteria;p__Firmicutes_A;c__Clostridia;o__L...</td>\n",
       "      <td>d__Bacteria;p__Firmicutes_A;c__Clostridia;o__L...</td>\n",
       "    </tr>\n",
       "  </tbody>\n",
       "</table>\n",
       "</div>"
      ]
     },
     "execution_count": 74,
     "metadata": {},
     "output_type": "execute_result"
    }
   ],
   "execution_count": 74
  },
  {
   "metadata": {},
   "cell_type": "markdown",
   "source": [
    "We have 225 mice-genus in the MGBC table. \n",
    "We expected all the genus to be mapped to the same genus according to taxonomic distance, it's true mostly (for 223 genus)\n",
    "But 2 genus have been mapped to 2 different genus based on their taxonomic distance:\n",
    "Those genus are: \n",
    "'d__Bacteria;p__Bacteroidota;c__Bacteroidia;o__Bacteroidales;f__Bacteroidaceae;g__Paraprevotella' \n",
    " 'd__Bacteria;p__Firmicutes_A;c__Clostridia;o__Lachnospirales;f__Lachnospiraceae;g__Eubacterium_J'\n",
    " \n"
   ],
   "id": "e8005f71617846c4"
  },
  {
   "metadata": {},
   "cell_type": "markdown",
   "source": "",
   "id": "d888ab7cb2329ea7"
  }
 ],
 "metadata": {
  "kernelspec": {
   "display_name": "Python 3",
   "language": "python",
   "name": "python3"
  },
  "language_info": {
   "codemirror_mode": {
    "name": "ipython",
    "version": 2
   },
   "file_extension": ".py",
   "mimetype": "text/x-python",
   "name": "python",
   "nbconvert_exporter": "python",
   "pygments_lexer": "ipython2",
   "version": "2.7.6"
  }
 },
 "nbformat": 4,
 "nbformat_minor": 5
}
