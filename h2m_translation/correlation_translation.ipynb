{
 "cells": [
  {
   "metadata": {},
   "cell_type": "markdown",
   "source": [
    "Translate the microbiome-metabolism correlation from mice to human. \n",
    "MICE - OSA\n",
    "HUMAN - iHMP"
   ],
   "id": "a6c23ba5b2355fd4"
  },
  {
   "metadata": {
    "ExecuteTime": {
     "end_time": "2024-06-13T11:45:38.575952Z",
     "start_time": "2024-06-13T11:45:38.573760Z"
    }
   },
   "cell_type": "code",
   "source": [
    "import pandas as pd\n",
    "import numpy as np\n",
    "import scipy.stats as stats"
   ],
   "id": "72f183f1e9fa4c5a",
   "outputs": [],
   "execution_count": 1
  },
  {
   "metadata": {
    "ExecuteTime": {
     "end_time": "2024-06-13T11:45:43.857490Z",
     "start_time": "2024-06-13T11:45:43.794380Z"
    }
   },
   "cell_type": "code",
   "source": [
    "mice_significant_corr = pd.read_pickle('mice/haddad_osa/analysis/metabolome_bacteria_significant_corr_kendall-tau.pkl')\n",
    "mice_corr_coefficient= pd.read_pickle('mice/haddad_osa/analysis/metabolome_bacteria_corr_coefficient_kendall-tau.pkl')\n",
    "mice_p_values_fdr_correction = pd.read_pickle('mice/haddad_osa/analysis/metabolome_bacteria_p_values_fdr_correction_kendall-tau.pkl')\n",
    "\n",
    "human_significant_corr = pd.read_pickle('human/iHMP_IBDMDB_2019/metabolome_bacteria_significant_corr_kendall-tau.pkl')\n",
    "human_corr_coefficient = pd.read_pickle('human/iHMP_IBDMDB_2019/metabolome_bacteria_corr_coefficient_kendall-tau.pkl')\n",
    "human_p_values_fdr_correction = pd.read_pickle('human/iHMP_IBDMDB_2019/metabolome_bacteria_p_values_fdr_correction_kendall-tau.pkl')"
   ],
   "id": "a531650e2da69bea",
   "outputs": [],
   "execution_count": 2
  },
  {
   "metadata": {
    "ExecuteTime": {
     "end_time": "2024-06-13T11:45:45.747063Z",
     "start_time": "2024-06-13T11:45:45.710208Z"
    }
   },
   "cell_type": "code",
   "source": [
    "# Keep only the genus label for simplicity: \n",
    "\n",
    "taxa_rename_to_genus = pd.Series(human_corr_coefficient.index.get_level_values(1).unique(), index=human_corr_coefficient.index.get_level_values(1).unique()).str.extract('.*g__(.*)').squeeze()\n",
    "human_significant_corr = human_significant_corr.rename(taxa_rename_to_genus.to_dict(), axis=0, level=1)\n",
    "human_corr_coefficient = human_corr_coefficient.rename(taxa_rename_to_genus.to_dict(), axis=0, level=1)\n",
    "human_p_values_fdr_correction = human_p_values_fdr_correction.rename(taxa_rename_to_genus.to_dict(), axis=0, level=1)\n"
   ],
   "id": "eae57b57b320712c",
   "outputs": [],
   "execution_count": 3
  },
  {
   "metadata": {},
   "cell_type": "markdown",
   "source": [
    "Analysis \n",
    "\n",
    "How many genus are shared (mice - human)? \n",
    "(Note, when calculating the discrete matrix - I should also present the baseline (aka how many genus are shared without any translation)"
   ],
   "id": "aafbe0924abe5c7f"
  },
  {
   "metadata": {
    "ExecuteTime": {
     "end_time": "2024-06-13T11:45:47.628005Z",
     "start_time": "2024-06-13T11:45:47.622920Z"
    }
   },
   "cell_type": "code",
   "source": [
    "human_genus = human_corr_coefficient.index.get_level_values(1).unique()\n",
    "mice_genus = mice_corr_coefficient.index.get_level_values(1).unique()"
   ],
   "id": "cb4b90cb09be324",
   "outputs": [],
   "execution_count": 4
  },
  {
   "metadata": {
    "ExecuteTime": {
     "end_time": "2024-06-13T11:45:49.634759Z",
     "start_time": "2024-06-13T11:45:49.629814Z"
    }
   },
   "cell_type": "code",
   "source": [
    "print(f\"There are {len(mice_genus.intersection(human_genus))} genus shared in the mice and human data. \\n\"\n",
    "      f\"Out of {len(mice_genus)} genus in mice and {len(human_genus)} genus in human. \\n \"\n",
    "      f\"AKA {round(len(mice_genus.intersection(human_genus)) / len(mice_genus) * 100, 2)} % of the genus in mice are shared with humans in our ds.\")"
   ],
   "id": "d9a46fcad15a141a",
   "outputs": [
    {
     "name": "stdout",
     "output_type": "stream",
     "text": [
      "There are 16 genus shared in the mice and human data. \n",
      "Out of 39 genus in mice and 107 genus in human. \n",
      " AKA 41.03 % of the genus in mice are shared with humans in our ds.\n"
     ]
    }
   ],
   "execution_count": 5
  },
  {
   "metadata": {},
   "cell_type": "markdown",
   "source": "Shared metabolites:",
   "id": "c4ac909ed28b0fcc"
  },
  {
   "metadata": {
    "ExecuteTime": {
     "end_time": "2024-06-13T11:45:52.094093Z",
     "start_time": "2024-06-13T11:45:52.088623Z"
    }
   },
   "cell_type": "code",
   "source": [
    "# intersection\n",
    "mice_metabolites = mice_corr_coefficient.index.get_level_values(0).unique()\n",
    "human_metabolites = human_corr_coefficient.index.get_level_values(0).unique()\n",
    "shared_metabolites = human_metabolites.intersection(mice_metabolites)\n"
   ],
   "id": "180c91924dd3d601",
   "outputs": [],
   "execution_count": 6
  },
  {
   "metadata": {
    "ExecuteTime": {
     "end_time": "2024-06-13T11:45:54.209067Z",
     "start_time": "2024-06-13T11:45:54.204484Z"
    }
   },
   "cell_type": "code",
   "source": "shared_metabolites.shape",
   "id": "9fb10c22ba2147c8",
   "outputs": [
    {
     "data": {
      "text/plain": [
       "(25,)"
      ]
     },
     "execution_count": 7,
     "metadata": {},
     "output_type": "execute_result"
    }
   ],
   "execution_count": 7
  },
  {
   "metadata": {},
   "cell_type": "markdown",
   "source": "Taxonomic distance mapping based on MGBC closest taxa table ",
   "id": "89b16bce78bb1bcf"
  },
  {
   "metadata": {
    "ExecuteTime": {
     "end_time": "2024-06-13T11:45:56.191034Z",
     "start_time": "2024-06-13T11:45:55.846067Z"
    }
   },
   "cell_type": "code",
   "source": [
    "from translator import MGBC_Translator, Direction, DatabaseClosestTaxa, AggregationFunction\n",
    "m2h_translator = MGBC_Translator(direction=Direction.M2H, use_database=DatabaseClosestTaxa.taxonomy, aggregation_function=AggregationFunction.majority, short_taxonomic_naming=True)\n",
    "translation_map = m2h_translator.translation_map()"
   ],
   "id": "db4334ec02e24d90",
   "outputs": [],
   "execution_count": 8
  },
  {
   "metadata": {},
   "cell_type": "markdown",
   "source": "How many genus mapped to the same genus?",
   "id": "4a41772f89c544d0"
  },
  {
   "metadata": {
    "ExecuteTime": {
     "end_time": "2024-06-09T16:01:45.808786Z",
     "start_time": "2024-06-09T16:01:45.806118Z"
    }
   },
   "cell_type": "code",
   "source": [
    "print(f\"Generally: {np.count_nonzero(translation_map.index == translation_map)}, out of {translation_map.shape[0]}. {np.count_nonzero(translation_map.index == translation_map) / translation_map.shape[0] * 100:.2f}%\")\n",
    "\n",
    "\n",
    "print(f\"Generally: {np.count_nonzero(translation_map.index == translation_map)}, out of {translation_map.shape[0]}. {np.count_nonzero(translation_map.index == translation_map) / translation_map.shape[0] * 100:.2f}%\")"
   ],
   "id": "5aa96030d8450ab4",
   "outputs": [
    {
     "name": "stdout",
     "output_type": "stream",
     "text": [
      "Generally: 172, out of 225. 76.44%\n"
     ]
    }
   ],
   "execution_count": 17
  },
  {
   "metadata": {
    "ExecuteTime": {
     "end_time": "2024-06-09T16:02:57.967234Z",
     "start_time": "2024-06-09T16:02:57.963615Z"
    }
   },
   "cell_type": "code",
   "source": "translation_map.index.intersection(mice_genus) ",
   "id": "5956f8a7432d68a5",
   "outputs": [
    {
     "data": {
      "text/plain": [
       "Index(['NM07-P-09', 'CAG-485', 'Duncaniella', 'Erysipelatoclostridium',\n",
       "       'Faecalibaculum', 'Turicibacter', 'Lactococcus', 'Clostridium',\n",
       "       'Anaerotignum', '14-2', '1XD42-69', 'Acetatifactor', 'CAG-56', 'COE1',\n",
       "       'Clostridium_Q', 'Eubacterium_J', 'Kineothrix', 'Roseburia',\n",
       "       'Schaedlerella', 'Acutalibacter', 'Eubacterium_R', 'Intestinimonas',\n",
       "       'Lawsonibacter', 'Marseille-P3106', 'Anaerotruncus', 'Angelakisella',\n",
       "       'Emergencia', 'Romboutsia'],\n",
       "      dtype='object')"
      ]
     },
     "execution_count": 19,
     "metadata": {},
     "output_type": "execute_result"
    }
   ],
   "execution_count": 19
  },
  {
   "metadata": {},
   "cell_type": "markdown",
   "source": "Not all genus found in Mice are found in this MGBC translation toolkit? ",
   "id": "a6751a5fb4cb9fc9"
  },
  {
   "metadata": {
    "ExecuteTime": {
     "end_time": "2024-06-09T17:55:19.296700Z",
     "start_time": "2024-06-09T17:55:19.293434Z"
    }
   },
   "cell_type": "code",
   "source": [
    "# TODO: Verify! Not all genus found in Mice in my dataset is in this MGBC translation toolkit? \n",
    "\n",
    "mice_genus\n"
   ],
   "id": "6435b818c04d20fb",
   "outputs": [
    {
     "data": {
      "text/plain": [
       "Index(['14-2', '1XD42-69', 'Acetatifactor', 'Acutalibacter', 'Anaerotignum',\n",
       "       'Anaerotruncus', 'Angelakisella', 'CAG-317', 'CAG-485', 'CAG-56',\n",
       "       'COE1', 'Caccenecus', 'Choladocola', 'Clostridium', 'Clostridium_Q',\n",
       "       'Copromonas', 'Duncaniella', 'Dysosmobacter', 'Emergencia',\n",
       "       'Enterenecus', 'Erysipelatoclostridium', 'Eubacterium_J',\n",
       "       'Eubacterium_R', 'Faecalibaculum', 'Intestinimonas', 'Kineothrix',\n",
       "       'Lachnoclostridium_B', 'Lactococcus', 'Lawsonibacter',\n",
       "       'Marseille-P3106', 'Merdisoma', 'NM07-P-09', 'Pelethomonas',\n",
       "       'Romboutsia', 'Roseburia', 'Schaedlerella', 'Sporofaciens',\n",
       "       'Turicibacter', 'UBA7109'],\n",
       "      dtype='object')"
      ]
     },
     "execution_count": 26,
     "metadata": {},
     "output_type": "execute_result"
    }
   ],
   "execution_count": 26
  },
  {
   "metadata": {
    "ExecuteTime": {
     "end_time": "2024-06-13T11:46:01.558379Z",
     "start_time": "2024-06-13T11:46:01.482393Z"
    }
   },
   "cell_type": "code",
   "source": [
    "mgbc_closest_taxa_table = pd.read_csv('/home/noa/lab_code/MGBC-Toolkit/data/closest_tax.tsv', sep='\\t', header=None,\n",
    "                                         names=['method', 'reference_genome', 'query_genome', 'distance',\n",
    "                                                'reference_taxonomy', 'query_taxonomy'])\n"
   ],
   "id": "449ec5fe7e4c4db0",
   "outputs": [],
   "execution_count": 9
  },
  {
   "metadata": {
    "ExecuteTime": {
     "end_time": "2024-06-09T17:56:42.367703Z",
     "start_time": "2024-06-09T17:56:42.359489Z"
    }
   },
   "cell_type": "code",
   "source": "mgbc_closest_taxa_table",
   "id": "49b26b23111bc192",
   "outputs": [
    {
     "data": {
      "text/plain": [
       "             method  reference_genome      query_genome  distance  \\\n",
       "0          taxonomy  GUT_GENOME000010        MGBC000100  0.020884   \n",
       "1          taxonomy  GUT_GENOME000035        MGBC000465  0.009662   \n",
       "2          taxonomy  GUT_GENOME000049        MGBC109121  0.200162   \n",
       "3          taxonomy  GUT_GENOME000057        MGBC115383  0.008205   \n",
       "4          taxonomy  GUT_GENOME000064        MGBC161554  0.625505   \n",
       "...             ...               ...               ...       ...   \n",
       "61495  Reactome.ips        MGBC166864  GUT_GENOME188058  0.116968   \n",
       "61496  Reactome.ips        MGBC167004  GUT_GENOME012681  0.134689   \n",
       "61497  Reactome.ips        MGBC167061  GUT_GENOME205920  0.058195   \n",
       "61498  Reactome.ips        MGBC167064  GUT_GENOME258050  0.129410   \n",
       "61499  Reactome.ips        MGBC167141  GUT_GENOME110697  0.100392   \n",
       "\n",
       "                                      reference_taxonomy  \\\n",
       "0      d__Bacteria;p__Firmicutes_A;c__Clostridia;o__O...   \n",
       "1      d__Bacteria;p__Bacteroidota;c__Bacteroidia;o__...   \n",
       "2      d__Bacteria;p__Firmicutes_A;c__Clostridia;o__L...   \n",
       "3      d__Bacteria;p__Proteobacteria;c__Gammaproteoba...   \n",
       "4      d__Bacteria;p__Firmicutes;c__Bacilli;o__Lactob...   \n",
       "...                                                  ...   \n",
       "61495  d__Bacteria;p__Firmicutes_A;c__Clostridia;o__L...   \n",
       "61496  d__Bacteria;p__Firmicutes_A;c__Clostridia;o__L...   \n",
       "61497  d__Bacteria;p__Firmicutes;c__Bacilli;o__Lactob...   \n",
       "61498  d__Bacteria;p__Firmicutes_A;c__Clostridia;o__L...   \n",
       "61499  d__Bacteria;p__Bacteroidota;c__Bacteroidia;o__...   \n",
       "\n",
       "                                          query_taxonomy  \n",
       "0      d__Bacteria;p__Firmicutes_A;c__Clostridia;o__O...  \n",
       "1      d__Bacteria;p__Bacteroidota;c__Bacteroidia;o__...  \n",
       "2      d__Bacteria;p__Firmicutes_A;c__Clostridia;o__L...  \n",
       "3      d__Bacteria;p__Proteobacteria;c__Gammaproteoba...  \n",
       "4      d__Bacteria;p__Firmicutes;c__Bacilli;o__Lactob...  \n",
       "...                                                  ...  \n",
       "61495  d__Bacteria;p__Firmicutes_A;c__Clostridia;o__C...  \n",
       "61496  d__Bacteria;p__Firmicutes_A;c__Clostridia;o__L...  \n",
       "61497  d__Bacteria;p__Firmicutes;c__Bacilli;o__Lactob...  \n",
       "61498  d__Bacteria;p__Firmicutes_A;c__Clostridia;o__L...  \n",
       "61499  d__Bacteria;p__Bacteroidota;c__Bacteroidia;o__...  \n",
       "\n",
       "[61500 rows x 6 columns]"
      ],
      "text/html": [
       "<div>\n",
       "<style scoped>\n",
       "    .dataframe tbody tr th:only-of-type {\n",
       "        vertical-align: middle;\n",
       "    }\n",
       "\n",
       "    .dataframe tbody tr th {\n",
       "        vertical-align: top;\n",
       "    }\n",
       "\n",
       "    .dataframe thead th {\n",
       "        text-align: right;\n",
       "    }\n",
       "</style>\n",
       "<table border=\"1\" class=\"dataframe\">\n",
       "  <thead>\n",
       "    <tr style=\"text-align: right;\">\n",
       "      <th></th>\n",
       "      <th>method</th>\n",
       "      <th>reference_genome</th>\n",
       "      <th>query_genome</th>\n",
       "      <th>distance</th>\n",
       "      <th>reference_taxonomy</th>\n",
       "      <th>query_taxonomy</th>\n",
       "    </tr>\n",
       "  </thead>\n",
       "  <tbody>\n",
       "    <tr>\n",
       "      <th>0</th>\n",
       "      <td>taxonomy</td>\n",
       "      <td>GUT_GENOME000010</td>\n",
       "      <td>MGBC000100</td>\n",
       "      <td>0.020884</td>\n",
       "      <td>d__Bacteria;p__Firmicutes_A;c__Clostridia;o__O...</td>\n",
       "      <td>d__Bacteria;p__Firmicutes_A;c__Clostridia;o__O...</td>\n",
       "    </tr>\n",
       "    <tr>\n",
       "      <th>1</th>\n",
       "      <td>taxonomy</td>\n",
       "      <td>GUT_GENOME000035</td>\n",
       "      <td>MGBC000465</td>\n",
       "      <td>0.009662</td>\n",
       "      <td>d__Bacteria;p__Bacteroidota;c__Bacteroidia;o__...</td>\n",
       "      <td>d__Bacteria;p__Bacteroidota;c__Bacteroidia;o__...</td>\n",
       "    </tr>\n",
       "    <tr>\n",
       "      <th>2</th>\n",
       "      <td>taxonomy</td>\n",
       "      <td>GUT_GENOME000049</td>\n",
       "      <td>MGBC109121</td>\n",
       "      <td>0.200162</td>\n",
       "      <td>d__Bacteria;p__Firmicutes_A;c__Clostridia;o__L...</td>\n",
       "      <td>d__Bacteria;p__Firmicutes_A;c__Clostridia;o__L...</td>\n",
       "    </tr>\n",
       "    <tr>\n",
       "      <th>3</th>\n",
       "      <td>taxonomy</td>\n",
       "      <td>GUT_GENOME000057</td>\n",
       "      <td>MGBC115383</td>\n",
       "      <td>0.008205</td>\n",
       "      <td>d__Bacteria;p__Proteobacteria;c__Gammaproteoba...</td>\n",
       "      <td>d__Bacteria;p__Proteobacteria;c__Gammaproteoba...</td>\n",
       "    </tr>\n",
       "    <tr>\n",
       "      <th>4</th>\n",
       "      <td>taxonomy</td>\n",
       "      <td>GUT_GENOME000064</td>\n",
       "      <td>MGBC161554</td>\n",
       "      <td>0.625505</td>\n",
       "      <td>d__Bacteria;p__Firmicutes;c__Bacilli;o__Lactob...</td>\n",
       "      <td>d__Bacteria;p__Firmicutes;c__Bacilli;o__Lactob...</td>\n",
       "    </tr>\n",
       "    <tr>\n",
       "      <th>...</th>\n",
       "      <td>...</td>\n",
       "      <td>...</td>\n",
       "      <td>...</td>\n",
       "      <td>...</td>\n",
       "      <td>...</td>\n",
       "      <td>...</td>\n",
       "    </tr>\n",
       "    <tr>\n",
       "      <th>61495</th>\n",
       "      <td>Reactome.ips</td>\n",
       "      <td>MGBC166864</td>\n",
       "      <td>GUT_GENOME188058</td>\n",
       "      <td>0.116968</td>\n",
       "      <td>d__Bacteria;p__Firmicutes_A;c__Clostridia;o__L...</td>\n",
       "      <td>d__Bacteria;p__Firmicutes_A;c__Clostridia;o__C...</td>\n",
       "    </tr>\n",
       "    <tr>\n",
       "      <th>61496</th>\n",
       "      <td>Reactome.ips</td>\n",
       "      <td>MGBC167004</td>\n",
       "      <td>GUT_GENOME012681</td>\n",
       "      <td>0.134689</td>\n",
       "      <td>d__Bacteria;p__Firmicutes_A;c__Clostridia;o__L...</td>\n",
       "      <td>d__Bacteria;p__Firmicutes_A;c__Clostridia;o__L...</td>\n",
       "    </tr>\n",
       "    <tr>\n",
       "      <th>61497</th>\n",
       "      <td>Reactome.ips</td>\n",
       "      <td>MGBC167061</td>\n",
       "      <td>GUT_GENOME205920</td>\n",
       "      <td>0.058195</td>\n",
       "      <td>d__Bacteria;p__Firmicutes;c__Bacilli;o__Lactob...</td>\n",
       "      <td>d__Bacteria;p__Firmicutes;c__Bacilli;o__Lactob...</td>\n",
       "    </tr>\n",
       "    <tr>\n",
       "      <th>61498</th>\n",
       "      <td>Reactome.ips</td>\n",
       "      <td>MGBC167064</td>\n",
       "      <td>GUT_GENOME258050</td>\n",
       "      <td>0.129410</td>\n",
       "      <td>d__Bacteria;p__Firmicutes_A;c__Clostridia;o__L...</td>\n",
       "      <td>d__Bacteria;p__Firmicutes_A;c__Clostridia;o__L...</td>\n",
       "    </tr>\n",
       "    <tr>\n",
       "      <th>61499</th>\n",
       "      <td>Reactome.ips</td>\n",
       "      <td>MGBC167141</td>\n",
       "      <td>GUT_GENOME110697</td>\n",
       "      <td>0.100392</td>\n",
       "      <td>d__Bacteria;p__Bacteroidota;c__Bacteroidia;o__...</td>\n",
       "      <td>d__Bacteria;p__Bacteroidota;c__Bacteroidia;o__...</td>\n",
       "    </tr>\n",
       "  </tbody>\n",
       "</table>\n",
       "<p>61500 rows × 6 columns</p>\n",
       "</div>"
      ]
     },
     "execution_count": 28,
     "metadata": {},
     "output_type": "execute_result"
    }
   ],
   "execution_count": 28
  },
  {
   "metadata": {
    "ExecuteTime": {
     "end_time": "2024-06-13T11:46:04.638283Z",
     "start_time": "2024-06-13T11:46:04.500283Z"
    }
   },
   "cell_type": "code",
   "source": [
    "# mgbc_tax_rep_index = pd.read_csv('/home/noa/lab_code/MGBC-Toolkit/data/tax_rep_index.tsv', sep='\\t', header=None\n",
    "#                                  )\n",
    "\n",
    "mgbc_tax_rep_index = pd.read_csv('/home/noa/lab_code/MGBC-Toolkit/data/tax_rep_index.tsv', sep='\\t', header=None,\n",
    "                                 names=['pid','name', 'taxonomy level', 'taxonomy_label', 'source_pid', 'host', 'number'])"
   ],
   "id": "4ee39de340ede918",
   "outputs": [],
   "execution_count": 10
  },
  {
   "metadata": {
    "ExecuteTime": {
     "end_time": "2024-06-09T18:02:16.727298Z",
     "start_time": "2024-06-09T18:02:16.715944Z"
    }
   },
   "cell_type": "code",
   "source": "mgbc_tax_rep_index[mgbc_tax_rep_index.host == 'MOUSE'].taxonomy_label.unique().shape",
   "id": "d6045f484462df",
   "outputs": [
    {
     "data": {
      "text/plain": [
       "(436,)"
      ]
     },
     "execution_count": 41,
     "metadata": {},
     "output_type": "execute_result"
    }
   ],
   "execution_count": 41
  },
  {
   "metadata": {
    "ExecuteTime": {
     "end_time": "2024-06-09T18:08:07.919983Z",
     "start_time": "2024-06-09T18:08:07.908172Z"
    }
   },
   "cell_type": "code",
   "source": "mgbc_tax_rep_index[mgbc_tax_rep_index.host == 'MOUSE'].taxonomy_label.unique()\n",
   "id": "ddbd80d67678a422",
   "outputs": [
    {
     "data": {
      "text/plain": [
       "array(['d__Bacteria;p__Firmicutes_A;c__Clostridia;o__Lachnospirales;f__Lachnospiraceae;g__Schaedlerella;s__',\n",
       "       'd__Bacteria;p__Bacteroidota;c__Bacteroidia;o__Bacteroidales;f__Muribaculaceae;g__CAG-485;s__CAG-485 sp002362485',\n",
       "       'd__Bacteria;p__Bacteroidota;c__Bacteroidia;o__Bacteroidales;f__Bacteroidaceae;g__Phocaeicola;s__Phocaeicola vulgatus',\n",
       "       'd__Bacteria;p__Firmicutes_A;c__Clostridia;o__Lachnospirales;f__Lachnospiraceae;g__Schaedlerella;s__Schaedlerella sp000364245',\n",
       "       'd__Bacteria;p__Firmicutes_A;c__Clostridia;o__Lachnospirales;f__Lachnospiraceae;g__Dorea;s__',\n",
       "       'd__Bacteria;p__Bacteroidota;c__Bacteroidia;o__Bacteroidales;f__Bacteroidaceae;g__Bacteroides;s__Bacteroides acidifaciens',\n",
       "       'd__Bacteria;p__Bacteroidota;c__Bacteroidia;o__Bacteroidales;f__Muribaculaceae;g__Muribaculum;s__Muribaculum sp002358615',\n",
       "       'd__Bacteria;p__Firmicutes;c__Bacilli;o__Lactobacillales;f__Lactobacillaceae;g__Lactobacillus;s__Lactobacillus intestinalis',\n",
       "       'd__Bacteria;p__Firmicutes_A;c__Clostridia;o__Lachnospirales;f__Lachnospiraceae;g__Blautia;s__Blautia coccoides_A',\n",
       "       'd__Bacteria;p__Firmicutes;c__Bacilli;o__Lactobacillales;f__Enterococcaceae;g__Enterococcus_D;s__Enterococcus_D gallinarum',\n",
       "       'd__Bacteria;p__Proteobacteria;c__Gammaproteobacteria;o__Enterobacterales;f__Enterobacteriaceae;g__Proteus;s__Proteus mirabilis',\n",
       "       'd__Bacteria;p__Proteobacteria;c__Gammaproteobacteria;o__Enterobacterales;f__Enterobacteriaceae;g__Klebsiella;s__Klebsiella pneumoniae',\n",
       "       'd__Bacteria;p__Proteobacteria;c__Gammaproteobacteria;o__Enterobacterales;f__Enterobacteriaceae;g__Citrobacter_A;s__Citrobacter_A rodentium',\n",
       "       'd__Bacteria;p__Bacteroidota;c__Bacteroidia;o__Bacteroidales;f__Muribaculaceae;g__CAG-485;s__CAG-485 sp002493045',\n",
       "       'd__Bacteria;p__Firmicutes;c__Bacilli;o__Staphylococcales;f__Staphylococcaceae;g__Staphylococcus;s__Staphylococcus xylosus',\n",
       "       'd__Bacteria;p__Firmicutes;c__Bacilli;o__Lactobacillales;f__Lactobacillaceae;g__Limosilactobacillus;s__Limosilactobacillus reuteri',\n",
       "       'd__Bacteria;p__Firmicutes_A;c__Clostridia;o__Lachnospirales;f__Lachnospiraceae;g__Anaerostipes;s__Anaerostipes sp000508985',\n",
       "       'd__Bacteria;p__Firmicutes;c__Bacilli;o__Lactobacillales;f__Enterococcaceae;g__Enterococcus;s__Enterococcus faecalis',\n",
       "       'd__Bacteria;p__Bacteroidota;c__Bacteroidia;o__Bacteroidales;f__Muribaculaceae;g__CAG-485;s__CAG-485 sp002361215',\n",
       "       'd__Bacteria;p__Proteobacteria;c__Gammaproteobacteria;o__Enterobacterales;f__Enterobacteriaceae;g__Escherichia;s__Escherichia coli',\n",
       "       'd__Bacteria;p__Firmicutes_A;c__Clostridia;o__Lachnospirales;f__Lachnospiraceae;g__1XD8-76;s__',\n",
       "       'd__Bacteria;p__Firmicutes_A;c__Clostridia;o__Peptostreptococcales;f__Anaerovoracaceae;g__Emergencia;s__',\n",
       "       'd__Bacteria;p__Bacteroidota;c__Bacteroidia;o__Bacteroidales;f__Muribaculaceae;g__Muribaculum;s__Muribaculum sp002473395',\n",
       "       'd__Bacteria;p__Firmicutes;c__Bacilli;o__Lactobacillales;f__Lactobacillaceae;g__Ligilactobacillus;s__Ligilactobacillus murinus',\n",
       "       'd__Bacteria;p__Proteobacteria;c__Gammaproteobacteria;o__Burkholderiales;f__Burkholderiaceae;g__Parasutterella;s__',\n",
       "       'd__Bacteria;p__Bacteroidota;c__Bacteroidia;o__Bacteroidales;f__Rikenellaceae;g__Alistipes;s__Alistipes timonensis',\n",
       "       'd__Bacteria;p__Bacteroidota;c__Bacteroidia;o__Bacteroidales;f__Bacteroidaceae;g__Bacteroides;s__Bacteroides sp002491635',\n",
       "       'd__Bacteria;p__Firmicutes;c__Bacilli;o__Erysipelotrichales;f__Erysipelotrichaceae;g__Faecalibaculum;s__Faecalibaculum rodentium',\n",
       "       'd__Bacteria;p__Bacteroidota;c__Bacteroidia;o__Bacteroidales;f__Muribaculaceae;g__Muribaculum;s__Muribaculum intestinale',\n",
       "       'd__Bacteria;p__Firmicutes_A;c__Clostridia;o__Lachnospirales;f__Lachnospiraceae;g__Eubacterium_F;s__',\n",
       "       'd__Bacteria;p__Firmicutes_A;c__Clostridia;o__Lachnospirales;f__Lachnospiraceae;g__;s__',\n",
       "       'd__Bacteria;p__Actinobacteriota;c__Coriobacteriia;o__Coriobacteriales;f__Eggerthellaceae;g__;s__',\n",
       "       'd__Bacteria;p__Firmicutes;c__Bacilli;o__Lactobacillales;f__Lactobacillaceae;g__Lactobacillus;s__Lactobacillus johnsonii',\n",
       "       'd__Bacteria;p__Actinobacteriota;c__Coriobacteriia;o__Coriobacteriales;f__Eggerthellaceae;g__Adlercreutzia;s__Adlercreutzia caecimuris',\n",
       "       'd__Bacteria;p__Bacteroidota;c__Bacteroidia;o__Bacteroidales;f__Tannerellaceae;g__Parabacteroides;s__Parabacteroides distasonis',\n",
       "       'd__Bacteria;p__Firmicutes_A;c__Clostridia;o__Oscillospirales;f__Oscillospiraceae;g__Oscillibacter;s__',\n",
       "       'd__Bacteria;p__Proteobacteria;c__Gammaproteobacteria;o__Burkholderiales;f__Burkholderiaceae;g__Turicimonas;s__Turicimonas muris',\n",
       "       'd__Bacteria;p__Bacteroidota;c__Bacteroidia;o__Bacteroidales;f__Muribaculaceae;g__Duncaniella;s__Duncaniella sp001689575',\n",
       "       'd__Bacteria;p__Bacteroidota;c__Bacteroidia;o__Bacteroidales;f__Rikenellaceae;g__Alistipes;s__Alistipes sp002362235',\n",
       "       'd__Bacteria;p__Firmicutes_A;c__Clostridia;o__Lachnospirales;f__Lachnospiraceae;g__CAG-56;s__CAG-56 sp004793585',\n",
       "       'd__Bacteria;p__Firmicutes_A;c__Clostridia;o__Lachnospirales;f__Lachnospiraceae;g__UBA2882;s__',\n",
       "       'd__Bacteria;p__Bacteroidota;c__Bacteroidia;o__Bacteroidales;f__Bacteroidaceae;g__Bacteroides;s__Bacteroides caecimuris',\n",
       "       'd__Bacteria;p__Firmicutes_A;c__Clostridia;o__Lachnospirales;f__Lachnospiraceae;g__Hungatella_A;s__',\n",
       "       'd__Bacteria;p__Firmicutes;c__Bacilli;o__Staphylococcales;f__Staphylococcaceae;g__Staphylococcus;s__Staphylococcus nepalensis',\n",
       "       'd__Bacteria;p__Firmicutes;c__Bacilli;o__Lactobacillales;f__Streptococcaceae;g__Streptococcus;s__',\n",
       "       'd__Bacteria;p__Actinobacteriota;c__Actinomycetia;o__Actinomycetales;f__Bifidobacteriaceae;g__Bifidobacterium;s__Bifidobacterium animalis',\n",
       "       'd__Bacteria;p__Firmicutes_A;c__Clostridia;o__Oscillospirales;f__Acutalibacteraceae;g__Acutalibacter;s__',\n",
       "       'd__Bacteria;p__Firmicutes_A;c__Clostridia;o__Oscillospirales;f__Ruminococcaceae;g__Anaerotruncus;s__',\n",
       "       'd__Bacteria;p__Firmicutes_A;c__Clostridia;o__Lachnospirales;f__Anaerotignaceae;g__ASF356;s__',\n",
       "       'd__Bacteria;p__Firmicutes_A;c__Clostridia;o__Oscillospirales;f__Ruminococcaceae;g__Anaerotruncus;s__Anaerotruncus sp003612625',\n",
       "       'd__Bacteria;p__Firmicutes_A;c__Clostridia;o__Lachnospirales;f__Lachnospiraceae;g__UBA7182;s__',\n",
       "       'd__Bacteria;p__Firmicutes_A;c__Clostridia;o__Lachnospirales;f__Lachnospiraceae;g__14-2;s__',\n",
       "       'd__Bacteria;p__Firmicutes_A;c__Clostridia;o__Lachnospirales;f__Lachnospiraceae;g__UBA9502;s__',\n",
       "       'd__Bacteria;p__Actinobacteriota;c__Actinomycetia;o__Actinomycetales;f__Bifidobacteriaceae;g__Bifidobacterium;s__Bifidobacterium globosum',\n",
       "       'd__Bacteria;p__Firmicutes_A;c__Clostridia;o__Lachnospirales;f__Lachnospiraceae;g__Kineothrix;s__Kineothrix sp000403275',\n",
       "       'd__Bacteria;p__Firmicutes_A;c__Clostridia;o__Lachnospirales;f__Lachnospiraceae;g__UBA3282;s__',\n",
       "       'd__Bacteria;p__Bacteroidota;c__Bacteroidia;o__Bacteroidales;f__Muribaculaceae;g__Duncaniella;s__Duncaniella muris',\n",
       "       'd__Bacteria;p__Firmicutes_A;c__Clostridia;o__Lachnospirales;f__Lachnospiraceae;g__UBA3282;s__UBA3282 sp003611805',\n",
       "       'd__Bacteria;p__Actinobacteriota;c__Coriobacteriia;o__Coriobacteriales;f__Eggerthellaceae;g__D16-34;s__',\n",
       "       'd__Bacteria;p__Firmicutes_A;c__Clostridia;o__Oscillospirales;f__Oscillospiraceae;g__Lawsonibacter;s__',\n",
       "       'd__Bacteria;p__Firmicutes;c__Bacilli;o__Staphylococcales;f__Staphylococcaceae;g__Staphylococcus;s__Staphylococcus warneri',\n",
       "       'd__Bacteria;p__Firmicutes_A;c__Clostridia;o__Lachnospirales;f__Lachnospiraceae;g__Eubacterium_G;s__',\n",
       "       'd__Bacteria;p__Firmicutes_A;c__Clostridia;o__Oscillospirales;f__Oscillospiraceae;g__UBA9475;s__',\n",
       "       'd__Bacteria;p__Firmicutes;c__Bacilli;o__Erysipelotrichales;f__Erysipelotrichaceae;g__;s__',\n",
       "       'd__Bacteria;p__Firmicutes_A;c__Clostridia;o__Lachnospirales;f__Lachnospiraceae;g__COE1;s__COE1 sp000403335',\n",
       "       'd__Bacteria;p__Firmicutes_A;c__Clostridia;o__Lachnospirales;f__Lachnospiraceae;g__1XD42-69;s__',\n",
       "       'd__Bacteria;p__Bacteroidota;c__Bacteroidia;o__Bacteroidales;f__Muribaculaceae;g__UBA7173;s__UBA7173 sp001689685',\n",
       "       'd__Bacteria;p__Bacteroidota;c__Bacteroidia;o__Bacteroidales;f__Muribaculaceae;g__UBA7173;s__',\n",
       "       'd__Bacteria;p__Desulfobacterota;c__Desulfovibrionia;o__Desulfovibrionales;f__Desulfovibrionaceae;g__Desulfovibrio;s__',\n",
       "       'd__Bacteria;p__Bacteroidota;c__Bacteroidia;o__Bacteroidales;f__Rikenellaceae;g__Alistipes;s__',\n",
       "       'd__Bacteria;p__Firmicutes_A;c__Clostridia;o__Lachnospirales;f__Lachnospiraceae;g__UBA9502;s__UBA9502 sp003611875',\n",
       "       'd__Bacteria;p__Firmicutes_A;c__Clostridia;o__Lachnospirales;f__Lachnospiraceae;g__Clostridium_Q;s__',\n",
       "       'd__Bacteria;p__Firmicutes_A;c__Clostridia;o__Lachnospirales;f__Lachnospiraceae;g__UMGS1370;s__',\n",
       "       'd__Bacteria;p__Firmicutes;c__Bacilli;o__Lactobacillales;f__Streptococcaceae;g__Streptococcus;s__Streptococcus oralis',\n",
       "       'd__Bacteria;p__Firmicutes_A;c__Clostridia;o__Lachnospirales;f__Lachnospiraceae;g__CAG-81;s__',\n",
       "       'd__Bacteria;p__Firmicutes_A;c__Clostridia;o__Peptostreptococcales;f__Anaerovoracaceae;g__;s__',\n",
       "       'd__Bacteria;p__Actinobacteriota;c__Coriobacteriia;o__Coriobacteriales;f__Eggerthellaceae;g__Adlercreutzia;s__Adlercreutzia sp004793465',\n",
       "       'd__Bacteria;p__Actinobacteriota;c__Coriobacteriia;o__Coriobacteriales;f__Atopobiaceae;g__NM07-P-09;s__NM07-P-09 sp004793665',\n",
       "       'd__Bacteria;p__Firmicutes;c__Bacilli;o__Bacillales;f__Bacillaceae_A;g__Bacillus_AC;s__Bacillus_AC sp001076885',\n",
       "       'd__Bacteria;p__Firmicutes_A;c__Clostridia;o__Lachnospirales;f__Lachnospiraceae;g__Eubacterium_J;s__',\n",
       "       'd__Bacteria;p__Firmicutes;c__Bacilli;o__Bacillales;f__Bacillaceae;g__Bacillus;s__Bacillus licheniformis',\n",
       "       'd__Bacteria;p__Firmicutes_A;c__Clostridia;o__Oscillospirales;f__Oscillospiraceae;g__Oscillibacter;s__Oscillibacter sp000403435',\n",
       "       'd__Bacteria;p__Firmicutes_A;c__Clostridia;o__Lachnospirales;f__Lachnospiraceae;g__TF01-11;s__',\n",
       "       'd__Bacteria;p__Actinobacteriota;c__Coriobacteriia;o__Coriobacteriales;f__Eggerthellaceae;g__Parvibacter;s__Parvibacter caecicola',\n",
       "       'd__Bacteria;p__Firmicutes;c__Bacilli;o__Staphylococcales;f__Staphylococcaceae;g__Staphylococcus;s__Staphylococcus pasteuri_A',\n",
       "       'd__Bacteria;p__Firmicutes_A;c__Clostridia;o__Lachnospirales;f__Lachnospiraceae;g__Acetatifactor;s__',\n",
       "       'd__Bacteria;p__Actinobacteriota;c__Coriobacteriia;o__Coriobacteriales;f__Eggerthellaceae;g__Parvibacter;s__',\n",
       "       'd__Bacteria;p__Firmicutes;c__Bacilli;o__Staphylococcales;f__Staphylococcaceae;g__Staphylococcus;s__Staphylococcus epidermidis',\n",
       "       'd__Bacteria;p__Firmicutes;c__Bacilli;o__Lactobacillales;f__Aerococcaceae;g__Granulicatella;s__Granulicatella adiacens',\n",
       "       'd__Bacteria;p__Firmicutes_A;c__Clostridia;o__Lachnospirales;f__Lachnospiraceae;g__Enterocloster;s__Enterocloster clostridioformis',\n",
       "       'd__Bacteria;p__Firmicutes_A;c__Clostridia;o__Oscillospirales;f__Ruminococcaceae;g__Anaerotruncus;s__Anaerotruncus sp000403395',\n",
       "       'd__Bacteria;p__Firmicutes_A;c__Clostridia;o__Oscillospirales;f__Acutalibacteraceae;g__Acutalibacter;s__Acutalibacter muris',\n",
       "       'd__Bacteria;p__Actinobacteriota;c__Actinomycetia;o__Propionibacteriales;f__Propionibacteriaceae;g__Cutibacterium;s__Cutibacterium acnes',\n",
       "       'd__Bacteria;p__Firmicutes_A;c__Clostridia;o__Lachnospirales;f__Lachnospiraceae;g__Enterocloster;s__Enterocloster aldenensis',\n",
       "       'd__Bacteria;p__Firmicutes_A;c__Clostridia;o__Lachnospirales;f__Anaerotignaceae;g__Anaerotignum;s__',\n",
       "       'd__Bacteria;p__Verrucomicrobiota_A;c__Chlamydiia;o__Chlamydiales;f__Chlamydiaceae;g__Chlamydia;s__Chlamydia muridarum',\n",
       "       'd__Bacteria;p__Bacteroidota;c__Bacteroidia;o__Bacteroidales;f__Muribaculaceae;g__Paramuribaculum;s__Paramuribaculum intestinale',\n",
       "       'd__Bacteria;p__Bacteroidota;c__Bacteroidia;o__Bacteroidales;f__Muribaculaceae;g__Muribaculum;s__Muribaculum sp002492595',\n",
       "       'd__Bacteria;p__Bacteroidota;c__Bacteroidia;o__Bacteroidales;f__Muribaculaceae;g__Paramuribaculum;s__Paramuribaculum sp001689565',\n",
       "       'd__Bacteria;p__Bacteroidota;c__Bacteroidia;o__Bacteroidales;f__Muribaculaceae;g__Duncaniella;s__Duncaniella sp001689425',\n",
       "       'd__Bacteria;p__Bacteroidota;c__Bacteroidia;o__Bacteroidales;f__Muribaculaceae;g__UBA7173;s__UBA7173 sp002491305',\n",
       "       'd__Bacteria;p__Firmicutes_A;c__Clostridia;o__Lachnospirales;f__Anaerotignaceae;g__ASF356;s__ASF356 sp000364165',\n",
       "       'd__Bacteria;p__Firmicutes_A;c__Clostridia;o__Lachnospirales;f__Lachnospiraceae;g__Eubacterium_J;s__Eubacterium_J plexicaudatum',\n",
       "       'd__Bacteria;p__Bacteroidota;c__Bacteroidia;o__Bacteroidales;f__Tannerellaceae;g__Parabacteroides;s__Parabacteroides goldsteinii',\n",
       "       'd__Bacteria;p__Campylobacterota;c__Campylobacteria;o__Campylobacterales;f__Helicobacteraceae;g__Helicobacter_A;s__Helicobacter_A bilis',\n",
       "       'd__Bacteria;p__Bacteroidota;c__Bacteroidia;o__Bacteroidales;f__Bacteroidaceae;g__Bacteroides;s__Bacteroides thetaiotaomicron',\n",
       "       'd__Bacteria;p__Bacteroidota;c__Bacteroidia;o__Bacteroidales;f__Bacteroidaceae;g__Bacteroides;s__Bacteroides uniformis',\n",
       "       'd__Bacteria;p__Bacteroidota;c__Bacteroidia;o__Bacteroidales;f__Bacteroidaceae;g__Phocaeicola;s__Phocaeicola sartorii',\n",
       "       'd__Bacteria;p__Firmicutes_A;c__Clostridia;o__Lachnospirales;f__Lachnospiraceae;g__14-2;s__14-2 sp000403255',\n",
       "       'd__Bacteria;p__Firmicutes_A;c__Clostridia;o__Lachnospirales;f__Lachnospiraceae;g__Schaedlerella;s__Schaedlerella sp000403295',\n",
       "       'd__Bacteria;p__Firmicutes_A;c__Clostridia;o__Lachnospirales;f__Lachnospiraceae;g__14-2;s__14-2 sp000403315',\n",
       "       'd__Bacteria;p__Firmicutes;c__Bacilli;o__Paenibacillales;f__Paenibacillaceae;g__Paenibacillus_A;s__Paenibacillus_A barengoltzii',\n",
       "       'd__Bacteria;p__Firmicutes;c__Bacilli;o__Erysipelotrichales;f__Erysipelotrichaceae;g__Dubosiella;s__Dubosiella sp000403415',\n",
       "       'd__Bacteria;p__Firmicutes_A;c__Clostridia;o__Lachnospirales;f__Lachnospiraceae;g__Dorea;s__Dorea sp000403455',\n",
       "       'd__Bacteria;p__Firmicutes_A;c__Clostridia;o__Lachnospirales;f__Lachnospiraceae;g__Dorea;s__Dorea sp000403475',\n",
       "       'd__Bacteria;p__Firmicutes_A;c__Clostridia;o__Lachnospirales;f__Lachnospiraceae;g__CAG-95;s__CAG-95 sp000403495',\n",
       "       'd__Bacteria;p__Firmicutes_A;c__Clostridia;o__Lachnospirales;f__Lachnospiraceae;g__14-2;s__14-2 sp000403845',\n",
       "       'd__Bacteria;p__Deferribacterota;c__Deferribacteres;o__Deferribacterales;f__Mucispirillaceae;g__Mucispirillum;s__Mucispirillum schaedleri',\n",
       "       'd__Bacteria;p__Firmicutes_A;c__Clostridia;o__Oscillospirales;f__Oscillospiraceae;g__Lawsonibacter;s__Lawsonibacter sp000492175',\n",
       "       'd__Bacteria;p__Proteobacteria;c__Gammaproteobacteria;o__Enterobacterales;f__Enterobacteriaceae;g__Klebsiella_A;s__Klebsiella_A oxytoca',\n",
       "       'd__Bacteria;p__Firmicutes_A;c__Clostridia;o__Oscillospirales;f__Oscillospiraceae;g__Flavonifractor;s__Flavonifractor plautii',\n",
       "       'd__Bacteria;p__Verrucomicrobiota;c__Verrucomicrobiae;o__Verrucomicrobiales;f__Akkermansiaceae;g__Akkermansia;s__Akkermansia muciniphila',\n",
       "       'd__Bacteria;p__Firmicutes;c__Bacilli;o__Erysipelotrichales;f__Erysipelotrichaceae;g__Ileibacterium;s__Ileibacterium valens',\n",
       "       'd__Bacteria;p__Firmicutes;c__Bacilli;o__Erysipelotrichales;f__Erysipelotrichaceae;g__Dubosiella;s__Dubosiella newyorkensis',\n",
       "       'd__Bacteria;p__Firmicutes;c__Bacilli;o__Erysipelotrichales;f__Erysipelatoclostridiaceae;g__Erysipelatoclostridium;s__Erysipelatoclostridium cocleatum',\n",
       "       'd__Bacteria;p__Firmicutes;c__Bacilli;o__Lactobacillales;f__Lactobacillaceae;g__Limosilactobacillus;s__Limosilactobacillus reuteri_D',\n",
       "       'd__Bacteria;p__Firmicutes;c__Bacilli;o__Lactobacillales;f__Lactobacillaceae;g__Limosilactobacillus;s__',\n",
       "       'd__Bacteria;p__Firmicutes;c__Bacilli;o__Erysipelotrichales;f__Erysipelotrichaceae;g__Longicatena;s__Longicatena innocuum',\n",
       "       'd__Bacteria;p__Bacteroidota;c__Bacteroidia;o__Bacteroidales;f__Bacteroidaceae;g__Prevotella;s__Prevotella sp004792655',\n",
       "       'd__Bacteria;p__Proteobacteria;c__Gammaproteobacteria;o__Enterobacterales;f__Pasteurellaceae;g__Rodentibacter;s__Rodentibacter heylii',\n",
       "       'd__Bacteria;p__Firmicutes_A;c__Clostridia;o__Lachnospirales;f__Lachnospiraceae;g__14-2;s__14-2 sp004793545',\n",
       "       'd__Bacteria;p__Bacteroidota;c__Bacteroidia;o__Bacteroidales;f__Tannerellaceae;g__Parabacteroides;s__Parabacteroides distasonis_A',\n",
       "       'd__Bacteria;p__Firmicutes_A;c__Clostridia;o__Clostridiales;f__Clostridiaceae;g__Clostridium_P;s__Clostridium_P perfringens',\n",
       "       'd__Bacteria;p__Actinobacteriota;c__Actinomycetia;o__Propionibacteriales;f__Propionibacteriaceae;g__Cutibacterium;s__Cutibacterium humerusii',\n",
       "       'd__Bacteria;p__Firmicutes;c__Bacilli;o__Erysipelotrichales;f__Erysipelotrichaceae;g__Dubosiella;s__Dubosiella sp004793885',\n",
       "       'd__Bacteria;p__Firmicutes;c__Bacilli;o__Lactobacillales;f__Enterococcaceae;g__Enterococcus_B;s__Enterococcus_B hirae',\n",
       "       'd__Bacteria;p__Actinobacteriota;c__Coriobacteriia;o__Coriobacteriales;f__Atopobiaceae;g__NM07-P-09;s__NM07-P-09 sp004793925',\n",
       "       'd__Bacteria;p__Proteobacteria;c__Gammaproteobacteria;o__Xanthomonadales;f__Xanthomonadaceae;g__Stenotrophomonas;s__Stenotrophomonas maltophilia_AO',\n",
       "       'd__Bacteria;p__Actinobacteriota;c__Actinomycetia;o__Actinomycetales;f__Microbacteriaceae;g__Microbacterium;s__Microbacterium sp003293595',\n",
       "       'd__Bacteria;p__Firmicutes_A;c__Clostridia;o__Clostridiales;f__Clostridiaceae;g__Clostridium;s__Clostridium sartagoforme_B',\n",
       "       'd__Bacteria;p__Bacteroidota;c__Bacteroidia;o__Bacteroidales;f__Bacteroidaceae;g__Bacteroides;s__Bacteroides faecichinchillae',\n",
       "       'd__Bacteria;p__Proteobacteria;c__Alphaproteobacteria;o__Sphingomonadales;f__Sphingomonadaceae;g__Sphingomonas;s__Sphingomonas olei',\n",
       "       'd__Bacteria;p__Proteobacteria;c__Gammaproteobacteria;o__Enterobacterales;f__Enterobacteriaceae;g__Klebsiella;s__Klebsiella variicola',\n",
       "       'd__Bacteria;p__Proteobacteria;c__Gammaproteobacteria;o__Enterobacterales;f__Enterobacteriaceae;g__Escherichia;s__Escherichia flexneri',\n",
       "       'd__Bacteria;p__Firmicutes_A;c__Clostridia;o__Clostridiales;f__Clostridiaceae;g__Clostridium;s__Clostridium chromiireducens',\n",
       "       'd__Bacteria;p__Actinobacteriota;c__Coriobacteriia;o__Coriobacteriales;f__Eggerthellaceae;g__Adlercreutzia;s__Adlercreutzia mucosicola',\n",
       "       'd__Bacteria;p__Firmicutes_A;c__Clostridia;o__Lachnospirales;f__Lachnospiraceae;g__TF01-11;s__TF01-11 sp003611745',\n",
       "       'd__Bacteria;p__Firmicutes_A;c__Clostridia;o__Clostridiales;f__Clostridiaceae;g__Clostridium;s__Clostridium paraputrificum',\n",
       "       'd__Bacteria;p__Firmicutes_A;c__Clostridia;o__Lachnospirales;f__Lachnospiraceae;g__1XD8-76;s__1XD8-76 sp003611955',\n",
       "       'd__Bacteria;p__Firmicutes;c__Bacilli;o__Bacillales;f__Bacillaceae_G;g__Bacillus_A;s__Bacillus_A thuringiensis',\n",
       "       'd__Bacteria;p__Firmicutes_A;c__Clostridia;o__Lachnospirales;f__Lachnospiraceae;g__TF01-11;s__TF01-11 sp003612285',\n",
       "       'd__Bacteria;p__Firmicutes_A;c__Clostridia;o__Oscillospirales;f__Oscillospiraceae;g__Lawsonibacter;s__Lawsonibacter sp003612335',\n",
       "       'd__Bacteria;p__Firmicutes_A;c__Clostridia;o__Lachnospirales;f__Lachnospiraceae;g__CAG-95;s__CAG-95 sp003612395',\n",
       "       'd__Bacteria;p__Firmicutes_A;c__Clostridia;o__Lachnospirales;f__Lachnospiraceae;g__UBA3282;s__UBA3282 sp003612405',\n",
       "       'd__Bacteria;p__Actinobacteriota;c__Coriobacteriia;o__Coriobacteriales;f__Eggerthellaceae;g__D16-63;s__D16-63 sp003612475',\n",
       "       'd__Bacteria;p__Actinobacteriota;c__Coriobacteriia;o__Coriobacteriales;f__Eggerthellaceae;g__D16-34;s__D16-34 sp003612515',\n",
       "       'd__Bacteria;p__Firmicutes_A;c__Clostridia;o__Lachnospirales;f__Lachnospiraceae;g__C-53;s__C-53 sp003612525',\n",
       "       'd__Bacteria;p__Firmicutes_A;c__Clostridia;o__Oscillospirales;f__Acutalibacteraceae;g__Acutalibacter;s__Acutalibacter sp003612555',\n",
       "       'd__Bacteria;p__Firmicutes_A;c__Clostridia;o__Lachnospirales;f__Lachnospiraceae;g__UBA7160;s__UBA7160 sp003612585',\n",
       "       'd__Bacteria;p__Firmicutes;c__Bacilli;o__Bacillales;f__Amphibacillaceae;g__Virgibacillus;s__Virgibacillus sp003612345',\n",
       "       'd__Bacteria;p__Bacteroidota;c__Bacteroidia;o__Bacteroidales;f__Bacteroidaceae;g__Bacteroides;s__Bacteroides ovatus',\n",
       "       'd__Bacteria;p__Firmicutes_A;c__Clostridia;o__Lachnospirales;f__Lachnospiraceae;g__Muricomes;s__Muricomes sp000509105',\n",
       "       'd__Bacteria;p__Firmicutes;c__Bacilli;o__Lactobacillales;f__Lactobacillaceae;g__Lactobacillus;s__Lactobacillus taiwanensis',\n",
       "       'd__Bacteria;p__Bacteroidota;c__Bacteroidia;o__Bacteroidales;f__Rikenellaceae;g__Alistipes;s__Alistipes onderdonkii',\n",
       "       'd__Bacteria;p__Proteobacteria;c__Gammaproteobacteria;o__Enterobacterales;f__Pasteurellaceae;g__Rodentibacter;s__Rodentibacter pneumotropicus',\n",
       "       'd__Bacteria;p__Firmicutes_A;c__Clostridia;o__Lachnospirales;f__Lachnospiraceae;g__CAG-95;s__',\n",
       "       'd__Bacteria;p__Firmicutes_A;c__Clostridia;o__Lachnospirales;f__Lachnospiraceae;g__Kineothrix;s__',\n",
       "       'd__Bacteria;p__Firmicutes_A;c__Clostridia;o__Lachnospirales;f__Lachnospiraceae;g__UBA9502;s__UBA9502 sp003669055',\n",
       "       'd__Bacteria;p__Firmicutes_A;c__Clostridia;o__Tissierellales;f__SIT17;g__Senegalia;s__',\n",
       "       'd__Bacteria;p__Firmicutes_A;c__Clostridia;o__Oscillospirales;f__Butyricicoccaceae;g__;s__',\n",
       "       'd__Bacteria;p__Firmicutes;c__Bacilli;o__Lactobacillales;f__Enterococcaceae;g__Enterococcus_A;s__Enterococcus_A xiangfangensis',\n",
       "       'd__Bacteria;p__Firmicutes_A;c__Clostridia;o__Peptostreptococcales;f__Peptostreptococcaceae;g__Clostridioides;s__Clostridioides difficile',\n",
       "       'd__Bacteria;p__Firmicutes;c__Bacilli;o__Bacillales;f__Bacillaceae_A;g__Bacillus_AK;s__',\n",
       "       'd__Bacteria;p__Firmicutes_A;c__Clostridia;o__Oscillospirales;f__Oscillospiraceae;g__Flavonifractor;s__',\n",
       "       'd__Bacteria;p__Bacteroidota;c__Bacteroidia;o__Bacteroidales;f__Marinifilaceae;g__Odoribacter;s__',\n",
       "       'd__Bacteria;p__Firmicutes;c__Bacilli;o__Haloplasmatales;f__Turicibacteraceae;g__Turicibacter;s__Turicibacter sp002311155',\n",
       "       'd__Bacteria;p__Firmicutes;c__Bacilli;o__Lactobacillales;f__Enterococcaceae;g__Enterococcus_C;s__Enterococcus_C asini',\n",
       "       'd__Bacteria;p__Firmicutes_A;c__Clostridia;o__Lachnospirales;f__Lachnospiraceae;g__Muricomes;s__Muricomes intestini',\n",
       "       'd__Bacteria;p__Firmicutes_A;c__Clostridia;o__Lachnospirales;f__Lachnospiraceae;g__Cuneatibacter;s__Cuneatibacter caecimuris',\n",
       "       'd__Bacteria;p__Firmicutes_A;c__Clostridia;o__Lachnospirales;f__Lachnospiraceae;g__Dorea;s__Dorea muris',\n",
       "       'd__Bacteria;p__Firmicutes;c__Bacilli;o__Erysipelotrichales;f__Erysipelatoclostridiaceae;g__Longibaculum;s__Longibaculum muris',\n",
       "       'd__Bacteria;p__Firmicutes;c__Bacilli;o__Paenibacillales;f__Paenibacillaceae;g__Paenibacillus;s__Paenibacillus amylolyticus',\n",
       "       'd__Bacteria;p__Firmicutes_A;c__Clostridia;o__Lachnospirales;f__Lachnospiraceae;g__Frisingicoccus;s__Frisingicoccus caecimuris',\n",
       "       'd__Bacteria;p__Firmicutes_A;c__Clostridia;o__Lachnospirales;f__Lachnospiraceae;g__Blautia_A;s__Blautia_A sp000433815',\n",
       "       'd__Bacteria;p__Actinobacteriota;c__Actinomycetia;o__Actinomycetales;f__Actinomycetaceae;g__Actinomyces;s__',\n",
       "       'd__Bacteria;p__Firmicutes_A;c__Clostridia;o__Eubacteriales;f__Garciellaceae;g__;s__',\n",
       "       'd__Bacteria;p__Firmicutes_A;c__Clostridia;o__Lachnospirales;f__Lachnospiraceae;g__Enterocloster;s__Enterocloster bolteae',\n",
       "       'd__Bacteria;p__Bacteroidota;c__Bacteroidia;o__Bacteroidales;f__Bacteroidaceae;g__Bacteroides;s__Bacteroides xylanisolvens',\n",
       "       'd__Bacteria;p__Firmicutes_A;c__Clostridia;o__Peptostreptococcales;f__Peptostreptococcaceae;g__Paraclostridium;s__Paraclostridium bifermentans',\n",
       "       'd__Bacteria;p__Firmicutes;c__Bacilli;o__Erysipelotrichales;f__Erysipelotrichaceae;g__Longicatena;s__Longicatena caecimuris',\n",
       "       'd__Bacteria;p__Firmicutes_A;c__Clostridia;o__Lachnospirales;f__Lachnospiraceae;g__Clostridium_Q;s__Clostridium_Q symbiosum',\n",
       "       'd__Bacteria;p__Firmicutes_A;c__Clostridia;o__Clostridiales;f__Clostridiaceae;g__Clostridium_F;s__Clostridium_F tepidum',\n",
       "       'd__Bacteria;p__Firmicutes;c__Bacilli;o__Erysipelotrichales;f__Erysipelatoclostridiaceae;g__Erysipelatoclostridium;s__Erysipelatoclostridium ramosum',\n",
       "       'd__Bacteria;p__Firmicutes_A;c__Clostridia;o__Tissierellales;f__Sporanaerobacteraceae;g__Anaerosalibacter_A;s__Anaerosalibacter_A massiliensis',\n",
       "       'd__Bacteria;p__Firmicutes;c__Bacilli;o__Bacillales;f__Amphibacillaceae;g__Oceanobacillus;s__Oceanobacillus caeni',\n",
       "       'd__Bacteria;p__Firmicutes_A;c__Clostridia;o__Lachnospirales;f__Lachnospiraceae;g__Acetatifactor;s__Acetatifactor muris',\n",
       "       'd__Bacteria;p__Firmicutes_A;c__Clostridia;o__Peptostreptococcales;f__Peptostreptococcaceae;g__Paeniclostridium;s__Paeniclostridium sordellii',\n",
       "       'd__Bacteria;p__Firmicutes;c__Bacilli;o__Bacillales;f__Bacillaceae_G;g__Bacillus_A;s__Bacillus_A cereus',\n",
       "       'd__Bacteria;p__Firmicutes_A;c__Clostridia;o__Clostridiales;f__Clostridiaceae;g__Clostridium;s__',\n",
       "       'd__Bacteria;p__Firmicutes_A;c__Clostridia;o__Clostridiales;f__Clostridiaceae;g__Clostridium_G;s__Clostridium_G cochlearium',\n",
       "       'd__Bacteria;p__Firmicutes;c__Bacilli;o__Lactobacillales;f__Lactobacillaceae;g__Lactobacillus;s__Lactobacillus rodentium',\n",
       "       'd__Bacteria;p__Firmicutes_A;c__Clostridia;o__Oscillospirales;f__Oscillospiraceae;g__Intestinimonas;s__Intestinimonas butyriciproducens',\n",
       "       'd__Bacteria;p__Firmicutes_A;c__Clostridia;o__Lachnospirales;f__Lachnospiraceae;g__UBA7050;s__UBA7050 sp003979345',\n",
       "       'd__Bacteria;p__Bacteroidota;c__Bacteroidia;o__Bacteroidales;f__Muribaculaceae;g__Duncaniella;s__',\n",
       "       'd__Bacteria;p__Bacteroidota;c__Bacteroidia;o__Bacteroidales;f__Muribaculaceae;g__Muribaculum;s__Muribaculum arabinoxylanisolvens',\n",
       "       'd__Bacteria;p__Bacteroidota;c__Bacteroidia;o__Bacteroidales;f__Muribaculaceae;g__CAG-873;s__',\n",
       "       'd__Bacteria;p__Firmicutes_A;c__Clostridia_A;o__Christensenellales;f__Borkfalkiaceae;g__UBA11940;s__',\n",
       "       'd__Bacteria;p__Bacteroidota;c__Bacteroidia;o__Bacteroidales;f__Bacteroidaceae;g__Prevotella;s__Prevotella sp002933775',\n",
       "       'd__Bacteria;p__Bacteroidota;c__Bacteroidia;o__Bacteroidales;f__Rikenellaceae;g__Rikenella;s__',\n",
       "       'd__Bacteria;p__Firmicutes_A;c__Clostridia;o__Oscillospirales;f__Ruminococcaceae;g__Ruthenibacterium;s__',\n",
       "       'd__Bacteria;p__Bacteroidota;c__Bacteroidia;o__Bacteroidales;f__Muribaculaceae;g__CAG-485;s__CAG-485 sp002361155',\n",
       "       'd__Bacteria;p__Firmicutes_A;c__Clostridia;o__Lachnospirales;f__Lachnospiraceae;g__CAG-303;s__',\n",
       "       'd__Bacteria;p__Bacteroidota;c__Bacteroidia;o__Bacteroidales;f__Muribaculaceae;g__UBA7173;s__UBA7173 sp001689485',\n",
       "       'd__Bacteria;p__Firmicutes_A;c__Clostridia;o__Lachnospirales;f__Lachnospiraceae;g__COE1;s__',\n",
       "       'd__Bacteria;p__Desulfobacterota;c__Desulfovibrionia;o__Desulfovibrionales;f__Desulfovibrionaceae;g__Mailhella;s__Mailhella sp003512875',\n",
       "       'd__Bacteria;p__Firmicutes_A;c__Clostridia_A;o__Christensenellales;f__UBA3700;g__;s__',\n",
       "       'd__Bacteria;p__Bacteroidota;c__Bacteroidia;o__Bacteroidales;f__Muribaculaceae;g__Duncaniella;s__Duncaniella sp002492665',\n",
       "       'd__Bacteria;p__Bacteroidota;c__Bacteroidia;o__Bacteroidales;f__Muribaculaceae;g__;s__',\n",
       "       'd__Bacteria;p__Firmicutes_A;c__Clostridia;o__Lachnospirales;f__Lachnospiraceae;g__CAG-632;s__',\n",
       "       'd__Bacteria;p__Bacteroidota;c__Bacteroidia;o__Bacteroidales;f__UBA932;g__RC9;s__',\n",
       "       'd__Bacteria;p__Firmicutes_A;c__Clostridia;o__Lachnospirales;f__Lachnospiraceae;g__CAG-510;s__',\n",
       "       'd__Bacteria;p__Bacteroidota;c__Bacteroidia;o__Bacteroidales;f__Rikenellaceae;g__Tidjanibacter;s__',\n",
       "       'd__Bacteria;p__Bacteroidota;c__Bacteroidia;o__Bacteroidales;f__Muribaculaceae;g__CAG-873;s__CAG-873 sp002490635',\n",
       "       'd__Bacteria;p__Firmicutes_A;c__Clostridia;o__Lachnospirales;f__Lachnospiraceae;g__Butyrivibrio_A;s__',\n",
       "       'd__Bacteria;p__Firmicutes;c__Bacilli;o__RF39;f__CAG-1000;g__UBA11963;s__',\n",
       "       'd__Bacteria;p__Firmicutes_A;c__Clostridia;o__Oscillospirales;f__Acutalibacteraceae;g__Eubacterium_R;s__',\n",
       "       'd__Bacteria;p__Bacteroidota;c__Bacteroidia;o__Bacteroidales;f__Tannerellaceae;g__Parabacteroides;s__',\n",
       "       'd__Bacteria;p__Bacteroidota;c__Bacteroidia;o__Bacteroidales;f__Muribaculaceae;g__UBA7173;s__UBA7173 sp900548705',\n",
       "       'd__Bacteria;p__Firmicutes_A;c__Clostridia;o__Oscillospirales;f__Ruminococcaceae;g__Ruminococcus;s__',\n",
       "       'd__Bacteria;p__Bacteroidota;c__Bacteroidia;o__Bacteroidales;f__Muribaculaceae;g__CAG-873;s__CAG-873 sp001689665',\n",
       "       'd__Bacteria;p__Bacteroidota;c__Bacteroidia;o__Bacteroidales;f__Muribaculaceae;g__UBA3263;s__UBA3263 sp001689615',\n",
       "       'd__Bacteria;p__Firmicutes;c__Bacilli;o__RF39;f__CAG-1000;g__CAG-582;s__',\n",
       "       'd__Bacteria;p__Firmicutes_A;c__Clostridia;o__Lachnospirales;f__Lachnospiraceae;g__G11;s__',\n",
       "       'd__Bacteria;p__Firmicutes_A;c__Clostridia;o__Lachnospirales;f__Lachnospiraceae;g__COE1;s__COE1 sp002490665',\n",
       "       'd__Bacteria;p__Firmicutes_A;c__Clostridia;o__Lachnospirales;f__Lachnospiraceae;g__CAG-45;s__',\n",
       "       'd__Bacteria;p__Firmicutes_A;c__Clostridia;o__Oscillospirales;f__Ruminococcaceae;g__CAG-115;s__',\n",
       "       'd__Bacteria;p__Firmicutes_A;c__Clostridia;o__Lachnospirales;f__Lachnospiraceae;g__CAG-590;s__',\n",
       "       'd__Bacteria;p__Firmicutes_A;c__Clostridia_A;o__Christensenellales;f__CAG-552;g__;s__',\n",
       "       'd__Bacteria;p__Firmicutes;c__Bacilli;o__Erysipelotrichales;f__Erysipelotrichaceae;g__Dubosiella;s__',\n",
       "       'd__Bacteria;p__Firmicutes;c__Bacilli;o__Erysipelotrichales;f__Erysipelotrichaceae;g__Allobaculum;s__',\n",
       "       'd__Bacteria;p__Bacteroidota;c__Bacteroidia;o__Bacteroidales;f__UBA932;g__RC9;s__RC9 sp002298075',\n",
       "       'd__Bacteria;p__Bacteroidota;c__Bacteroidia;o__Bacteroidales;f__Bacteroidaceae;g__Phocaeicola;s__Phocaeicola sp002493165',\n",
       "       'd__Bacteria;p__Bacteroidota;c__Bacteroidia;o__Bacteroidales;f__Muribaculaceae;g__CAG-485;s__',\n",
       "       'd__Bacteria;p__Bacteroidota;c__Bacteroidia;o__Bacteroidales;f__Muribaculaceae;g__UBA7173;s__UBA7173 sp001915385',\n",
       "       'd__Bacteria;p__Bacteroidota;c__Bacteroidia;o__Bacteroidales;f__Muribaculaceae;g__Paramuribaculum;s__',\n",
       "       'd__Bacteria;p__Proteobacteria;c__Alphaproteobacteria;o__RF32;f__CAG-239;g__51-20;s__',\n",
       "       'd__Bacteria;p__Firmicutes_A;c__Clostridia;o__Lachnospirales;f__Lachnospiraceae;g__An181;s__',\n",
       "       'd__Bacteria;p__Firmicutes_A;c__Clostridia;o__Lachnospirales;f__Lachnospiraceae;g__COE1;s__COE1 sp000403215',\n",
       "       'd__Bacteria;p__Bacteroidota;c__Bacteroidia;o__Bacteroidales;f__Muribaculaceae;g__Paramuribaculum;s__Paramuribaculum sp900553585',\n",
       "       'd__Bacteria;p__Bacteroidota;c__Bacteroidia;o__Bacteroidales;f__Bacteroidaceae;g__Bacteroides;s__Bacteroides intestinalis',\n",
       "       'd__Bacteria;p__Desulfobacterota;c__Desulfovibrionia;o__Desulfovibrionales;f__Desulfovibrionaceae;g__Mailhella;s__',\n",
       "       'd__Bacteria;p__Firmicutes_A;c__Clostridia;o__Oscillospirales;f__Ruminococcaceae;g__Angelakisella;s__',\n",
       "       'd__Bacteria;p__Proteobacteria;c__Gammaproteobacteria;o__Burkholderiales;f__Burkholderiaceae;g__Parasutterella;s__Parasutterella sp900552195',\n",
       "       'd__Bacteria;p__Firmicutes_A;c__Clostridia;o__Lachnospirales;f__Lachnospiraceae;g__Acetatifactor;s__Acetatifactor sp003612485',\n",
       "       'd__Bacteria;p__Firmicutes_A;c__Clostridia;o__Oscillospirales;f__Oscillospiraceae;g__;s__',\n",
       "       'd__Bacteria;p__Bacteroidota;c__Bacteroidia;o__Bacteroidales;f__Rikenellaceae;g__Alistipes;s__Alistipes sp002428825',\n",
       "       'd__Bacteria;p__Firmicutes_A;c__Clostridia;o__Oscillospirales;f__Oscillospiraceae;g__Marseille-P3106;s__',\n",
       "       'd__Bacteria;p__Firmicutes_A;c__Clostridia;o__Lachnospirales;f__Lachnospiraceae;g__CAG-510;s__CAG-510 sp003979355',\n",
       "       'd__Bacteria;p__Firmicutes_A;c__Clostridia_A;o__Christensenellales;f__UBA3700;g__UBA3700;s__',\n",
       "       'd__Bacteria;p__Bacteroidota;c__Bacteroidia;o__Bacteroidales;f__Bacteroidaceae;g__Bacteroides;s__Bacteroides congonensis',\n",
       "       'd__Bacteria;p__Bacteroidota;c__Bacteroidia;o__Bacteroidales;f__Rikenellaceae;g__Alistipes;s__Alistipes finegoldii',\n",
       "       'd__Bacteria;p__Firmicutes_A;c__Clostridia;o__Oscillospirales;f__Oscillospiraceae;g__UMGS1872;s__',\n",
       "       'd__Bacteria;p__Firmicutes_A;c__Clostridia;o__Lachnospirales;f__Lachnospiraceae;g__COE1;s__COE1 sp002358575',\n",
       "       'd__Bacteria;p__Firmicutes;c__Bacilli;o__Lactobacillales;f__Streptococcaceae;g__Lactococcus;s__Lactococcus lactis',\n",
       "       'd__Bacteria;p__Firmicutes_A;c__Clostridia;o__Peptostreptococcales;f__Peptostreptococcaceae;g__Romboutsia;s__Romboutsia ilealis',\n",
       "       'd__Bacteria;p__Firmicutes_A;c__Clostridia;o__Lachnospirales;f__Lachnospiraceae;g__CAG-603;s__',\n",
       "       'd__Bacteria;p__Firmicutes_A;c__Clostridia_A;o__Christensenellales;f__Borkfalkiaceae;g__UBA11940;s__UBA11940 sp003979335',\n",
       "       'd__Bacteria;p__Firmicutes_A;c__Clostridia;o__Oscillospirales;f__Ruminococcaceae;g__UBA946;s__',\n",
       "       'd__Bacteria;p__Verrucomicrobiota;c__Verrucomicrobiae;o__Verrucomicrobiales;f__Akkermansiaceae;g__Akkermansia;s__Akkermansia muciniphila_A',\n",
       "       'd__Bacteria;p__Firmicutes_A;c__Clostridia;o__Clostridiales;f__Savagellaceae;g__Savagella;s__Savagella sp000270205',\n",
       "       'd__Bacteria;p__Bacteroidota;c__Bacteroidia;o__Bacteroidales;f__Muribaculaceae;g__CAG-485;s__CAG-485 sp002491945',\n",
       "       'd__Bacteria;p__Bacteroidota;c__Bacteroidia;o__Bacteroidales;f__Muribaculaceae;g__Duncaniella;s__Duncaniella sp001689495',\n",
       "       'd__Bacteria;p__Firmicutes_A;c__Clostridia;o__Lachnospirales;f__Lachnospiraceae;g__Blautia_A;s__Blautia_A sp900551075',\n",
       "       'd__Bacteria;p__Actinobacteriota;c__Coriobacteriia;o__Coriobacteriales;f__Eggerthellaceae;g__D16-63;s__',\n",
       "       'd__Bacteria;p__Firmicutes;c__Bacilli;o__RF39;f__CAG-822;g__;s__',\n",
       "       'd__Bacteria;p__Bacteroidota;c__Bacteroidia;o__Bacteroidales;f__Muribaculaceae;g__CAG-485;s__CAG-485 sp002493515',\n",
       "       'd__Bacteria;p__Firmicutes;c__Bacilli;o__RF39;f__CAG-611;g__UBA2730;s__',\n",
       "       'd__Bacteria;p__Spirochaetota;c__Spirochaetia;o__Treponematales;f__Treponemataceae;g__Treponema_D;s__',\n",
       "       'd__Bacteria;p__Firmicutes;c__Bacilli;o__RF39;f__CAG-822;g__UBA5026;s__',\n",
       "       'd__Bacteria;p__Bacteroidota;c__Bacteroidia;o__Bacteroidales;f__Bacteroidaceae;g__Prevotella;s__',\n",
       "       'd__Bacteria;p__Bacteroidota;c__Bacteroidia;o__Bacteroidales;f__Muribaculaceae;g__CAG-485;s__CAG-485 sp001701295',\n",
       "       'd__Bacteria;p__Firmicutes_A;c__Clostridia;o__Oscillospirales;f__Ruminococcaceae;g__Ruminococcus;s__Ruminococcus sp002362135',\n",
       "       'd__Bacteria;p__Bacteroidota;c__Bacteroidia;o__Bacteroidales;f__Muribaculaceae;g__UBA7173;s__UBA7173 sp900555165',\n",
       "       'd__Bacteria;p__Proteobacteria;c__Alphaproteobacteria;o__RF32;f__CAG-239;g__CAG-495;s__',\n",
       "       'd__Bacteria;p__Bacteroidota;c__Bacteroidia;o__Bacteroidales;f__Muribaculaceae;g__Amulumruptor;s__Amulumruptor sp900539915',\n",
       "       'd__Bacteria;p__Elusimicrobiota;c__Elusimicrobia;o__Elusimicrobiales;f__Elusimicrobiaceae;g__UBA1436;s__',\n",
       "       'd__Bacteria;p__Proteobacteria;c__Alphaproteobacteria;o__RF32;f__CAG-239;g__CAG-267;s__',\n",
       "       'd__Bacteria;p__Bacteroidota;c__Bacteroidia;o__Bacteroidales;f__Muribaculaceae;g__CAG-485;s__CAG-485 sp003979075',\n",
       "       'd__Bacteria;p__Bacteroidota;c__Bacteroidia;o__Bacteroidales;f__Muribaculaceae;g__CAG-873;s__CAG-873 sp900550395',\n",
       "       'd__Bacteria;p__Firmicutes_A;c__Clostridia;o__Lachnospirales;f__Lachnospiraceae;g__COE1;s__COE1 sp003513705',\n",
       "       'd__Bacteria;p__Bacteroidota;c__Bacteroidia;o__Bacteroidales;f__Bacteroidaceae;g__Prevotellamassilia;s__',\n",
       "       'd__Bacteria;p__Proteobacteria;c__Gammaproteobacteria;o__Pseudomonadales;f__Pseudomonadaceae;g__Pseudomonas_E;s__Pseudomonas_E fluorescens_BA',\n",
       "       'd__Bacteria;p__Firmicutes_A;c__Clostridia_A;o__Christensenellales;f__CAG-314;g__CAG-1435;s__',\n",
       "       'd__Bacteria;p__Campylobacterota;c__Campylobacteria;o__Campylobacterales;f__Helicobacteraceae;g__Helicobacter_C;s__',\n",
       "       'd__Bacteria;p__Proteobacteria;c__Alphaproteobacteria;o__RF32;f__CAG-239;g__CAG-495;s__CAG-495 sp900538765',\n",
       "       'd__Bacteria;p__Firmicutes_A;c__Clostridia;o__Oscillospirales;f__CAG-272;g__UMGS1815;s__',\n",
       "       'd__Bacteria;p__Bacteroidota;c__Bacteroidia;o__Bacteroidales;f__Tannerellaceae;g__Parabacteroides;s__Parabacteroides merdae',\n",
       "       'd__Bacteria;p__Firmicutes_A;c__Clostridia;o__Lachnospirales;f__Lachnospiraceae;g__Hungatella_A;s__Hungatella_A sp002358555',\n",
       "       'd__Bacteria;p__Firmicutes_A;c__Clostridia;o__Oscillospirales;f__Acutalibacteraceae;g__UMGS1071;s__',\n",
       "       'd__Bacteria;p__Bacteroidota;c__Bacteroidia;o__Bacteroidales;f__Rikenellaceae;g__Alistipes;s__Alistipes sp002358415',\n",
       "       'd__Bacteria;p__Bacteroidota;c__Bacteroidia;o__Bacteroidales;f__Rikenellaceae;g__Alistipes;s__Alistipes sp003979135',\n",
       "       'd__Bacteria;p__Bacteroidota;c__Bacteroidia;o__Bacteroidales;f__Muribaculaceae;g__Duncaniella;s__Duncaniella sp002494015',\n",
       "       'd__Bacteria;p__Firmicutes_A;c__Clostridia;o__Oscillospirales;f__Ruminococcaceae;g__UBA1394;s__',\n",
       "       'd__Bacteria;p__Firmicutes_A;c__Clostridia;o__Monoglobales_A;f__UBA1381;g__;s__',\n",
       "       'd__Bacteria;p__Bacteroidota;c__Bacteroidia;o__Bacteroidales;f__Muribaculaceae;g__UBA7173;s__UBA7173 sp004102805',\n",
       "       'd__Bacteria;p__Campylobacterota;c__Campylobacteria;o__Campylobacterales;f__Helicobacteraceae;g__Helicobacter_C;s__Helicobacter_C typhlonius',\n",
       "       'd__Bacteria;p__Firmicutes;c__Bacilli;o__Acholeplasmatales;f__Anaeroplasmataceae;g__UMGS268;s__',\n",
       "       'd__Bacteria;p__Bacteroidota;c__Bacteroidia;o__Bacteroidales;f__Bacteroidaceae;g__Prevotella;s__Prevotella sp002298815',\n",
       "       'd__Bacteria;p__Deferribacterota;c__Deferribacteres;o__Deferribacterales;f__Mucispirillaceae;g__Mucispirillum;s__',\n",
       "       'd__Bacteria;p__Campylobacterota;c__Campylobacteria;o__Campylobacterales;f__Helicobacteraceae;g__Helicobacter_D;s__Helicobacter_D ganmani',\n",
       "       'd__Bacteria;p__Firmicutes_A;c__Clostridia_A;o__Christensenellales;f__Borkfalkiaceae;g__;s__',\n",
       "       'd__Bacteria;p__Firmicutes_A;c__Clostridia;o__Lachnospirales;f__Lachnospiraceae;g__1XD42-69;s__1XD42-69 sp003612565',\n",
       "       'd__Bacteria;p__Bacteroidota;c__Bacteroidia;o__Bacteroidales;f__Muribaculaceae;g__Muribaculum;s__',\n",
       "       'd__Bacteria;p__Cyanobacteria;c__Vampirovibrionia;o__Gastranaerophilales;f__;g__;s__',\n",
       "       'd__Bacteria;p__Campylobacterota;c__Campylobacteria;o__Campylobacterales;f__Helicobacteraceae;g__Helicobacter_C;s__Helicobacter_C hepaticus',\n",
       "       'd__Bacteria;p__Firmicutes_A;c__Clostridia;o__Oscillospirales;f__Ruminococcaceae;g__;s__',\n",
       "       'd__Bacteria;p__Campylobacterota;c__Campylobacteria;o__Campylobacterales;f__Helicobacteraceae;g__Helicobacter_C;s__Helicobacter_C magdeburgensis',\n",
       "       'd__Bacteria;p__Firmicutes;c__Bacilli;o__Acholeplasmatales;f__Anaeroplasmataceae;g__UMGS268;s__UMGS268 sp900540705',\n",
       "       'd__Bacteria;p__Bacteroidota;c__Bacteroidia;o__Bacteroidales;f__P3;g__;s__',\n",
       "       'd__Bacteria;p__Campylobacterota;c__Campylobacteria;o__Campylobacterales;f__Helicobacteraceae;g__Helicobacter_D;s__Helicobacter_D apodemus',\n",
       "       'd__Bacteria;p__Firmicutes;c__Bacilli;o__Mycoplasmatales;f__Metamycoplasmataceae;g__UBA710;s__UBA710 sp002298905',\n",
       "       'd__Bacteria;p__Bacteroidota;c__Bacteroidia;o__Bacteroidales;f__Bacteroidaceae;g__Bacteroides;s__',\n",
       "       'd__Bacteria;p__Bacteroidota;c__Bacteroidia;o__Bacteroidales;f__Bacteroidaceae;g__Prevotellamassilia;s__Prevotellamassilia sp002933955',\n",
       "       'd__Bacteria;p__Firmicutes;c__Bacilli;o__Mycoplasmatales;f__Mycoplasmoidaceae;g__Ureaplasma;s__',\n",
       "       'd__Bacteria;p__Firmicutes_A;c__Clostridia;o__Oscillospirales;f__Ruminococcaceae;g__Ruminiclostridium_E;s__',\n",
       "       'd__Bacteria;p__Firmicutes_A;c__Clostridia;o__Lachnospirales;f__Lachnospiraceae;g__Lachnospira;s__',\n",
       "       'd__Bacteria;p__Firmicutes_A;c__Clostridia;o__Lachnospirales;f__Lachnospiraceae;g__Roseburia;s__',\n",
       "       'd__Bacteria;p__Firmicutes_A;c__Clostridia_A;o__Christensenellales;f__CAG-917;g__CAG-475;s__',\n",
       "       'd__Bacteria;p__Proteobacteria;c__Gammaproteobacteria;o__Enterobacterales;f__Enterobacteriaceae;g__Escherichia;s__Escherichia sp000208585',\n",
       "       'd__Bacteria;p__Firmicutes;c__Bacilli;o__Erysipelotrichales;f__Erysipelatoclostridiaceae;g__CHKCI006;s__',\n",
       "       'd__Bacteria;p__Firmicutes_A;c__Clostridia_A;o__Christensenellales;f__Borkfalkiaceae;g__UMGS1004;s__',\n",
       "       'd__Bacteria;p__Campylobacterota;c__Campylobacteria;o__Campylobacterales;f__Helicobacteraceae;g__Helicobacter_D;s__Helicobacter_D rodentium',\n",
       "       'd__Bacteria;p__Actinobacteriota;c__Coriobacteriia;o__Coriobacteriales;f__Atopobiaceae;g__;s__',\n",
       "       'd__Bacteria;p__Firmicutes;c__Bacilli;o__Lactobacillales;f__Lactobacillaceae;g__Lactobacillus;s__',\n",
       "       'd__Bacteria;p__Firmicutes;c__Bacilli;o__Lactobacillales;f__Streptococcaceae;g__Lactococcus;s__Lactococcus lactis_E',\n",
       "       'd__Bacteria;p__Firmicutes;c__Bacilli;o__RF39;f__CAG-1000;g__UMGS1217;s__',\n",
       "       'd__Bacteria;p__Firmicutes_A;c__Clostridia;o__Monoglobales_A;f__UBA1381;g__CAG-41;s__',\n",
       "       'd__Bacteria;p__Firmicutes_A;c__Clostridia;o__Oscillospirales;f__Acutalibacteraceae;g__CAG-180;s__CAG-180 sp900540295',\n",
       "       'd__Bacteria;p__Firmicutes;c__Bacilli;o__Lactobacillales;f__Lactobacillaceae;g__Leuconostoc;s__Leuconostoc citreum',\n",
       "       'd__Bacteria;p__Firmicutes;c__Bacilli;o__Lactobacillales;f__Lactobacillaceae;g__Weissella;s__Weissella confusa',\n",
       "       'd__Bacteria;p__Firmicutes;c__Bacilli;o__Staphylococcales;f__Staphylococcaceae;g__Staphylococcus_A;s__Staphylococcus_A sciuri',\n",
       "       'd__Bacteria;p__Firmicutes;c__Bacilli;o__RF39;f__CAG-822;g__UMGS1648;s__',\n",
       "       'd__Bacteria;p__Bacteroidota;c__Bacteroidia;o__Bacteroidales;f__Bacteroidaceae;g__Phocaeicola;s__Phocaeicola dorei',\n",
       "       'd__Bacteria;p__Firmicutes_A;c__Clostridia;o__Oscillospirales;f__Ruminococcaceae;g__UBA7177;s__',\n",
       "       'd__Bacteria;p__Firmicutes_A;c__Clostridia;o__Oscillospirales;f__Ruminococcaceae;g__UBA3818;s__',\n",
       "       'd__Bacteria;p__Proteobacteria;c__Gammaproteobacteria;o__Burkholderiales;f__Burkholderiaceae;g__Parasutterella;s__Parasutterella excrementihominis',\n",
       "       'd__Bacteria;p__Bacteroidota;c__Bacteroidia;o__Bacteroidales;f__Muribaculaceae;g__CAG-873;s__CAG-873 sp003979155',\n",
       "       'd__Bacteria;p__Bacteroidota;c__Bacteroidia;o__Bacteroidales;f__Muribaculaceae;g__UBA3263;s__',\n",
       "       'd__Bacteria;p__Firmicutes;c__Bacilli;o__RF39;f__CAG-1000;g__CAG-776;s__',\n",
       "       'd__Bacteria;p__Firmicutes_A;c__Clostridia;o__Oscillospirales;f__Butyricicoccaceae;g__AM07-15;s__',\n",
       "       'd__Bacteria;p__Bacteroidota;c__Bacteroidia;o__Bacteroidales;f__Muribaculaceae;g__CAG-873;s__CAG-873 sp001689415',\n",
       "       'd__Bacteria;p__Bacteroidota;c__Bacteroidia;o__Bacteroidales;f__Muribaculaceae;g__CAG-873;s__CAG-873 sp002493945',\n",
       "       'd__Bacteria;p__Firmicutes;c__Bacilli;o__Staphylococcales;f__Salinicoccaceae;g__Jeotgalicoccus;s__Jeotgalicoccus nanhaiensis',\n",
       "       'd__Bacteria;p__Bacteroidota;c__Bacteroidia;o__Bacteroidales;f__Muribaculaceae;g__Amulumruptor;s__Amulumruptor sp001689515',\n",
       "       'd__Bacteria;p__Spirochaetota;c__Brachyspirae;o__Brachyspirales;f__Brachyspiraceae;g__Brachyspira;s__',\n",
       "       'd__Bacteria;p__Campylobacterota;c__Campylobacteria;o__Campylobacterales;f__Helicobacteraceae;g__NHYN01;s__',\n",
       "       'd__Bacteria;p__Firmicutes;c__Bacilli;o__Mycoplasmatales;f__Mycoplasmoidaceae;g__;s__',\n",
       "       'd__Bacteria;p__Firmicutes_C;c__Negativicutes;o__Selenomonadales;f__Selenomonadaceae;g__;s__',\n",
       "       'd__Bacteria;p__Firmicutes_A;c__Clostridia;o__Oscillospirales;f__Acutalibacteraceae;g__Ruminococcus_E;s__Ruminococcus_E sp002493635',\n",
       "       'd__Bacteria;p__Firmicutes;c__Bacilli;o__Lactobacillales;f__Lactobacillaceae;g__Ligilactobacillus;s__Ligilactobacillus agilis',\n",
       "       'd__Bacteria;p__Firmicutes_A;c__Clostridia;o__Oscillospirales;f__Oscillospiraceae;g__Evtepia;s__',\n",
       "       'd__Bacteria;p__Bacteroidota;c__Bacteroidia;o__Bacteroidales;f__Muribaculaceae;g__Muribaculum;s__Muribaculum sp003150235',\n",
       "       'd__Bacteria;p__Firmicutes_A;c__Clostridia_A;o__Christensenellales;f__UBA1242;g__UBA11517;s__',\n",
       "       'd__Bacteria;p__Desulfobacterota;c__Desulfovibrionia;o__Desulfovibrionales;f__Desulfovibrionaceae;g__Bilophila;s__',\n",
       "       'd__Bacteria;p__Campylobacterota;c__Campylobacteria;o__Campylobacterales;f__Helicobacteraceae;g__Helicobacter_C;s__Helicobacter_C japonicus',\n",
       "       'd__Bacteria;p__Firmicutes_A;c__Clostridia;o__Lachnospirales;f__Lachnospiraceae;g__AF33-28;s__',\n",
       "       'd__Bacteria;p__Bacteroidota;c__Bacteroidia;o__Bacteroidales;f__Bacteroidaceae;g__Paraprevotella;s__',\n",
       "       'd__Bacteria;p__Firmicutes_A;c__Clostridia;o__Oscillospirales;f__Butyricicoccaceae;g__Butyricicoccus;s__',\n",
       "       'd__Bacteria;p__Firmicutes;c__Bacilli;o__Erysipelotrichales;f__Erysipelatoclostridiaceae;g__;s__',\n",
       "       'd__Bacteria;p__Bacteroidota;c__Bacteroidia;o__Bacteroidales;f__Rikenellaceae;g__;s__',\n",
       "       'd__Bacteria;p__Firmicutes_A;c__Clostridia;o__Oscillospirales;f__Oscillospiraceae;g__CAG-110;s__',\n",
       "       'd__Bacteria;p__Bacteroidota;c__Bacteroidia;o__Bacteroidales;f__Muribaculaceae;g__Paramuribaculum;s__Paramuribaculum sp001689535',\n",
       "       'd__Bacteria;p__Firmicutes_A;c__Clostridia;o__Lachnospirales;f__CAG-274;g__;s__',\n",
       "       'd__Bacteria;p__Firmicutes;c__Bacilli;o__RF39;f__CAG-611;g__;s__',\n",
       "       'd__Bacteria;p__Firmicutes;c__Bacilli;o__RF39;f__CAG-611;g__UMGS995;s__',\n",
       "       'd__Bacteria;p__Bacteroidota;c__Bacteroidia;o__Bacteroidales;f__Muribaculaceae;g__M3;s__M3 sp001689445',\n",
       "       'd__Bacteria;p__Firmicutes_A;c__Clostridia;o__Oscillospirales;f__Acutalibacteraceae;g__Ruminococcus_E;s__',\n",
       "       'd__Bacteria;p__Verrucomicrobiota;c__Verrucomicrobiae;o__Verrucomicrobiales;f__Akkermansiaceae;g__Akkermansia;s__Akkermansia sp001580195',\n",
       "       'd__Bacteria;p__Proteobacteria;c__Gammaproteobacteria;o__Enterobacterales;f__Enterobacteriaceae;g__Enterobacter;s__Enterobacter himalayensis',\n",
       "       'd__Bacteria;p__Firmicutes;c__Bacilli;o__Lactobacillales;f__Lactobacillaceae;g__Leuconostoc;s__Leuconostoc pseudomesenteroides',\n",
       "       'd__Bacteria;p__Firmicutes;c__Bacilli;o__Lactobacillales;f__Streptococcaceae;g__Lactococcus;s__Lactococcus garvieae',\n",
       "       'd__Bacteria;p__Firmicutes;c__Bacilli;o__Lactobacillales;f__Enterococcaceae;g__Enterococcus_B;s__Enterococcus_B faecium',\n",
       "       'd__Bacteria;p__Firmicutes;c__Bacilli;o__Lactobacillales;f__Lactobacillaceae;g__Lactiplantibacillus;s__Lactiplantibacillus plantarum',\n",
       "       'd__Bacteria;p__Firmicutes;c__Bacilli;o__Lactobacillales;f__Lactobacillaceae;g__Pediococcus;s__Pediococcus pentosaceus',\n",
       "       'd__Bacteria;p__Firmicutes_A;c__Clostridia;o__Monoglobales;f__Monoglobaceae;g__;s__',\n",
       "       'd__Bacteria;p__Firmicutes_A;c__Clostridia_A;o__Christensenellales;f__;g__;s__',\n",
       "       'd__Bacteria;p__Bacteroidota;c__Bacteroidia;o__Bacteroidales;f__Bacteroidaceae;g__Phocaeicola;s__',\n",
       "       'd__Bacteria;p__Firmicutes;c__Bacilli;o__Staphylococcales;f__Staphylococcaceae;g__Staphylococcus_A;s__Staphylococcus_A lentus',\n",
       "       'd__Bacteria;p__Firmicutes;c__Bacilli;o__RF39;f__CAG-822;g__UBA5578;s__',\n",
       "       'd__Bacteria;p__Cyanobacteria;c__Vampirovibrionia;o__Gastranaerophilales;f__Gastranaerophilaceae;g__CAG-196;s__',\n",
       "       'd__Bacteria;p__Bacteroidota;c__Bacteroidia;o__Bacteroidales;f__Bacteroidaceae;g__Prevotella;s__Prevotella sp900545525',\n",
       "       'd__Bacteria;p__Actinobacteriota;c__Actinomycetia;o__Mycobacteriales;f__Mycobacteriaceae;g__Corynebacterium;s__Corynebacterium stationis',\n",
       "       'd__Bacteria;p__Bacteroidota;c__Bacteroidia;o__Bacteroidales;f__Rikenellaceae;g__Alistipes_A;s__',\n",
       "       'd__Bacteria;p__Firmicutes;c__Bacilli;o__RF39;f__CAG-433;g__CAG-594;s__',\n",
       "       'd__Bacteria;p__Firmicutes;c__Bacilli;o__RF39;f__CAG-822;g__CAG-822;s__',\n",
       "       'd__Bacteria;p__Bacteroidota;c__Bacteroidia;o__Bacteroidales;f__Rikenellaceae;g__Alistipes_A;s__Alistipes_A indistinctus',\n",
       "       'd__Bacteria;p__Firmicutes;c__Bacilli;o__RF39;f__CAG-1000;g__;s__',\n",
       "       'd__Bacteria;p__Firmicutes;c__Bacilli;o__RF39;f__CAG-611;g__UBA7057;s__',\n",
       "       'd__Bacteria;p__Bacteroidota;c__Bacteroidia;o__Bacteroidales;f__Muribaculaceae;g__CAG-873;s__CAG-873 sp900555715',\n",
       "       'd__Bacteria;p__Firmicutes_A;c__Clostridia;o__Oscillospirales;f__Ruminococcaceae;g__Ruminococcus_C;s__',\n",
       "       'd__Bacteria;p__Firmicutes;c__Bacilli;o__Lactobacillales;f__Lactobacillaceae;g__Lactobacillus;s__Lactobacillus hominis',\n",
       "       'd__Bacteria;p__Firmicutes_A;c__Clostridia;o__Lachnospirales;f__Lachnospiraceae;g__CAG-127;s__CAG-127 sp002493625',\n",
       "       'd__Bacteria;p__Bacteroidota;c__Bacteroidia;o__Bacteroidales;f__Marinifilaceae;g__Butyricimonas;s__Butyricimonas virosa',\n",
       "       'd__Bacteria;p__Cyanobacteria;c__Vampirovibrionia;o__Gastranaerophilales;f__Gastranaerophilaceae;g__Zag111;s__',\n",
       "       'd__Bacteria;p__Firmicutes_A;c__Clostridia;o__Peptostreptococcales;f__Anaerovoracaceae;g__UBA1191;s__',\n",
       "       'd__Bacteria;p__Firmicutes_A;c__Clostridia;o__Oscillospirales;f__Ruminococcaceae;g__UMGS363;s__',\n",
       "       'd__Bacteria;p__Cyanobacteria;c__Vampirovibrionia;o__Gastranaerophilales;f__Gastranaerophilaceae;g__;s__',\n",
       "       'd__Bacteria;p__Firmicutes_A;c__Clostridia_A;o__Christensenellales;f__UBA1242;g__UBA7862;s__',\n",
       "       'd__Bacteria;p__Firmicutes_A;c__Clostridia;o__Oscillospirales;f__Ruminococcaceae;g__UBA1394;s__UBA1394 sp900066845',\n",
       "       'd__Bacteria;p__Firmicutes_A;c__Clostridia;o__Lachnospirales;f__Lachnospiraceae;g__Eisenbergiella;s__',\n",
       "       'd__Bacteria;p__Actinobacteriota;c__Coriobacteriia;o__Coriobacteriales;f__Eggerthellaceae;g__Adlercreutzia;s__',\n",
       "       'd__Bacteria;p__Firmicutes_B;c__Peptococcia;o__Peptococcales;f__Peptococcaceae;g__UBA7185;s__',\n",
       "       'd__Bacteria;p__Actinobacteriota;c__Coriobacteriia;o__Coriobacteriales;f__Eggerthellaceae;g__CAG-1427;s__CAG-1427 sp000435675',\n",
       "       'd__Bacteria;p__Firmicutes_A;c__Clostridia;o__Lachnospirales;f__Lachnospiraceae;g__UBA11957;s__',\n",
       "       'd__Bacteria;p__Firmicutes;c__Bacilli;o__Erysipelotrichales;f__Erysipelotrichaceae;g__Faecalibaculum;s__',\n",
       "       'd__Bacteria;p__Thermotogota;c__Thermotogae;o__Petrotogales;f__Kosmotogaceae;g__Kosmotoga_B;s__Kosmotoga_B pacifica',\n",
       "       'd__Bacteria;p__Firmicutes_A;c__Clostridia;o__Tissierellales;f__Caloranaerobacteraceae;g__Caloranaerobacter;s__Caloranaerobacter azorensis',\n",
       "       'd__Bacteria;p__Proteobacteria;c__Gammaproteobacteria;o__Enterobacterales;f__Pasteurellaceae;g__Muribacter;s__Muribacter muris',\n",
       "       'd__Bacteria;p__Firmicutes;c__Bacilli;o__Lactobacillales;f__Streptococcaceae;g__Streptococcus;s__Streptococcus sp002300045',\n",
       "       'd__Bacteria;p__Firmicutes_A;c__Clostridia;o__Lachnospirales;f__Lachnospiraceae;g__Agathobacter;s__',\n",
       "       'd__Bacteria;p__Bacteroidota;c__Bacteroidia;o__Bacteroidales;f__Muribaculaceae;g__CAG-873;s__CAG-873 sp002491245',\n",
       "       'd__Bacteria;p__Cyanobacteria;c__Vampirovibrionia;o__Gastranaerophilales;f__Gastranaerophilaceae;g__Zag1;s__',\n",
       "       'd__Bacteria;p__Firmicutes_A;c__Clostridia;o__Oscillospirales;f__Ruminococcaceae;g__Ruthenibacterium;s__Ruthenibacterium lactatiformans',\n",
       "       'd__Bacteria;p__Firmicutes_A;c__Clostridia_A;o__Christensenellales;f__CAG-552;g__UMGS1880;s__',\n",
       "       'd__Bacteria;p__Firmicutes;c__Bacilli;o__Lactobacillales;f__Lactobacillaceae;g__Ligilactobacillus;s__',\n",
       "       'd__Bacteria;p__Firmicutes_A;c__Clostridia;o__Peptostreptococcales;f__Anaerovoracaceae;g__CAG-145;s__',\n",
       "       'd__Bacteria;p__Firmicutes_A;c__Clostridia_A;o__Christensenellales;f__Christensenellaceae;g__QANA01;s__',\n",
       "       'd__Bacteria;p__Bacteroidota;c__Bacteroidia;o__Flavobacteriales;f__UBA1820;g__UBA1820;s__UBA1820 sp003150615',\n",
       "       'd__Bacteria;p__Proteobacteria;c__Alphaproteobacteria;o__Paracaedibacterales;f__UBA11393;g__;s__',\n",
       "       'd__Bacteria;p__Firmicutes_A;c__Clostridia;o__Oscillospirales;f__Ruminococcaceae;g__UBA1405;s__',\n",
       "       'd__Bacteria;p__Firmicutes;c__Bacilli;o__Lactobacillales;f__Carnobacteriaceae;g__Atopostipes;s__',\n",
       "       'd__Bacteria;p__Firmicutes;c__Bacilli;o__RF39;f__CAG-611;g__UBA3789;s__',\n",
       "       'd__Bacteria;p__Firmicutes_A;c__Clostridia;o__TANB77;f__CAG-508;g__CAG-273;s__',\n",
       "       'd__Bacteria;p__Firmicutes_A;c__Clostridia;o__Lachnospirales;f__Lachnospiraceae;g__SZUA-378;s__',\n",
       "       'd__Bacteria;p__Firmicutes;c__Bacilli;o__Acholeplasmatales;f__CAG-307;g__;s__',\n",
       "       'd__Bacteria;p__Firmicutes_A;c__Clostridia;o__4C28d-15;f__UBA3700;g__;s__'],\n",
       "      dtype=object)"
      ]
     },
     "execution_count": 60,
     "metadata": {},
     "output_type": "execute_result"
    }
   ],
   "execution_count": 60
  },
  {
   "metadata": {
    "ExecuteTime": {
     "end_time": "2024-06-09T18:05:51.967312Z",
     "start_time": "2024-06-09T18:05:51.930795Z"
    }
   },
   "cell_type": "code",
   "source": [
    "mgbc_genus = mgbc_tax_rep_index[mgbc_tax_rep_index.host == 'MOUSE'].taxonomy_label.str.extract(\n",
    "            '.*;g__([^;]+).*').squeeze().unique()"
   ],
   "id": "5d0e338505ce5a1b",
   "outputs": [],
   "execution_count": 52
  },
  {
   "metadata": {
    "ExecuteTime": {
     "end_time": "2024-06-09T18:07:23.998962Z",
     "start_time": "2024-06-09T18:07:23.994537Z"
    }
   },
   "cell_type": "code",
   "source": "mgbc_genus.shape",
   "id": "b0c07b4c3509fd67",
   "outputs": [
    {
     "data": {
      "text/plain": [
       "(228,)"
      ]
     },
     "execution_count": 58,
     "metadata": {},
     "output_type": "execute_result"
    }
   ],
   "execution_count": 58
  },
  {
   "metadata": {
    "ExecuteTime": {
     "end_time": "2024-06-09T18:06:41.933140Z",
     "start_time": "2024-06-09T18:06:41.928882Z"
    }
   },
   "cell_type": "code",
   "source": "np.count_nonzero(~mice_genus.isin(mgbc_genus)) ",
   "id": "25184972c3883e4b",
   "outputs": [
    {
     "data": {
      "text/plain": [
       "11"
      ]
     },
     "execution_count": 56,
     "metadata": {},
     "output_type": "execute_result"
    }
   ],
   "execution_count": 56
  },
  {
   "metadata": {
    "ExecuteTime": {
     "end_time": "2024-06-09T18:06:33.502390Z",
     "start_time": "2024-06-09T18:06:33.497806Z"
    }
   },
   "cell_type": "code",
   "source": "np.count_nonzero(~mice_genus.isin(mgbc_genus)) / mice_genus.shape[0]",
   "id": "f8f1a3de91c424c8",
   "outputs": [
    {
     "data": {
      "text/plain": [
       "0.28205128205128205"
      ]
     },
     "execution_count": 55,
     "metadata": {},
     "output_type": "execute_result"
    }
   ],
   "execution_count": 55
  },
  {
   "metadata": {
    "ExecuteTime": {
     "end_time": "2024-06-09T18:06:51.717676Z",
     "start_time": "2024-06-09T18:06:51.714166Z"
    }
   },
   "cell_type": "code",
   "source": "mice_genus[~mice_genus.isin(mgbc_genus)]",
   "id": "c7a88417e682c1e6",
   "outputs": [
    {
     "data": {
      "text/plain": [
       "Index(['CAG-317', 'Caccenecus', 'Choladocola', 'Copromonas', 'Dysosmobacter',\n",
       "       'Enterenecus', 'Lachnoclostridium_B', 'Merdisoma', 'Pelethomonas',\n",
       "       'Sporofaciens', 'UBA7109'],\n",
       "      dtype='object')"
      ]
     },
     "execution_count": 57,
     "metadata": {},
     "output_type": "execute_result"
    }
   ],
   "execution_count": 57
  },
  {
   "metadata": {},
   "cell_type": "markdown",
   "source": [
    "Quite a lot of the taxa of mice (28%, 11 genus) do not appear in MGBC cohort (in their full cohort MGBC pids -> GTDB ids). \n",
    "\n",
    "This problem implies that we have to assign the taxonomy based on the MGBC and UHGG datasets if we want to use this mapping. \n"
   ],
   "id": "e9a897fca25a5aff"
  },
  {
   "metadata": {},
   "cell_type": "code",
   "outputs": [],
   "execution_count": null,
   "source": "",
   "id": "4063d29dc80661ca"
  },
  {
   "metadata": {},
   "cell_type": "markdown",
   "source": [
    "Does the tax_rep_index contain all the mice genus? yes, and human too.\n",
    "\n",
    "Note: we yse tax_rep_index file for this analyse. This file contain a mapping from the MGBC and UHGG cohort to GTDB labels, and mapping from HUGG original pids to the pids use in this research (as they select a sub-sample according to their own thershold selection). "
   ],
   "id": "703941beeea36304"
  },
  {
   "metadata": {},
   "cell_type": "code",
   "outputs": [
    {
     "data": {
      "text/plain": [
       "(26640,)"
      ]
     },
     "execution_count": 63,
     "metadata": {},
     "output_type": "execute_result"
    }
   ],
   "execution_count": 63,
   "source": [
    "# We have taxonomic mapping from MGBC pid to GTDB label to the hole 26,640 MGBC pids. \n",
    "# (26,640 match the numbers in the MGBC paper of non-redundant high-quality bacterial genomes in their cohort. )\n",
    "\n",
    "\n",
    "mgbc_tax_rep_index[mgbc_tax_rep_index.host == 'MOUSE'].pid.unique().shape"
   ],
   "id": "4b67d3528b99600a"
  },
  {
   "metadata": {},
   "cell_type": "code",
   "outputs": [
    {
     "data": {
      "text/plain": [
       "(100456,)"
      ]
     },
     "execution_count": 68,
     "metadata": {},
     "output_type": "execute_result"
    }
   ],
   "execution_count": 68,
   "source": [
    "mgbc_tax_rep_index[mgbc_tax_rep_index.host == 'HUMAN'].pid.unique().shape\n",
    "# (100,456 match the numbers in the MGBC paper of non-redundant high-quality bacterial genomes in the UHGG cohort after their pre-processing.)\n"
   ],
   "id": "d47353219e49f1d7"
  },
  {
   "metadata": {
    "ExecuteTime": {
     "end_time": "2024-06-13T11:50:17.614670Z",
     "start_time": "2024-06-13T11:50:17.591790Z"
    }
   },
   "cell_type": "code",
   "source": "mgbc_tax_rep_index[mgbc_tax_rep_index.host == 'HUMAN'].taxonomy_label.unique().shape",
   "id": "f0221077abe69662",
   "outputs": [
    {
     "data": {
      "text/plain": [
       "(2585,)"
      ]
     },
     "execution_count": 16,
     "metadata": {},
     "output_type": "execute_result"
    }
   ],
   "execution_count": 16
  },
  {
   "metadata": {
    "ExecuteTime": {
     "end_time": "2024-06-10T08:15:59.610859Z",
     "start_time": "2024-06-10T08:15:59.603064Z"
    }
   },
   "cell_type": "code",
   "source": "mgbc_tax_rep_index",
   "id": "5a409dbc8d8c1546",
   "outputs": [
    {
     "data": {
      "text/plain": [
       "                     pid                          name taxonomy level  \\\n",
       "0       GUT_GENOME000002     s__Anaerobutyricum hallii        species   \n",
       "1       GUT_GENOME000003         s__Blautia_A wexlerae        species   \n",
       "2       GUT_GENOME000005  s__Mediterraneibacter faecis        species   \n",
       "3       GUT_GENOME000006        s__Tidjanibacter inops        species   \n",
       "4       GUT_GENOME000007      s__Alistipes onderdonkii        species   \n",
       "...                  ...                           ...            ...   \n",
       "127091        MGBC167524     s__Prevotella sp002933775        species   \n",
       "127092        MGBC167525                       g__COE1          genus   \n",
       "127093        MGBC167526            f__Lachnospiraceae         family   \n",
       "127094        MGBC167527        s__CAG-485 sp002491945        species   \n",
       "127095        MGBC167528    s__Bacteroides sp002491635        species   \n",
       "\n",
       "                                           taxonomy_label        source_pid  \\\n",
       "0       d__Bacteria;p__Firmicutes_A;c__Clostridia;o__L...  GUT_GENOME001689   \n",
       "1       d__Bacteria;p__Firmicutes_A;c__Clostridia;o__L...  GUT_GENOME096067   \n",
       "2       d__Bacteria;p__Firmicutes_A;c__Clostridia;o__L...  GUT_GENOME001575   \n",
       "3       d__Bacteria;p__Bacteroidota;c__Bacteroidia;o__...  GUT_GENOME257982   \n",
       "4       d__Bacteria;p__Bacteroidota;c__Bacteroidia;o__...  GUT_GENOME261564   \n",
       "...                                                   ...               ...   \n",
       "127091  d__Bacteria;p__Bacteroidota;c__Bacteroidia;o__...        MGBC167141   \n",
       "127092  d__Bacteria;p__Firmicutes_A;c__Clostridia;o__L...        MGBC111351   \n",
       "127093  d__Bacteria;p__Firmicutes_A;c__Clostridia;o__L...        MGBC114200   \n",
       "127094  d__Bacteria;p__Bacteroidota;c__Bacteroidia;o__...        MGBC118190   \n",
       "127095  d__Bacteria;p__Bacteroidota;c__Bacteroidia;o__...        MGBC135575   \n",
       "\n",
       "         host  number  \n",
       "0       HUMAN     206  \n",
       "1       HUMAN     533  \n",
       "2       HUMAN     186  \n",
       "3       HUMAN     271  \n",
       "4       HUMAN     928  \n",
       "...       ...     ...  \n",
       "127091  MOUSE     216  \n",
       "127092  MOUSE     166  \n",
       "127093  MOUSE      37  \n",
       "127094  MOUSE      60  \n",
       "127095  MOUSE      64  \n",
       "\n",
       "[127096 rows x 7 columns]"
      ],
      "text/html": [
       "<div>\n",
       "<style scoped>\n",
       "    .dataframe tbody tr th:only-of-type {\n",
       "        vertical-align: middle;\n",
       "    }\n",
       "\n",
       "    .dataframe tbody tr th {\n",
       "        vertical-align: top;\n",
       "    }\n",
       "\n",
       "    .dataframe thead th {\n",
       "        text-align: right;\n",
       "    }\n",
       "</style>\n",
       "<table border=\"1\" class=\"dataframe\">\n",
       "  <thead>\n",
       "    <tr style=\"text-align: right;\">\n",
       "      <th></th>\n",
       "      <th>pid</th>\n",
       "      <th>name</th>\n",
       "      <th>taxonomy level</th>\n",
       "      <th>taxonomy_label</th>\n",
       "      <th>source_pid</th>\n",
       "      <th>host</th>\n",
       "      <th>number</th>\n",
       "    </tr>\n",
       "  </thead>\n",
       "  <tbody>\n",
       "    <tr>\n",
       "      <th>0</th>\n",
       "      <td>GUT_GENOME000002</td>\n",
       "      <td>s__Anaerobutyricum hallii</td>\n",
       "      <td>species</td>\n",
       "      <td>d__Bacteria;p__Firmicutes_A;c__Clostridia;o__L...</td>\n",
       "      <td>GUT_GENOME001689</td>\n",
       "      <td>HUMAN</td>\n",
       "      <td>206</td>\n",
       "    </tr>\n",
       "    <tr>\n",
       "      <th>1</th>\n",
       "      <td>GUT_GENOME000003</td>\n",
       "      <td>s__Blautia_A wexlerae</td>\n",
       "      <td>species</td>\n",
       "      <td>d__Bacteria;p__Firmicutes_A;c__Clostridia;o__L...</td>\n",
       "      <td>GUT_GENOME096067</td>\n",
       "      <td>HUMAN</td>\n",
       "      <td>533</td>\n",
       "    </tr>\n",
       "    <tr>\n",
       "      <th>2</th>\n",
       "      <td>GUT_GENOME000005</td>\n",
       "      <td>s__Mediterraneibacter faecis</td>\n",
       "      <td>species</td>\n",
       "      <td>d__Bacteria;p__Firmicutes_A;c__Clostridia;o__L...</td>\n",
       "      <td>GUT_GENOME001575</td>\n",
       "      <td>HUMAN</td>\n",
       "      <td>186</td>\n",
       "    </tr>\n",
       "    <tr>\n",
       "      <th>3</th>\n",
       "      <td>GUT_GENOME000006</td>\n",
       "      <td>s__Tidjanibacter inops</td>\n",
       "      <td>species</td>\n",
       "      <td>d__Bacteria;p__Bacteroidota;c__Bacteroidia;o__...</td>\n",
       "      <td>GUT_GENOME257982</td>\n",
       "      <td>HUMAN</td>\n",
       "      <td>271</td>\n",
       "    </tr>\n",
       "    <tr>\n",
       "      <th>4</th>\n",
       "      <td>GUT_GENOME000007</td>\n",
       "      <td>s__Alistipes onderdonkii</td>\n",
       "      <td>species</td>\n",
       "      <td>d__Bacteria;p__Bacteroidota;c__Bacteroidia;o__...</td>\n",
       "      <td>GUT_GENOME261564</td>\n",
       "      <td>HUMAN</td>\n",
       "      <td>928</td>\n",
       "    </tr>\n",
       "    <tr>\n",
       "      <th>...</th>\n",
       "      <td>...</td>\n",
       "      <td>...</td>\n",
       "      <td>...</td>\n",
       "      <td>...</td>\n",
       "      <td>...</td>\n",
       "      <td>...</td>\n",
       "      <td>...</td>\n",
       "    </tr>\n",
       "    <tr>\n",
       "      <th>127091</th>\n",
       "      <td>MGBC167524</td>\n",
       "      <td>s__Prevotella sp002933775</td>\n",
       "      <td>species</td>\n",
       "      <td>d__Bacteria;p__Bacteroidota;c__Bacteroidia;o__...</td>\n",
       "      <td>MGBC167141</td>\n",
       "      <td>MOUSE</td>\n",
       "      <td>216</td>\n",
       "    </tr>\n",
       "    <tr>\n",
       "      <th>127092</th>\n",
       "      <td>MGBC167525</td>\n",
       "      <td>g__COE1</td>\n",
       "      <td>genus</td>\n",
       "      <td>d__Bacteria;p__Firmicutes_A;c__Clostridia;o__L...</td>\n",
       "      <td>MGBC111351</td>\n",
       "      <td>MOUSE</td>\n",
       "      <td>166</td>\n",
       "    </tr>\n",
       "    <tr>\n",
       "      <th>127093</th>\n",
       "      <td>MGBC167526</td>\n",
       "      <td>f__Lachnospiraceae</td>\n",
       "      <td>family</td>\n",
       "      <td>d__Bacteria;p__Firmicutes_A;c__Clostridia;o__L...</td>\n",
       "      <td>MGBC114200</td>\n",
       "      <td>MOUSE</td>\n",
       "      <td>37</td>\n",
       "    </tr>\n",
       "    <tr>\n",
       "      <th>127094</th>\n",
       "      <td>MGBC167527</td>\n",
       "      <td>s__CAG-485 sp002491945</td>\n",
       "      <td>species</td>\n",
       "      <td>d__Bacteria;p__Bacteroidota;c__Bacteroidia;o__...</td>\n",
       "      <td>MGBC118190</td>\n",
       "      <td>MOUSE</td>\n",
       "      <td>60</td>\n",
       "    </tr>\n",
       "    <tr>\n",
       "      <th>127095</th>\n",
       "      <td>MGBC167528</td>\n",
       "      <td>s__Bacteroides sp002491635</td>\n",
       "      <td>species</td>\n",
       "      <td>d__Bacteria;p__Bacteroidota;c__Bacteroidia;o__...</td>\n",
       "      <td>MGBC135575</td>\n",
       "      <td>MOUSE</td>\n",
       "      <td>64</td>\n",
       "    </tr>\n",
       "  </tbody>\n",
       "</table>\n",
       "<p>127096 rows × 7 columns</p>\n",
       "</div>"
      ]
     },
     "execution_count": 67,
     "metadata": {},
     "output_type": "execute_result"
    }
   ],
   "execution_count": 67
  },
  {
   "metadata": {},
   "cell_type": "markdown",
   "source": "Do we have the human genus level in this dataset? No. HUGG contain only 84 genus level out of the 107 that we have in our human-dataset. (78%) ",
   "id": "1fc5abd2b7f6df65"
  },
  {
   "metadata": {
    "ExecuteTime": {
     "end_time": "2024-06-10T08:44:40.941307Z",
     "start_time": "2024-06-10T08:44:40.794557Z"
    }
   },
   "cell_type": "code",
   "source": [
    "mgbc_human_genus = mgbc_tax_rep_index[mgbc_tax_rep_index.host == 'HUMAN'].taxonomy_label.str.extract(\n",
    "            '.*;g__([^;]+).*').squeeze().unique()"
   ],
   "id": "aa46fc1467449cac",
   "outputs": [],
   "execution_count": 100
  },
  {
   "metadata": {
    "ExecuteTime": {
     "end_time": "2024-06-10T08:44:42.454836Z",
     "start_time": "2024-06-10T08:44:42.451478Z"
    }
   },
   "cell_type": "code",
   "source": "mgbc_human_genus.shape\n",
   "id": "d99aeb45e927cde6",
   "outputs": [
    {
     "data": {
      "text/plain": [
       "(770,)"
      ]
     },
     "execution_count": 101,
     "metadata": {},
     "output_type": "execute_result"
    }
   ],
   "execution_count": 101
  },
  {
   "metadata": {
    "ExecuteTime": {
     "end_time": "2024-06-10T08:44:44.228236Z",
     "start_time": "2024-06-10T08:44:44.225305Z"
    }
   },
   "cell_type": "code",
   "source": "np.count_nonzero(pd.Index(human_genus).isin(mgbc_human_genus))\n",
   "id": "2c36607229313a0b",
   "outputs": [
    {
     "data": {
      "text/plain": [
       "84"
      ]
     },
     "execution_count": 102,
     "metadata": {},
     "output_type": "execute_result"
    }
   ],
   "execution_count": 102
  },
  {
   "metadata": {
    "ExecuteTime": {
     "end_time": "2024-06-10T08:45:09.264107Z",
     "start_time": "2024-06-10T08:45:09.261024Z"
    }
   },
   "cell_type": "code",
   "source": "len(human_genus)",
   "id": "b3fb5b734b2496a1",
   "outputs": [
    {
     "data": {
      "text/plain": [
       "107"
      ]
     },
     "execution_count": 104,
     "metadata": {},
     "output_type": "execute_result"
    }
   ],
   "execution_count": 104
  },
  {
   "metadata": {
    "ExecuteTime": {
     "end_time": "2024-06-10T08:45:01.414947Z",
     "start_time": "2024-06-10T08:45:01.411845Z"
    }
   },
   "cell_type": "code",
   "source": "np.count_nonzero(pd.Index(human_genus).isin(mgbc_human_genus)) / len(human_genus)\n",
   "id": "764511821cf3c2b0",
   "outputs": [
    {
     "data": {
      "text/plain": [
       "0.7850467289719626"
      ]
     },
     "execution_count": 103,
     "metadata": {},
     "output_type": "execute_result"
    }
   ],
   "execution_count": 103
  },
  {
   "metadata": {},
   "cell_type": "markdown",
   "source": [
    "Closest taxa contain only 1094 MGBC pids. Maybe I'm missing something and this is only an example? Try to solve this issue... (Dive deeper into MGBC tomorrow). I think there are different version of this toolkit, maybe try to download the hole dataset? different version? Debug. \n",
    "\n",
    "We could also just use the mapping from MGBC pid to GTDB label and UHGG to pid label to mark the GTDB tree and extract taxonomic distance based on that (in case we don't find the hole data. Then we could consider writing to them / re-implementing their code for the functional distance...)"
   ],
   "id": "72787bfd5ca32776"
  },
  {
   "metadata": {},
   "cell_type": "markdown",
   "source": [
    "Does all the MGBC pids are in the closest_tax table?\n",
    "\n",
    "closest_taxa table contain only 1094 MGBC pids (out of the 26K) \n",
    "and 3006 from human (out of 100K) so it's very partial data..."
   ],
   "id": "e835841192b9055d"
  },
  {
   "metadata": {
    "ExecuteTime": {
     "end_time": "2024-06-09T18:18:58.069295Z",
     "start_time": "2024-06-09T18:18:58.056214Z"
    }
   },
   "cell_type": "code",
   "source": "mgbc_closest_taxa_table.query('reference_genome.str.contains(\"MGBC\")').reference_genome.unique().shape",
   "id": "951e5f39a53d316",
   "outputs": [
    {
     "data": {
      "text/plain": [
       "(1094,)"
      ]
     },
     "execution_count": 66,
     "metadata": {},
     "output_type": "execute_result"
    }
   ],
   "execution_count": 66
  },
  {
   "metadata": {
    "ExecuteTime": {
     "end_time": "2024-06-10T08:35:17.151341Z",
     "start_time": "2024-06-10T08:35:17.136105Z"
    }
   },
   "cell_type": "code",
   "source": "mgbc_closest_taxa_table.query('reference_genome.str.contains(\"GUT_GENOME\")').reference_genome.unique().shape\n",
   "id": "6407af975bd54498",
   "outputs": [
    {
     "data": {
      "text/plain": [
       "(3006,)"
      ]
     },
     "execution_count": 76,
     "metadata": {},
     "output_type": "execute_result"
    }
   ],
   "execution_count": 76
  },
  {
   "metadata": {
    "ExecuteTime": {
     "end_time": "2024-06-13T11:47:19.069616Z",
     "start_time": "2024-06-13T11:47:19.054961Z"
    }
   },
   "cell_type": "code",
   "source": "mgbc_closest_taxa_table.query('reference_genome.str.contains(\"MGBC\")').reference_taxonomy.unique().shape",
   "id": "3df771f9be899321",
   "outputs": [
    {
     "data": {
      "text/plain": [
       "(430,)"
      ]
     },
     "execution_count": 14,
     "metadata": {},
     "output_type": "execute_result"
    }
   ],
   "execution_count": 14
  },
  {
   "metadata": {
    "ExecuteTime": {
     "end_time": "2024-06-13T11:49:10.177322Z",
     "start_time": "2024-06-13T11:49:10.157730Z"
    }
   },
   "cell_type": "code",
   "source": "mgbc_closest_taxa_table.query('reference_genome.str.contains(\"GUT_GENOME\")').reference_taxonomy.unique().shape\n",
   "id": "9aed038614cee52e",
   "outputs": [
    {
     "data": {
      "text/plain": [
       "(2585,)"
      ]
     },
     "execution_count": 15,
     "metadata": {},
     "output_type": "execute_result"
    }
   ],
   "execution_count": 15
  },
  {
   "metadata": {},
   "cell_type": "code",
   "outputs": [],
   "execution_count": null,
   "source": "",
   "id": "34238d06ac08e96e"
  },
  {
   "metadata": {
    "ExecuteTime": {
     "end_time": "2024-06-10T08:38:18.103911Z",
     "start_time": "2024-06-10T08:38:18.064622Z"
    }
   },
   "cell_type": "code",
   "source": [
    "# The mice genus that we have mapping for:\n",
    "mice_genus_with_mapping = mgbc_closest_taxa_table.query('reference_genome.str.contains(\"MGBC\")').reference_taxonomy.str.extract(\n",
    "            '.*;g__([^;]+).*').squeeze().unique()"
   ],
   "id": "d41ea63460f30c04",
   "outputs": [],
   "execution_count": 84
  },
  {
   "metadata": {},
   "cell_type": "markdown",
   "source": "So genus level (representation wise) we have a mapping (according to some Genome) to 226 out of 228 genus in the mice dataset",
   "id": "c73e03d65c5c3fab"
  },
  {
   "metadata": {
    "ExecuteTime": {
     "end_time": "2024-06-10T08:38:25.043358Z",
     "start_time": "2024-06-10T08:38:25.040301Z"
    }
   },
   "cell_type": "code",
   "source": "mice_genus_with_mapping.shape",
   "id": "e8ef505aaff60d64",
   "outputs": [
    {
     "data": {
      "text/plain": [
       "(226,)"
      ]
     },
     "execution_count": 85,
     "metadata": {},
     "output_type": "execute_result"
    }
   ],
   "execution_count": 85
  },
  {
   "metadata": {
    "ExecuteTime": {
     "end_time": "2024-06-10T08:38:32.849651Z",
     "start_time": "2024-06-10T08:38:32.846242Z"
    }
   },
   "cell_type": "code",
   "source": "mgbc_genus.shape",
   "id": "55b20cafe52d48e6",
   "outputs": [
    {
     "data": {
      "text/plain": [
       "(228,)"
      ]
     },
     "execution_count": 86,
     "metadata": {},
     "output_type": "execute_result"
    }
   ],
   "execution_count": 86
  },
  {
   "metadata": {
    "ExecuteTime": {
     "end_time": "2024-06-10T08:40:19.812395Z",
     "start_time": "2024-06-10T08:40:19.808246Z"
    }
   },
   "cell_type": "code",
   "source": "np.count_nonzero(pd.Index(mgbc_genus).isin(mice_genus_with_mapping))",
   "id": "ce02aa74e04bc31b",
   "outputs": [
    {
     "data": {
      "text/plain": [
       "226"
      ]
     },
     "execution_count": 89,
     "metadata": {},
     "output_type": "execute_result"
    }
   ],
   "execution_count": 89
  },
  {
   "metadata": {
    "ExecuteTime": {
     "end_time": "2024-06-10T08:40:37.741363Z",
     "start_time": "2024-06-10T08:40:37.737154Z"
    }
   },
   "cell_type": "code",
   "source": [
    "# The genus that are missing in the closest taxa table are:\n",
    "\n",
    "pd.Index(mgbc_genus)[~pd.Index(mgbc_genus).isin(mice_genus_with_mapping)]"
   ],
   "id": "4575baab5e4d2519",
   "outputs": [
    {
     "data": {
      "text/plain": [
       "Index(['UMGS363', 'SZUA-378'], dtype='object')"
      ]
     },
     "execution_count": 90,
     "metadata": {},
     "output_type": "execute_result"
    }
   ],
   "execution_count": 90
  },
  {
   "metadata": {},
   "cell_type": "markdown",
   "source": "How much does the mapping changes between the different hueristics?",
   "id": "ebe8e2a5e4d2ba32"
  },
  {
   "metadata": {
    "ExecuteTime": {
     "end_time": "2024-06-13T12:00:50.026802Z",
     "start_time": "2024-06-13T12:00:50.018492Z"
    }
   },
   "cell_type": "code",
   "source": "mgbc_closest_taxa_table",
   "id": "e71c468fe0fac93e",
   "outputs": [
    {
     "data": {
      "text/plain": [
       "             method  reference_genome      query_genome  distance  \\\n",
       "0          taxonomy  GUT_GENOME000010        MGBC000100  0.020884   \n",
       "1          taxonomy  GUT_GENOME000035        MGBC000465  0.009662   \n",
       "2          taxonomy  GUT_GENOME000049        MGBC109121  0.200162   \n",
       "3          taxonomy  GUT_GENOME000057        MGBC115383  0.008205   \n",
       "4          taxonomy  GUT_GENOME000064        MGBC161554  0.625505   \n",
       "...             ...               ...               ...       ...   \n",
       "61495  Reactome.ips        MGBC166864  GUT_GENOME188058  0.116968   \n",
       "61496  Reactome.ips        MGBC167004  GUT_GENOME012681  0.134689   \n",
       "61497  Reactome.ips        MGBC167061  GUT_GENOME205920  0.058195   \n",
       "61498  Reactome.ips        MGBC167064  GUT_GENOME258050  0.129410   \n",
       "61499  Reactome.ips        MGBC167141  GUT_GENOME110697  0.100392   \n",
       "\n",
       "                                      reference_taxonomy  \\\n",
       "0      d__Bacteria;p__Firmicutes_A;c__Clostridia;o__O...   \n",
       "1      d__Bacteria;p__Bacteroidota;c__Bacteroidia;o__...   \n",
       "2      d__Bacteria;p__Firmicutes_A;c__Clostridia;o__L...   \n",
       "3      d__Bacteria;p__Proteobacteria;c__Gammaproteoba...   \n",
       "4      d__Bacteria;p__Firmicutes;c__Bacilli;o__Lactob...   \n",
       "...                                                  ...   \n",
       "61495  d__Bacteria;p__Firmicutes_A;c__Clostridia;o__L...   \n",
       "61496  d__Bacteria;p__Firmicutes_A;c__Clostridia;o__L...   \n",
       "61497  d__Bacteria;p__Firmicutes;c__Bacilli;o__Lactob...   \n",
       "61498  d__Bacteria;p__Firmicutes_A;c__Clostridia;o__L...   \n",
       "61499  d__Bacteria;p__Bacteroidota;c__Bacteroidia;o__...   \n",
       "\n",
       "                                          query_taxonomy  \n",
       "0      d__Bacteria;p__Firmicutes_A;c__Clostridia;o__O...  \n",
       "1      d__Bacteria;p__Bacteroidota;c__Bacteroidia;o__...  \n",
       "2      d__Bacteria;p__Firmicutes_A;c__Clostridia;o__L...  \n",
       "3      d__Bacteria;p__Proteobacteria;c__Gammaproteoba...  \n",
       "4      d__Bacteria;p__Firmicutes;c__Bacilli;o__Lactob...  \n",
       "...                                                  ...  \n",
       "61495  d__Bacteria;p__Firmicutes_A;c__Clostridia;o__C...  \n",
       "61496  d__Bacteria;p__Firmicutes_A;c__Clostridia;o__L...  \n",
       "61497  d__Bacteria;p__Firmicutes;c__Bacilli;o__Lactob...  \n",
       "61498  d__Bacteria;p__Firmicutes_A;c__Clostridia;o__L...  \n",
       "61499  d__Bacteria;p__Bacteroidota;c__Bacteroidia;o__...  \n",
       "\n",
       "[61500 rows x 6 columns]"
      ],
      "text/html": [
       "<div>\n",
       "<style scoped>\n",
       "    .dataframe tbody tr th:only-of-type {\n",
       "        vertical-align: middle;\n",
       "    }\n",
       "\n",
       "    .dataframe tbody tr th {\n",
       "        vertical-align: top;\n",
       "    }\n",
       "\n",
       "    .dataframe thead th {\n",
       "        text-align: right;\n",
       "    }\n",
       "</style>\n",
       "<table border=\"1\" class=\"dataframe\">\n",
       "  <thead>\n",
       "    <tr style=\"text-align: right;\">\n",
       "      <th></th>\n",
       "      <th>method</th>\n",
       "      <th>reference_genome</th>\n",
       "      <th>query_genome</th>\n",
       "      <th>distance</th>\n",
       "      <th>reference_taxonomy</th>\n",
       "      <th>query_taxonomy</th>\n",
       "    </tr>\n",
       "  </thead>\n",
       "  <tbody>\n",
       "    <tr>\n",
       "      <th>0</th>\n",
       "      <td>taxonomy</td>\n",
       "      <td>GUT_GENOME000010</td>\n",
       "      <td>MGBC000100</td>\n",
       "      <td>0.020884</td>\n",
       "      <td>d__Bacteria;p__Firmicutes_A;c__Clostridia;o__O...</td>\n",
       "      <td>d__Bacteria;p__Firmicutes_A;c__Clostridia;o__O...</td>\n",
       "    </tr>\n",
       "    <tr>\n",
       "      <th>1</th>\n",
       "      <td>taxonomy</td>\n",
       "      <td>GUT_GENOME000035</td>\n",
       "      <td>MGBC000465</td>\n",
       "      <td>0.009662</td>\n",
       "      <td>d__Bacteria;p__Bacteroidota;c__Bacteroidia;o__...</td>\n",
       "      <td>d__Bacteria;p__Bacteroidota;c__Bacteroidia;o__...</td>\n",
       "    </tr>\n",
       "    <tr>\n",
       "      <th>2</th>\n",
       "      <td>taxonomy</td>\n",
       "      <td>GUT_GENOME000049</td>\n",
       "      <td>MGBC109121</td>\n",
       "      <td>0.200162</td>\n",
       "      <td>d__Bacteria;p__Firmicutes_A;c__Clostridia;o__L...</td>\n",
       "      <td>d__Bacteria;p__Firmicutes_A;c__Clostridia;o__L...</td>\n",
       "    </tr>\n",
       "    <tr>\n",
       "      <th>3</th>\n",
       "      <td>taxonomy</td>\n",
       "      <td>GUT_GENOME000057</td>\n",
       "      <td>MGBC115383</td>\n",
       "      <td>0.008205</td>\n",
       "      <td>d__Bacteria;p__Proteobacteria;c__Gammaproteoba...</td>\n",
       "      <td>d__Bacteria;p__Proteobacteria;c__Gammaproteoba...</td>\n",
       "    </tr>\n",
       "    <tr>\n",
       "      <th>4</th>\n",
       "      <td>taxonomy</td>\n",
       "      <td>GUT_GENOME000064</td>\n",
       "      <td>MGBC161554</td>\n",
       "      <td>0.625505</td>\n",
       "      <td>d__Bacteria;p__Firmicutes;c__Bacilli;o__Lactob...</td>\n",
       "      <td>d__Bacteria;p__Firmicutes;c__Bacilli;o__Lactob...</td>\n",
       "    </tr>\n",
       "    <tr>\n",
       "      <th>...</th>\n",
       "      <td>...</td>\n",
       "      <td>...</td>\n",
       "      <td>...</td>\n",
       "      <td>...</td>\n",
       "      <td>...</td>\n",
       "      <td>...</td>\n",
       "    </tr>\n",
       "    <tr>\n",
       "      <th>61495</th>\n",
       "      <td>Reactome.ips</td>\n",
       "      <td>MGBC166864</td>\n",
       "      <td>GUT_GENOME188058</td>\n",
       "      <td>0.116968</td>\n",
       "      <td>d__Bacteria;p__Firmicutes_A;c__Clostridia;o__L...</td>\n",
       "      <td>d__Bacteria;p__Firmicutes_A;c__Clostridia;o__C...</td>\n",
       "    </tr>\n",
       "    <tr>\n",
       "      <th>61496</th>\n",
       "      <td>Reactome.ips</td>\n",
       "      <td>MGBC167004</td>\n",
       "      <td>GUT_GENOME012681</td>\n",
       "      <td>0.134689</td>\n",
       "      <td>d__Bacteria;p__Firmicutes_A;c__Clostridia;o__L...</td>\n",
       "      <td>d__Bacteria;p__Firmicutes_A;c__Clostridia;o__L...</td>\n",
       "    </tr>\n",
       "    <tr>\n",
       "      <th>61497</th>\n",
       "      <td>Reactome.ips</td>\n",
       "      <td>MGBC167061</td>\n",
       "      <td>GUT_GENOME205920</td>\n",
       "      <td>0.058195</td>\n",
       "      <td>d__Bacteria;p__Firmicutes;c__Bacilli;o__Lactob...</td>\n",
       "      <td>d__Bacteria;p__Firmicutes;c__Bacilli;o__Lactob...</td>\n",
       "    </tr>\n",
       "    <tr>\n",
       "      <th>61498</th>\n",
       "      <td>Reactome.ips</td>\n",
       "      <td>MGBC167064</td>\n",
       "      <td>GUT_GENOME258050</td>\n",
       "      <td>0.129410</td>\n",
       "      <td>d__Bacteria;p__Firmicutes_A;c__Clostridia;o__L...</td>\n",
       "      <td>d__Bacteria;p__Firmicutes_A;c__Clostridia;o__L...</td>\n",
       "    </tr>\n",
       "    <tr>\n",
       "      <th>61499</th>\n",
       "      <td>Reactome.ips</td>\n",
       "      <td>MGBC167141</td>\n",
       "      <td>GUT_GENOME110697</td>\n",
       "      <td>0.100392</td>\n",
       "      <td>d__Bacteria;p__Bacteroidota;c__Bacteroidia;o__...</td>\n",
       "      <td>d__Bacteria;p__Bacteroidota;c__Bacteroidia;o__...</td>\n",
       "    </tr>\n",
       "  </tbody>\n",
       "</table>\n",
       "<p>61500 rows × 6 columns</p>\n",
       "</div>"
      ]
     },
     "execution_count": 17,
     "metadata": {},
     "output_type": "execute_result"
    }
   ],
   "execution_count": 17
  },
  {
   "metadata": {
    "ExecuteTime": {
     "end_time": "2024-06-13T12:02:15.515199Z",
     "start_time": "2024-06-13T12:02:15.356129Z"
    }
   },
   "cell_type": "code",
   "source": [
    "mgbc_closest_taxa_table['reference_genus'] = mgbc_closest_taxa_table.reference_taxonomy.str.extract(\n",
    "            '(.*;g__[^;]+).*')\n",
    "mgbc_closest_taxa_table['query_genus'] = mgbc_closest_taxa_table.query_taxonomy.str.extract('(.*;g__[^;]+).*')"
   ],
   "id": "1072610a0951ed5f",
   "outputs": [],
   "execution_count": 18
  },
  {
   "metadata": {
    "ExecuteTime": {
     "end_time": "2024-06-13T12:02:17.154765Z",
     "start_time": "2024-06-13T12:02:17.142579Z"
    }
   },
   "cell_type": "code",
   "source": "m2h = mgbc_closest_taxa_table.query('reference_genome.str.contains(\"MGBC\")')",
   "id": "781bc85835a407f2",
   "outputs": [],
   "execution_count": 19
  },
  {
   "metadata": {
    "ExecuteTime": {
     "end_time": "2024-06-13T12:03:05.356761Z",
     "start_time": "2024-06-13T12:03:05.352822Z"
    }
   },
   "cell_type": "code",
   "source": "m2h.method.unique()",
   "id": "67403334dd06999b",
   "outputs": [
    {
     "data": {
      "text/plain": [
       "array(['taxonomy', 'all_annotations', 'CAZY.eggnog', 'ENZYME.eggnog',\n",
       "       'GO.eggnog', 'GO.ips', 'InterPro.FAMILY', 'InterPro.ips',\n",
       "       'KEGG.eggnog', 'MetaCyc.ips', 'MODULE.eggnog', 'PATHWAY_eggnog',\n",
       "       'PATHWAY_ips', 'REACTION.eggnog', 'Reactome.ips'], dtype=object)"
      ]
     },
     "execution_count": 21,
     "metadata": {},
     "output_type": "execute_result"
    }
   ],
   "execution_count": 21
  },
  {
   "metadata": {
    "ExecuteTime": {
     "end_time": "2024-06-13T12:20:31.040699Z",
     "start_time": "2024-06-13T12:20:29.842428Z"
    }
   },
   "cell_type": "code",
   "source": [
    "from translator import majority_vote\n",
    "translation_maps = m2h.groupby('method').apply(lambda df: df.groupby('reference_genus').apply(lambda x: majority_vote(x)))\n",
    "translation_maps = translation_maps.T \n"
   ],
   "id": "b377526d6332511b",
   "outputs": [],
   "execution_count": 46
  },
  {
   "metadata": {
    "ExecuteTime": {
     "end_time": "2024-06-13T12:20:36.762904Z",
     "start_time": "2024-06-13T12:20:36.752508Z"
    }
   },
   "cell_type": "code",
   "source": "translation_maps.eq(translation_maps.iloc[:, 0], axis=0)",
   "id": "e8ca91ebad2a80bd",
   "outputs": [
    {
     "data": {
      "text/plain": [
       "method                                              CAZY.eggnog  \\\n",
       "reference_genus                                                   \n",
       "d__Bacteria;p__Actinobacteriota;c__Actinomyceti...         True   \n",
       "d__Bacteria;p__Actinobacteriota;c__Actinomyceti...         True   \n",
       "d__Bacteria;p__Actinobacteriota;c__Actinomyceti...         True   \n",
       "d__Bacteria;p__Actinobacteriota;c__Actinomyceti...         True   \n",
       "d__Bacteria;p__Actinobacteriota;c__Actinomyceti...         True   \n",
       "...                                                         ...   \n",
       "d__Bacteria;p__Spirochaetota;c__Brachyspirae;o_...         True   \n",
       "d__Bacteria;p__Spirochaetota;c__Spirochaetia;o_...         True   \n",
       "d__Bacteria;p__Thermotogota;c__Thermotogae;o__P...         True   \n",
       "d__Bacteria;p__Verrucomicrobiota;c__Verrucomicr...         True   \n",
       "d__Bacteria;p__Verrucomicrobiota_A;c__Chlamydii...         True   \n",
       "\n",
       "method                                              ENZYME.eggnog  GO.eggnog  \\\n",
       "reference_genus                                                                \n",
       "d__Bacteria;p__Actinobacteriota;c__Actinomyceti...           True       True   \n",
       "d__Bacteria;p__Actinobacteriota;c__Actinomyceti...           True       True   \n",
       "d__Bacteria;p__Actinobacteriota;c__Actinomyceti...          False       True   \n",
       "d__Bacteria;p__Actinobacteriota;c__Actinomyceti...           True       True   \n",
       "d__Bacteria;p__Actinobacteriota;c__Actinomyceti...           True       True   \n",
       "...                                                           ...        ...   \n",
       "d__Bacteria;p__Spirochaetota;c__Brachyspirae;o_...           True       True   \n",
       "d__Bacteria;p__Spirochaetota;c__Spirochaetia;o_...           True       True   \n",
       "d__Bacteria;p__Thermotogota;c__Thermotogae;o__P...          False      False   \n",
       "d__Bacteria;p__Verrucomicrobiota;c__Verrucomicr...           True       True   \n",
       "d__Bacteria;p__Verrucomicrobiota_A;c__Chlamydii...          False      False   \n",
       "\n",
       "method                                              GO.ips  InterPro.FAMILY  \\\n",
       "reference_genus                                                               \n",
       "d__Bacteria;p__Actinobacteriota;c__Actinomyceti...    True             True   \n",
       "d__Bacteria;p__Actinobacteriota;c__Actinomyceti...    True             True   \n",
       "d__Bacteria;p__Actinobacteriota;c__Actinomyceti...    True            False   \n",
       "d__Bacteria;p__Actinobacteriota;c__Actinomyceti...    True             True   \n",
       "d__Bacteria;p__Actinobacteriota;c__Actinomyceti...    True             True   \n",
       "...                                                    ...              ...   \n",
       "d__Bacteria;p__Spirochaetota;c__Brachyspirae;o_...    True             True   \n",
       "d__Bacteria;p__Spirochaetota;c__Spirochaetia;o_...    True             True   \n",
       "d__Bacteria;p__Thermotogota;c__Thermotogae;o__P...   False            False   \n",
       "d__Bacteria;p__Verrucomicrobiota;c__Verrucomicr...    True             True   \n",
       "d__Bacteria;p__Verrucomicrobiota_A;c__Chlamydii...   False            False   \n",
       "\n",
       "method                                              InterPro.ips  KEGG.eggnog  \\\n",
       "reference_genus                                                                 \n",
       "d__Bacteria;p__Actinobacteriota;c__Actinomyceti...          True         True   \n",
       "d__Bacteria;p__Actinobacteriota;c__Actinomyceti...          True         True   \n",
       "d__Bacteria;p__Actinobacteriota;c__Actinomyceti...         False         True   \n",
       "d__Bacteria;p__Actinobacteriota;c__Actinomyceti...          True         True   \n",
       "d__Bacteria;p__Actinobacteriota;c__Actinomyceti...          True         True   \n",
       "...                                                          ...          ...   \n",
       "d__Bacteria;p__Spirochaetota;c__Brachyspirae;o_...          True         True   \n",
       "d__Bacteria;p__Spirochaetota;c__Spirochaetia;o_...          True         True   \n",
       "d__Bacteria;p__Thermotogota;c__Thermotogae;o__P...         False        False   \n",
       "d__Bacteria;p__Verrucomicrobiota;c__Verrucomicr...          True         True   \n",
       "d__Bacteria;p__Verrucomicrobiota_A;c__Chlamydii...         False        False   \n",
       "\n",
       "method                                              MODULE.eggnog  \\\n",
       "reference_genus                                                     \n",
       "d__Bacteria;p__Actinobacteriota;c__Actinomyceti...           True   \n",
       "d__Bacteria;p__Actinobacteriota;c__Actinomyceti...           True   \n",
       "d__Bacteria;p__Actinobacteriota;c__Actinomyceti...          False   \n",
       "d__Bacteria;p__Actinobacteriota;c__Actinomyceti...           True   \n",
       "d__Bacteria;p__Actinobacteriota;c__Actinomyceti...           True   \n",
       "...                                                           ...   \n",
       "d__Bacteria;p__Spirochaetota;c__Brachyspirae;o_...           True   \n",
       "d__Bacteria;p__Spirochaetota;c__Spirochaetia;o_...           True   \n",
       "d__Bacteria;p__Thermotogota;c__Thermotogae;o__P...          False   \n",
       "d__Bacteria;p__Verrucomicrobiota;c__Verrucomicr...           True   \n",
       "d__Bacteria;p__Verrucomicrobiota_A;c__Chlamydii...          False   \n",
       "\n",
       "method                                              MetaCyc.ips  \\\n",
       "reference_genus                                                   \n",
       "d__Bacteria;p__Actinobacteriota;c__Actinomyceti...         True   \n",
       "d__Bacteria;p__Actinobacteriota;c__Actinomyceti...         True   \n",
       "d__Bacteria;p__Actinobacteriota;c__Actinomyceti...         True   \n",
       "d__Bacteria;p__Actinobacteriota;c__Actinomyceti...         True   \n",
       "d__Bacteria;p__Actinobacteriota;c__Actinomyceti...         True   \n",
       "...                                                         ...   \n",
       "d__Bacteria;p__Spirochaetota;c__Brachyspirae;o_...         True   \n",
       "d__Bacteria;p__Spirochaetota;c__Spirochaetia;o_...         True   \n",
       "d__Bacteria;p__Thermotogota;c__Thermotogae;o__P...        False   \n",
       "d__Bacteria;p__Verrucomicrobiota;c__Verrucomicr...         True   \n",
       "d__Bacteria;p__Verrucomicrobiota_A;c__Chlamydii...        False   \n",
       "\n",
       "method                                              PATHWAY_eggnog  \\\n",
       "reference_genus                                                      \n",
       "d__Bacteria;p__Actinobacteriota;c__Actinomyceti...            True   \n",
       "d__Bacteria;p__Actinobacteriota;c__Actinomyceti...            True   \n",
       "d__Bacteria;p__Actinobacteriota;c__Actinomyceti...           False   \n",
       "d__Bacteria;p__Actinobacteriota;c__Actinomyceti...            True   \n",
       "d__Bacteria;p__Actinobacteriota;c__Actinomyceti...            True   \n",
       "...                                                            ...   \n",
       "d__Bacteria;p__Spirochaetota;c__Brachyspirae;o_...            True   \n",
       "d__Bacteria;p__Spirochaetota;c__Spirochaetia;o_...            True   \n",
       "d__Bacteria;p__Thermotogota;c__Thermotogae;o__P...           False   \n",
       "d__Bacteria;p__Verrucomicrobiota;c__Verrucomicr...            True   \n",
       "d__Bacteria;p__Verrucomicrobiota_A;c__Chlamydii...           False   \n",
       "\n",
       "method                                              PATHWAY_ips  \\\n",
       "reference_genus                                                   \n",
       "d__Bacteria;p__Actinobacteriota;c__Actinomyceti...        False   \n",
       "d__Bacteria;p__Actinobacteriota;c__Actinomyceti...         True   \n",
       "d__Bacteria;p__Actinobacteriota;c__Actinomyceti...        False   \n",
       "d__Bacteria;p__Actinobacteriota;c__Actinomyceti...         True   \n",
       "d__Bacteria;p__Actinobacteriota;c__Actinomyceti...         True   \n",
       "...                                                         ...   \n",
       "d__Bacteria;p__Spirochaetota;c__Brachyspirae;o_...        False   \n",
       "d__Bacteria;p__Spirochaetota;c__Spirochaetia;o_...         True   \n",
       "d__Bacteria;p__Thermotogota;c__Thermotogae;o__P...        False   \n",
       "d__Bacteria;p__Verrucomicrobiota;c__Verrucomicr...         True   \n",
       "d__Bacteria;p__Verrucomicrobiota_A;c__Chlamydii...        False   \n",
       "\n",
       "method                                              REACTION.eggnog  \\\n",
       "reference_genus                                                       \n",
       "d__Bacteria;p__Actinobacteriota;c__Actinomyceti...             True   \n",
       "d__Bacteria;p__Actinobacteriota;c__Actinomyceti...             True   \n",
       "d__Bacteria;p__Actinobacteriota;c__Actinomyceti...            False   \n",
       "d__Bacteria;p__Actinobacteriota;c__Actinomyceti...             True   \n",
       "d__Bacteria;p__Actinobacteriota;c__Actinomyceti...             True   \n",
       "...                                                             ...   \n",
       "d__Bacteria;p__Spirochaetota;c__Brachyspirae;o_...             True   \n",
       "d__Bacteria;p__Spirochaetota;c__Spirochaetia;o_...             True   \n",
       "d__Bacteria;p__Thermotogota;c__Thermotogae;o__P...            False   \n",
       "d__Bacteria;p__Verrucomicrobiota;c__Verrucomicr...             True   \n",
       "d__Bacteria;p__Verrucomicrobiota_A;c__Chlamydii...            False   \n",
       "\n",
       "method                                              Reactome.ips  \\\n",
       "reference_genus                                                    \n",
       "d__Bacteria;p__Actinobacteriota;c__Actinomyceti...          True   \n",
       "d__Bacteria;p__Actinobacteriota;c__Actinomyceti...          True   \n",
       "d__Bacteria;p__Actinobacteriota;c__Actinomyceti...         False   \n",
       "d__Bacteria;p__Actinobacteriota;c__Actinomyceti...          True   \n",
       "d__Bacteria;p__Actinobacteriota;c__Actinomyceti...          True   \n",
       "...                                                          ...   \n",
       "d__Bacteria;p__Spirochaetota;c__Brachyspirae;o_...          True   \n",
       "d__Bacteria;p__Spirochaetota;c__Spirochaetia;o_...          True   \n",
       "d__Bacteria;p__Thermotogota;c__Thermotogae;o__P...         False   \n",
       "d__Bacteria;p__Verrucomicrobiota;c__Verrucomicr...          True   \n",
       "d__Bacteria;p__Verrucomicrobiota_A;c__Chlamydii...         False   \n",
       "\n",
       "method                                              all_annotations  taxonomy  \n",
       "reference_genus                                                                \n",
       "d__Bacteria;p__Actinobacteriota;c__Actinomyceti...             True      True  \n",
       "d__Bacteria;p__Actinobacteriota;c__Actinomyceti...             True      True  \n",
       "d__Bacteria;p__Actinobacteriota;c__Actinomyceti...             True     False  \n",
       "d__Bacteria;p__Actinobacteriota;c__Actinomyceti...             True      True  \n",
       "d__Bacteria;p__Actinobacteriota;c__Actinomyceti...             True      True  \n",
       "...                                                             ...       ...  \n",
       "d__Bacteria;p__Spirochaetota;c__Brachyspirae;o_...             True      True  \n",
       "d__Bacteria;p__Spirochaetota;c__Spirochaetia;o_...             True      True  \n",
       "d__Bacteria;p__Thermotogota;c__Thermotogae;o__P...            False     False  \n",
       "d__Bacteria;p__Verrucomicrobiota;c__Verrucomicr...             True      True  \n",
       "d__Bacteria;p__Verrucomicrobiota_A;c__Chlamydii...            False     False  \n",
       "\n",
       "[225 rows x 15 columns]"
      ],
      "text/html": [
       "<div>\n",
       "<style scoped>\n",
       "    .dataframe tbody tr th:only-of-type {\n",
       "        vertical-align: middle;\n",
       "    }\n",
       "\n",
       "    .dataframe tbody tr th {\n",
       "        vertical-align: top;\n",
       "    }\n",
       "\n",
       "    .dataframe thead th {\n",
       "        text-align: right;\n",
       "    }\n",
       "</style>\n",
       "<table border=\"1\" class=\"dataframe\">\n",
       "  <thead>\n",
       "    <tr style=\"text-align: right;\">\n",
       "      <th>method</th>\n",
       "      <th>CAZY.eggnog</th>\n",
       "      <th>ENZYME.eggnog</th>\n",
       "      <th>GO.eggnog</th>\n",
       "      <th>GO.ips</th>\n",
       "      <th>InterPro.FAMILY</th>\n",
       "      <th>InterPro.ips</th>\n",
       "      <th>KEGG.eggnog</th>\n",
       "      <th>MODULE.eggnog</th>\n",
       "      <th>MetaCyc.ips</th>\n",
       "      <th>PATHWAY_eggnog</th>\n",
       "      <th>PATHWAY_ips</th>\n",
       "      <th>REACTION.eggnog</th>\n",
       "      <th>Reactome.ips</th>\n",
       "      <th>all_annotations</th>\n",
       "      <th>taxonomy</th>\n",
       "    </tr>\n",
       "    <tr>\n",
       "      <th>reference_genus</th>\n",
       "      <th></th>\n",
       "      <th></th>\n",
       "      <th></th>\n",
       "      <th></th>\n",
       "      <th></th>\n",
       "      <th></th>\n",
       "      <th></th>\n",
       "      <th></th>\n",
       "      <th></th>\n",
       "      <th></th>\n",
       "      <th></th>\n",
       "      <th></th>\n",
       "      <th></th>\n",
       "      <th></th>\n",
       "      <th></th>\n",
       "    </tr>\n",
       "  </thead>\n",
       "  <tbody>\n",
       "    <tr>\n",
       "      <th>d__Bacteria;p__Actinobacteriota;c__Actinomycetia;o__Actinomycetales;f__Actinomycetaceae;g__Actinomyces</th>\n",
       "      <td>True</td>\n",
       "      <td>True</td>\n",
       "      <td>True</td>\n",
       "      <td>True</td>\n",
       "      <td>True</td>\n",
       "      <td>True</td>\n",
       "      <td>True</td>\n",
       "      <td>True</td>\n",
       "      <td>True</td>\n",
       "      <td>True</td>\n",
       "      <td>False</td>\n",
       "      <td>True</td>\n",
       "      <td>True</td>\n",
       "      <td>True</td>\n",
       "      <td>True</td>\n",
       "    </tr>\n",
       "    <tr>\n",
       "      <th>d__Bacteria;p__Actinobacteriota;c__Actinomycetia;o__Actinomycetales;f__Bifidobacteriaceae;g__Bifidobacterium</th>\n",
       "      <td>True</td>\n",
       "      <td>True</td>\n",
       "      <td>True</td>\n",
       "      <td>True</td>\n",
       "      <td>True</td>\n",
       "      <td>True</td>\n",
       "      <td>True</td>\n",
       "      <td>True</td>\n",
       "      <td>True</td>\n",
       "      <td>True</td>\n",
       "      <td>True</td>\n",
       "      <td>True</td>\n",
       "      <td>True</td>\n",
       "      <td>True</td>\n",
       "      <td>True</td>\n",
       "    </tr>\n",
       "    <tr>\n",
       "      <th>d__Bacteria;p__Actinobacteriota;c__Actinomycetia;o__Actinomycetales;f__Microbacteriaceae;g__Microbacterium</th>\n",
       "      <td>True</td>\n",
       "      <td>False</td>\n",
       "      <td>True</td>\n",
       "      <td>True</td>\n",
       "      <td>False</td>\n",
       "      <td>False</td>\n",
       "      <td>True</td>\n",
       "      <td>False</td>\n",
       "      <td>True</td>\n",
       "      <td>False</td>\n",
       "      <td>False</td>\n",
       "      <td>False</td>\n",
       "      <td>False</td>\n",
       "      <td>True</td>\n",
       "      <td>False</td>\n",
       "    </tr>\n",
       "    <tr>\n",
       "      <th>d__Bacteria;p__Actinobacteriota;c__Actinomycetia;o__Mycobacteriales;f__Mycobacteriaceae;g__Corynebacterium</th>\n",
       "      <td>True</td>\n",
       "      <td>True</td>\n",
       "      <td>True</td>\n",
       "      <td>True</td>\n",
       "      <td>True</td>\n",
       "      <td>True</td>\n",
       "      <td>True</td>\n",
       "      <td>True</td>\n",
       "      <td>True</td>\n",
       "      <td>True</td>\n",
       "      <td>True</td>\n",
       "      <td>True</td>\n",
       "      <td>True</td>\n",
       "      <td>True</td>\n",
       "      <td>True</td>\n",
       "    </tr>\n",
       "    <tr>\n",
       "      <th>d__Bacteria;p__Actinobacteriota;c__Actinomycetia;o__Propionibacteriales;f__Propionibacteriaceae;g__Cutibacterium</th>\n",
       "      <td>True</td>\n",
       "      <td>True</td>\n",
       "      <td>True</td>\n",
       "      <td>True</td>\n",
       "      <td>True</td>\n",
       "      <td>True</td>\n",
       "      <td>True</td>\n",
       "      <td>True</td>\n",
       "      <td>True</td>\n",
       "      <td>True</td>\n",
       "      <td>True</td>\n",
       "      <td>True</td>\n",
       "      <td>True</td>\n",
       "      <td>True</td>\n",
       "      <td>True</td>\n",
       "    </tr>\n",
       "    <tr>\n",
       "      <th>...</th>\n",
       "      <td>...</td>\n",
       "      <td>...</td>\n",
       "      <td>...</td>\n",
       "      <td>...</td>\n",
       "      <td>...</td>\n",
       "      <td>...</td>\n",
       "      <td>...</td>\n",
       "      <td>...</td>\n",
       "      <td>...</td>\n",
       "      <td>...</td>\n",
       "      <td>...</td>\n",
       "      <td>...</td>\n",
       "      <td>...</td>\n",
       "      <td>...</td>\n",
       "      <td>...</td>\n",
       "    </tr>\n",
       "    <tr>\n",
       "      <th>d__Bacteria;p__Spirochaetota;c__Brachyspirae;o__Brachyspirales;f__Brachyspiraceae;g__Brachyspira</th>\n",
       "      <td>True</td>\n",
       "      <td>True</td>\n",
       "      <td>True</td>\n",
       "      <td>True</td>\n",
       "      <td>True</td>\n",
       "      <td>True</td>\n",
       "      <td>True</td>\n",
       "      <td>True</td>\n",
       "      <td>True</td>\n",
       "      <td>True</td>\n",
       "      <td>False</td>\n",
       "      <td>True</td>\n",
       "      <td>True</td>\n",
       "      <td>True</td>\n",
       "      <td>True</td>\n",
       "    </tr>\n",
       "    <tr>\n",
       "      <th>d__Bacteria;p__Spirochaetota;c__Spirochaetia;o__Treponematales;f__Treponemataceae;g__Treponema_D</th>\n",
       "      <td>True</td>\n",
       "      <td>True</td>\n",
       "      <td>True</td>\n",
       "      <td>True</td>\n",
       "      <td>True</td>\n",
       "      <td>True</td>\n",
       "      <td>True</td>\n",
       "      <td>True</td>\n",
       "      <td>True</td>\n",
       "      <td>True</td>\n",
       "      <td>True</td>\n",
       "      <td>True</td>\n",
       "      <td>True</td>\n",
       "      <td>True</td>\n",
       "      <td>True</td>\n",
       "    </tr>\n",
       "    <tr>\n",
       "      <th>d__Bacteria;p__Thermotogota;c__Thermotogae;o__Petrotogales;f__Kosmotogaceae;g__Kosmotoga_B</th>\n",
       "      <td>True</td>\n",
       "      <td>False</td>\n",
       "      <td>False</td>\n",
       "      <td>False</td>\n",
       "      <td>False</td>\n",
       "      <td>False</td>\n",
       "      <td>False</td>\n",
       "      <td>False</td>\n",
       "      <td>False</td>\n",
       "      <td>False</td>\n",
       "      <td>False</td>\n",
       "      <td>False</td>\n",
       "      <td>False</td>\n",
       "      <td>False</td>\n",
       "      <td>False</td>\n",
       "    </tr>\n",
       "    <tr>\n",
       "      <th>d__Bacteria;p__Verrucomicrobiota;c__Verrucomicrobiae;o__Verrucomicrobiales;f__Akkermansiaceae;g__Akkermansia</th>\n",
       "      <td>True</td>\n",
       "      <td>True</td>\n",
       "      <td>True</td>\n",
       "      <td>True</td>\n",
       "      <td>True</td>\n",
       "      <td>True</td>\n",
       "      <td>True</td>\n",
       "      <td>True</td>\n",
       "      <td>True</td>\n",
       "      <td>True</td>\n",
       "      <td>True</td>\n",
       "      <td>True</td>\n",
       "      <td>True</td>\n",
       "      <td>True</td>\n",
       "      <td>True</td>\n",
       "    </tr>\n",
       "    <tr>\n",
       "      <th>d__Bacteria;p__Verrucomicrobiota_A;c__Chlamydiia;o__Chlamydiales;f__Chlamydiaceae;g__Chlamydia</th>\n",
       "      <td>True</td>\n",
       "      <td>False</td>\n",
       "      <td>False</td>\n",
       "      <td>False</td>\n",
       "      <td>False</td>\n",
       "      <td>False</td>\n",
       "      <td>False</td>\n",
       "      <td>False</td>\n",
       "      <td>False</td>\n",
       "      <td>False</td>\n",
       "      <td>False</td>\n",
       "      <td>False</td>\n",
       "      <td>False</td>\n",
       "      <td>False</td>\n",
       "      <td>False</td>\n",
       "    </tr>\n",
       "  </tbody>\n",
       "</table>\n",
       "<p>225 rows × 15 columns</p>\n",
       "</div>"
      ]
     },
     "execution_count": 47,
     "metadata": {},
     "output_type": "execute_result"
    }
   ],
   "execution_count": 47
  },
  {
   "metadata": {
    "ExecuteTime": {
     "end_time": "2024-06-13T12:20:40.018439Z",
     "start_time": "2024-06-13T12:20:40.013671Z"
    }
   },
   "cell_type": "code",
   "source": [
    "# Is all the method agree on the mapping? (With respect to genus level?) \n",
    "translation_maps.eq(translation_maps.iloc[:, 0], axis=0).all(axis=1).all()"
   ],
   "id": "ae2e07e2e7d281f4",
   "outputs": [
    {
     "data": {
      "text/plain": [
       "False"
      ]
     },
     "execution_count": 48,
     "metadata": {},
     "output_type": "execute_result"
    }
   ],
   "execution_count": 48
  },
  {
   "metadata": {
    "ExecuteTime": {
     "end_time": "2024-06-13T12:20:42.540222Z",
     "start_time": "2024-06-13T12:20:42.535583Z"
    }
   },
   "cell_type": "code",
   "source": [
    "# How many genus-level are the same for any distance metric? \n",
    "translation_maps.eq(translation_maps.iloc[:, 0], axis=0).all(axis=1).sum()"
   ],
   "id": "68ae3d46b944eb37",
   "outputs": [
    {
     "data": {
      "text/plain": [
       "68"
      ]
     },
     "execution_count": 49,
     "metadata": {},
     "output_type": "execute_result"
    }
   ],
   "execution_count": 49
  },
  {
   "metadata": {
    "ExecuteTime": {
     "end_time": "2024-06-13T12:20:44.941544Z",
     "start_time": "2024-06-13T12:20:44.936868Z"
    }
   },
   "cell_type": "code",
   "source": "translation_maps.eq(translation_maps.iloc[:, 0], axis=0).all(axis=1).sum() / translation_maps.shape[0] # less than 1/3 ! ",
   "id": "25d55fdd686cbf77",
   "outputs": [
    {
     "data": {
      "text/plain": [
       "0.3022222222222222"
      ]
     },
     "execution_count": 50,
     "metadata": {},
     "output_type": "execute_result"
    }
   ],
   "execution_count": 50
  },
  {
   "metadata": {},
   "cell_type": "markdown",
   "source": "How much taxonomy and function differ?",
   "id": "62c34de022f187f7"
  },
  {
   "metadata": {
    "ExecuteTime": {
     "end_time": "2024-06-13T12:20:47.929537Z",
     "start_time": "2024-06-13T12:20:47.925603Z"
    }
   },
   "cell_type": "code",
   "source": "(translation_maps['taxonomy'] == translation_maps['all_annotations']).sum()",
   "id": "18c527a5431cb9e4",
   "outputs": [
    {
     "data": {
      "text/plain": [
       "177"
      ]
     },
     "execution_count": 51,
     "metadata": {},
     "output_type": "execute_result"
    }
   ],
   "execution_count": 51
  },
  {
   "metadata": {
    "ExecuteTime": {
     "end_time": "2024-06-13T12:20:50.261599Z",
     "start_time": "2024-06-13T12:20:50.258075Z"
    }
   },
   "cell_type": "code",
   "source": "(translation_maps['taxonomy'] == translation_maps['all_annotations']).sum() / translation_maps.shape[0] # Taxonomy and functional (based on all_annotations) mostly agree (agree in 177 out of 226 of the genus, which is 78%)",
   "id": "60eb36e301d8a079",
   "outputs": [
    {
     "data": {
      "text/plain": [
       "0.7866666666666666"
      ]
     },
     "execution_count": 52,
     "metadata": {},
     "output_type": "execute_result"
    }
   ],
   "execution_count": 52
  },
  {
   "metadata": {
    "ExecuteTime": {
     "end_time": "2024-06-13T12:20:53.045102Z",
     "start_time": "2024-06-13T12:20:53.039001Z"
    }
   },
   "cell_type": "code",
   "source": "translation_maps[(translation_maps['taxonomy'] != translation_maps['all_annotations'])][['taxonomy', 'all_annotations']]",
   "id": "32a869d06e8248de",
   "outputs": [
    {
     "data": {
      "text/plain": [
       "method                                                                                       taxonomy  \\\n",
       "reference_genus                                                                                         \n",
       "d__Bacteria;p__Actinobacteriota;c__Actinomyceti...  d__Bacteria;p__Actinobacteriota;c__Actinomycet...   \n",
       "d__Bacteria;p__Actinobacteriota;c__Coriobacteri...  d__Bacteria;p__Actinobacteriota;c__Coriobacter...   \n",
       "d__Bacteria;p__Actinobacteriota;c__Coriobacteri...                                                NaN   \n",
       "d__Bacteria;p__Bacteroidota;c__Bacteroidia;o__B...  d__Bacteria;p__Bacteroidota;c__Bacteroidia;o__...   \n",
       "d__Bacteria;p__Bacteroidota;c__Bacteroidia;o__B...                                                NaN   \n",
       "d__Bacteria;p__Cyanobacteria;c__Vampirovibrioni...  d__Bacteria;p__Cyanobacteria;c__Vampirovibrion...   \n",
       "d__Bacteria;p__Deferribacterota;c__Deferribacte...                                                NaN   \n",
       "d__Bacteria;p__Firmicutes;c__Bacilli;o__Bacilla...  d__Bacteria;p__Firmicutes;c__Bacilli;o__Bacill...   \n",
       "d__Bacteria;p__Firmicutes;c__Bacilli;o__Erysipe...  d__Bacteria;p__Firmicutes;c__Bacilli;o__Erysip...   \n",
       "d__Bacteria;p__Firmicutes;c__Bacilli;o__Erysipe...  d__Bacteria;p__Firmicutes;c__Bacilli;o__Erysip...   \n",
       "d__Bacteria;p__Firmicutes;c__Bacilli;o__Erysipe...  d__Bacteria;p__Firmicutes;c__Bacilli;o__Erysip...   \n",
       "d__Bacteria;p__Firmicutes;c__Bacilli;o__Erysipe...  d__Bacteria;p__Firmicutes;c__Bacilli;o__Erysip...   \n",
       "d__Bacteria;p__Firmicutes;c__Bacilli;o__Erysipe...  d__Bacteria;p__Firmicutes;c__Bacilli;o__Erysip...   \n",
       "d__Bacteria;p__Firmicutes;c__Bacilli;o__Lactoba...  d__Bacteria;p__Firmicutes;c__Bacilli;o__Lactob...   \n",
       "d__Bacteria;p__Firmicutes;c__Bacilli;o__Mycopla...  d__Bacteria;p__Firmicutes;c__Bacilli;o__Halopl...   \n",
       "d__Bacteria;p__Firmicutes;c__Bacilli;o__RF39;f_...  d__Bacteria;p__Firmicutes;c__Bacilli;o__RF39;f...   \n",
       "d__Bacteria;p__Firmicutes;c__Bacilli;o__RF39;f_...  d__Bacteria;p__Firmicutes;c__Bacilli;o__RF39;f...   \n",
       "d__Bacteria;p__Firmicutes;c__Bacilli;o__RF39;f_...  d__Bacteria;p__Firmicutes;c__Bacilli;o__RF39;f...   \n",
       "d__Bacteria;p__Firmicutes_A;c__Clostridia;o__Cl...  d__Bacteria;p__Firmicutes_A;c__Clostridia;o__C...   \n",
       "d__Bacteria;p__Firmicutes_A;c__Clostridia;o__La...  d__Bacteria;p__Firmicutes_A;c__Clostridia;o__L...   \n",
       "d__Bacteria;p__Firmicutes_A;c__Clostridia;o__La...  d__Bacteria;p__Firmicutes_A;c__Clostridia;o__L...   \n",
       "d__Bacteria;p__Firmicutes_A;c__Clostridia;o__La...  d__Bacteria;p__Firmicutes_A;c__Clostridia;o__L...   \n",
       "d__Bacteria;p__Firmicutes_A;c__Clostridia;o__La...  d__Bacteria;p__Firmicutes_A;c__Clostridia;o__L...   \n",
       "d__Bacteria;p__Firmicutes_A;c__Clostridia;o__La...  d__Bacteria;p__Firmicutes_A;c__Clostridia;o__L...   \n",
       "d__Bacteria;p__Firmicutes_A;c__Clostridia;o__La...  d__Bacteria;p__Firmicutes_A;c__Clostridia;o__L...   \n",
       "d__Bacteria;p__Firmicutes_A;c__Clostridia;o__La...  d__Bacteria;p__Firmicutes_A;c__Clostridia;o__L...   \n",
       "d__Bacteria;p__Firmicutes_A;c__Clostridia;o__La...  d__Bacteria;p__Firmicutes_A;c__Clostridia;o__L...   \n",
       "d__Bacteria;p__Firmicutes_A;c__Clostridia;o__La...  d__Bacteria;p__Firmicutes_A;c__Clostridia;o__L...   \n",
       "d__Bacteria;p__Firmicutes_A;c__Clostridia;o__La...  d__Bacteria;p__Firmicutes_A;c__Clostridia;o__L...   \n",
       "d__Bacteria;p__Firmicutes_A;c__Clostridia;o__La...  d__Bacteria;p__Firmicutes_A;c__Clostridia;o__L...   \n",
       "d__Bacteria;p__Firmicutes_A;c__Clostridia;o__La...  d__Bacteria;p__Firmicutes_A;c__Clostridia;o__L...   \n",
       "d__Bacteria;p__Firmicutes_A;c__Clostridia;o__La...                                                NaN   \n",
       "d__Bacteria;p__Firmicutes_A;c__Clostridia;o__La...  d__Bacteria;p__Firmicutes_A;c__Clostridia;o__L...   \n",
       "d__Bacteria;p__Firmicutes_A;c__Clostridia;o__La...  d__Bacteria;p__Firmicutes_A;c__Clostridia;o__L...   \n",
       "d__Bacteria;p__Firmicutes_A;c__Clostridia;o__Os...                                                NaN   \n",
       "d__Bacteria;p__Firmicutes_A;c__Clostridia;o__Os...  d__Bacteria;p__Firmicutes_A;c__Clostridia;o__O...   \n",
       "d__Bacteria;p__Firmicutes_A;c__Clostridia;o__Os...  d__Bacteria;p__Firmicutes_A;c__Clostridia;o__O...   \n",
       "d__Bacteria;p__Firmicutes_A;c__Clostridia;o__Os...  d__Bacteria;p__Firmicutes_A;c__Clostridia;o__O...   \n",
       "d__Bacteria;p__Firmicutes_A;c__Clostridia;o__TA...  d__Bacteria;p__Firmicutes_A;c__Clostridia;o__T...   \n",
       "d__Bacteria;p__Firmicutes_A;c__Clostridia;o__Ti...  d__Bacteria;p__Firmicutes_A;c__Clostridia;o__T...   \n",
       "d__Bacteria;p__Firmicutes_A;c__Clostridia;o__Ti...  d__Bacteria;p__Firmicutes_A;c__Clostridia;o__T...   \n",
       "d__Bacteria;p__Firmicutes_A;c__Clostridia_A;o__...  d__Bacteria;p__Firmicutes_A;c__Clostridia_A;o_...   \n",
       "d__Bacteria;p__Firmicutes_A;c__Clostridia_A;o__...  d__Bacteria;p__Firmicutes_A;c__Clostridia_A;o_...   \n",
       "d__Bacteria;p__Firmicutes_A;c__Clostridia_A;o__...                                                NaN   \n",
       "d__Bacteria;p__Firmicutes_A;c__Clostridia_A;o__...                                                NaN   \n",
       "d__Bacteria;p__Proteobacteria;c__Gammaproteobac...  d__Bacteria;p__Proteobacteria;c__Gammaproteoba...   \n",
       "d__Bacteria;p__Thermotogota;c__Thermotogae;o__P...                                                NaN   \n",
       "d__Bacteria;p__Verrucomicrobiota_A;c__Chlamydii...                                                NaN   \n",
       "\n",
       "method                                                                                all_annotations  \n",
       "reference_genus                                                                                        \n",
       "d__Bacteria;p__Actinobacteriota;c__Actinomyceti...  d__Bacteria;p__Actinobacteriota;c__Actinomycet...  \n",
       "d__Bacteria;p__Actinobacteriota;c__Coriobacteri...  d__Bacteria;p__Actinobacteriota;c__Coriobacter...  \n",
       "d__Bacteria;p__Actinobacteriota;c__Coriobacteri...  d__Bacteria;p__Actinobacteriota;c__Coriobacter...  \n",
       "d__Bacteria;p__Bacteroidota;c__Bacteroidia;o__B...  d__Bacteria;p__Bacteroidota;c__Bacteroidia;o__...  \n",
       "d__Bacteria;p__Bacteroidota;c__Bacteroidia;o__B...  d__Bacteria;p__Bacteroidota;c__Bacteroidia;o__...  \n",
       "d__Bacteria;p__Cyanobacteria;c__Vampirovibrioni...  d__Bacteria;p__Cyanobacteria;c__Vampirovibrion...  \n",
       "d__Bacteria;p__Deferribacterota;c__Deferribacte...  d__Bacteria;p__Campylobacterota;c__Campylobact...  \n",
       "d__Bacteria;p__Firmicutes;c__Bacilli;o__Bacilla...  d__Bacteria;p__Firmicutes;c__Bacilli;o__Bacill...  \n",
       "d__Bacteria;p__Firmicutes;c__Bacilli;o__Erysipe...  d__Bacteria;p__Firmicutes;c__Bacilli;o__Erysip...  \n",
       "d__Bacteria;p__Firmicutes;c__Bacilli;o__Erysipe...  d__Bacteria;p__Firmicutes;c__Bacilli;o__Erysip...  \n",
       "d__Bacteria;p__Firmicutes;c__Bacilli;o__Erysipe...  d__Bacteria;p__Firmicutes;c__Bacilli;o__Erysip...  \n",
       "d__Bacteria;p__Firmicutes;c__Bacilli;o__Erysipe...  d__Bacteria;p__Firmicutes;c__Bacilli;o__Erysip...  \n",
       "d__Bacteria;p__Firmicutes;c__Bacilli;o__Erysipe...  d__Bacteria;p__Firmicutes;c__Bacilli;o__Erysip...  \n",
       "d__Bacteria;p__Firmicutes;c__Bacilli;o__Lactoba...  d__Bacteria;p__Firmicutes;c__Bacilli;o__Lactob...  \n",
       "d__Bacteria;p__Firmicutes;c__Bacilli;o__Mycopla...  d__Bacteria;p__Firmicutes;c__Bacilli;o__Mycopl...  \n",
       "d__Bacteria;p__Firmicutes;c__Bacilli;o__RF39;f_...  d__Bacteria;p__Firmicutes;c__Bacilli;o__RF39;f...  \n",
       "d__Bacteria;p__Firmicutes;c__Bacilli;o__RF39;f_...  d__Bacteria;p__Firmicutes;c__Bacilli;o__RF39;f...  \n",
       "d__Bacteria;p__Firmicutes;c__Bacilli;o__RF39;f_...  d__Bacteria;p__Firmicutes;c__Bacilli;o__RF39;f...  \n",
       "d__Bacteria;p__Firmicutes_A;c__Clostridia;o__Cl...  d__Bacteria;p__Firmicutes_A;c__Clostridia;o__C...  \n",
       "d__Bacteria;p__Firmicutes_A;c__Clostridia;o__La...  d__Bacteria;p__Firmicutes_A;c__Clostridia;o__L...  \n",
       "d__Bacteria;p__Firmicutes_A;c__Clostridia;o__La...  d__Bacteria;p__Firmicutes_A;c__Clostridia;o__L...  \n",
       "d__Bacteria;p__Firmicutes_A;c__Clostridia;o__La...  d__Bacteria;p__Firmicutes_A;c__Clostridia;o__L...  \n",
       "d__Bacteria;p__Firmicutes_A;c__Clostridia;o__La...  d__Bacteria;p__Firmicutes_A;c__Clostridia;o__L...  \n",
       "d__Bacteria;p__Firmicutes_A;c__Clostridia;o__La...  d__Bacteria;p__Firmicutes_A;c__Clostridia;o__L...  \n",
       "d__Bacteria;p__Firmicutes_A;c__Clostridia;o__La...  d__Bacteria;p__Firmicutes_A;c__Clostridia;o__L...  \n",
       "d__Bacteria;p__Firmicutes_A;c__Clostridia;o__La...  d__Bacteria;p__Firmicutes_A;c__Clostridia;o__L...  \n",
       "d__Bacteria;p__Firmicutes_A;c__Clostridia;o__La...  d__Bacteria;p__Firmicutes_A;c__Clostridia;o__L...  \n",
       "d__Bacteria;p__Firmicutes_A;c__Clostridia;o__La...  d__Bacteria;p__Firmicutes_A;c__Clostridia;o__L...  \n",
       "d__Bacteria;p__Firmicutes_A;c__Clostridia;o__La...  d__Bacteria;p__Firmicutes_A;c__Clostridia;o__L...  \n",
       "d__Bacteria;p__Firmicutes_A;c__Clostridia;o__La...  d__Bacteria;p__Firmicutes_A;c__Clostridia;o__L...  \n",
       "d__Bacteria;p__Firmicutes_A;c__Clostridia;o__La...  d__Bacteria;p__Firmicutes_A;c__Clostridia;o__L...  \n",
       "d__Bacteria;p__Firmicutes_A;c__Clostridia;o__La...  d__Bacteria;p__Firmicutes_A;c__Clostridia;o__L...  \n",
       "d__Bacteria;p__Firmicutes_A;c__Clostridia;o__La...  d__Bacteria;p__Firmicutes_A;c__Clostridia;o__L...  \n",
       "d__Bacteria;p__Firmicutes_A;c__Clostridia;o__La...  d__Bacteria;p__Firmicutes_A;c__Clostridia;o__L...  \n",
       "d__Bacteria;p__Firmicutes_A;c__Clostridia;o__Os...  d__Bacteria;p__Firmicutes_A;c__Clostridia;o__O...  \n",
       "d__Bacteria;p__Firmicutes_A;c__Clostridia;o__Os...  d__Bacteria;p__Firmicutes_A;c__Clostridia;o__O...  \n",
       "d__Bacteria;p__Firmicutes_A;c__Clostridia;o__Os...                                                NaN  \n",
       "d__Bacteria;p__Firmicutes_A;c__Clostridia;o__Os...  d__Bacteria;p__Firmicutes_A;c__Clostridia;o__O...  \n",
       "d__Bacteria;p__Firmicutes_A;c__Clostridia;o__TA...  d__Bacteria;p__Firmicutes_A;c__Clostridia;o__T...  \n",
       "d__Bacteria;p__Firmicutes_A;c__Clostridia;o__Ti...  d__Bacteria;p__Firmicutes_A;c__Clostridia;o__T...  \n",
       "d__Bacteria;p__Firmicutes_A;c__Clostridia;o__Ti...  d__Bacteria;p__Firmicutes_A;c__Clostridia;o__T...  \n",
       "d__Bacteria;p__Firmicutes_A;c__Clostridia_A;o__...  d__Bacteria;p__Firmicutes_A;c__Clostridia_A;o_...  \n",
       "d__Bacteria;p__Firmicutes_A;c__Clostridia_A;o__...  d__Bacteria;p__Firmicutes_A;c__Clostridia_A;o_...  \n",
       "d__Bacteria;p__Firmicutes_A;c__Clostridia_A;o__...  d__Bacteria;p__Firmicutes_A;c__Clostridia_A;o_...  \n",
       "d__Bacteria;p__Firmicutes_A;c__Clostridia_A;o__...  d__Bacteria;p__Firmicutes_A;c__Clostridia_A;o_...  \n",
       "d__Bacteria;p__Proteobacteria;c__Gammaproteobac...  d__Bacteria;p__Proteobacteria;c__Gammaproteoba...  \n",
       "d__Bacteria;p__Thermotogota;c__Thermotogae;o__P...  d__Bacteria;p__Synergistota;c__Synergistia;o__...  \n",
       "d__Bacteria;p__Verrucomicrobiota_A;c__Chlamydii...  d__Bacteria;p__Proteobacteria;c__Alphaproteoba...  "
      ],
      "text/html": [
       "<div>\n",
       "<style scoped>\n",
       "    .dataframe tbody tr th:only-of-type {\n",
       "        vertical-align: middle;\n",
       "    }\n",
       "\n",
       "    .dataframe tbody tr th {\n",
       "        vertical-align: top;\n",
       "    }\n",
       "\n",
       "    .dataframe thead th {\n",
       "        text-align: right;\n",
       "    }\n",
       "</style>\n",
       "<table border=\"1\" class=\"dataframe\">\n",
       "  <thead>\n",
       "    <tr style=\"text-align: right;\">\n",
       "      <th>method</th>\n",
       "      <th>taxonomy</th>\n",
       "      <th>all_annotations</th>\n",
       "    </tr>\n",
       "    <tr>\n",
       "      <th>reference_genus</th>\n",
       "      <th></th>\n",
       "      <th></th>\n",
       "    </tr>\n",
       "  </thead>\n",
       "  <tbody>\n",
       "    <tr>\n",
       "      <th>d__Bacteria;p__Actinobacteriota;c__Actinomycetia;o__Actinomycetales;f__Microbacteriaceae;g__Microbacterium</th>\n",
       "      <td>d__Bacteria;p__Actinobacteriota;c__Actinomycet...</td>\n",
       "      <td>d__Bacteria;p__Actinobacteriota;c__Actinomycet...</td>\n",
       "    </tr>\n",
       "    <tr>\n",
       "      <th>d__Bacteria;p__Actinobacteriota;c__Coriobacteriia;o__Coriobacteriales;f__Eggerthellaceae;g__D16-34</th>\n",
       "      <td>d__Bacteria;p__Actinobacteriota;c__Coriobacter...</td>\n",
       "      <td>d__Bacteria;p__Actinobacteriota;c__Coriobacter...</td>\n",
       "    </tr>\n",
       "    <tr>\n",
       "      <th>d__Bacteria;p__Actinobacteriota;c__Coriobacteriia;o__Coriobacteriales;f__Eggerthellaceae;g__D16-63</th>\n",
       "      <td>NaN</td>\n",
       "      <td>d__Bacteria;p__Actinobacteriota;c__Coriobacter...</td>\n",
       "    </tr>\n",
       "    <tr>\n",
       "      <th>d__Bacteria;p__Bacteroidota;c__Bacteroidia;o__Bacteroidales;f__Muribaculaceae;g__M3</th>\n",
       "      <td>d__Bacteria;p__Bacteroidota;c__Bacteroidia;o__...</td>\n",
       "      <td>d__Bacteria;p__Bacteroidota;c__Bacteroidia;o__...</td>\n",
       "    </tr>\n",
       "    <tr>\n",
       "      <th>d__Bacteria;p__Bacteroidota;c__Bacteroidia;o__Bacteroidales;f__Rikenellaceae;g__Rikenella</th>\n",
       "      <td>NaN</td>\n",
       "      <td>d__Bacteria;p__Bacteroidota;c__Bacteroidia;o__...</td>\n",
       "    </tr>\n",
       "    <tr>\n",
       "      <th>d__Bacteria;p__Cyanobacteria;c__Vampirovibrionia;o__Gastranaerophilales;f__Gastranaerophilaceae;g__Zag1</th>\n",
       "      <td>d__Bacteria;p__Cyanobacteria;c__Vampirovibrion...</td>\n",
       "      <td>d__Bacteria;p__Cyanobacteria;c__Vampirovibrion...</td>\n",
       "    </tr>\n",
       "    <tr>\n",
       "      <th>d__Bacteria;p__Deferribacterota;c__Deferribacteres;o__Deferribacterales;f__Mucispirillaceae;g__Mucispirillum</th>\n",
       "      <td>NaN</td>\n",
       "      <td>d__Bacteria;p__Campylobacterota;c__Campylobact...</td>\n",
       "    </tr>\n",
       "    <tr>\n",
       "      <th>d__Bacteria;p__Firmicutes;c__Bacilli;o__Bacillales;f__Bacillaceae_A;g__Bacillus_AC</th>\n",
       "      <td>d__Bacteria;p__Firmicutes;c__Bacilli;o__Bacill...</td>\n",
       "      <td>d__Bacteria;p__Firmicutes;c__Bacilli;o__Bacill...</td>\n",
       "    </tr>\n",
       "    <tr>\n",
       "      <th>d__Bacteria;p__Firmicutes;c__Bacilli;o__Erysipelotrichales;f__Erysipelatoclostridiaceae;g__CHKCI006</th>\n",
       "      <td>d__Bacteria;p__Firmicutes;c__Bacilli;o__Erysip...</td>\n",
       "      <td>d__Bacteria;p__Firmicutes;c__Bacilli;o__Erysip...</td>\n",
       "    </tr>\n",
       "    <tr>\n",
       "      <th>d__Bacteria;p__Firmicutes;c__Bacilli;o__Erysipelotrichales;f__Erysipelotrichaceae;g__Allobaculum</th>\n",
       "      <td>d__Bacteria;p__Firmicutes;c__Bacilli;o__Erysip...</td>\n",
       "      <td>d__Bacteria;p__Firmicutes;c__Bacilli;o__Erysip...</td>\n",
       "    </tr>\n",
       "    <tr>\n",
       "      <th>d__Bacteria;p__Firmicutes;c__Bacilli;o__Erysipelotrichales;f__Erysipelotrichaceae;g__Dubosiella</th>\n",
       "      <td>d__Bacteria;p__Firmicutes;c__Bacilli;o__Erysip...</td>\n",
       "      <td>d__Bacteria;p__Firmicutes;c__Bacilli;o__Erysip...</td>\n",
       "    </tr>\n",
       "    <tr>\n",
       "      <th>d__Bacteria;p__Firmicutes;c__Bacilli;o__Erysipelotrichales;f__Erysipelotrichaceae;g__Faecalibaculum</th>\n",
       "      <td>d__Bacteria;p__Firmicutes;c__Bacilli;o__Erysip...</td>\n",
       "      <td>d__Bacteria;p__Firmicutes;c__Bacilli;o__Erysip...</td>\n",
       "    </tr>\n",
       "    <tr>\n",
       "      <th>d__Bacteria;p__Firmicutes;c__Bacilli;o__Erysipelotrichales;f__Erysipelotrichaceae;g__Ileibacterium</th>\n",
       "      <td>d__Bacteria;p__Firmicutes;c__Bacilli;o__Erysip...</td>\n",
       "      <td>d__Bacteria;p__Firmicutes;c__Bacilli;o__Erysip...</td>\n",
       "    </tr>\n",
       "    <tr>\n",
       "      <th>d__Bacteria;p__Firmicutes;c__Bacilli;o__Lactobacillales;f__Carnobacteriaceae;g__Atopostipes</th>\n",
       "      <td>d__Bacteria;p__Firmicutes;c__Bacilli;o__Lactob...</td>\n",
       "      <td>d__Bacteria;p__Firmicutes;c__Bacilli;o__Lactob...</td>\n",
       "    </tr>\n",
       "    <tr>\n",
       "      <th>d__Bacteria;p__Firmicutes;c__Bacilli;o__Mycoplasmatales;f__Metamycoplasmataceae;g__UBA710</th>\n",
       "      <td>d__Bacteria;p__Firmicutes;c__Bacilli;o__Halopl...</td>\n",
       "      <td>d__Bacteria;p__Firmicutes;c__Bacilli;o__Mycopl...</td>\n",
       "    </tr>\n",
       "    <tr>\n",
       "      <th>d__Bacteria;p__Firmicutes;c__Bacilli;o__RF39;f__CAG-611;g__UBA2730</th>\n",
       "      <td>d__Bacteria;p__Firmicutes;c__Bacilli;o__RF39;f...</td>\n",
       "      <td>d__Bacteria;p__Firmicutes;c__Bacilli;o__RF39;f...</td>\n",
       "    </tr>\n",
       "    <tr>\n",
       "      <th>d__Bacteria;p__Firmicutes;c__Bacilli;o__RF39;f__CAG-611;g__UBA3789</th>\n",
       "      <td>d__Bacteria;p__Firmicutes;c__Bacilli;o__RF39;f...</td>\n",
       "      <td>d__Bacteria;p__Firmicutes;c__Bacilli;o__RF39;f...</td>\n",
       "    </tr>\n",
       "    <tr>\n",
       "      <th>d__Bacteria;p__Firmicutes;c__Bacilli;o__RF39;f__CAG-822;g__UBA5578</th>\n",
       "      <td>d__Bacteria;p__Firmicutes;c__Bacilli;o__RF39;f...</td>\n",
       "      <td>d__Bacteria;p__Firmicutes;c__Bacilli;o__RF39;f...</td>\n",
       "    </tr>\n",
       "    <tr>\n",
       "      <th>d__Bacteria;p__Firmicutes_A;c__Clostridia;o__Clostridiales;f__Savagellaceae;g__Savagella</th>\n",
       "      <td>d__Bacteria;p__Firmicutes_A;c__Clostridia;o__C...</td>\n",
       "      <td>d__Bacteria;p__Firmicutes_A;c__Clostridia;o__C...</td>\n",
       "    </tr>\n",
       "    <tr>\n",
       "      <th>d__Bacteria;p__Firmicutes_A;c__Clostridia;o__Lachnospirales;f__Lachnospiraceae;g__14-2</th>\n",
       "      <td>d__Bacteria;p__Firmicutes_A;c__Clostridia;o__L...</td>\n",
       "      <td>d__Bacteria;p__Firmicutes_A;c__Clostridia;o__L...</td>\n",
       "    </tr>\n",
       "    <tr>\n",
       "      <th>d__Bacteria;p__Firmicutes_A;c__Clostridia;o__Lachnospirales;f__Lachnospiraceae;g__1XD42-69</th>\n",
       "      <td>d__Bacteria;p__Firmicutes_A;c__Clostridia;o__L...</td>\n",
       "      <td>d__Bacteria;p__Firmicutes_A;c__Clostridia;o__L...</td>\n",
       "    </tr>\n",
       "    <tr>\n",
       "      <th>d__Bacteria;p__Firmicutes_A;c__Clostridia;o__Lachnospirales;f__Lachnospiraceae;g__1XD8-76</th>\n",
       "      <td>d__Bacteria;p__Firmicutes_A;c__Clostridia;o__L...</td>\n",
       "      <td>d__Bacteria;p__Firmicutes_A;c__Clostridia;o__L...</td>\n",
       "    </tr>\n",
       "    <tr>\n",
       "      <th>d__Bacteria;p__Firmicutes_A;c__Clostridia;o__Lachnospirales;f__Lachnospiraceae;g__AF33-28</th>\n",
       "      <td>d__Bacteria;p__Firmicutes_A;c__Clostridia;o__L...</td>\n",
       "      <td>d__Bacteria;p__Firmicutes_A;c__Clostridia;o__L...</td>\n",
       "    </tr>\n",
       "    <tr>\n",
       "      <th>d__Bacteria;p__Firmicutes_A;c__Clostridia;o__Lachnospirales;f__Lachnospiraceae;g__Acetatifactor</th>\n",
       "      <td>d__Bacteria;p__Firmicutes_A;c__Clostridia;o__L...</td>\n",
       "      <td>d__Bacteria;p__Firmicutes_A;c__Clostridia;o__L...</td>\n",
       "    </tr>\n",
       "    <tr>\n",
       "      <th>d__Bacteria;p__Firmicutes_A;c__Clostridia;o__Lachnospirales;f__Lachnospiraceae;g__C-53</th>\n",
       "      <td>d__Bacteria;p__Firmicutes_A;c__Clostridia;o__L...</td>\n",
       "      <td>d__Bacteria;p__Firmicutes_A;c__Clostridia;o__L...</td>\n",
       "    </tr>\n",
       "    <tr>\n",
       "      <th>d__Bacteria;p__Firmicutes_A;c__Clostridia;o__Lachnospirales;f__Lachnospiraceae;g__Clostridium_Q</th>\n",
       "      <td>d__Bacteria;p__Firmicutes_A;c__Clostridia;o__L...</td>\n",
       "      <td>d__Bacteria;p__Firmicutes_A;c__Clostridia;o__L...</td>\n",
       "    </tr>\n",
       "    <tr>\n",
       "      <th>d__Bacteria;p__Firmicutes_A;c__Clostridia;o__Lachnospirales;f__Lachnospiraceae;g__Cuneatibacter</th>\n",
       "      <td>d__Bacteria;p__Firmicutes_A;c__Clostridia;o__L...</td>\n",
       "      <td>d__Bacteria;p__Firmicutes_A;c__Clostridia;o__L...</td>\n",
       "    </tr>\n",
       "    <tr>\n",
       "      <th>d__Bacteria;p__Firmicutes_A;c__Clostridia;o__Lachnospirales;f__Lachnospiraceae;g__Eubacterium_J</th>\n",
       "      <td>d__Bacteria;p__Firmicutes_A;c__Clostridia;o__L...</td>\n",
       "      <td>d__Bacteria;p__Firmicutes_A;c__Clostridia;o__L...</td>\n",
       "    </tr>\n",
       "    <tr>\n",
       "      <th>d__Bacteria;p__Firmicutes_A;c__Clostridia;o__Lachnospirales;f__Lachnospiraceae;g__Hungatella_A</th>\n",
       "      <td>d__Bacteria;p__Firmicutes_A;c__Clostridia;o__L...</td>\n",
       "      <td>d__Bacteria;p__Firmicutes_A;c__Clostridia;o__L...</td>\n",
       "    </tr>\n",
       "    <tr>\n",
       "      <th>d__Bacteria;p__Firmicutes_A;c__Clostridia;o__Lachnospirales;f__Lachnospiraceae;g__Kineothrix</th>\n",
       "      <td>d__Bacteria;p__Firmicutes_A;c__Clostridia;o__L...</td>\n",
       "      <td>d__Bacteria;p__Firmicutes_A;c__Clostridia;o__L...</td>\n",
       "    </tr>\n",
       "    <tr>\n",
       "      <th>d__Bacteria;p__Firmicutes_A;c__Clostridia;o__Lachnospirales;f__Lachnospiraceae;g__UBA11957</th>\n",
       "      <td>d__Bacteria;p__Firmicutes_A;c__Clostridia;o__L...</td>\n",
       "      <td>d__Bacteria;p__Firmicutes_A;c__Clostridia;o__L...</td>\n",
       "    </tr>\n",
       "    <tr>\n",
       "      <th>d__Bacteria;p__Firmicutes_A;c__Clostridia;o__Lachnospirales;f__Lachnospiraceae;g__UBA3282</th>\n",
       "      <td>NaN</td>\n",
       "      <td>d__Bacteria;p__Firmicutes_A;c__Clostridia;o__L...</td>\n",
       "    </tr>\n",
       "    <tr>\n",
       "      <th>d__Bacteria;p__Firmicutes_A;c__Clostridia;o__Lachnospirales;f__Lachnospiraceae;g__UBA7050</th>\n",
       "      <td>d__Bacteria;p__Firmicutes_A;c__Clostridia;o__L...</td>\n",
       "      <td>d__Bacteria;p__Firmicutes_A;c__Clostridia;o__L...</td>\n",
       "    </tr>\n",
       "    <tr>\n",
       "      <th>d__Bacteria;p__Firmicutes_A;c__Clostridia;o__Lachnospirales;f__Lachnospiraceae;g__UMGS1370</th>\n",
       "      <td>d__Bacteria;p__Firmicutes_A;c__Clostridia;o__L...</td>\n",
       "      <td>d__Bacteria;p__Firmicutes_A;c__Clostridia;o__L...</td>\n",
       "    </tr>\n",
       "    <tr>\n",
       "      <th>d__Bacteria;p__Firmicutes_A;c__Clostridia;o__Oscillospirales;f__Oscillospiraceae;g__UMGS1872</th>\n",
       "      <td>NaN</td>\n",
       "      <td>d__Bacteria;p__Firmicutes_A;c__Clostridia;o__O...</td>\n",
       "    </tr>\n",
       "    <tr>\n",
       "      <th>d__Bacteria;p__Firmicutes_A;c__Clostridia;o__Oscillospirales;f__Ruminococcaceae;g__Angelakisella</th>\n",
       "      <td>d__Bacteria;p__Firmicutes_A;c__Clostridia;o__O...</td>\n",
       "      <td>d__Bacteria;p__Firmicutes_A;c__Clostridia;o__O...</td>\n",
       "    </tr>\n",
       "    <tr>\n",
       "      <th>d__Bacteria;p__Firmicutes_A;c__Clostridia;o__Oscillospirales;f__Ruminococcaceae;g__Ruminococcus_C</th>\n",
       "      <td>d__Bacteria;p__Firmicutes_A;c__Clostridia;o__O...</td>\n",
       "      <td>NaN</td>\n",
       "    </tr>\n",
       "    <tr>\n",
       "      <th>d__Bacteria;p__Firmicutes_A;c__Clostridia;o__Oscillospirales;f__Ruminococcaceae;g__UBA1405</th>\n",
       "      <td>d__Bacteria;p__Firmicutes_A;c__Clostridia;o__O...</td>\n",
       "      <td>d__Bacteria;p__Firmicutes_A;c__Clostridia;o__O...</td>\n",
       "    </tr>\n",
       "    <tr>\n",
       "      <th>d__Bacteria;p__Firmicutes_A;c__Clostridia;o__TANB77;f__CAG-508;g__CAG-273</th>\n",
       "      <td>d__Bacteria;p__Firmicutes_A;c__Clostridia;o__T...</td>\n",
       "      <td>d__Bacteria;p__Firmicutes_A;c__Clostridia;o__T...</td>\n",
       "    </tr>\n",
       "    <tr>\n",
       "      <th>d__Bacteria;p__Firmicutes_A;c__Clostridia;o__Tissierellales;f__Caloranaerobacteraceae;g__Caloranaerobacter</th>\n",
       "      <td>d__Bacteria;p__Firmicutes_A;c__Clostridia;o__T...</td>\n",
       "      <td>d__Bacteria;p__Firmicutes_A;c__Clostridia;o__T...</td>\n",
       "    </tr>\n",
       "    <tr>\n",
       "      <th>d__Bacteria;p__Firmicutes_A;c__Clostridia;o__Tissierellales;f__SIT17;g__Senegalia</th>\n",
       "      <td>d__Bacteria;p__Firmicutes_A;c__Clostridia;o__T...</td>\n",
       "      <td>d__Bacteria;p__Firmicutes_A;c__Clostridia;o__T...</td>\n",
       "    </tr>\n",
       "    <tr>\n",
       "      <th>d__Bacteria;p__Firmicutes_A;c__Clostridia_A;o__Christensenellales;f__Borkfalkiaceae;g__UBA11940</th>\n",
       "      <td>d__Bacteria;p__Firmicutes_A;c__Clostridia_A;o_...</td>\n",
       "      <td>d__Bacteria;p__Firmicutes_A;c__Clostridia_A;o_...</td>\n",
       "    </tr>\n",
       "    <tr>\n",
       "      <th>d__Bacteria;p__Firmicutes_A;c__Clostridia_A;o__Christensenellales;f__Christensenellaceae;g__QANA01</th>\n",
       "      <td>d__Bacteria;p__Firmicutes_A;c__Clostridia_A;o_...</td>\n",
       "      <td>d__Bacteria;p__Firmicutes_A;c__Clostridia_A;o_...</td>\n",
       "    </tr>\n",
       "    <tr>\n",
       "      <th>d__Bacteria;p__Firmicutes_A;c__Clostridia_A;o__Christensenellales;f__UBA1242;g__UBA7862</th>\n",
       "      <td>NaN</td>\n",
       "      <td>d__Bacteria;p__Firmicutes_A;c__Clostridia_A;o_...</td>\n",
       "    </tr>\n",
       "    <tr>\n",
       "      <th>d__Bacteria;p__Firmicutes_A;c__Clostridia_A;o__Christensenellales;f__UBA3700;g__UBA3700</th>\n",
       "      <td>NaN</td>\n",
       "      <td>d__Bacteria;p__Firmicutes_A;c__Clostridia_A;o_...</td>\n",
       "    </tr>\n",
       "    <tr>\n",
       "      <th>d__Bacteria;p__Proteobacteria;c__Gammaproteobacteria;o__Enterobacterales;f__Pasteurellaceae;g__Muribacter</th>\n",
       "      <td>d__Bacteria;p__Proteobacteria;c__Gammaproteoba...</td>\n",
       "      <td>d__Bacteria;p__Proteobacteria;c__Gammaproteoba...</td>\n",
       "    </tr>\n",
       "    <tr>\n",
       "      <th>d__Bacteria;p__Thermotogota;c__Thermotogae;o__Petrotogales;f__Kosmotogaceae;g__Kosmotoga_B</th>\n",
       "      <td>NaN</td>\n",
       "      <td>d__Bacteria;p__Synergistota;c__Synergistia;o__...</td>\n",
       "    </tr>\n",
       "    <tr>\n",
       "      <th>d__Bacteria;p__Verrucomicrobiota_A;c__Chlamydiia;o__Chlamydiales;f__Chlamydiaceae;g__Chlamydia</th>\n",
       "      <td>NaN</td>\n",
       "      <td>d__Bacteria;p__Proteobacteria;c__Alphaproteoba...</td>\n",
       "    </tr>\n",
       "  </tbody>\n",
       "</table>\n",
       "</div>"
      ]
     },
     "execution_count": 53,
     "metadata": {},
     "output_type": "execute_result"
    }
   ],
   "execution_count": 53
  },
  {
   "metadata": {},
   "cell_type": "markdown",
   "source": "",
   "id": "6b4cf8debaf8d759"
  },
  {
   "metadata": {
    "ExecuteTime": {
     "end_time": "2024-06-13T12:29:31.318583Z",
     "start_time": "2024-06-13T12:29:31.312825Z"
    }
   },
   "cell_type": "code",
   "source": "translation_maps[(translation_maps['taxonomy'] != translation_maps['all_annotations'])][['taxonomy', 'all_annotations']].isna().any(axis=1).sum()",
   "id": "3ba35706abe973a3",
   "outputs": [
    {
     "data": {
      "text/plain": [
       "10"
      ]
     },
     "execution_count": 72,
     "metadata": {},
     "output_type": "execute_result"
    }
   ],
   "execution_count": 72
  },
  {
   "metadata": {
    "ExecuteTime": {
     "end_time": "2024-06-13T12:36:42.773099Z",
     "start_time": "2024-06-13T12:36:42.769279Z"
    }
   },
   "cell_type": "code",
   "source": "translation_maps.index",
   "id": "a5eb71f42e36b21e",
   "outputs": [
    {
     "data": {
      "text/plain": [
       "Index(['d__Bacteria;p__Actinobacteriota;c__Actinomycetia;o__Actinomycetales;f__Actinomycetaceae;g__Actinomyces',\n",
       "       'd__Bacteria;p__Actinobacteriota;c__Actinomycetia;o__Actinomycetales;f__Bifidobacteriaceae;g__Bifidobacterium',\n",
       "       'd__Bacteria;p__Actinobacteriota;c__Actinomycetia;o__Actinomycetales;f__Microbacteriaceae;g__Microbacterium',\n",
       "       'd__Bacteria;p__Actinobacteriota;c__Actinomycetia;o__Mycobacteriales;f__Mycobacteriaceae;g__Corynebacterium',\n",
       "       'd__Bacteria;p__Actinobacteriota;c__Actinomycetia;o__Propionibacteriales;f__Propionibacteriaceae;g__Cutibacterium',\n",
       "       'd__Bacteria;p__Actinobacteriota;c__Coriobacteriia;o__Coriobacteriales;f__Atopobiaceae;g__NM07-P-09',\n",
       "       'd__Bacteria;p__Actinobacteriota;c__Coriobacteriia;o__Coriobacteriales;f__Eggerthellaceae;g__Adlercreutzia',\n",
       "       'd__Bacteria;p__Actinobacteriota;c__Coriobacteriia;o__Coriobacteriales;f__Eggerthellaceae;g__CAG-1427',\n",
       "       'd__Bacteria;p__Actinobacteriota;c__Coriobacteriia;o__Coriobacteriales;f__Eggerthellaceae;g__D16-34',\n",
       "       'd__Bacteria;p__Actinobacteriota;c__Coriobacteriia;o__Coriobacteriales;f__Eggerthellaceae;g__D16-63',\n",
       "       ...\n",
       "       'd__Bacteria;p__Proteobacteria;c__Gammaproteobacteria;o__Enterobacterales;f__Enterobacteriaceae;g__Proteus',\n",
       "       'd__Bacteria;p__Proteobacteria;c__Gammaproteobacteria;o__Enterobacterales;f__Pasteurellaceae;g__Muribacter',\n",
       "       'd__Bacteria;p__Proteobacteria;c__Gammaproteobacteria;o__Enterobacterales;f__Pasteurellaceae;g__Rodentibacter',\n",
       "       'd__Bacteria;p__Proteobacteria;c__Gammaproteobacteria;o__Pseudomonadales;f__Pseudomonadaceae;g__Pseudomonas_E',\n",
       "       'd__Bacteria;p__Proteobacteria;c__Gammaproteobacteria;o__Xanthomonadales;f__Xanthomonadaceae;g__Stenotrophomonas',\n",
       "       'd__Bacteria;p__Spirochaetota;c__Brachyspirae;o__Brachyspirales;f__Brachyspiraceae;g__Brachyspira',\n",
       "       'd__Bacteria;p__Spirochaetota;c__Spirochaetia;o__Treponematales;f__Treponemataceae;g__Treponema_D',\n",
       "       'd__Bacteria;p__Thermotogota;c__Thermotogae;o__Petrotogales;f__Kosmotogaceae;g__Kosmotoga_B',\n",
       "       'd__Bacteria;p__Verrucomicrobiota;c__Verrucomicrobiae;o__Verrucomicrobiales;f__Akkermansiaceae;g__Akkermansia',\n",
       "       'd__Bacteria;p__Verrucomicrobiota_A;c__Chlamydiia;o__Chlamydiales;f__Chlamydiaceae;g__Chlamydia'],\n",
       "      dtype='object', name='reference_genus', length=225)"
      ]
     },
     "execution_count": 81,
     "metadata": {},
     "output_type": "execute_result"
    }
   ],
   "execution_count": 81
  },
  {
   "metadata": {},
   "cell_type": "markdown",
   "source": [
    "When they don't agree, \n",
    "Sometimes (10/48) it is because in one annotation there is nan values in the comparison.\n",
    "And sometimes they are really different.\n"
   ],
   "id": "3703cb9b02857b11"
  },
  {
   "metadata": {},
   "cell_type": "markdown",
   "source": "How much they differ given the genus we have in our OSA dataset (",
   "id": "da03c183c3510710"
  },
  {
   "metadata": {
    "ExecuteTime": {
     "end_time": "2024-06-13T12:37:57.417634Z",
     "start_time": "2024-06-13T12:37:57.414056Z"
    }
   },
   "cell_type": "code",
   "source": [
    "translation_maps = translation_maps.rename(\n",
    "                index=pd.Series(translation_maps.index.unique(), index=translation_maps.index.unique()).str.extract(\n",
    "                    '.*g__(.*)').squeeze())"
   ],
   "id": "f309ae8649b2ce54",
   "outputs": [],
   "execution_count": 88
  },
  {
   "metadata": {
    "ExecuteTime": {
     "end_time": "2024-06-13T12:42:04.150067Z",
     "start_time": "2024-06-13T12:42:04.147186Z"
    }
   },
   "cell_type": "code",
   "source": "translation_maps_subset = translation_maps.loc[translation_maps.index.intersection(mice_genus), :]",
   "id": "11900a9ab303a7b4",
   "outputs": [],
   "execution_count": 99
  },
  {
   "metadata": {
    "ExecuteTime": {
     "end_time": "2024-06-13T12:42:46.472104Z",
     "start_time": "2024-06-13T12:42:46.467338Z"
    }
   },
   "cell_type": "code",
   "source": "translation_maps_subset.eq(translation_maps_subset.iloc[:, 0], axis=0).all(axis=1).sum()",
   "id": "82dce332236e8017",
   "outputs": [
    {
     "data": {
      "text/plain": [
       "6"
      ]
     },
     "execution_count": 102,
     "metadata": {},
     "output_type": "execute_result"
    }
   ],
   "execution_count": 102
  },
  {
   "metadata": {
    "ExecuteTime": {
     "end_time": "2024-06-13T12:43:15.889386Z",
     "start_time": "2024-06-13T12:43:15.885765Z"
    }
   },
   "cell_type": "code",
   "source": "(translation_maps_subset['taxonomy'] == translation_maps_subset['all_annotations']).sum()\n",
   "id": "2a02b3bc74dd2692",
   "outputs": [
    {
     "data": {
      "text/plain": [
       "20"
      ]
     },
     "execution_count": 103,
     "metadata": {},
     "output_type": "execute_result"
    }
   ],
   "execution_count": 103
  },
  {
   "metadata": {
    "ExecuteTime": {
     "end_time": "2024-06-13T12:43:31.398737Z",
     "start_time": "2024-06-13T12:43:31.395757Z"
    }
   },
   "cell_type": "code",
   "source": "20/28",
   "id": "8ba9fb412e195ce3",
   "outputs": [
    {
     "data": {
      "text/plain": [
       "0.7142857142857143"
      ]
     },
     "execution_count": 104,
     "metadata": {},
     "output_type": "execute_result"
    }
   ],
   "execution_count": 104
  },
  {
   "metadata": {
    "ExecuteTime": {
     "end_time": "2024-06-13T12:38:28.738009Z",
     "start_time": "2024-06-13T12:38:28.735059Z"
    }
   },
   "cell_type": "code",
   "source": "mice_genus.shape",
   "id": "b8fb48fe501c4c39",
   "outputs": [
    {
     "data": {
      "text/plain": [
       "(39,)"
      ]
     },
     "execution_count": 91,
     "metadata": {},
     "output_type": "execute_result"
    }
   ],
   "execution_count": 91
  },
  {
   "metadata": {
    "ExecuteTime": {
     "end_time": "2024-06-13T12:39:42.392891Z",
     "start_time": "2024-06-13T12:39:42.389996Z"
    }
   },
   "cell_type": "code",
   "source": "human_genus.shape",
   "id": "6fc36df2940609bb",
   "outputs": [
    {
     "data": {
      "text/plain": [
       "(107,)"
      ]
     },
     "execution_count": 94,
     "metadata": {},
     "output_type": "execute_result"
    }
   ],
   "execution_count": 94
  },
  {
   "metadata": {
    "ExecuteTime": {
     "end_time": "2024-06-13T12:38:43.886545Z",
     "start_time": "2024-06-13T12:38:43.883522Z"
    }
   },
   "cell_type": "code",
   "source": "translation_maps.index.intersection(mice_genus).shape",
   "id": "2e26ba0d5dd79d6e",
   "outputs": [
    {
     "data": {
      "text/plain": [
       "(28,)"
      ]
     },
     "execution_count": 93,
     "metadata": {},
     "output_type": "execute_result"
    }
   ],
   "execution_count": 93
  },
  {
   "metadata": {
    "ExecuteTime": {
     "end_time": "2024-06-13T12:40:09.885515Z",
     "start_time": "2024-06-13T12:40:09.882760Z"
    }
   },
   "cell_type": "code",
   "source": "28/39",
   "id": "e061701ec755d8",
   "outputs": [
    {
     "data": {
      "text/plain": [
       "0.717948717948718"
      ]
     },
     "execution_count": 95,
     "metadata": {},
     "output_type": "execute_result"
    }
   ],
   "execution_count": 95
  },
  {
   "metadata": {
    "ExecuteTime": {
     "end_time": "2024-06-13T12:02:34.802255Z",
     "start_time": "2024-06-13T12:02:34.794624Z"
    }
   },
   "cell_type": "code",
   "source": "m2h",
   "id": "85187dc0ef0a67f5",
   "outputs": [
    {
     "data": {
      "text/plain": [
       "             method reference_genome      query_genome  distance  \\\n",
       "45090      taxonomy       MGBC000001  GUT_GENOME001757  0.231014   \n",
       "45091      taxonomy       MGBC000003  GUT_GENOME001757  0.201808   \n",
       "45092      taxonomy       MGBC000011  GUT_GENOME239724  0.032134   \n",
       "45093      taxonomy       MGBC000013  GUT_GENOME096523  0.137890   \n",
       "45094      taxonomy       MGBC000018  GUT_GENOME145982  0.001347   \n",
       "...             ...              ...               ...       ...   \n",
       "61495  Reactome.ips       MGBC166864  GUT_GENOME188058  0.116968   \n",
       "61496  Reactome.ips       MGBC167004  GUT_GENOME012681  0.134689   \n",
       "61497  Reactome.ips       MGBC167061  GUT_GENOME205920  0.058195   \n",
       "61498  Reactome.ips       MGBC167064  GUT_GENOME258050  0.129410   \n",
       "61499  Reactome.ips       MGBC167141  GUT_GENOME110697  0.100392   \n",
       "\n",
       "                                      reference_taxonomy  \\\n",
       "45090  d__Bacteria;p__Firmicutes_A;c__Clostridia;o__L...   \n",
       "45091  d__Bacteria;p__Firmicutes_A;c__Clostridia;o__L...   \n",
       "45092  d__Bacteria;p__Bacteroidota;c__Bacteroidia;o__...   \n",
       "45093  d__Bacteria;p__Firmicutes;c__Bacilli;o__Lactob...   \n",
       "45094  d__Bacteria;p__Proteobacteria;c__Gammaproteoba...   \n",
       "...                                                  ...   \n",
       "61495  d__Bacteria;p__Firmicutes_A;c__Clostridia;o__L...   \n",
       "61496  d__Bacteria;p__Firmicutes_A;c__Clostridia;o__L...   \n",
       "61497  d__Bacteria;p__Firmicutes;c__Bacilli;o__Lactob...   \n",
       "61498  d__Bacteria;p__Firmicutes_A;c__Clostridia;o__L...   \n",
       "61499  d__Bacteria;p__Bacteroidota;c__Bacteroidia;o__...   \n",
       "\n",
       "                                          query_taxonomy  \\\n",
       "45090  d__Bacteria;p__Firmicutes_A;c__Clostridia;o__L...   \n",
       "45091  d__Bacteria;p__Firmicutes_A;c__Clostridia;o__L...   \n",
       "45092  d__Bacteria;p__Bacteroidota;c__Bacteroidia;o__...   \n",
       "45093  d__Bacteria;p__Firmicutes;c__Bacilli;o__Lactob...   \n",
       "45094  d__Bacteria;p__Proteobacteria;c__Gammaproteoba...   \n",
       "...                                                  ...   \n",
       "61495  d__Bacteria;p__Firmicutes_A;c__Clostridia;o__C...   \n",
       "61496  d__Bacteria;p__Firmicutes_A;c__Clostridia;o__L...   \n",
       "61497  d__Bacteria;p__Firmicutes;c__Bacilli;o__Lactob...   \n",
       "61498  d__Bacteria;p__Firmicutes_A;c__Clostridia;o__L...   \n",
       "61499  d__Bacteria;p__Bacteroidota;c__Bacteroidia;o__...   \n",
       "\n",
       "                                         reference_genus  \\\n",
       "45090  d__Bacteria;p__Firmicutes_A;c__Clostridia;o__L...   \n",
       "45091  d__Bacteria;p__Firmicutes_A;c__Clostridia;o__L...   \n",
       "45092  d__Bacteria;p__Bacteroidota;c__Bacteroidia;o__...   \n",
       "45093  d__Bacteria;p__Firmicutes;c__Bacilli;o__Lactob...   \n",
       "45094  d__Bacteria;p__Proteobacteria;c__Gammaproteoba...   \n",
       "...                                                  ...   \n",
       "61495  d__Bacteria;p__Firmicutes_A;c__Clostridia;o__L...   \n",
       "61496  d__Bacteria;p__Firmicutes_A;c__Clostridia;o__L...   \n",
       "61497  d__Bacteria;p__Firmicutes;c__Bacilli;o__Lactob...   \n",
       "61498  d__Bacteria;p__Firmicutes_A;c__Clostridia;o__L...   \n",
       "61499  d__Bacteria;p__Bacteroidota;c__Bacteroidia;o__...   \n",
       "\n",
       "                                             query_genus  \n",
       "45090  d__Bacteria;p__Firmicutes_A;c__Clostridia;o__L...  \n",
       "45091  d__Bacteria;p__Firmicutes_A;c__Clostridia;o__L...  \n",
       "45092  d__Bacteria;p__Bacteroidota;c__Bacteroidia;o__...  \n",
       "45093  d__Bacteria;p__Firmicutes;c__Bacilli;o__Lactob...  \n",
       "45094  d__Bacteria;p__Proteobacteria;c__Gammaproteoba...  \n",
       "...                                                  ...  \n",
       "61495  d__Bacteria;p__Firmicutes_A;c__Clostridia;o__C...  \n",
       "61496  d__Bacteria;p__Firmicutes_A;c__Clostridia;o__L...  \n",
       "61497  d__Bacteria;p__Firmicutes;c__Bacilli;o__Lactob...  \n",
       "61498  d__Bacteria;p__Firmicutes_A;c__Clostridia;o__L...  \n",
       "61499  d__Bacteria;p__Bacteroidota;c__Bacteroidia;o__...  \n",
       "\n",
       "[16410 rows x 8 columns]"
      ],
      "text/html": [
       "<div>\n",
       "<style scoped>\n",
       "    .dataframe tbody tr th:only-of-type {\n",
       "        vertical-align: middle;\n",
       "    }\n",
       "\n",
       "    .dataframe tbody tr th {\n",
       "        vertical-align: top;\n",
       "    }\n",
       "\n",
       "    .dataframe thead th {\n",
       "        text-align: right;\n",
       "    }\n",
       "</style>\n",
       "<table border=\"1\" class=\"dataframe\">\n",
       "  <thead>\n",
       "    <tr style=\"text-align: right;\">\n",
       "      <th></th>\n",
       "      <th>method</th>\n",
       "      <th>reference_genome</th>\n",
       "      <th>query_genome</th>\n",
       "      <th>distance</th>\n",
       "      <th>reference_taxonomy</th>\n",
       "      <th>query_taxonomy</th>\n",
       "      <th>reference_genus</th>\n",
       "      <th>query_genus</th>\n",
       "    </tr>\n",
       "  </thead>\n",
       "  <tbody>\n",
       "    <tr>\n",
       "      <th>45090</th>\n",
       "      <td>taxonomy</td>\n",
       "      <td>MGBC000001</td>\n",
       "      <td>GUT_GENOME001757</td>\n",
       "      <td>0.231014</td>\n",
       "      <td>d__Bacteria;p__Firmicutes_A;c__Clostridia;o__L...</td>\n",
       "      <td>d__Bacteria;p__Firmicutes_A;c__Clostridia;o__L...</td>\n",
       "      <td>d__Bacteria;p__Firmicutes_A;c__Clostridia;o__L...</td>\n",
       "      <td>d__Bacteria;p__Firmicutes_A;c__Clostridia;o__L...</td>\n",
       "    </tr>\n",
       "    <tr>\n",
       "      <th>45091</th>\n",
       "      <td>taxonomy</td>\n",
       "      <td>MGBC000003</td>\n",
       "      <td>GUT_GENOME001757</td>\n",
       "      <td>0.201808</td>\n",
       "      <td>d__Bacteria;p__Firmicutes_A;c__Clostridia;o__L...</td>\n",
       "      <td>d__Bacteria;p__Firmicutes_A;c__Clostridia;o__L...</td>\n",
       "      <td>d__Bacteria;p__Firmicutes_A;c__Clostridia;o__L...</td>\n",
       "      <td>d__Bacteria;p__Firmicutes_A;c__Clostridia;o__L...</td>\n",
       "    </tr>\n",
       "    <tr>\n",
       "      <th>45092</th>\n",
       "      <td>taxonomy</td>\n",
       "      <td>MGBC000011</td>\n",
       "      <td>GUT_GENOME239724</td>\n",
       "      <td>0.032134</td>\n",
       "      <td>d__Bacteria;p__Bacteroidota;c__Bacteroidia;o__...</td>\n",
       "      <td>d__Bacteria;p__Bacteroidota;c__Bacteroidia;o__...</td>\n",
       "      <td>d__Bacteria;p__Bacteroidota;c__Bacteroidia;o__...</td>\n",
       "      <td>d__Bacteria;p__Bacteroidota;c__Bacteroidia;o__...</td>\n",
       "    </tr>\n",
       "    <tr>\n",
       "      <th>45093</th>\n",
       "      <td>taxonomy</td>\n",
       "      <td>MGBC000013</td>\n",
       "      <td>GUT_GENOME096523</td>\n",
       "      <td>0.137890</td>\n",
       "      <td>d__Bacteria;p__Firmicutes;c__Bacilli;o__Lactob...</td>\n",
       "      <td>d__Bacteria;p__Firmicutes;c__Bacilli;o__Lactob...</td>\n",
       "      <td>d__Bacteria;p__Firmicutes;c__Bacilli;o__Lactob...</td>\n",
       "      <td>d__Bacteria;p__Firmicutes;c__Bacilli;o__Lactob...</td>\n",
       "    </tr>\n",
       "    <tr>\n",
       "      <th>45094</th>\n",
       "      <td>taxonomy</td>\n",
       "      <td>MGBC000018</td>\n",
       "      <td>GUT_GENOME145982</td>\n",
       "      <td>0.001347</td>\n",
       "      <td>d__Bacteria;p__Proteobacteria;c__Gammaproteoba...</td>\n",
       "      <td>d__Bacteria;p__Proteobacteria;c__Gammaproteoba...</td>\n",
       "      <td>d__Bacteria;p__Proteobacteria;c__Gammaproteoba...</td>\n",
       "      <td>d__Bacteria;p__Proteobacteria;c__Gammaproteoba...</td>\n",
       "    </tr>\n",
       "    <tr>\n",
       "      <th>...</th>\n",
       "      <td>...</td>\n",
       "      <td>...</td>\n",
       "      <td>...</td>\n",
       "      <td>...</td>\n",
       "      <td>...</td>\n",
       "      <td>...</td>\n",
       "      <td>...</td>\n",
       "      <td>...</td>\n",
       "    </tr>\n",
       "    <tr>\n",
       "      <th>61495</th>\n",
       "      <td>Reactome.ips</td>\n",
       "      <td>MGBC166864</td>\n",
       "      <td>GUT_GENOME188058</td>\n",
       "      <td>0.116968</td>\n",
       "      <td>d__Bacteria;p__Firmicutes_A;c__Clostridia;o__L...</td>\n",
       "      <td>d__Bacteria;p__Firmicutes_A;c__Clostridia;o__C...</td>\n",
       "      <td>d__Bacteria;p__Firmicutes_A;c__Clostridia;o__L...</td>\n",
       "      <td>d__Bacteria;p__Firmicutes_A;c__Clostridia;o__C...</td>\n",
       "    </tr>\n",
       "    <tr>\n",
       "      <th>61496</th>\n",
       "      <td>Reactome.ips</td>\n",
       "      <td>MGBC167004</td>\n",
       "      <td>GUT_GENOME012681</td>\n",
       "      <td>0.134689</td>\n",
       "      <td>d__Bacteria;p__Firmicutes_A;c__Clostridia;o__L...</td>\n",
       "      <td>d__Bacteria;p__Firmicutes_A;c__Clostridia;o__L...</td>\n",
       "      <td>d__Bacteria;p__Firmicutes_A;c__Clostridia;o__L...</td>\n",
       "      <td>d__Bacteria;p__Firmicutes_A;c__Clostridia;o__L...</td>\n",
       "    </tr>\n",
       "    <tr>\n",
       "      <th>61497</th>\n",
       "      <td>Reactome.ips</td>\n",
       "      <td>MGBC167061</td>\n",
       "      <td>GUT_GENOME205920</td>\n",
       "      <td>0.058195</td>\n",
       "      <td>d__Bacteria;p__Firmicutes;c__Bacilli;o__Lactob...</td>\n",
       "      <td>d__Bacteria;p__Firmicutes;c__Bacilli;o__Lactob...</td>\n",
       "      <td>d__Bacteria;p__Firmicutes;c__Bacilli;o__Lactob...</td>\n",
       "      <td>d__Bacteria;p__Firmicutes;c__Bacilli;o__Lactob...</td>\n",
       "    </tr>\n",
       "    <tr>\n",
       "      <th>61498</th>\n",
       "      <td>Reactome.ips</td>\n",
       "      <td>MGBC167064</td>\n",
       "      <td>GUT_GENOME258050</td>\n",
       "      <td>0.129410</td>\n",
       "      <td>d__Bacteria;p__Firmicutes_A;c__Clostridia;o__L...</td>\n",
       "      <td>d__Bacteria;p__Firmicutes_A;c__Clostridia;o__L...</td>\n",
       "      <td>d__Bacteria;p__Firmicutes_A;c__Clostridia;o__L...</td>\n",
       "      <td>d__Bacteria;p__Firmicutes_A;c__Clostridia;o__L...</td>\n",
       "    </tr>\n",
       "    <tr>\n",
       "      <th>61499</th>\n",
       "      <td>Reactome.ips</td>\n",
       "      <td>MGBC167141</td>\n",
       "      <td>GUT_GENOME110697</td>\n",
       "      <td>0.100392</td>\n",
       "      <td>d__Bacteria;p__Bacteroidota;c__Bacteroidia;o__...</td>\n",
       "      <td>d__Bacteria;p__Bacteroidota;c__Bacteroidia;o__...</td>\n",
       "      <td>d__Bacteria;p__Bacteroidota;c__Bacteroidia;o__...</td>\n",
       "      <td>d__Bacteria;p__Bacteroidota;c__Bacteroidia;o__...</td>\n",
       "    </tr>\n",
       "  </tbody>\n",
       "</table>\n",
       "<p>16410 rows × 8 columns</p>\n",
       "</div>"
      ]
     },
     "execution_count": 20,
     "metadata": {},
     "output_type": "execute_result"
    }
   ],
   "execution_count": 20
  }
 ],
 "metadata": {
  "kernelspec": {
   "display_name": "Python 3",
   "language": "python",
   "name": "python3"
  },
  "language_info": {
   "codemirror_mode": {
    "name": "ipython",
    "version": 2
   },
   "file_extension": ".py",
   "mimetype": "text/x-python",
   "name": "python",
   "nbconvert_exporter": "python",
   "pygments_lexer": "ipython2",
   "version": "2.7.6"
  }
 },
 "nbformat": 4,
 "nbformat_minor": 5
}
