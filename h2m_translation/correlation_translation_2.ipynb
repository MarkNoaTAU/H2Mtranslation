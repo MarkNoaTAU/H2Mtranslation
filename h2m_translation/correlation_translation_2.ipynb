{
 "cells": [
  {
   "metadata": {},
   "cell_type": "markdown",
   "source": [
    "Analyse the translation of microbiome-metabolism correlation between mice and human, given the microbiome that we were able to translate (using MGBC tool). \n",
    "\n",
    "MICE - OSA\n",
    "HUMAN - iHMP"
   ],
   "id": "9829527765e5e9c8"
  },
  {
   "metadata": {
    "ExecuteTime": {
     "end_time": "2024-06-13T15:31:57.764605Z",
     "start_time": "2024-06-13T15:31:57.761403Z"
    }
   },
   "cell_type": "code",
   "source": [
    "import pandas as pd\n",
    "import numpy as np\n",
    "import scipy.stats as stats"
   ],
   "id": "a1991a86f924634f",
   "outputs": [],
   "execution_count": 1
  },
  {
   "metadata": {},
   "cell_type": "markdown",
   "source": "Load correlation data  ",
   "id": "d2c775bfdcfd7938"
  },
  {
   "metadata": {
    "ExecuteTime": {
     "end_time": "2024-06-13T15:31:57.931970Z",
     "start_time": "2024-06-13T15:31:57.856233Z"
    }
   },
   "cell_type": "code",
   "source": [
    "# TODO: Switch to function (instead of loading a file?)\n",
    "\n",
    "mice_corr_coefficient= pd.read_pickle('mice/haddad_osa/analysis/metabolome_bacteria_corr_coefficient_kendall-tau.pkl')\n",
    "mice_corr_coefficient = mice_corr_coefficient.unstack(-1)\n",
    "\n",
    "human_corr_coefficient = pd.read_pickle('human/iHMP_IBDMDB_2019/metabolome_bacteria_corr_coefficient_kendall-tau.pkl')\n",
    "# Keep only the genus label for simplicity: \n",
    "\n",
    "taxa_rename_to_genus = pd.Series(human_corr_coefficient.index.get_level_values(1).unique(), index=human_corr_coefficient.index.get_level_values(1).unique()).str.extract('.*g__(.*)').squeeze()\n",
    "human_corr_coefficient = human_corr_coefficient.rename(taxa_rename_to_genus.to_dict(), axis=0, level=1)\n",
    "human_corr_coefficient = human_corr_coefficient.unstack(-1)"
   ],
   "id": "932125a37579cba1",
   "outputs": [],
   "execution_count": 2
  },
  {
   "metadata": {
    "ExecuteTime": {
     "end_time": "2024-06-13T15:31:57.944768Z",
     "start_time": "2024-06-13T15:31:57.932892Z"
    }
   },
   "cell_type": "code",
   "source": "mice_corr_coefficient",
   "id": "890ba3381d038abf",
   "outputs": [
    {
     "data": {
      "text/plain": [
       "                             14-2  1XD42-69 Acetatifactor Acutalibacter  \\\n",
       "Glycerophosphocholine    0.085105  0.013246      0.205502      0.089424   \n",
       "gamma-Aminobutyric acid -0.181265 -0.066739     -0.275698     -0.018609   \n",
       "Guanosine                0.022369 -0.100364       0.03052     -0.044971   \n",
       "L-Glutamic acid          0.029054 -0.107496      0.119028           0.0   \n",
       "Hypoxanthine            -0.102588 -0.204294     -0.081387      0.149385   \n",
       "...                           ...       ...           ...           ...   \n",
       "HMDB0247607              0.010542 -0.013246      0.027468      0.044971   \n",
       "HMDB0250631             -0.066078 -0.156405      0.001526      0.013956   \n",
       "HMDB0254199             -0.099503  0.077438     -0.033572      0.092009   \n",
       "HMDB0259275              0.034196 -0.163537     -0.141919     -0.056859   \n",
       "HMDB0341212             -0.048943 -0.024755     -0.221432      0.029001   \n",
       "\n",
       "                        Anaerotignum Anaerotruncus Angelakisella   CAG-317  \\\n",
       "Glycerophosphocholine      -0.036973     -0.035448       0.04729   0.20943   \n",
       "gamma-Aminobutyric acid     0.010084      0.145495     -0.070935 -0.024447   \n",
       "Guanosine                  -0.186935     -0.196815      -0.13416  0.066822   \n",
       "L-Glutamic acid            -0.019909     -0.125391      0.025187 -0.005704   \n",
       "Hypoxanthine               -0.309491       -0.1656      -0.00514  0.029336   \n",
       "...                              ...           ...           ...       ...   \n",
       "HMDB0247607                 -0.01784     -0.128036      0.146497  0.103492   \n",
       "HMDB0250631                -0.164183     -0.122745      -0.03701  0.103492   \n",
       "HMDB0254199                 0.087133      0.174065         0.055  -0.04319   \n",
       "HMDB0259275                -0.027665      0.106873     -0.068365  0.097788   \n",
       "HMDB0341212                  0.03523         0.238      0.031672  0.096747   \n",
       "\n",
       "                          CAG-485    CAG-56  ... Marseille-P3106 Merdisoma  \\\n",
       "Glycerophosphocholine    -0.08055  0.015771  ...        0.100783 -0.071611   \n",
       "gamma-Aminobutyric acid  0.073046  0.012617  ...       -0.203428  0.102084   \n",
       "Guanosine               -0.164103 -0.193456  ...        0.007712 -0.164553   \n",
       "L-Glutamic acid          -0.23965 -0.162966  ...       -0.022603 -0.158459   \n",
       "Hypoxanthine            -0.229644 -0.322777  ...       -0.309796 -0.222959   \n",
       "...                           ...       ...  ...             ...       ...   \n",
       "HMDB0247607             -0.244653 -0.034696  ...       -0.141735 -0.197057   \n",
       "HMDB0250631             -0.241651 -0.178211  ...       -0.045472 -0.189439   \n",
       "HMDB0254199              0.173108 -0.000526  ...        0.043345  0.189439   \n",
       "HMDB0259275             -0.075547  0.155606  ...       -0.083765 -0.035044   \n",
       "HMDB0341212               0.08797  0.019224  ...        0.028507  0.184452   \n",
       "\n",
       "                        NM07-P-09 Pelethomonas Romboutsia Roseburia  \\\n",
       "Glycerophosphocholine    0.038229    -0.103848   0.064334 -0.195213   \n",
       "gamma-Aminobutyric acid -0.124373    -0.014908  -0.053675   0.16839   \n",
       "Guanosine                0.066774    -0.066452   0.038448 -0.096266   \n",
       "L-Glutamic acid         -0.016311    -0.101321  -0.070425 -0.242303   \n",
       "Hypoxanthine            -0.013253    -0.099805   0.004949 -0.014008   \n",
       "...                           ...          ...        ...       ...   \n",
       "HMDB0247607              0.057089    -0.209464  -0.177015 -0.296546   \n",
       "HMDB0250631              0.053012    -0.167015   0.009517 -0.175543   \n",
       "HMDB0254199             -0.096338     0.162973   0.199094  0.188657   \n",
       "HMDB0259275             -0.087163    -0.154887  -0.282843 -0.067654   \n",
       "HMDB0341212             -0.233127    -0.024808  -0.064837  0.131979   \n",
       "\n",
       "                        Schaedlerella Sporofaciens Turicibacter   UBA7109  \n",
       "Glycerophosphocholine       -0.003478     0.005601    -0.107695 -0.015504  \n",
       "gamma-Aminobutyric acid     -0.108404    -0.077398     0.113724  0.030736  \n",
       "Guanosine                   -0.154201     0.000509     0.006303  -0.00952  \n",
       "L-Glutamic acid              0.017391    -0.148685    -0.120849  -0.12539  \n",
       "Hypoxanthine                -0.029565    -0.159888     0.004659  0.024208  \n",
       "...                               ...          ...          ...       ...  \n",
       "HMDB0247607                 -0.029565    -0.163452    -0.244163 -0.057935  \n",
       "HMDB0250631                  -0.01855    -0.049392    -0.054533  0.018768  \n",
       "HMDB0254199                  0.061448     0.068232     0.116464  0.151502  \n",
       "HMDB0259275                  0.035941    -0.022405    -0.044119  0.066095  \n",
       "HMDB0341212                 -0.094959     0.109428     0.124919  0.070307  \n",
       "\n",
       "[61 rows x 39 columns]"
      ],
      "text/html": [
       "<div>\n",
       "<style scoped>\n",
       "    .dataframe tbody tr th:only-of-type {\n",
       "        vertical-align: middle;\n",
       "    }\n",
       "\n",
       "    .dataframe tbody tr th {\n",
       "        vertical-align: top;\n",
       "    }\n",
       "\n",
       "    .dataframe thead th {\n",
       "        text-align: right;\n",
       "    }\n",
       "</style>\n",
       "<table border=\"1\" class=\"dataframe\">\n",
       "  <thead>\n",
       "    <tr style=\"text-align: right;\">\n",
       "      <th></th>\n",
       "      <th>14-2</th>\n",
       "      <th>1XD42-69</th>\n",
       "      <th>Acetatifactor</th>\n",
       "      <th>Acutalibacter</th>\n",
       "      <th>Anaerotignum</th>\n",
       "      <th>Anaerotruncus</th>\n",
       "      <th>Angelakisella</th>\n",
       "      <th>CAG-317</th>\n",
       "      <th>CAG-485</th>\n",
       "      <th>CAG-56</th>\n",
       "      <th>...</th>\n",
       "      <th>Marseille-P3106</th>\n",
       "      <th>Merdisoma</th>\n",
       "      <th>NM07-P-09</th>\n",
       "      <th>Pelethomonas</th>\n",
       "      <th>Romboutsia</th>\n",
       "      <th>Roseburia</th>\n",
       "      <th>Schaedlerella</th>\n",
       "      <th>Sporofaciens</th>\n",
       "      <th>Turicibacter</th>\n",
       "      <th>UBA7109</th>\n",
       "    </tr>\n",
       "  </thead>\n",
       "  <tbody>\n",
       "    <tr>\n",
       "      <th>Glycerophosphocholine</th>\n",
       "      <td>0.085105</td>\n",
       "      <td>0.013246</td>\n",
       "      <td>0.205502</td>\n",
       "      <td>0.089424</td>\n",
       "      <td>-0.036973</td>\n",
       "      <td>-0.035448</td>\n",
       "      <td>0.04729</td>\n",
       "      <td>0.20943</td>\n",
       "      <td>-0.08055</td>\n",
       "      <td>0.015771</td>\n",
       "      <td>...</td>\n",
       "      <td>0.100783</td>\n",
       "      <td>-0.071611</td>\n",
       "      <td>0.038229</td>\n",
       "      <td>-0.103848</td>\n",
       "      <td>0.064334</td>\n",
       "      <td>-0.195213</td>\n",
       "      <td>-0.003478</td>\n",
       "      <td>0.005601</td>\n",
       "      <td>-0.107695</td>\n",
       "      <td>-0.015504</td>\n",
       "    </tr>\n",
       "    <tr>\n",
       "      <th>gamma-Aminobutyric acid</th>\n",
       "      <td>-0.181265</td>\n",
       "      <td>-0.066739</td>\n",
       "      <td>-0.275698</td>\n",
       "      <td>-0.018609</td>\n",
       "      <td>0.010084</td>\n",
       "      <td>0.145495</td>\n",
       "      <td>-0.070935</td>\n",
       "      <td>-0.024447</td>\n",
       "      <td>0.073046</td>\n",
       "      <td>0.012617</td>\n",
       "      <td>...</td>\n",
       "      <td>-0.203428</td>\n",
       "      <td>0.102084</td>\n",
       "      <td>-0.124373</td>\n",
       "      <td>-0.014908</td>\n",
       "      <td>-0.053675</td>\n",
       "      <td>0.16839</td>\n",
       "      <td>-0.108404</td>\n",
       "      <td>-0.077398</td>\n",
       "      <td>0.113724</td>\n",
       "      <td>0.030736</td>\n",
       "    </tr>\n",
       "    <tr>\n",
       "      <th>Guanosine</th>\n",
       "      <td>0.022369</td>\n",
       "      <td>-0.100364</td>\n",
       "      <td>0.03052</td>\n",
       "      <td>-0.044971</td>\n",
       "      <td>-0.186935</td>\n",
       "      <td>-0.196815</td>\n",
       "      <td>-0.13416</td>\n",
       "      <td>0.066822</td>\n",
       "      <td>-0.164103</td>\n",
       "      <td>-0.193456</td>\n",
       "      <td>...</td>\n",
       "      <td>0.007712</td>\n",
       "      <td>-0.164553</td>\n",
       "      <td>0.066774</td>\n",
       "      <td>-0.066452</td>\n",
       "      <td>0.038448</td>\n",
       "      <td>-0.096266</td>\n",
       "      <td>-0.154201</td>\n",
       "      <td>0.000509</td>\n",
       "      <td>0.006303</td>\n",
       "      <td>-0.00952</td>\n",
       "    </tr>\n",
       "    <tr>\n",
       "      <th>L-Glutamic acid</th>\n",
       "      <td>0.029054</td>\n",
       "      <td>-0.107496</td>\n",
       "      <td>0.119028</td>\n",
       "      <td>0.0</td>\n",
       "      <td>-0.019909</td>\n",
       "      <td>-0.125391</td>\n",
       "      <td>0.025187</td>\n",
       "      <td>-0.005704</td>\n",
       "      <td>-0.23965</td>\n",
       "      <td>-0.162966</td>\n",
       "      <td>...</td>\n",
       "      <td>-0.022603</td>\n",
       "      <td>-0.158459</td>\n",
       "      <td>-0.016311</td>\n",
       "      <td>-0.101321</td>\n",
       "      <td>-0.070425</td>\n",
       "      <td>-0.242303</td>\n",
       "      <td>0.017391</td>\n",
       "      <td>-0.148685</td>\n",
       "      <td>-0.120849</td>\n",
       "      <td>-0.12539</td>\n",
       "    </tr>\n",
       "    <tr>\n",
       "      <th>Hypoxanthine</th>\n",
       "      <td>-0.102588</td>\n",
       "      <td>-0.204294</td>\n",
       "      <td>-0.081387</td>\n",
       "      <td>0.149385</td>\n",
       "      <td>-0.309491</td>\n",
       "      <td>-0.1656</td>\n",
       "      <td>-0.00514</td>\n",
       "      <td>0.029336</td>\n",
       "      <td>-0.229644</td>\n",
       "      <td>-0.322777</td>\n",
       "      <td>...</td>\n",
       "      <td>-0.309796</td>\n",
       "      <td>-0.222959</td>\n",
       "      <td>-0.013253</td>\n",
       "      <td>-0.099805</td>\n",
       "      <td>0.004949</td>\n",
       "      <td>-0.014008</td>\n",
       "      <td>-0.029565</td>\n",
       "      <td>-0.159888</td>\n",
       "      <td>0.004659</td>\n",
       "      <td>0.024208</td>\n",
       "    </tr>\n",
       "    <tr>\n",
       "      <th>...</th>\n",
       "      <td>...</td>\n",
       "      <td>...</td>\n",
       "      <td>...</td>\n",
       "      <td>...</td>\n",
       "      <td>...</td>\n",
       "      <td>...</td>\n",
       "      <td>...</td>\n",
       "      <td>...</td>\n",
       "      <td>...</td>\n",
       "      <td>...</td>\n",
       "      <td>...</td>\n",
       "      <td>...</td>\n",
       "      <td>...</td>\n",
       "      <td>...</td>\n",
       "      <td>...</td>\n",
       "      <td>...</td>\n",
       "      <td>...</td>\n",
       "      <td>...</td>\n",
       "      <td>...</td>\n",
       "      <td>...</td>\n",
       "      <td>...</td>\n",
       "    </tr>\n",
       "    <tr>\n",
       "      <th>HMDB0247607</th>\n",
       "      <td>0.010542</td>\n",
       "      <td>-0.013246</td>\n",
       "      <td>0.027468</td>\n",
       "      <td>0.044971</td>\n",
       "      <td>-0.01784</td>\n",
       "      <td>-0.128036</td>\n",
       "      <td>0.146497</td>\n",
       "      <td>0.103492</td>\n",
       "      <td>-0.244653</td>\n",
       "      <td>-0.034696</td>\n",
       "      <td>...</td>\n",
       "      <td>-0.141735</td>\n",
       "      <td>-0.197057</td>\n",
       "      <td>0.057089</td>\n",
       "      <td>-0.209464</td>\n",
       "      <td>-0.177015</td>\n",
       "      <td>-0.296546</td>\n",
       "      <td>-0.029565</td>\n",
       "      <td>-0.163452</td>\n",
       "      <td>-0.244163</td>\n",
       "      <td>-0.057935</td>\n",
       "    </tr>\n",
       "    <tr>\n",
       "      <th>HMDB0250631</th>\n",
       "      <td>-0.066078</td>\n",
       "      <td>-0.156405</td>\n",
       "      <td>0.001526</td>\n",
       "      <td>0.013956</td>\n",
       "      <td>-0.164183</td>\n",
       "      <td>-0.122745</td>\n",
       "      <td>-0.03701</td>\n",
       "      <td>0.103492</td>\n",
       "      <td>-0.241651</td>\n",
       "      <td>-0.178211</td>\n",
       "      <td>...</td>\n",
       "      <td>-0.045472</td>\n",
       "      <td>-0.189439</td>\n",
       "      <td>0.053012</td>\n",
       "      <td>-0.167015</td>\n",
       "      <td>0.009517</td>\n",
       "      <td>-0.175543</td>\n",
       "      <td>-0.01855</td>\n",
       "      <td>-0.049392</td>\n",
       "      <td>-0.054533</td>\n",
       "      <td>0.018768</td>\n",
       "    </tr>\n",
       "    <tr>\n",
       "      <th>HMDB0254199</th>\n",
       "      <td>-0.099503</td>\n",
       "      <td>0.077438</td>\n",
       "      <td>-0.033572</td>\n",
       "      <td>0.092009</td>\n",
       "      <td>0.087133</td>\n",
       "      <td>0.174065</td>\n",
       "      <td>0.055</td>\n",
       "      <td>-0.04319</td>\n",
       "      <td>0.173108</td>\n",
       "      <td>-0.000526</td>\n",
       "      <td>...</td>\n",
       "      <td>0.043345</td>\n",
       "      <td>0.189439</td>\n",
       "      <td>-0.096338</td>\n",
       "      <td>0.162973</td>\n",
       "      <td>0.199094</td>\n",
       "      <td>0.188657</td>\n",
       "      <td>0.061448</td>\n",
       "      <td>0.068232</td>\n",
       "      <td>0.116464</td>\n",
       "      <td>0.151502</td>\n",
       "    </tr>\n",
       "    <tr>\n",
       "      <th>HMDB0259275</th>\n",
       "      <td>0.034196</td>\n",
       "      <td>-0.163537</td>\n",
       "      <td>-0.141919</td>\n",
       "      <td>-0.056859</td>\n",
       "      <td>-0.027665</td>\n",
       "      <td>0.106873</td>\n",
       "      <td>-0.068365</td>\n",
       "      <td>0.097788</td>\n",
       "      <td>-0.075547</td>\n",
       "      <td>0.155606</td>\n",
       "      <td>...</td>\n",
       "      <td>-0.083765</td>\n",
       "      <td>-0.035044</td>\n",
       "      <td>-0.087163</td>\n",
       "      <td>-0.154887</td>\n",
       "      <td>-0.282843</td>\n",
       "      <td>-0.067654</td>\n",
       "      <td>0.035941</td>\n",
       "      <td>-0.022405</td>\n",
       "      <td>-0.044119</td>\n",
       "      <td>0.066095</td>\n",
       "    </tr>\n",
       "    <tr>\n",
       "      <th>HMDB0341212</th>\n",
       "      <td>-0.048943</td>\n",
       "      <td>-0.024755</td>\n",
       "      <td>-0.221432</td>\n",
       "      <td>0.029001</td>\n",
       "      <td>0.03523</td>\n",
       "      <td>0.238</td>\n",
       "      <td>0.031672</td>\n",
       "      <td>0.096747</td>\n",
       "      <td>0.08797</td>\n",
       "      <td>0.019224</td>\n",
       "      <td>...</td>\n",
       "      <td>0.028507</td>\n",
       "      <td>0.184452</td>\n",
       "      <td>-0.233127</td>\n",
       "      <td>-0.024808</td>\n",
       "      <td>-0.064837</td>\n",
       "      <td>0.131979</td>\n",
       "      <td>-0.094959</td>\n",
       "      <td>0.109428</td>\n",
       "      <td>0.124919</td>\n",
       "      <td>0.070307</td>\n",
       "    </tr>\n",
       "  </tbody>\n",
       "</table>\n",
       "<p>61 rows × 39 columns</p>\n",
       "</div>"
      ]
     },
     "execution_count": 3,
     "metadata": {},
     "output_type": "execute_result"
    }
   ],
   "execution_count": 3
  },
  {
   "metadata": {},
   "cell_type": "markdown",
   "source": "Data intersection",
   "id": "b1955283669d944d"
  },
  {
   "metadata": {
    "ExecuteTime": {
     "end_time": "2024-06-13T15:31:57.949610Z",
     "start_time": "2024-06-13T15:31:57.945562Z"
    }
   },
   "cell_type": "code",
   "source": [
    "human_genus = human_corr_coefficient.columns.unique()\n",
    "mice_genus = mice_corr_coefficient.columns.unique()\n",
    "print(f\"There are {len(mice_genus.intersection(human_genus))} genus shared in the mice and human data. \\n\"\n",
    "      f\"Out of {len(mice_genus)} genus in mice and {len(human_genus)} genus in human. \\n \"\n",
    "      f\"AKA {round(len(mice_genus.intersection(human_genus)) / len(mice_genus) * 100, 2)} % of the genus in mice are shared with humans in our ds.\")"
   ],
   "id": "3696dcadf8e69f46",
   "outputs": [
    {
     "name": "stdout",
     "output_type": "stream",
     "text": [
      "There are 16 genus shared in the mice and human data. \n",
      "Out of 39 genus in mice and 107 genus in human. \n",
      " AKA 41.03 % of the genus in mice are shared with humans in our ds.\n"
     ]
    }
   ],
   "execution_count": 4
  },
  {
   "metadata": {
    "ExecuteTime": {
     "end_time": "2024-06-13T15:31:57.954546Z",
     "start_time": "2024-06-13T15:31:57.951189Z"
    }
   },
   "cell_type": "code",
   "source": [
    "mice_metabolites = mice_corr_coefficient.index.get_level_values(0).unique()\n",
    "human_metabolites = human_corr_coefficient.index.get_level_values(0).unique()\n",
    "shared_metabolites = human_metabolites.intersection(mice_metabolites)\n",
    "print(f\"Number of shared metabolites: {len(shared_metabolites)}\")"
   ],
   "id": "a77a7451f1d4c241",
   "outputs": [
    {
     "name": "stdout",
     "output_type": "stream",
     "text": [
      "Number of shared metabolites: 25\n"
     ]
    }
   ],
   "execution_count": 5
  },
  {
   "metadata": {},
   "cell_type": "markdown",
   "source": "Taxonomic distance mapping based on MGBC closest taxa table \n",
   "id": "97bea1fd068f9303"
  },
  {
   "metadata": {
    "ExecuteTime": {
     "end_time": "2024-06-13T15:31:58.351183Z",
     "start_time": "2024-06-13T15:31:57.955557Z"
    }
   },
   "cell_type": "code",
   "source": [
    "from translator import MGBC_Translator, Direction, DatabaseClosestTaxa, AggregationFunction\n",
    "m2h_translator = MGBC_Translator(direction=Direction.M2H, use_database=DatabaseClosestTaxa.taxonomy, aggregation_function=AggregationFunction.majority, short_taxonomic_naming=True)\n",
    "translation_map = m2h_translator.translation_map()"
   ],
   "id": "b539318e80923d41",
   "outputs": [],
   "execution_count": 6
  },
  {
   "metadata": {
    "ExecuteTime": {
     "end_time": "2024-06-13T15:31:58.356748Z",
     "start_time": "2024-06-13T15:31:58.352120Z"
    }
   },
   "cell_type": "code",
   "source": "translation_map.loc[translation_map.index.intersection(mice_genus)]",
   "id": "bc46faf0a78690bb",
   "outputs": [
    {
     "data": {
      "text/plain": [
       "NM07-P-09                           Parolsenella\n",
       "CAG-485                                  CAG-485\n",
       "Duncaniella                          Duncaniella\n",
       "Erysipelatoclostridium    Erysipelatoclostridium\n",
       "Faecalibaculum                      Holdemanella\n",
       "Turicibacter                        Turicibacter\n",
       "Lactococcus                          Lactococcus\n",
       "Clostridium                          Clostridium\n",
       "Anaerotignum                        Anaerotignum\n",
       "14-2                                      CAG-45\n",
       "1XD42-69                                1XD42-69\n",
       "Acetatifactor                      Acetatifactor\n",
       "CAG-56                                    CAG-56\n",
       "COE1                                        COE1\n",
       "Clostridium_Q                      Clostridium_Q\n",
       "Eubacterium_J                           UBA11774\n",
       "Kineothrix                                CAG-95\n",
       "Roseburia                              Roseburia\n",
       "Schaedlerella                      Schaedlerella\n",
       "Acutalibacter                      Acutalibacter\n",
       "Eubacterium_R                      Eubacterium_R\n",
       "Intestinimonas                    Intestinimonas\n",
       "Lawsonibacter                      Lawsonibacter\n",
       "Marseille-P3106                  Marseille-P3106\n",
       "Anaerotruncus                      Anaerotruncus\n",
       "Angelakisella                             Phocea\n",
       "Emergencia                            Emergencia\n",
       "Romboutsia                            Romboutsia\n",
       "Name: 0, dtype: object"
      ]
     },
     "execution_count": 7,
     "metadata": {},
     "output_type": "execute_result"
    }
   ],
   "execution_count": 7
  },
  {
   "metadata": {},
   "cell_type": "markdown",
   "source": "Validate - do we have nans in the mapping?",
   "id": "2ba8ff165567b29d"
  },
  {
   "metadata": {
    "ExecuteTime": {
     "end_time": "2024-06-13T15:31:58.365443Z",
     "start_time": "2024-06-13T15:31:58.357425Z"
    }
   },
   "cell_type": "code",
   "source": "translation_map.loc[translation_map.index.intersection(mice_genus)].isna().any()",
   "id": "da81f3360974857e",
   "outputs": [
    {
     "data": {
      "text/plain": [
       "False"
      ]
     },
     "execution_count": 8,
     "metadata": {},
     "output_type": "execute_result"
    }
   ],
   "execution_count": 8
  },
  {
   "metadata": {},
   "cell_type": "markdown",
   "source": "Do we have shared genus (mice to human) not included in this mapping? (Just for analysis)",
   "id": "a53fe761400bb349"
  },
  {
   "metadata": {
    "ExecuteTime": {
     "end_time": "2024-06-13T15:31:58.368840Z",
     "start_time": "2024-06-13T15:31:58.366169Z"
    }
   },
   "cell_type": "code",
   "source": [
    "print((~mice_genus.intersection(human_genus).isin(translation_map.index)).any())\n",
    "print(f\"There are {(~mice_genus.intersection(human_genus).isin(translation_map.index)).sum()} genus shared in mice-human dataset that aren't covered in the mapping, out of {mice_genus.intersection(human_genus).shape[0]} shared genus (OSA- iHMP)\")"
   ],
   "id": "7d9a340a043740e2",
   "outputs": [
    {
     "name": "stdout",
     "output_type": "stream",
     "text": [
      "True\n",
      "There are 5 genus shared in mice-human dataset that aren't covered in the mapping, out of 16 shared genus (OSA- iHMP)\n"
     ]
    }
   ],
   "execution_count": 9
  },
  {
   "metadata": {
    "ExecuteTime": {
     "end_time": "2024-06-13T15:31:58.372682Z",
     "start_time": "2024-06-13T15:31:58.369425Z"
    }
   },
   "cell_type": "code",
   "source": [
    "# mice_corr_coefficient, human_corr_coefficient\n",
    "# translation_map.loc[translation_map.index.intersection(mice_genus)]\n",
    "osa_translation_map = translation_map.loc[translation_map.index.intersection(mice_genus)]\n",
    "mice_translated_coefficient = mice_corr_coefficient.loc[shared_metabolites ,osa_translation_map.index].rename(columns=translation_map.loc[translation_map.index.intersection(mice_genus)])"
   ],
   "id": "7eb82169f55c735e",
   "outputs": [],
   "execution_count": 10
  },
  {
   "metadata": {
    "ExecuteTime": {
     "end_time": "2024-06-13T15:31:58.376924Z",
     "start_time": "2024-06-13T15:31:58.374042Z"
    }
   },
   "cell_type": "code",
   "source": "human_corr_coefficient.columns.intersection(osa_translation_map.values).shape",
   "id": "3e91cf6e445255ab",
   "outputs": [
    {
     "data": {
      "text/plain": [
       "(13,)"
      ]
     },
     "execution_count": 11,
     "metadata": {},
     "output_type": "execute_result"
    }
   ],
   "execution_count": 11
  },
  {
   "metadata": {
    "ExecuteTime": {
     "end_time": "2024-06-13T15:31:58.381055Z",
     "start_time": "2024-06-13T15:31:58.377801Z"
    }
   },
   "cell_type": "code",
   "source": "human_corr_coefficient.columns",
   "id": "3909c0c5bba298e0",
   "outputs": [
    {
     "data": {
      "text/plain": [
       "Index(['Acetatifactor', 'Acutalibacter', 'Agathobacter', 'Agathobaculum',\n",
       "       'Akkermansia', 'Alistipes', 'Alistipes_A', 'Alloprevotella',\n",
       "       'Anaerobutyricum', 'Anaerostipes',\n",
       "       ...\n",
       "       'Tolumonas', 'UBA11524', 'UBA11774', 'UBA1417', 'UBA5026', 'UMGS1375',\n",
       "       'Veillonella', 'Ventricola', 'Ventrimonas', 'Victivallis'],\n",
       "      dtype='object', length=107)"
      ]
     },
     "execution_count": 12,
     "metadata": {},
     "output_type": "execute_result"
    }
   ],
   "execution_count": 12
  },
  {
   "metadata": {
    "ExecuteTime": {
     "end_time": "2024-06-13T15:31:58.518621Z",
     "start_time": "2024-06-13T15:31:58.381793Z"
    }
   },
   "cell_type": "code",
   "source": [
    "tax_rep_index = pd.read_csv('/home/noa/lab_code/MGBC-Toolkit/data/tax_rep_index.tsv', sep='\\t', header=None,\n",
    "                            names=['pid','name', 'taxonomy level', 'taxonomy_label', 'source_pid', 'host', 'number'])"
   ],
   "id": "ceea16a6c5012f75",
   "outputs": [],
   "execution_count": 13
  },
  {
   "metadata": {
    "ExecuteTime": {
     "end_time": "2024-06-13T15:31:58.635324Z",
     "start_time": "2024-06-13T15:31:58.519440Z"
    }
   },
   "cell_type": "code",
   "source": [
    "human_genus_in_mgbc_catalog = tax_rep_index[tax_rep_index.host == 'HUMAN'].taxonomy_label.str.extract(\n",
    "            '.*;g__([^;]+).*').squeeze().unique()"
   ],
   "id": "83f7b85e74877ee3",
   "outputs": [],
   "execution_count": 14
  },
  {
   "metadata": {
    "ExecuteTime": {
     "end_time": "2024-06-13T15:31:58.639954Z",
     "start_time": "2024-06-13T15:31:58.636371Z"
    }
   },
   "cell_type": "code",
   "source": [
    "# There are 84 out of 107 genus that are in the UHGG catalog in MGBC toolkit. \n",
    "human_corr_coefficient.columns.intersection(human_genus_in_mgbc_catalog).shape"
   ],
   "id": "d59baaf83463a230",
   "outputs": [
    {
     "data": {
      "text/plain": [
       "(84,)"
      ]
     },
     "execution_count": 15,
     "metadata": {},
     "output_type": "execute_result"
    }
   ],
   "execution_count": 15
  },
  {
   "metadata": {
    "ExecuteTime": {
     "end_time": "2024-06-13T15:31:58.643354Z",
     "start_time": "2024-06-13T15:31:58.640538Z"
    }
   },
   "cell_type": "code",
   "source": [
    "# There are 49 out of 107 in the humans dataset that are in the Translation Map. \n",
    "human_corr_coefficient.columns.intersection(translation_map.values).shape\n"
   ],
   "id": "8138bb7b88b1c5d0",
   "outputs": [
    {
     "data": {
      "text/plain": [
       "(49,)"
      ]
     },
     "execution_count": 16,
     "metadata": {},
     "output_type": "execute_result"
    }
   ],
   "execution_count": 16
  },
  {
   "metadata": {},
   "cell_type": "markdown",
   "source": "Out of the 28 we tried to translate from OSA mice genus to Human iHMP human genus, there are 13 genus overlapping (Overlapping between the translated genus and the genus in the human dataset)",
   "id": "3fe7f4a8597e6c2d"
  },
  {
   "metadata": {
    "ExecuteTime": {
     "end_time": "2024-06-13T15:31:58.646765Z",
     "start_time": "2024-06-13T15:31:58.643974Z"
    }
   },
   "cell_type": "code",
   "source": "osa_translation_map.values",
   "id": "31f5d295270166e9",
   "outputs": [
    {
     "data": {
      "text/plain": [
       "array(['Parolsenella', 'CAG-485', 'Duncaniella', 'Erysipelatoclostridium',\n",
       "       'Holdemanella', 'Turicibacter', 'Lactococcus', 'Clostridium',\n",
       "       'Anaerotignum', 'CAG-45', '1XD42-69', 'Acetatifactor', 'CAG-56',\n",
       "       'COE1', 'Clostridium_Q', 'UBA11774', 'CAG-95', 'Roseburia',\n",
       "       'Schaedlerella', 'Acutalibacter', 'Eubacterium_R',\n",
       "       'Intestinimonas', 'Lawsonibacter', 'Marseille-P3106',\n",
       "       'Anaerotruncus', 'Phocea', 'Emergencia', 'Romboutsia'],\n",
       "      dtype=object)"
      ]
     },
     "execution_count": 17,
     "metadata": {},
     "output_type": "execute_result"
    }
   ],
   "execution_count": 17
  },
  {
   "metadata": {},
   "cell_type": "markdown",
   "source": [
    "Quantify how many of the non-rare taxonomic in mice we were able to map to non-rare taxonomic in human. \n",
    "\n",
    "Few suggestion for metrics:\n",
    "* how much of the translated taxa indeed exists as non-rare taxa in the human cohort (\"successfully translated\" / \"tried to translate\") "
   ],
   "id": "bb5c4a89d1a45e85"
  },
  {
   "metadata": {
    "ExecuteTime": {
     "end_time": "2024-06-13T15:31:58.649645Z",
     "start_time": "2024-06-13T15:31:58.647503Z"
    }
   },
   "cell_type": "code",
   "source": "discrete_metric = len(human_corr_coefficient.columns.intersection(osa_translation_map.values)) / len(osa_translation_map)\n",
   "id": "ebf61c7c4c4b6770",
   "outputs": [],
   "execution_count": 18
  },
  {
   "metadata": {
    "ExecuteTime": {
     "end_time": "2024-06-13T15:31:58.652737Z",
     "start_time": "2024-06-13T15:31:58.650278Z"
    }
   },
   "cell_type": "code",
   "source": "discrete_metric",
   "id": "d144fa83d4c32e38",
   "outputs": [
    {
     "data": {
      "text/plain": [
       "0.4642857142857143"
      ]
     },
     "execution_count": 19,
     "metadata": {},
     "output_type": "execute_result"
    }
   ],
   "execution_count": 19
  },
  {
   "metadata": {
    "ExecuteTime": {
     "end_time": "2024-06-13T15:31:58.655258Z",
     "start_time": "2024-06-13T15:31:58.653516Z"
    }
   },
   "cell_type": "code",
   "source": "# TODO: How much this metric (discrete metric) vary when changing the translation method (taxonomic vs. functional?)",
   "id": "6d382867d0453b89",
   "outputs": [],
   "execution_count": 20
  },
  {
   "metadata": {},
   "cell_type": "markdown",
   "source": "Compare the correlation coefficient of the microbiome-metabolomic that overlaps: (25 x 13 tabel of mice, 25 x 13 of humans)",
   "id": "279e29d34564547d"
  },
  {
   "metadata": {
    "ExecuteTime": {
     "end_time": "2024-06-13T15:31:58.658658Z",
     "start_time": "2024-06-13T15:31:58.655757Z"
    }
   },
   "cell_type": "code",
   "source": [
    "# Align the mice & human index (metabolites) & column (taxa)\n",
    "shared_taxa = mice_translated_coefficient.columns.intersection(human_corr_coefficient.columns)\n",
    "human_corr_coefficient = human_corr_coefficient.loc[shared_metabolites, shared_taxa]\n",
    "mice_translated_coefficient = mice_translated_coefficient.loc[shared_metabolites, shared_taxa]"
   ],
   "id": "326c984c362850b8",
   "outputs": [],
   "execution_count": 21
  },
  {
   "metadata": {},
   "cell_type": "markdown",
   "source": "Let's visualize the heatmap one next to each-other (coefficient) ",
   "id": "7d7e281b80b496ef"
  },
  {
   "metadata": {
    "ExecuteTime": {
     "end_time": "2024-06-13T15:31:59.119700Z",
     "start_time": "2024-06-13T15:31:58.659211Z"
    }
   },
   "cell_type": "code",
   "source": [
    "import seaborn as sns\n",
    "from matplotlib import pyplot as plt\n",
    "fig, axes = plt.subplots(1, 2, figsize=(12,8), gridspec_kw={'width_ratios': [1, 1.25]})\n",
    "sns.heatmap(mice_translated_coefficient.astype(float), ax=axes[0], cbar=False, linewidth=.5).set(title='Mice correlation of Metabolite & Bacteria')\n",
    "sns.heatmap(human_corr_coefficient.astype(float), ax=axes[1], yticklabels=False, linewidth=.5).set(title='Human correlation of Metabolite & Bacteria')"
   ],
   "id": "8f275ba93bc90255",
   "outputs": [
    {
     "data": {
      "text/plain": [
       "[Text(0.5, 1.0, 'Human correlation of Metabolite & Bacteria')]"
      ]
     },
     "execution_count": 22,
     "metadata": {},
     "output_type": "execute_result"
    },
    {
     "data": {
      "text/plain": [
       "<Figure size 1200x800 with 3 Axes>"
      ],
      "image/png": "[encoded data removed]"
     },
     "metadata": {},
     "output_type": "display_data"
    }
   ],
   "execution_count": 22
  },
  {
   "metadata": {},
   "cell_type": "markdown",
   "source": "Let's visualize the coefficient L1 similarity in a heatmap? ",
   "id": "e0e1ff90d947aba6"
  },
  {
   "metadata": {
    "ExecuteTime": {
     "end_time": "2024-06-13T15:31:59.416520Z",
     "start_time": "2024-06-13T15:31:59.121240Z"
    }
   },
   "cell_type": "code",
   "source": "sns.heatmap((mice_translated_coefficient-human_corr_coefficient).abs().astype(float), cbar=True, linewidth=.5).set(title='|Mice-Human| coefficient L1 distance')",
   "id": "5c45736e24e90911",
   "outputs": [
    {
     "data": {
      "text/plain": [
       "[Text(0.5, 1.0, '|Mice-Human| coefficient L1 distance')]"
      ]
     },
     "execution_count": 23,
     "metadata": {},
     "output_type": "execute_result"
    },
    {
     "data": {
      "text/plain": [
       "<Figure size 640x480 with 2 Axes>"
      ],
      "image/png": "[encoded data removed]"
     },
     "metadata": {},
     "output_type": "display_data"
    }
   ],
   "execution_count": 23
  },
  {
   "metadata": {},
   "cell_type": "markdown",
   "source": [
    "Is higher correlation of species i with respect to species j in mice is translated to higher correlation of species i with respect to species j in human (across different metabolites, looking at the metabolites as the samples)\n",
    "(We can use different metrics: \n",
    "Spearman / kendall for ranks, or L1/L2 to measure how well the coefficient themself preserve)"
   ],
   "id": "8080f5970441e1fe"
  },
  {
   "metadata": {
    "ExecuteTime": {
     "end_time": "2024-06-13T15:31:59.429280Z",
     "start_time": "2024-06-13T15:31:59.417271Z"
    }
   },
   "cell_type": "code",
   "source": [
    "# Kendal tau correlation of correlation\n",
    "kenal_correlation_of_correlation = pd.Series(index=shared_metabolites)\n",
    "kenal_p_values = pd.Series(index=shared_metabolites)\n",
    "\n",
    "for metabolite in shared_metabolites:\n",
    "    kenal_correlation_of_correlation[metabolite], kenal_p_values[metabolite]  = stats.kendalltau(mice_translated_coefficient.loc[metabolite], human_corr_coefficient.loc[metabolite])"
   ],
   "id": "931cee34c7690032",
   "outputs": [],
   "execution_count": 24
  },
  {
   "metadata": {
    "ExecuteTime": {
     "end_time": "2024-06-13T15:31:59.434155Z",
     "start_time": "2024-06-13T15:31:59.430176Z"
    }
   },
   "cell_type": "code",
   "source": "kenal_correlation_of_correlation.sort_values(ascending=False)",
   "id": "4b923541177f49a4",
   "outputs": [
    {
     "data": {
      "text/plain": [
       "Tetradecanoylcarnitine       0.307692\n",
       "Guanosine                    0.205128\n",
       "L-Tyrosine                   0.179487\n",
       "L-Histidine                  0.141938\n",
       "Palmitoylcarnitine           0.116131\n",
       "Oleoylcarnitine              0.116131\n",
       "Hypoxanthine                 0.102564\n",
       "Inosine                      0.102564\n",
       "LysoPC(14:0/0:0)             0.051282\n",
       "L-Methionine                 0.025641\n",
       "LysoPC(18:0/0:0)             0.000000\n",
       "L-Arginine                   0.000000\n",
       "L-Phenylalanine             -0.025641\n",
       "LysoPE(16:0/0:0)            -0.025641\n",
       "LysoPE(18:0/0:0)            -0.076923\n",
       "Pantothenic acid            -0.076923\n",
       "Glycerophosphocholine       -0.076923\n",
       "Lithocholic acid            -0.102564\n",
       "L-Glutamic acid             -0.102564\n",
       "Tauroursodeoxycholic acid   -0.128205\n",
       "LysoPC(18:1(9Z)/0:0)        -0.153846\n",
       "LysoPC(16:0/0:0)            -0.179487\n",
       "Riboflavin                  -0.256410\n",
       "Palmitoleic acid            -0.270973\n",
       "Linoleoyl ethanolamide      -0.384615\n",
       "dtype: float64"
      ]
     },
     "execution_count": 25,
     "metadata": {},
     "output_type": "execute_result"
    }
   ],
   "execution_count": 25
  },
  {
   "metadata": {
    "ExecuteTime": {
     "end_time": "2024-06-13T15:31:59.438224Z",
     "start_time": "2024-06-13T15:31:59.434953Z"
    }
   },
   "cell_type": "code",
   "source": "kenal_p_values",
   "id": "a8c50e4c37879247",
   "outputs": [
    {
     "data": {
      "text/plain": [
       "Glycerophosphocholine        0.765025\n",
       "Guanosine                    0.367404\n",
       "Hypoxanthine                 0.675433\n",
       "Inosine                      0.675433\n",
       "L-Arginine                   1.000000\n",
       "L-Glutamic acid              0.675433\n",
       "L-Histidine                  0.501361\n",
       "L-Methionine                 0.952362\n",
       "L-Phenylalanine              0.952362\n",
       "L-Tyrosine                   0.435380\n",
       "Linoleoyl ethanolamide       0.076317\n",
       "Lithocholic acid             0.675433\n",
       "LysoPC(14:0/0:0)             0.857734\n",
       "LysoPC(16:0/0:0)             0.435380\n",
       "LysoPC(18:0/0:0)             1.000000\n",
       "LysoPC(18:1(9Z)/0:0)         0.509775\n",
       "LysoPE(16:0/0:0)             0.952362\n",
       "LysoPE(18:0/0:0)             0.765025\n",
       "Oleoylcarnitine              0.582248\n",
       "Palmitoleic acid             0.199290\n",
       "Palmitoylcarnitine           0.582248\n",
       "Pantothenic acid             0.765025\n",
       "Riboflavin                   0.251858\n",
       "Tauroursodeoxycholic acid    0.590041\n",
       "Tetradecanoylcarnitine       0.163487\n",
       "dtype: float64"
      ]
     },
     "execution_count": 26,
     "metadata": {},
     "output_type": "execute_result"
    }
   ],
   "execution_count": 26
  },
  {
   "metadata": {
    "ExecuteTime": {
     "end_time": "2024-06-13T15:31:59.449893Z",
     "start_time": "2024-06-13T15:31:59.438815Z"
    }
   },
   "cell_type": "code",
   "source": [
    "# Spearman correlation of correlation\n",
    "Spearman_correlation_of_correlation = pd.Series(index=shared_metabolites)\n",
    "Spearman_p_values = pd.Series(index=shared_metabolites)\n",
    "\n",
    "for metabolite in shared_metabolites:\n",
    "    Spearman_correlation_of_correlation[metabolite], Spearman_p_values[metabolite]  = stats.spearmanr(mice_translated_coefficient.loc[metabolite], human_corr_coefficient.loc[metabolite])"
   ],
   "id": "1013d6a494f473be",
   "outputs": [],
   "execution_count": 27
  },
  {
   "metadata": {
    "ExecuteTime": {
     "end_time": "2024-06-13T15:31:59.454226Z",
     "start_time": "2024-06-13T15:31:59.450749Z"
    }
   },
   "cell_type": "code",
   "source": "Spearman_correlation_of_correlation.sort_values(ascending=False)",
   "id": "87943b1040fc47ae",
   "outputs": [
    {
     "data": {
      "text/plain": [
       "Tetradecanoylcarnitine       0.472527\n",
       "Guanosine                    0.285714\n",
       "L-Tyrosine                   0.263736\n",
       "L-Histidine                  0.217332\n",
       "Inosine                      0.175824\n",
       "Oleoylcarnitine              0.151307\n",
       "Palmitoylcarnitine           0.148556\n",
       "Hypoxanthine                 0.093407\n",
       "L-Methionine                 0.071429\n",
       "LysoPC(14:0/0:0)             0.060440\n",
       "LysoPE(16:0/0:0)             0.032967\n",
       "LysoPC(18:0/0:0)            -0.038462\n",
       "L-Arginine                  -0.049451\n",
       "LysoPE(18:0/0:0)            -0.060440\n",
       "L-Phenylalanine             -0.065934\n",
       "Glycerophosphocholine       -0.098901\n",
       "Pantothenic acid            -0.170330\n",
       "Tauroursodeoxycholic acid   -0.170330\n",
       "Lithocholic acid            -0.192308\n",
       "L-Glutamic acid             -0.197802\n",
       "LysoPC(16:0/0:0)            -0.214286\n",
       "LysoPC(18:1(9Z)/0:0)        -0.258242\n",
       "Palmitoleic acid            -0.283357\n",
       "Riboflavin                  -0.307692\n",
       "Linoleoyl ethanolamide      -0.527473\n",
       "dtype: float64"
      ]
     },
     "execution_count": 28,
     "metadata": {},
     "output_type": "execute_result"
    }
   ],
   "execution_count": 28
  },
  {
   "metadata": {
    "ExecuteTime": {
     "end_time": "2024-06-13T15:31:59.458944Z",
     "start_time": "2024-06-13T15:31:59.456298Z"
    }
   },
   "cell_type": "code",
   "source": "Spearman_p_values",
   "id": "1569eba63bbbb37c",
   "outputs": [
    {
     "data": {
      "text/plain": [
       "Glycerophosphocholine        0.747868\n",
       "Guanosine                    0.344000\n",
       "Hypoxanthine                 0.761500\n",
       "Inosine                      0.565580\n",
       "L-Arginine                   0.872544\n",
       "L-Glutamic acid              0.517131\n",
       "L-Histidine                  0.475697\n",
       "L-Methionine                 0.816628\n",
       "L-Phenylalanine              0.830542\n",
       "L-Tyrosine                   0.383937\n",
       "Linoleoyl ethanolamide       0.063955\n",
       "Lithocholic acid             0.529068\n",
       "LysoPC(14:0/0:0)             0.844502\n",
       "LysoPC(16:0/0:0)             0.482054\n",
       "LysoPC(18:0/0:0)             0.900724\n",
       "LysoPC(18:1(9Z)/0:0)         0.394284\n",
       "LysoPE(16:0/0:0)             0.914856\n",
       "LysoPE(18:0/0:0)             0.844502\n",
       "Oleoylcarnitine              0.621707\n",
       "Palmitoleic acid             0.348172\n",
       "Palmitoylcarnitine           0.628132\n",
       "Pantothenic acid             0.577975\n",
       "Riboflavin                   0.306447\n",
       "Tauroursodeoxycholic acid    0.577975\n",
       "Tetradecanoylcarnitine       0.102981\n",
       "dtype: float64"
      ]
     },
     "execution_count": 29,
     "metadata": {},
     "output_type": "execute_result"
    }
   ],
   "execution_count": 29
  },
  {
   "metadata": {},
   "cell_type": "markdown",
   "source": [
    "Out of the 25 metabolites, we see one metabolite that the correlation-of-correlation is higher then the other (Tetradecanoylcarnitine) but it's not significant statistically. \n",
    "According to Pubchem Tetradecanoylcarnitine is produced by Saccharomyces fungi: https://pubchem.ncbi.nlm.nih.gov/compound/Tetradecanoylcarnitine"
   ],
   "id": "d02e6a2bfa3dad93"
  },
  {
   "metadata": {
    "ExecuteTime": {
     "end_time": "2024-06-13T15:33:49.253942Z",
     "start_time": "2024-06-13T15:33:49.249232Z"
    }
   },
   "cell_type": "code",
   "source": [
    "metabolites_feces_from_microbial_origin_hmdb = pd.read_csv('metabolites_feces_from_microbial_origin_hmdb')\n",
    "print('Tetradecanoylcarnitine' in metabolites_feces_from_microbial_origin_hmdb.NAME)\n"
   ],
   "id": "c4227cd4df6ca616",
   "outputs": [
    {
     "name": "stdout",
     "output_type": "stream",
     "text": [
      "False\n"
     ]
    }
   ],
   "execution_count": 34
  },
  {
   "metadata": {
    "ExecuteTime": {
     "end_time": "2024-06-13T15:35:15.008752Z",
     "start_time": "2024-06-13T15:35:15.003874Z"
    }
   },
   "cell_type": "code",
   "source": [
    "# L1 \n",
    "(mice_translated_coefficient - human_corr_coefficient).abs().mean(axis=1).sort_values(ascending=True)"
   ],
   "id": "1730cb979edd8ad0",
   "outputs": [
    {
     "data": {
      "text/plain": [
       "L-Histidine                  0.092027\n",
       "L-Tyrosine                   0.093853\n",
       "Glycerophosphocholine        0.098776\n",
       "LysoPE(16:0/0:0)             0.110483\n",
       "L-Phenylalanine              0.120086\n",
       "L-Methionine                 0.120813\n",
       "Guanosine                    0.122631\n",
       "Riboflavin                   0.126525\n",
       "Hypoxanthine                 0.129898\n",
       "Inosine                      0.136283\n",
       "L-Glutamic acid              0.136682\n",
       "LysoPC(16:0/0:0)             0.140069\n",
       "LysoPC(18:0/0:0)             0.140106\n",
       "LysoPC(18:1(9Z)/0:0)         0.142836\n",
       "Lithocholic acid             0.145266\n",
       "LysoPE(18:0/0:0)             0.154702\n",
       "Palmitoleic acid             0.155862\n",
       "LysoPC(14:0/0:0)              0.16066\n",
       "Linoleoyl ethanolamide       0.165751\n",
       "Tetradecanoylcarnitine       0.172942\n",
       "Pantothenic acid             0.179088\n",
       "L-Arginine                   0.187459\n",
       "Oleoylcarnitine              0.198514\n",
       "Tauroursodeoxycholic acid    0.199559\n",
       "Palmitoylcarnitine           0.217029\n",
       "dtype: object"
      ]
     },
     "execution_count": 39,
     "metadata": {},
     "output_type": "execute_result"
    }
   ],
   "execution_count": 39
  },
  {
   "metadata": {},
   "cell_type": "markdown",
   "source": "Does question like: Which species correlates the most with the metabolite preserve between hosts? (For some metabolites?)",
   "id": "b9e5f1d9187c56cb"
  },
  {
   "metadata": {
    "ExecuteTime": {
     "end_time": "2024-06-13T15:42:09.155237Z",
     "start_time": "2024-06-13T15:42:09.146392Z"
    }
   },
   "cell_type": "code",
   "source": [
    "pd.DataFrame({\"Mice highest corr taxa\" : mice_translated_coefficient.astype(float).apply(lambda x: x.idxmax(), axis=1),\n",
    "              \"Human highest corr taxa\": human_corr_coefficient.astype(float).apply(lambda x: x.idxmax(), axis=1)})"
   ],
   "id": "d464f75a35ddf0ec",
   "outputs": [
    {
     "data": {
      "text/plain": [
       "                           Mice highest corr taxa Human highest corr taxa\n",
       "Glycerophosphocholine               Acetatifactor                    COE1\n",
       "Guanosine                                UBA11774           Acetatifactor\n",
       "Hypoxanthine                        Acutalibacter                  CAG-95\n",
       "Inosine                                  UBA11774                  CAG-95\n",
       "L-Arginine                                   COE1               Roseburia\n",
       "L-Glutamic acid                     Lawsonibacter               Roseburia\n",
       "L-Histidine                Erysipelatoclostridium  Erysipelatoclostridium\n",
       "L-Methionine                        Acutalibacter           Clostridium_Q\n",
       "L-Phenylalanine                     Acutalibacter           Clostridium_Q\n",
       "L-Tyrosine                                 CAG-95           Clostridium_Q\n",
       "Linoleoyl ethanolamide              Acutalibacter  Erysipelatoclostridium\n",
       "Lithocholic acid                           CAG-95           Anaerotruncus\n",
       "LysoPC(14:0/0:0)                    Anaerotruncus               Roseburia\n",
       "LysoPC(16:0/0:0)           Erysipelatoclostridium               Roseburia\n",
       "LysoPC(18:0/0:0)           Erysipelatoclostridium               Roseburia\n",
       "LysoPC(18:1(9Z)/0:0)       Erysipelatoclostridium               Roseburia\n",
       "LysoPE(16:0/0:0)           Erysipelatoclostridium           Acetatifactor\n",
       "LysoPE(18:0/0:0)           Erysipelatoclostridium           Acetatifactor\n",
       "Oleoylcarnitine            Erysipelatoclostridium  Erysipelatoclostridium\n",
       "Palmitoleic acid                    Lawsonibacter           Eubacterium_R\n",
       "Palmitoylcarnitine         Erysipelatoclostridium           Clostridium_Q\n",
       "Pantothenic acid                    Lawsonibacter                    COE1\n",
       "Riboflavin                                   COE1               Roseburia\n",
       "Tauroursodeoxycholic acid                    COE1  Erysipelatoclostridium\n",
       "Tetradecanoylcarnitine     Erysipelatoclostridium  Erysipelatoclostridium"
      ],
      "text/html": [
       "<div>\n",
       "<style scoped>\n",
       "    .dataframe tbody tr th:only-of-type {\n",
       "        vertical-align: middle;\n",
       "    }\n",
       "\n",
       "    .dataframe tbody tr th {\n",
       "        vertical-align: top;\n",
       "    }\n",
       "\n",
       "    .dataframe thead th {\n",
       "        text-align: right;\n",
       "    }\n",
       "</style>\n",
       "<table border=\"1\" class=\"dataframe\">\n",
       "  <thead>\n",
       "    <tr style=\"text-align: right;\">\n",
       "      <th></th>\n",
       "      <th>Mice highest corr taxa</th>\n",
       "      <th>Human highest corr taxa</th>\n",
       "    </tr>\n",
       "  </thead>\n",
       "  <tbody>\n",
       "    <tr>\n",
       "      <th>Glycerophosphocholine</th>\n",
       "      <td>Acetatifactor</td>\n",
       "      <td>COE1</td>\n",
       "    </tr>\n",
       "    <tr>\n",
       "      <th>Guanosine</th>\n",
       "      <td>UBA11774</td>\n",
       "      <td>Acetatifactor</td>\n",
       "    </tr>\n",
       "    <tr>\n",
       "      <th>Hypoxanthine</th>\n",
       "      <td>Acutalibacter</td>\n",
       "      <td>CAG-95</td>\n",
       "    </tr>\n",
       "    <tr>\n",
       "      <th>Inosine</th>\n",
       "      <td>UBA11774</td>\n",
       "      <td>CAG-95</td>\n",
       "    </tr>\n",
       "    <tr>\n",
       "      <th>L-Arginine</th>\n",
       "      <td>COE1</td>\n",
       "      <td>Roseburia</td>\n",
       "    </tr>\n",
       "    <tr>\n",
       "      <th>L-Glutamic acid</th>\n",
       "      <td>Lawsonibacter</td>\n",
       "      <td>Roseburia</td>\n",
       "    </tr>\n",
       "    <tr>\n",
       "      <th>L-Histidine</th>\n",
       "      <td>Erysipelatoclostridium</td>\n",
       "      <td>Erysipelatoclostridium</td>\n",
       "    </tr>\n",
       "    <tr>\n",
       "      <th>L-Methionine</th>\n",
       "      <td>Acutalibacter</td>\n",
       "      <td>Clostridium_Q</td>\n",
       "    </tr>\n",
       "    <tr>\n",
       "      <th>L-Phenylalanine</th>\n",
       "      <td>Acutalibacter</td>\n",
       "      <td>Clostridium_Q</td>\n",
       "    </tr>\n",
       "    <tr>\n",
       "      <th>L-Tyrosine</th>\n",
       "      <td>CAG-95</td>\n",
       "      <td>Clostridium_Q</td>\n",
       "    </tr>\n",
       "    <tr>\n",
       "      <th>Linoleoyl ethanolamide</th>\n",
       "      <td>Acutalibacter</td>\n",
       "      <td>Erysipelatoclostridium</td>\n",
       "    </tr>\n",
       "    <tr>\n",
       "      <th>Lithocholic acid</th>\n",
       "      <td>CAG-95</td>\n",
       "      <td>Anaerotruncus</td>\n",
       "    </tr>\n",
       "    <tr>\n",
       "      <th>LysoPC(14:0/0:0)</th>\n",
       "      <td>Anaerotruncus</td>\n",
       "      <td>Roseburia</td>\n",
       "    </tr>\n",
       "    <tr>\n",
       "      <th>LysoPC(16:0/0:0)</th>\n",
       "      <td>Erysipelatoclostridium</td>\n",
       "      <td>Roseburia</td>\n",
       "    </tr>\n",
       "    <tr>\n",
       "      <th>LysoPC(18:0/0:0)</th>\n",
       "      <td>Erysipelatoclostridium</td>\n",
       "      <td>Roseburia</td>\n",
       "    </tr>\n",
       "    <tr>\n",
       "      <th>LysoPC(18:1(9Z)/0:0)</th>\n",
       "      <td>Erysipelatoclostridium</td>\n",
       "      <td>Roseburia</td>\n",
       "    </tr>\n",
       "    <tr>\n",
       "      <th>LysoPE(16:0/0:0)</th>\n",
       "      <td>Erysipelatoclostridium</td>\n",
       "      <td>Acetatifactor</td>\n",
       "    </tr>\n",
       "    <tr>\n",
       "      <th>LysoPE(18:0/0:0)</th>\n",
       "      <td>Erysipelatoclostridium</td>\n",
       "      <td>Acetatifactor</td>\n",
       "    </tr>\n",
       "    <tr>\n",
       "      <th>Oleoylcarnitine</th>\n",
       "      <td>Erysipelatoclostridium</td>\n",
       "      <td>Erysipelatoclostridium</td>\n",
       "    </tr>\n",
       "    <tr>\n",
       "      <th>Palmitoleic acid</th>\n",
       "      <td>Lawsonibacter</td>\n",
       "      <td>Eubacterium_R</td>\n",
       "    </tr>\n",
       "    <tr>\n",
       "      <th>Palmitoylcarnitine</th>\n",
       "      <td>Erysipelatoclostridium</td>\n",
       "      <td>Clostridium_Q</td>\n",
       "    </tr>\n",
       "    <tr>\n",
       "      <th>Pantothenic acid</th>\n",
       "      <td>Lawsonibacter</td>\n",
       "      <td>COE1</td>\n",
       "    </tr>\n",
       "    <tr>\n",
       "      <th>Riboflavin</th>\n",
       "      <td>COE1</td>\n",
       "      <td>Roseburia</td>\n",
       "    </tr>\n",
       "    <tr>\n",
       "      <th>Tauroursodeoxycholic acid</th>\n",
       "      <td>COE1</td>\n",
       "      <td>Erysipelatoclostridium</td>\n",
       "    </tr>\n",
       "    <tr>\n",
       "      <th>Tetradecanoylcarnitine</th>\n",
       "      <td>Erysipelatoclostridium</td>\n",
       "      <td>Erysipelatoclostridium</td>\n",
       "    </tr>\n",
       "  </tbody>\n",
       "</table>\n",
       "</div>"
      ]
     },
     "execution_count": 45,
     "metadata": {},
     "output_type": "execute_result"
    }
   ],
   "execution_count": 45
  },
  {
   "metadata": {},
   "cell_type": "markdown",
   "source": "Does question like: Which metabolite correlates the most with the species preserve between hosts? (For some metabolites?)\n",
   "id": "d8607c1268dcc481"
  },
  {
   "metadata": {
    "ExecuteTime": {
     "end_time": "2024-06-13T15:43:31.685469Z",
     "start_time": "2024-06-13T15:43:31.678204Z"
    }
   },
   "cell_type": "code",
   "source": [
    "pd.DataFrame({\"Mice highest corr taxa\" : mice_translated_coefficient.astype(float).apply(lambda x: x.idxmax(), axis=0),\n",
    "              \"Human highest corr taxa\": human_corr_coefficient.astype(float).apply(lambda x: x.idxmax(), axis=0)})"
   ],
   "id": "935fcc68571d405",
   "outputs": [
    {
     "data": {
      "text/plain": [
       "                           Mice highest corr taxa Human highest corr taxa\n",
       "Erysipelatoclostridium            Oleoylcarnitine  Linoleoyl ethanolamide\n",
       "Anaerotignum                     LysoPC(14:0/0:0)              Riboflavin\n",
       "Acetatifactor               Glycerophosphocholine        Pantothenic acid\n",
       "COE1                    Tauroursodeoxycholic acid        Pantothenic acid\n",
       "Clostridium_Q                    Lithocholic acid            L-Methionine\n",
       "UBA11774                Tauroursodeoxycholic acid               Guanosine\n",
       "CAG-95                           Lithocholic acid        Pantothenic acid\n",
       "Roseburia                        Lithocholic acid        Pantothenic acid\n",
       "Acutalibacter                    Pantothenic acid        Lithocholic acid\n",
       "Eubacterium_R                    Lithocholic acid        Palmitoleic acid\n",
       "Intestinimonas                   Lithocholic acid        Lithocholic acid\n",
       "Lawsonibacter                    Pantothenic acid        Lithocholic acid\n",
       "Anaerotruncus                    LysoPC(14:0/0:0)        Lithocholic acid"
      ],
      "text/html": [
       "<div>\n",
       "<style scoped>\n",
       "    .dataframe tbody tr th:only-of-type {\n",
       "        vertical-align: middle;\n",
       "    }\n",
       "\n",
       "    .dataframe tbody tr th {\n",
       "        vertical-align: top;\n",
       "    }\n",
       "\n",
       "    .dataframe thead th {\n",
       "        text-align: right;\n",
       "    }\n",
       "</style>\n",
       "<table border=\"1\" class=\"dataframe\">\n",
       "  <thead>\n",
       "    <tr style=\"text-align: right;\">\n",
       "      <th></th>\n",
       "      <th>Mice highest corr taxa</th>\n",
       "      <th>Human highest corr taxa</th>\n",
       "    </tr>\n",
       "  </thead>\n",
       "  <tbody>\n",
       "    <tr>\n",
       "      <th>Erysipelatoclostridium</th>\n",
       "      <td>Oleoylcarnitine</td>\n",
       "      <td>Linoleoyl ethanolamide</td>\n",
       "    </tr>\n",
       "    <tr>\n",
       "      <th>Anaerotignum</th>\n",
       "      <td>LysoPC(14:0/0:0)</td>\n",
       "      <td>Riboflavin</td>\n",
       "    </tr>\n",
       "    <tr>\n",
       "      <th>Acetatifactor</th>\n",
       "      <td>Glycerophosphocholine</td>\n",
       "      <td>Pantothenic acid</td>\n",
       "    </tr>\n",
       "    <tr>\n",
       "      <th>COE1</th>\n",
       "      <td>Tauroursodeoxycholic acid</td>\n",
       "      <td>Pantothenic acid</td>\n",
       "    </tr>\n",
       "    <tr>\n",
       "      <th>Clostridium_Q</th>\n",
       "      <td>Lithocholic acid</td>\n",
       "      <td>L-Methionine</td>\n",
       "    </tr>\n",
       "    <tr>\n",
       "      <th>UBA11774</th>\n",
       "      <td>Tauroursodeoxycholic acid</td>\n",
       "      <td>Guanosine</td>\n",
       "    </tr>\n",
       "    <tr>\n",
       "      <th>CAG-95</th>\n",
       "      <td>Lithocholic acid</td>\n",
       "      <td>Pantothenic acid</td>\n",
       "    </tr>\n",
       "    <tr>\n",
       "      <th>Roseburia</th>\n",
       "      <td>Lithocholic acid</td>\n",
       "      <td>Pantothenic acid</td>\n",
       "    </tr>\n",
       "    <tr>\n",
       "      <th>Acutalibacter</th>\n",
       "      <td>Pantothenic acid</td>\n",
       "      <td>Lithocholic acid</td>\n",
       "    </tr>\n",
       "    <tr>\n",
       "      <th>Eubacterium_R</th>\n",
       "      <td>Lithocholic acid</td>\n",
       "      <td>Palmitoleic acid</td>\n",
       "    </tr>\n",
       "    <tr>\n",
       "      <th>Intestinimonas</th>\n",
       "      <td>Lithocholic acid</td>\n",
       "      <td>Lithocholic acid</td>\n",
       "    </tr>\n",
       "    <tr>\n",
       "      <th>Lawsonibacter</th>\n",
       "      <td>Pantothenic acid</td>\n",
       "      <td>Lithocholic acid</td>\n",
       "    </tr>\n",
       "    <tr>\n",
       "      <th>Anaerotruncus</th>\n",
       "      <td>LysoPC(14:0/0:0)</td>\n",
       "      <td>Lithocholic acid</td>\n",
       "    </tr>\n",
       "  </tbody>\n",
       "</table>\n",
       "</div>"
      ]
     },
     "execution_count": 46,
     "metadata": {},
     "output_type": "execute_result"
    }
   ],
   "execution_count": 46
  },
  {
   "metadata": {
    "ExecuteTime": {
     "end_time": "2024-06-13T15:51:04.692129Z",
     "start_time": "2024-06-13T15:51:04.556160Z"
    }
   },
   "cell_type": "code",
   "source": "mice_translated_coefficient.stack().astype(float).plot.hist(title='Kendall tau coefficient in mice')",
   "id": "c84d125062b15a8a",
   "outputs": [
    {
     "data": {
      "text/plain": [
       "<Axes: title={'center': 'Kendall tau coefficient in mice'}, ylabel='Frequency'>"
      ]
     },
     "execution_count": 55,
     "metadata": {},
     "output_type": "execute_result"
    },
    {
     "data": {
      "text/plain": [
       "<Figure size 640x480 with 1 Axes>"
      ],
      "image/png": "[encoded data removed]"
     },
     "metadata": {},
     "output_type": "display_data"
    }
   ],
   "execution_count": 55
  },
  {
   "metadata": {},
   "cell_type": "markdown",
   "source": [
    "Lets look on the microbiome-metabolome correlation as a classification task, \n",
    "Will define Coeff > 0.2 as 'Positive correlation' / 'correlation'\n",
    "Coeff < -0.2 as 'Negative correlation' / 'correlation'\n",
    "-0.2 < Coeff < 0.2 not correlated. \n",
    "\n",
    "How much correlation/not correlation in mice can be a predictor for correlation/not correlation in human?"
   ],
   "id": "2511d3d1e6115c0b"
  },
  {
   "metadata": {
    "ExecuteTime": {
     "end_time": "2024-06-13T15:54:28.731531Z",
     "start_time": "2024-06-13T15:54:28.588678Z"
    }
   },
   "cell_type": "code",
   "source": "human_corr_coefficient.stack().astype(float).plot.hist(title='Kendall tau coefficient in humans')\n",
   "id": "2d03b15c8a792032",
   "outputs": [
    {
     "data": {
      "text/plain": [
       "<Axes: title={'center': 'Kendall tau coefficient in humans'}, ylabel='Frequency'>"
      ]
     },
     "execution_count": 57,
     "metadata": {},
     "output_type": "execute_result"
    },
    {
     "data": {
      "text/plain": [
       "<Figure size 640x480 with 1 Axes>"
      ],
      "image/png": "[encoded data removed]"
     },
     "metadata": {},
     "output_type": "display_data"
    }
   ],
   "execution_count": 57
  },
  {
   "metadata": {
    "ExecuteTime": {
     "end_time": "2024-06-13T15:58:48.500932Z",
     "start_time": "2024-06-13T15:58:48.496345Z"
    }
   },
   "cell_type": "code",
   "source": "(mice_translated_coefficient.abs() > 0.2).mean(axis=1)",
   "id": "54231fddcbb8285c",
   "outputs": [
    {
     "data": {
      "text/plain": [
       "Glycerophosphocholine        0.076923\n",
       "Guanosine                    0.000000\n",
       "Hypoxanthine                 0.153846\n",
       "Inosine                      0.230769\n",
       "L-Arginine                   0.230769\n",
       "L-Glutamic acid              0.230769\n",
       "L-Histidine                  0.153846\n",
       "L-Methionine                 0.230769\n",
       "L-Phenylalanine              0.153846\n",
       "L-Tyrosine                   0.076923\n",
       "Linoleoyl ethanolamide       0.230769\n",
       "Lithocholic acid             0.384615\n",
       "LysoPC(14:0/0:0)             0.000000\n",
       "LysoPC(16:0/0:0)             0.000000\n",
       "LysoPC(18:0/0:0)             0.076923\n",
       "LysoPC(18:1(9Z)/0:0)         0.000000\n",
       "LysoPE(16:0/0:0)             0.076923\n",
       "LysoPE(18:0/0:0)             0.076923\n",
       "Oleoylcarnitine              0.076923\n",
       "Palmitoleic acid             0.230769\n",
       "Palmitoylcarnitine           0.076923\n",
       "Pantothenic acid             0.153846\n",
       "Riboflavin                   0.076923\n",
       "Tauroursodeoxycholic acid    0.230769\n",
       "Tetradecanoylcarnitine       0.076923\n",
       "dtype: float64"
      ]
     },
     "execution_count": 71,
     "metadata": {},
     "output_type": "execute_result"
    }
   ],
   "execution_count": 71
  },
  {
   "metadata": {},
   "cell_type": "markdown",
   "source": "Using mice correlation of microbiome-metabolism as a predictor to YES/NO correlates in Human. ",
   "id": "472cd1b91f4f2176"
  },
  {
   "metadata": {
    "ExecuteTime": {
     "end_time": "2024-06-13T15:59:14.550175Z",
     "start_time": "2024-06-13T15:59:14.545611Z"
    }
   },
   "cell_type": "code",
   "source": "((mice_translated_coefficient.abs() > 0.2) == (human_corr_coefficient.abs() > 0.2)).mean(axis=1)",
   "id": "b369637563bfd052",
   "outputs": [
    {
     "data": {
      "text/plain": [
       "Glycerophosphocholine        0.923077\n",
       "Guanosine                    1.000000\n",
       "Hypoxanthine                 0.846154\n",
       "Inosine                      0.769231\n",
       "L-Arginine                   0.692308\n",
       "L-Glutamic acid              0.769231\n",
       "L-Histidine                  0.846154\n",
       "L-Methionine                 0.692308\n",
       "L-Phenylalanine              0.769231\n",
       "L-Tyrosine                   0.923077\n",
       "Linoleoyl ethanolamide       0.538462\n",
       "Lithocholic acid             0.615385\n",
       "LysoPC(14:0/0:0)             0.769231\n",
       "LysoPC(16:0/0:0)             0.692308\n",
       "LysoPC(18:0/0:0)             0.846154\n",
       "LysoPC(18:1(9Z)/0:0)         0.846154\n",
       "LysoPE(16:0/0:0)             0.846154\n",
       "LysoPE(18:0/0:0)             0.769231\n",
       "Oleoylcarnitine              0.538462\n",
       "Palmitoleic acid             0.769231\n",
       "Palmitoylcarnitine           0.538462\n",
       "Pantothenic acid             0.615385\n",
       "Riboflavin                   0.923077\n",
       "Tauroursodeoxycholic acid    0.769231\n",
       "Tetradecanoylcarnitine       0.692308\n",
       "dtype: float64"
      ]
     },
     "execution_count": 73,
     "metadata": {},
     "output_type": "execute_result"
    }
   ],
   "execution_count": 73
  },
  {
   "metadata": {
    "ExecuteTime": {
     "end_time": "2024-06-13T16:02:54.890475Z",
     "start_time": "2024-06-13T16:02:54.881610Z"
    }
   },
   "cell_type": "code",
   "source": [
    "mice_predictions_succeed = ((mice_translated_coefficient.abs() > 0.2) == (human_corr_coefficient.abs() > 0.2))\n",
    "mice_predictions_succeed"
   ],
   "id": "2611a6a3f541c357",
   "outputs": [
    {
     "data": {
      "text/plain": [
       "                           Erysipelatoclostridium  Anaerotignum  \\\n",
       "Glycerophosphocholine                        True          True   \n",
       "Guanosine                                    True          True   \n",
       "Hypoxanthine                                False         False   \n",
       "Inosine                                      True          True   \n",
       "L-Arginine                                   True          True   \n",
       "L-Glutamic acid                             False          True   \n",
       "L-Histidine                                  True          True   \n",
       "L-Methionine                                 True          True   \n",
       "L-Phenylalanine                              True         False   \n",
       "L-Tyrosine                                   True         False   \n",
       "Linoleoyl ethanolamide                       True          True   \n",
       "Lithocholic acid                             True          True   \n",
       "LysoPC(14:0/0:0)                             True          True   \n",
       "LysoPC(16:0/0:0)                             True          True   \n",
       "LysoPC(18:0/0:0)                             True          True   \n",
       "LysoPC(18:1(9Z)/0:0)                         True          True   \n",
       "LysoPE(16:0/0:0)                             True          True   \n",
       "LysoPE(18:0/0:0)                            False          True   \n",
       "Oleoylcarnitine                             False          True   \n",
       "Palmitoleic acid                             True          True   \n",
       "Palmitoylcarnitine                          False          True   \n",
       "Pantothenic acid                             True          True   \n",
       "Riboflavin                                   True          True   \n",
       "Tauroursodeoxycholic acid                    True          True   \n",
       "Tetradecanoylcarnitine                      False          True   \n",
       "\n",
       "                           Acetatifactor   COE1  Clostridium_Q  UBA11774  \\\n",
       "Glycerophosphocholine              False   True           True      True   \n",
       "Guanosine                           True   True           True      True   \n",
       "Hypoxanthine                        True   True           True      True   \n",
       "Inosine                             True   True           True      True   \n",
       "L-Arginine                          True   True          False      True   \n",
       "L-Glutamic acid                     True   True           True      True   \n",
       "L-Histidine                         True   True           True      True   \n",
       "L-Methionine                        True   True          False      True   \n",
       "L-Phenylalanine                     True   True          False      True   \n",
       "L-Tyrosine                          True   True           True      True   \n",
       "Linoleoyl ethanolamide              True   True          False     False   \n",
       "Lithocholic acid                    True   True          False      True   \n",
       "LysoPC(14:0/0:0)                    True   True           True      True   \n",
       "LysoPC(16:0/0:0)                    True   True           True      True   \n",
       "LysoPC(18:0/0:0)                    True   True           True      True   \n",
       "LysoPC(18:1(9Z)/0:0)                True   True           True      True   \n",
       "LysoPE(16:0/0:0)                    True   True           True      True   \n",
       "LysoPE(18:0/0:0)                    True   True           True      True   \n",
       "Oleoylcarnitine                     True   True           True     False   \n",
       "Palmitoleic acid                    True   True          False      True   \n",
       "Palmitoylcarnitine                  True   True           True     False   \n",
       "Pantothenic acid                    True  False           True      True   \n",
       "Riboflavin                         False   True           True      True   \n",
       "Tauroursodeoxycholic acid           True  False           True      True   \n",
       "Tetradecanoylcarnitine              True   True           True      True   \n",
       "\n",
       "                           CAG-95  Roseburia  Acutalibacter  Eubacterium_R  \\\n",
       "Glycerophosphocholine        True       True           True           True   \n",
       "Guanosine                    True       True           True           True   \n",
       "Hypoxanthine                 True       True           True           True   \n",
       "Inosine                     False       True          False           True   \n",
       "L-Arginine                   True      False           True          False   \n",
       "L-Glutamic acid              True      False           True          False   \n",
       "L-Histidine                 False       True           True           True   \n",
       "L-Methionine                False       True          False           True   \n",
       "L-Phenylalanine              True       True          False           True   \n",
       "L-Tyrosine                   True       True           True           True   \n",
       "Linoleoyl ethanolamide       True      False          False           True   \n",
       "Lithocholic acid            False      False           True          False   \n",
       "LysoPC(14:0/0:0)             True       True          False           True   \n",
       "LysoPC(16:0/0:0)             True       True          False           True   \n",
       "LysoPC(18:0/0:0)             True       True          False           True   \n",
       "LysoPC(18:1(9Z)/0:0)         True       True          False           True   \n",
       "LysoPE(16:0/0:0)             True       True          False           True   \n",
       "LysoPE(18:0/0:0)             True       True           True           True   \n",
       "Oleoylcarnitine              True       True          False          False   \n",
       "Palmitoleic acid             True      False           True          False   \n",
       "Palmitoylcarnitine           True       True          False          False   \n",
       "Pantothenic acid            False      False          False           True   \n",
       "Riboflavin                   True       True           True           True   \n",
       "Tauroursodeoxycholic acid    True       True          False           True   \n",
       "Tetradecanoylcarnitine       True       True          False           True   \n",
       "\n",
       "                           Intestinimonas  Lawsonibacter  Anaerotruncus  \n",
       "Glycerophosphocholine                True           True           True  \n",
       "Guanosine                            True           True           True  \n",
       "Hypoxanthine                         True           True           True  \n",
       "Inosine                              True          False           True  \n",
       "L-Arginine                          False           True           True  \n",
       "L-Glutamic acid                      True           True           True  \n",
       "L-Histidine                         False           True           True  \n",
       "L-Methionine                         True          False           True  \n",
       "L-Phenylalanine                      True           True           True  \n",
       "L-Tyrosine                           True           True           True  \n",
       "Linoleoyl ethanolamide              False           True          False  \n",
       "Lithocholic acid                    False           True           True  \n",
       "LysoPC(14:0/0:0)                     True          False          False  \n",
       "LysoPC(16:0/0:0)                    False          False          False  \n",
       "LysoPC(18:0/0:0)                     True           True          False  \n",
       "LysoPC(18:1(9Z)/0:0)                 True           True          False  \n",
       "LysoPE(16:0/0:0)                     True           True          False  \n",
       "LysoPE(18:0/0:0)                     True          False          False  \n",
       "Oleoylcarnitine                     False           True          False  \n",
       "Palmitoleic acid                     True           True           True  \n",
       "Palmitoylcarnitine                  False           True          False  \n",
       "Pantothenic acid                     True          False           True  \n",
       "Riboflavin                           True           True           True  \n",
       "Tauroursodeoxycholic acid            True          False           True  \n",
       "Tetradecanoylcarnitine               True          False          False  "
      ],
      "text/html": [
       "<div>\n",
       "<style scoped>\n",
       "    .dataframe tbody tr th:only-of-type {\n",
       "        vertical-align: middle;\n",
       "    }\n",
       "\n",
       "    .dataframe tbody tr th {\n",
       "        vertical-align: top;\n",
       "    }\n",
       "\n",
       "    .dataframe thead th {\n",
       "        text-align: right;\n",
       "    }\n",
       "</style>\n",
       "<table border=\"1\" class=\"dataframe\">\n",
       "  <thead>\n",
       "    <tr style=\"text-align: right;\">\n",
       "      <th></th>\n",
       "      <th>Erysipelatoclostridium</th>\n",
       "      <th>Anaerotignum</th>\n",
       "      <th>Acetatifactor</th>\n",
       "      <th>COE1</th>\n",
       "      <th>Clostridium_Q</th>\n",
       "      <th>UBA11774</th>\n",
       "      <th>CAG-95</th>\n",
       "      <th>Roseburia</th>\n",
       "      <th>Acutalibacter</th>\n",
       "      <th>Eubacterium_R</th>\n",
       "      <th>Intestinimonas</th>\n",
       "      <th>Lawsonibacter</th>\n",
       "      <th>Anaerotruncus</th>\n",
       "    </tr>\n",
       "  </thead>\n",
       "  <tbody>\n",
       "    <tr>\n",
       "      <th>Glycerophosphocholine</th>\n",
       "      <td>True</td>\n",
       "      <td>True</td>\n",
       "      <td>False</td>\n",
       "      <td>True</td>\n",
       "      <td>True</td>\n",
       "      <td>True</td>\n",
       "      <td>True</td>\n",
       "      <td>True</td>\n",
       "      <td>True</td>\n",
       "      <td>True</td>\n",
       "      <td>True</td>\n",
       "      <td>True</td>\n",
       "      <td>True</td>\n",
       "    </tr>\n",
       "    <tr>\n",
       "      <th>Guanosine</th>\n",
       "      <td>True</td>\n",
       "      <td>True</td>\n",
       "      <td>True</td>\n",
       "      <td>True</td>\n",
       "      <td>True</td>\n",
       "      <td>True</td>\n",
       "      <td>True</td>\n",
       "      <td>True</td>\n",
       "      <td>True</td>\n",
       "      <td>True</td>\n",
       "      <td>True</td>\n",
       "      <td>True</td>\n",
       "      <td>True</td>\n",
       "    </tr>\n",
       "    <tr>\n",
       "      <th>Hypoxanthine</th>\n",
       "      <td>False</td>\n",
       "      <td>False</td>\n",
       "      <td>True</td>\n",
       "      <td>True</td>\n",
       "      <td>True</td>\n",
       "      <td>True</td>\n",
       "      <td>True</td>\n",
       "      <td>True</td>\n",
       "      <td>True</td>\n",
       "      <td>True</td>\n",
       "      <td>True</td>\n",
       "      <td>True</td>\n",
       "      <td>True</td>\n",
       "    </tr>\n",
       "    <tr>\n",
       "      <th>Inosine</th>\n",
       "      <td>True</td>\n",
       "      <td>True</td>\n",
       "      <td>True</td>\n",
       "      <td>True</td>\n",
       "      <td>True</td>\n",
       "      <td>True</td>\n",
       "      <td>False</td>\n",
       "      <td>True</td>\n",
       "      <td>False</td>\n",
       "      <td>True</td>\n",
       "      <td>True</td>\n",
       "      <td>False</td>\n",
       "      <td>True</td>\n",
       "    </tr>\n",
       "    <tr>\n",
       "      <th>L-Arginine</th>\n",
       "      <td>True</td>\n",
       "      <td>True</td>\n",
       "      <td>True</td>\n",
       "      <td>True</td>\n",
       "      <td>False</td>\n",
       "      <td>True</td>\n",
       "      <td>True</td>\n",
       "      <td>False</td>\n",
       "      <td>True</td>\n",
       "      <td>False</td>\n",
       "      <td>False</td>\n",
       "      <td>True</td>\n",
       "      <td>True</td>\n",
       "    </tr>\n",
       "    <tr>\n",
       "      <th>L-Glutamic acid</th>\n",
       "      <td>False</td>\n",
       "      <td>True</td>\n",
       "      <td>True</td>\n",
       "      <td>True</td>\n",
       "      <td>True</td>\n",
       "      <td>True</td>\n",
       "      <td>True</td>\n",
       "      <td>False</td>\n",
       "      <td>True</td>\n",
       "      <td>False</td>\n",
       "      <td>True</td>\n",
       "      <td>True</td>\n",
       "      <td>True</td>\n",
       "    </tr>\n",
       "    <tr>\n",
       "      <th>L-Histidine</th>\n",
       "      <td>True</td>\n",
       "      <td>True</td>\n",
       "      <td>True</td>\n",
       "      <td>True</td>\n",
       "      <td>True</td>\n",
       "      <td>True</td>\n",
       "      <td>False</td>\n",
       "      <td>True</td>\n",
       "      <td>True</td>\n",
       "      <td>True</td>\n",
       "      <td>False</td>\n",
       "      <td>True</td>\n",
       "      <td>True</td>\n",
       "    </tr>\n",
       "    <tr>\n",
       "      <th>L-Methionine</th>\n",
       "      <td>True</td>\n",
       "      <td>True</td>\n",
       "      <td>True</td>\n",
       "      <td>True</td>\n",
       "      <td>False</td>\n",
       "      <td>True</td>\n",
       "      <td>False</td>\n",
       "      <td>True</td>\n",
       "      <td>False</td>\n",
       "      <td>True</td>\n",
       "      <td>True</td>\n",
       "      <td>False</td>\n",
       "      <td>True</td>\n",
       "    </tr>\n",
       "    <tr>\n",
       "      <th>L-Phenylalanine</th>\n",
       "      <td>True</td>\n",
       "      <td>False</td>\n",
       "      <td>True</td>\n",
       "      <td>True</td>\n",
       "      <td>False</td>\n",
       "      <td>True</td>\n",
       "      <td>True</td>\n",
       "      <td>True</td>\n",
       "      <td>False</td>\n",
       "      <td>True</td>\n",
       "      <td>True</td>\n",
       "      <td>True</td>\n",
       "      <td>True</td>\n",
       "    </tr>\n",
       "    <tr>\n",
       "      <th>L-Tyrosine</th>\n",
       "      <td>True</td>\n",
       "      <td>False</td>\n",
       "      <td>True</td>\n",
       "      <td>True</td>\n",
       "      <td>True</td>\n",
       "      <td>True</td>\n",
       "      <td>True</td>\n",
       "      <td>True</td>\n",
       "      <td>True</td>\n",
       "      <td>True</td>\n",
       "      <td>True</td>\n",
       "      <td>True</td>\n",
       "      <td>True</td>\n",
       "    </tr>\n",
       "    <tr>\n",
       "      <th>Linoleoyl ethanolamide</th>\n",
       "      <td>True</td>\n",
       "      <td>True</td>\n",
       "      <td>True</td>\n",
       "      <td>True</td>\n",
       "      <td>False</td>\n",
       "      <td>False</td>\n",
       "      <td>True</td>\n",
       "      <td>False</td>\n",
       "      <td>False</td>\n",
       "      <td>True</td>\n",
       "      <td>False</td>\n",
       "      <td>True</td>\n",
       "      <td>False</td>\n",
       "    </tr>\n",
       "    <tr>\n",
       "      <th>Lithocholic acid</th>\n",
       "      <td>True</td>\n",
       "      <td>True</td>\n",
       "      <td>True</td>\n",
       "      <td>True</td>\n",
       "      <td>False</td>\n",
       "      <td>True</td>\n",
       "      <td>False</td>\n",
       "      <td>False</td>\n",
       "      <td>True</td>\n",
       "      <td>False</td>\n",
       "      <td>False</td>\n",
       "      <td>True</td>\n",
       "      <td>True</td>\n",
       "    </tr>\n",
       "    <tr>\n",
       "      <th>LysoPC(14:0/0:0)</th>\n",
       "      <td>True</td>\n",
       "      <td>True</td>\n",
       "      <td>True</td>\n",
       "      <td>True</td>\n",
       "      <td>True</td>\n",
       "      <td>True</td>\n",
       "      <td>True</td>\n",
       "      <td>True</td>\n",
       "      <td>False</td>\n",
       "      <td>True</td>\n",
       "      <td>True</td>\n",
       "      <td>False</td>\n",
       "      <td>False</td>\n",
       "    </tr>\n",
       "    <tr>\n",
       "      <th>LysoPC(16:0/0:0)</th>\n",
       "      <td>True</td>\n",
       "      <td>True</td>\n",
       "      <td>True</td>\n",
       "      <td>True</td>\n",
       "      <td>True</td>\n",
       "      <td>True</td>\n",
       "      <td>True</td>\n",
       "      <td>True</td>\n",
       "      <td>False</td>\n",
       "      <td>True</td>\n",
       "      <td>False</td>\n",
       "      <td>False</td>\n",
       "      <td>False</td>\n",
       "    </tr>\n",
       "    <tr>\n",
       "      <th>LysoPC(18:0/0:0)</th>\n",
       "      <td>True</td>\n",
       "      <td>True</td>\n",
       "      <td>True</td>\n",
       "      <td>True</td>\n",
       "      <td>True</td>\n",
       "      <td>True</td>\n",
       "      <td>True</td>\n",
       "      <td>True</td>\n",
       "      <td>False</td>\n",
       "      <td>True</td>\n",
       "      <td>True</td>\n",
       "      <td>True</td>\n",
       "      <td>False</td>\n",
       "    </tr>\n",
       "    <tr>\n",
       "      <th>LysoPC(18:1(9Z)/0:0)</th>\n",
       "      <td>True</td>\n",
       "      <td>True</td>\n",
       "      <td>True</td>\n",
       "      <td>True</td>\n",
       "      <td>True</td>\n",
       "      <td>True</td>\n",
       "      <td>True</td>\n",
       "      <td>True</td>\n",
       "      <td>False</td>\n",
       "      <td>True</td>\n",
       "      <td>True</td>\n",
       "      <td>True</td>\n",
       "      <td>False</td>\n",
       "    </tr>\n",
       "    <tr>\n",
       "      <th>LysoPE(16:0/0:0)</th>\n",
       "      <td>True</td>\n",
       "      <td>True</td>\n",
       "      <td>True</td>\n",
       "      <td>True</td>\n",
       "      <td>True</td>\n",
       "      <td>True</td>\n",
       "      <td>True</td>\n",
       "      <td>True</td>\n",
       "      <td>False</td>\n",
       "      <td>True</td>\n",
       "      <td>True</td>\n",
       "      <td>True</td>\n",
       "      <td>False</td>\n",
       "    </tr>\n",
       "    <tr>\n",
       "      <th>LysoPE(18:0/0:0)</th>\n",
       "      <td>False</td>\n",
       "      <td>True</td>\n",
       "      <td>True</td>\n",
       "      <td>True</td>\n",
       "      <td>True</td>\n",
       "      <td>True</td>\n",
       "      <td>True</td>\n",
       "      <td>True</td>\n",
       "      <td>True</td>\n",
       "      <td>True</td>\n",
       "      <td>True</td>\n",
       "      <td>False</td>\n",
       "      <td>False</td>\n",
       "    </tr>\n",
       "    <tr>\n",
       "      <th>Oleoylcarnitine</th>\n",
       "      <td>False</td>\n",
       "      <td>True</td>\n",
       "      <td>True</td>\n",
       "      <td>True</td>\n",
       "      <td>True</td>\n",
       "      <td>False</td>\n",
       "      <td>True</td>\n",
       "      <td>True</td>\n",
       "      <td>False</td>\n",
       "      <td>False</td>\n",
       "      <td>False</td>\n",
       "      <td>True</td>\n",
       "      <td>False</td>\n",
       "    </tr>\n",
       "    <tr>\n",
       "      <th>Palmitoleic acid</th>\n",
       "      <td>True</td>\n",
       "      <td>True</td>\n",
       "      <td>True</td>\n",
       "      <td>True</td>\n",
       "      <td>False</td>\n",
       "      <td>True</td>\n",
       "      <td>True</td>\n",
       "      <td>False</td>\n",
       "      <td>True</td>\n",
       "      <td>False</td>\n",
       "      <td>True</td>\n",
       "      <td>True</td>\n",
       "      <td>True</td>\n",
       "    </tr>\n",
       "    <tr>\n",
       "      <th>Palmitoylcarnitine</th>\n",
       "      <td>False</td>\n",
       "      <td>True</td>\n",
       "      <td>True</td>\n",
       "      <td>True</td>\n",
       "      <td>True</td>\n",
       "      <td>False</td>\n",
       "      <td>True</td>\n",
       "      <td>True</td>\n",
       "      <td>False</td>\n",
       "      <td>False</td>\n",
       "      <td>False</td>\n",
       "      <td>True</td>\n",
       "      <td>False</td>\n",
       "    </tr>\n",
       "    <tr>\n",
       "      <th>Pantothenic acid</th>\n",
       "      <td>True</td>\n",
       "      <td>True</td>\n",
       "      <td>True</td>\n",
       "      <td>False</td>\n",
       "      <td>True</td>\n",
       "      <td>True</td>\n",
       "      <td>False</td>\n",
       "      <td>False</td>\n",
       "      <td>False</td>\n",
       "      <td>True</td>\n",
       "      <td>True</td>\n",
       "      <td>False</td>\n",
       "      <td>True</td>\n",
       "    </tr>\n",
       "    <tr>\n",
       "      <th>Riboflavin</th>\n",
       "      <td>True</td>\n",
       "      <td>True</td>\n",
       "      <td>False</td>\n",
       "      <td>True</td>\n",
       "      <td>True</td>\n",
       "      <td>True</td>\n",
       "      <td>True</td>\n",
       "      <td>True</td>\n",
       "      <td>True</td>\n",
       "      <td>True</td>\n",
       "      <td>True</td>\n",
       "      <td>True</td>\n",
       "      <td>True</td>\n",
       "    </tr>\n",
       "    <tr>\n",
       "      <th>Tauroursodeoxycholic acid</th>\n",
       "      <td>True</td>\n",
       "      <td>True</td>\n",
       "      <td>True</td>\n",
       "      <td>False</td>\n",
       "      <td>True</td>\n",
       "      <td>True</td>\n",
       "      <td>True</td>\n",
       "      <td>True</td>\n",
       "      <td>False</td>\n",
       "      <td>True</td>\n",
       "      <td>True</td>\n",
       "      <td>False</td>\n",
       "      <td>True</td>\n",
       "    </tr>\n",
       "    <tr>\n",
       "      <th>Tetradecanoylcarnitine</th>\n",
       "      <td>False</td>\n",
       "      <td>True</td>\n",
       "      <td>True</td>\n",
       "      <td>True</td>\n",
       "      <td>True</td>\n",
       "      <td>True</td>\n",
       "      <td>True</td>\n",
       "      <td>True</td>\n",
       "      <td>False</td>\n",
       "      <td>True</td>\n",
       "      <td>True</td>\n",
       "      <td>False</td>\n",
       "      <td>False</td>\n",
       "    </tr>\n",
       "  </tbody>\n",
       "</table>\n",
       "</div>"
      ]
     },
     "execution_count": 76,
     "metadata": {},
     "output_type": "execute_result"
    }
   ],
   "execution_count": 76
  },
  {
   "metadata": {
    "ExecuteTime": {
     "end_time": "2024-06-13T16:04:23.334027Z",
     "start_time": "2024-06-13T16:04:23.330931Z"
    }
   },
   "cell_type": "code",
   "source": [
    "# Lets calculate the accuracy (per metabolite) of the mice as a predictor, and of the naive predictor that says always 'no-correlation'\n",
    "naive_predictor = pd.DataFrame(False, index=human_corr_coefficient.index, columns=human_corr_coefficient.columns)\n",
    "naive_predictor_succeed = (naive_predictor == (human_corr_coefficient.abs() > 0.2))"
   ],
   "id": "c3dd8cd0977709c0",
   "outputs": [],
   "execution_count": 77
  },
  {
   "metadata": {
    "ExecuteTime": {
     "end_time": "2024-06-13T16:07:35.916555Z",
     "start_time": "2024-06-13T16:07:35.910412Z"
    }
   },
   "cell_type": "code",
   "source": "pd.DataFrame({\"naive acc\": naive_predictor_succeed.mean(axis=1), \"mice acc\": mice_predictions_succeed.mean(axis=1)})",
   "id": "754b0cfb0acd0b9d",
   "outputs": [
    {
     "data": {
      "text/plain": [
       "                           naive acc  mice acc\n",
       "Glycerophosphocholine       1.000000  0.923077\n",
       "Guanosine                   1.000000  1.000000\n",
       "Hypoxanthine                1.000000  0.846154\n",
       "Inosine                     0.692308  0.769231\n",
       "L-Arginine                  0.923077  0.692308\n",
       "L-Glutamic acid             1.000000  0.769231\n",
       "L-Histidine                 1.000000  0.846154\n",
       "L-Methionine                0.923077  0.692308\n",
       "L-Phenylalanine             0.923077  0.769231\n",
       "L-Tyrosine                  1.000000  0.923077\n",
       "Linoleoyl ethanolamide      0.615385  0.538462\n",
       "Lithocholic acid            1.000000  0.615385\n",
       "LysoPC(14:0/0:0)            0.769231  0.769231\n",
       "LysoPC(16:0/0:0)            0.692308  0.692308\n",
       "LysoPC(18:0/0:0)            0.769231  0.846154\n",
       "LysoPC(18:1(9Z)/0:0)        0.846154  0.846154\n",
       "LysoPE(16:0/0:0)            0.769231  0.846154\n",
       "LysoPE(18:0/0:0)            0.846154  0.769231\n",
       "Oleoylcarnitine             0.615385  0.538462\n",
       "Palmitoleic acid            1.000000  0.769231\n",
       "Palmitoylcarnitine          0.615385  0.538462\n",
       "Pantothenic acid            0.769231  0.615385\n",
       "Riboflavin                  1.000000  0.923077\n",
       "Tauroursodeoxycholic acid   1.000000  0.769231\n",
       "Tetradecanoylcarnitine      0.769231  0.692308"
      ],
      "text/html": [
       "<div>\n",
       "<style scoped>\n",
       "    .dataframe tbody tr th:only-of-type {\n",
       "        vertical-align: middle;\n",
       "    }\n",
       "\n",
       "    .dataframe tbody tr th {\n",
       "        vertical-align: top;\n",
       "    }\n",
       "\n",
       "    .dataframe thead th {\n",
       "        text-align: right;\n",
       "    }\n",
       "</style>\n",
       "<table border=\"1\" class=\"dataframe\">\n",
       "  <thead>\n",
       "    <tr style=\"text-align: right;\">\n",
       "      <th></th>\n",
       "      <th>naive acc</th>\n",
       "      <th>mice acc</th>\n",
       "    </tr>\n",
       "  </thead>\n",
       "  <tbody>\n",
       "    <tr>\n",
       "      <th>Glycerophosphocholine</th>\n",
       "      <td>1.000000</td>\n",
       "      <td>0.923077</td>\n",
       "    </tr>\n",
       "    <tr>\n",
       "      <th>Guanosine</th>\n",
       "      <td>1.000000</td>\n",
       "      <td>1.000000</td>\n",
       "    </tr>\n",
       "    <tr>\n",
       "      <th>Hypoxanthine</th>\n",
       "      <td>1.000000</td>\n",
       "      <td>0.846154</td>\n",
       "    </tr>\n",
       "    <tr>\n",
       "      <th>Inosine</th>\n",
       "      <td>0.692308</td>\n",
       "      <td>0.769231</td>\n",
       "    </tr>\n",
       "    <tr>\n",
       "      <th>L-Arginine</th>\n",
       "      <td>0.923077</td>\n",
       "      <td>0.692308</td>\n",
       "    </tr>\n",
       "    <tr>\n",
       "      <th>L-Glutamic acid</th>\n",
       "      <td>1.000000</td>\n",
       "      <td>0.769231</td>\n",
       "    </tr>\n",
       "    <tr>\n",
       "      <th>L-Histidine</th>\n",
       "      <td>1.000000</td>\n",
       "      <td>0.846154</td>\n",
       "    </tr>\n",
       "    <tr>\n",
       "      <th>L-Methionine</th>\n",
       "      <td>0.923077</td>\n",
       "      <td>0.692308</td>\n",
       "    </tr>\n",
       "    <tr>\n",
       "      <th>L-Phenylalanine</th>\n",
       "      <td>0.923077</td>\n",
       "      <td>0.769231</td>\n",
       "    </tr>\n",
       "    <tr>\n",
       "      <th>L-Tyrosine</th>\n",
       "      <td>1.000000</td>\n",
       "      <td>0.923077</td>\n",
       "    </tr>\n",
       "    <tr>\n",
       "      <th>Linoleoyl ethanolamide</th>\n",
       "      <td>0.615385</td>\n",
       "      <td>0.538462</td>\n",
       "    </tr>\n",
       "    <tr>\n",
       "      <th>Lithocholic acid</th>\n",
       "      <td>1.000000</td>\n",
       "      <td>0.615385</td>\n",
       "    </tr>\n",
       "    <tr>\n",
       "      <th>LysoPC(14:0/0:0)</th>\n",
       "      <td>0.769231</td>\n",
       "      <td>0.769231</td>\n",
       "    </tr>\n",
       "    <tr>\n",
       "      <th>LysoPC(16:0/0:0)</th>\n",
       "      <td>0.692308</td>\n",
       "      <td>0.692308</td>\n",
       "    </tr>\n",
       "    <tr>\n",
       "      <th>LysoPC(18:0/0:0)</th>\n",
       "      <td>0.769231</td>\n",
       "      <td>0.846154</td>\n",
       "    </tr>\n",
       "    <tr>\n",
       "      <th>LysoPC(18:1(9Z)/0:0)</th>\n",
       "      <td>0.846154</td>\n",
       "      <td>0.846154</td>\n",
       "    </tr>\n",
       "    <tr>\n",
       "      <th>LysoPE(16:0/0:0)</th>\n",
       "      <td>0.769231</td>\n",
       "      <td>0.846154</td>\n",
       "    </tr>\n",
       "    <tr>\n",
       "      <th>LysoPE(18:0/0:0)</th>\n",
       "      <td>0.846154</td>\n",
       "      <td>0.769231</td>\n",
       "    </tr>\n",
       "    <tr>\n",
       "      <th>Oleoylcarnitine</th>\n",
       "      <td>0.615385</td>\n",
       "      <td>0.538462</td>\n",
       "    </tr>\n",
       "    <tr>\n",
       "      <th>Palmitoleic acid</th>\n",
       "      <td>1.000000</td>\n",
       "      <td>0.769231</td>\n",
       "    </tr>\n",
       "    <tr>\n",
       "      <th>Palmitoylcarnitine</th>\n",
       "      <td>0.615385</td>\n",
       "      <td>0.538462</td>\n",
       "    </tr>\n",
       "    <tr>\n",
       "      <th>Pantothenic acid</th>\n",
       "      <td>0.769231</td>\n",
       "      <td>0.615385</td>\n",
       "    </tr>\n",
       "    <tr>\n",
       "      <th>Riboflavin</th>\n",
       "      <td>1.000000</td>\n",
       "      <td>0.923077</td>\n",
       "    </tr>\n",
       "    <tr>\n",
       "      <th>Tauroursodeoxycholic acid</th>\n",
       "      <td>1.000000</td>\n",
       "      <td>0.769231</td>\n",
       "    </tr>\n",
       "    <tr>\n",
       "      <th>Tetradecanoylcarnitine</th>\n",
       "      <td>0.769231</td>\n",
       "      <td>0.692308</td>\n",
       "    </tr>\n",
       "  </tbody>\n",
       "</table>\n",
       "</div>"
      ]
     },
     "execution_count": 81,
     "metadata": {},
     "output_type": "execute_result"
    }
   ],
   "execution_count": 81
  }
 ],
 "metadata": {
  "kernelspec": {
   "display_name": "Python 3",
   "language": "python",
   "name": "python3"
  },
  "language_info": {
   "codemirror_mode": {
    "name": "ipython",
    "version": 2
   },
   "file_extension": ".py",
   "mimetype": "text/x-python",
   "name": "python",
   "nbconvert_exporter": "python",
   "pygments_lexer": "ipython2",
   "version": "2.7.6"
  }
 },
 "nbformat": 4,
 "nbformat_minor": 5
}
