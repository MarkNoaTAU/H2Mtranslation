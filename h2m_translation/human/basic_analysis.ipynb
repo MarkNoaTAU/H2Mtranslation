{
 "cells": [
  {
   "cell_type": "markdown",
   "source": [
    "Basic analysis to iHMP_IBDMDB_2019. The overlap (21 metabolites) with OSA. "
   ],
   "metadata": {
    "collapsed": false
   },
   "id": "55984875b3b74231"
  },
  {
   "metadata": {
    "ExecuteTime": {
     "end_time": "2024-05-30T09:07:30.108643Z",
     "start_time": "2024-05-30T09:07:30.106011Z"
    }
   },
   "cell_type": "code",
   "source": "PROJECT_DIR = '/home/noa/lab_code/H2Mtranslation'",
   "id": "b62244121b29f3a0",
   "outputs": [],
   "execution_count": 31
  },
  {
   "cell_type": "code",
   "source": [
    "import pandas as pd\n",
    "import numpy as np\n",
    "import scipy.stats as stats\n",
    "from statsmodels.stats.multitest import fdrcorrection\n",
    "import matplotlib.pyplot as plt\n",
    "import seaborn as sns\n",
    "from preprocessors import MetabolitePreprocessor\n"
   ],
   "metadata": {
    "collapsed": false,
    "ExecuteTime": {
     "end_time": "2024-05-30T08:55:39.260738Z",
     "start_time": "2024-05-30T08:55:39.255802Z"
    }
   },
   "id": "3f8cbdcd46923338",
   "outputs": [],
   "execution_count": 1
  },
  {
   "cell_type": "markdown",
   "source": [
    "Metabolite mapped to HMDB - v. Taxa mapped using GTDB - v.\n",
    "This research data is HMP2 cohort - longitudinal samples from IBD patient and control.\n",
    "The metabolom is untargeted. Microbiome is shotgun. \n",
    "There are 382 samples for 105 patient. For control we have 104 samples for 26 subjects.\n",
    "We will take only control and all samples (ignoring longitudinal). \n"
   ],
   "metadata": {
    "collapsed": false
   },
   "id": "2ac452edd76193ce"
  },
  {
   "cell_type": "code",
   "source": [
    "human_db_path = '/home/noa/lab_code/microbiome-metabolome-curated-data/data/processed_data'\n",
    "dataset = 'iHMP_IBDMDB_2019'\n",
    "\n",
    "metadata = pd.read_csv(f'{human_db_path}/{dataset}/metadata.tsv' ,sep='\\t')\n",
    "metabolite = pd.read_csv(f'{human_db_path}/{dataset}/mtb.tsv' ,sep='\\t')\n",
    "metabolite_to_hmdb = pd.read_csv(f'{human_db_path}/{dataset}/mtb.map.tsv' ,sep='\\t')\n",
    "taxa = pd.read_csv(f'{human_db_path}/{dataset}/genera.tsv' ,sep='\\t')"
   ],
   "metadata": {
    "collapsed": false,
    "ExecuteTime": {
     "end_time": "2024-05-30T09:03:45.134548Z",
     "start_time": "2024-05-30T09:03:23.615236Z"
    }
   },
   "id": "9edfb48aa667670c",
   "outputs": [],
   "execution_count": 18
  },
  {
   "cell_type": "code",
   "source": [
    "metabolite_to_hmdb = metabolite_to_hmdb.set_index('Compound')['HMDB']"
   ],
   "metadata": {
    "collapsed": false,
    "ExecuteTime": {
     "end_time": "2024-05-30T09:04:40.009693Z",
     "start_time": "2024-05-30T09:04:40.003665Z"
    }
   },
   "id": "5b276fca982f5cfe",
   "outputs": [],
   "execution_count": 19
  },
  {
   "cell_type": "markdown",
   "source": [
    "Metadata overview: Study.Group:\n",
    "CD - Crohn's disease\n",
    "UC - ulcreative colitis. \n",
    "nonIBD - control "
   ],
   "metadata": {
    "collapsed": false
   },
   "id": "5176a53f2120544c"
  },
  {
   "cell_type": "code",
   "source": [
    "# Filter to control samples only:\n",
    "control_samples_ids = metadata[metadata['Study.Group'] == 'nonIBD'].Sample.unique()\n",
    "taxa = taxa[taxa.Sample.isin(control_samples_ids)]\n",
    "metabolite = metabolite[metabolite.Sample.isin(control_samples_ids)]\n"
   ],
   "metadata": {
    "collapsed": false,
    "ExecuteTime": {
     "end_time": "2024-05-30T09:04:42.082600Z",
     "start_time": "2024-05-30T09:04:42.040908Z"
    }
   },
   "id": "3daf5191d082d5de",
   "outputs": [],
   "execution_count": 20
  },
  {
   "metadata": {},
   "cell_type": "markdown",
   "source": [
    "Taxa is in genus level in relative abundance. \n",
    "No need to normalize, but do need to filter rare taxa. "
   ],
   "id": "2a9d7c3669aaa18a"
  },
  {
   "metadata": {},
   "cell_type": "markdown",
   "source": "Filter rare taxa according to the following criteria: we want that the at least 10% of the samples will have relative-abundance larger than 0.001.",
   "id": "cb47dee0bd53bbd5"
  },
  {
   "metadata": {
    "ExecuteTime": {
     "end_time": "2024-05-30T09:04:48.470935Z",
     "start_time": "2024-05-30T09:04:48.458178Z"
    }
   },
   "cell_type": "code",
   "source": [
    "# Filter rare taxa (taxa have non-zero values in >10% of the samples)\")\n",
    "# Filter rare taxa according to the following criteria: we want that the at least 10% of the samples will have relative-abundance larger than 0.001.\n",
    "\n",
    "taxa = taxa.set_index('Sample')\n",
    "verbose=False\n",
    "percentage=10\n",
    "abundance_threshold=0.001\n",
    "min_number_of_samples = int((taxa.shape[0] / 100) * percentage)\n",
    "print(\n",
    "    f\"The number of genus/features that have relative abundance values larger then {abundance_threshold} on > {percentage} % samples are: \"\n",
    "    f\"{(((taxa > abundance_threshold).sum(axis=0)) >= min_number_of_samples).sum()}\"\n",
    "    f\" out of {taxa.shape[1]} genus/features before-filtering.\")\n",
    "\n",
    "non_rare_columns = taxa.columns[\n",
    "    ((taxa > abundance_threshold).sum(axis=0)) >= min_number_of_samples]\n",
    "taxa = taxa[non_rare_columns]"
   ],
   "id": "7992cf5e3c4b0363",
   "outputs": [
    {
     "name": "stdout",
     "output_type": "stream",
     "text": [
      "The number of genus/features that have relative abundance values larger then 0.001 on > 10 % samples are: 107 out of 9694 genus/features before-filtering.\n"
     ]
    }
   ],
   "execution_count": 21
  },
  {
   "metadata": {},
   "cell_type": "markdown",
   "source": [
    "Load metabolite data.\n",
    "Map compound to HMDB (article metabolite name in the original data). As it can be many to one, we will sum according to HMDB.\n",
    "1. Map metabolites compounds to HMDB name convention (Keep only the once we recognize)\n",
    "2. Sum the abundance of compounds map to the same HMDB metabolite. "
   ],
   "id": "2ab040af54418cd3"
  },
  {
   "cell_type": "code",
   "source": [
    "metabolite = metabolite.set_index('Sample')"
   ],
   "metadata": {
    "collapsed": false,
    "ExecuteTime": {
     "end_time": "2024-05-30T09:04:51.130864Z",
     "start_time": "2024-05-30T09:04:51.092765Z"
    }
   },
   "id": "ab83413d762bc0d3",
   "outputs": [],
   "execution_count": 22
  },
  {
   "metadata": {
    "ExecuteTime": {
     "end_time": "2024-05-30T09:05:26.843711Z",
     "start_time": "2024-05-30T09:05:26.820649Z"
    }
   },
   "cell_type": "code",
   "source": [
    "metabolite = metabolite[metabolite.columns.intersection(metabolite_to_hmdb.dropna().index)].rename(columns=metabolite_to_hmdb.dropna())\n",
    "metabolite = metabolite.groupby(by=metabolite.columns, axis=1).sum()"
   ],
   "id": "992627cf54441929",
   "outputs": [],
   "execution_count": 25
  },
  {
   "cell_type": "code",
   "source": [
    "# metabolite.columns.isin(metabolite_to_hmdb.index).all()\n",
    "metabolite = metabolite[metabolite.columns.intersection(metabolite_to_hmdb.dropna().index)].rename(columns=metabolite_to_hmdb.dropna())\n",
    "metabolite = metabolite.groupby(by=metabolite.columns, axis=1).sum()\n",
    "print(metabolite.shape)\n",
    "# Rename from HMDB to meangful naming... \n",
    "map_hmdb_id_to_name = pd.read_pickle(f'{PROJECT_DIR}/h2m_translation/map_hmdb_id_to_name.pkl')\n",
    "hmdb_metadata = pd.read_pickle(f'{PROJECT_DIR}/h2m_translation/hmdb_name_and_description.pkl')\n",
    "metabolite = metabolite.rename(columns=map_hmdb_id_to_name)\n"
   ],
   "metadata": {
    "collapsed": false,
    "ExecuteTime": {
     "end_time": "2024-05-30T08:59:39.551967Z",
     "start_time": "2024-05-30T08:59:39.513435Z"
    }
   },
   "id": "b76f92257fe83009",
   "outputs": [
    {
     "name": "stdout",
     "output_type": "stream",
     "text": [
      "(104, 0)\n"
     ]
    }
   ],
   "execution_count": 9
  },
  {
   "metadata": {},
   "cell_type": "markdown",
   "source": "Filter rare metabolite",
   "id": "8779a1141ddd3612"
  },
  {
   "cell_type": "code",
   "source": [
    "percentage = 85\n",
    "min_number_of_samples = int((metabolite.shape[0] / 100) * percentage)\n",
    "print(f\"min_number_of_samples: {min_number_of_samples}\")\n",
    "print(f\"metabolite shape: {metabolite.shape}\")"
   ],
   "metadata": {
    "collapsed": false,
    "ExecuteTime": {
     "end_time": "2024-05-30T09:09:34.477124Z",
     "start_time": "2024-05-30T09:09:34.473252Z"
    }
   },
   "id": "b45c384ef33ca98",
   "outputs": [
    {
     "name": "stdout",
     "output_type": "stream",
     "text": [
      "min_number_of_samples: 88\n",
      "metabolite shape: (104, 454)\n"
     ]
    }
   ],
   "execution_count": 32
  },
  {
   "cell_type": "code",
   "source": [
    "metabolite = metabolite.fillna(0)\n",
    "non_rare_columns = metabolite.columns[((metabolite.shape[0] - (\n",
    "            metabolite.round(decimals=8) == 0).sum(axis=0)) >= min_number_of_samples)]\n",
    "print(f\"There are {len(non_rare_columns)} metabolite with sufficient number of samples \"\n",
    "      f\"(>{percentage}%) out of {metabolite.shape[1]} metabolites.\")\n",
    "metabolite= metabolite[non_rare_columns]"
   ],
   "metadata": {
    "collapsed": false,
    "ExecuteTime": {
     "end_time": "2024-05-30T09:09:37.386284Z",
     "start_time": "2024-05-30T09:09:37.381553Z"
    }
   },
   "id": "968094ac117f9150",
   "outputs": [
    {
     "name": "stdout",
     "output_type": "stream",
     "text": [
      "There are 375 metabolite with sufficient number of samples (>85%) out of 454 metabolites.\n"
     ]
    }
   ],
   "execution_count": 33
  },
  {
   "metadata": {},
   "cell_type": "markdown",
   "source": "Pre-processing metabolite data:",
   "id": "98d9ff49f6f86325"
  },
  {
   "cell_type": "code",
   "source": [
    "min_value_per_metabolite = metabolite.replace(to_replace=0, value=np.nan).min(axis=0) / 2\n",
    "metabolite.replace(to_replace=np.nan, value=0, inplace=True)\n",
    "metabolite.replace(to_replace=0, value=min_value_per_metabolite, inplace=True)\n",
    "metabolite = metabolite.apply(lambda x: np.log(x + 1))\n",
    "metabolite.head()\n"
   ],
   "metadata": {
    "collapsed": false,
    "ExecuteTime": {
     "end_time": "2024-05-30T09:09:40.053267Z",
     "start_time": "2024-05-30T09:09:39.974286Z"
    }
   },
   "id": "859ee93f4d1a4a74",
   "outputs": [
    {
     "data": {
      "text/plain": [
       "          Deoxycytidine  4-Pyridoxic acid  alpha-Ketoisovaleric acid  \\\n",
       "Sample                                                                 \n",
       "HSM5MD5D      12.818366         14.149857                  10.236991   \n",
       "MSM6J2K6      15.510480         15.616391                   9.592059   \n",
       "HSM5MD6K      15.267840         14.491845                   7.985825   \n",
       "MSM6J2HT      16.727060         15.203554                   9.617271   \n",
       "MSM6J2JR      14.153341         12.077506                   7.546974   \n",
       "\n",
       "          p-Hydroxyphenylacetic acid  Ureidopropionic acid     Biotin  \\\n",
       "Sample                                                                  \n",
       "HSM5MD5D                   10.802408              9.801067  18.017231   \n",
       "MSM6J2K6                   11.748164              9.639001  17.552187   \n",
       "HSM5MD6K                   11.977470              9.835423  17.051244   \n",
       "MSM6J2HT                   13.011155             10.635158  16.334514   \n",
       "MSM6J2JR                   11.778416              8.489205  18.341299   \n",
       "\n",
       "            Adenine  Taurocholic acid  Butyric acid    Betaine  ...  \\\n",
       "Sample                                                          ...   \n",
       "HSM5MD5D  14.302072         13.069583     15.220003  11.722051  ...   \n",
       "MSM6J2K6  15.118838         14.322898     15.558922  13.311884  ...   \n",
       "HSM5MD6K  14.985529         13.674023     16.236450  13.114035  ...   \n",
       "MSM6J2HT  14.196841         15.915374     15.786928  13.736330  ...   \n",
       "MSM6J2JR  13.402568         11.597285     15.355539  13.193619  ...   \n",
       "\n",
       "          N-Acetylhistidine  HMDB0035665  17-Methyloctadecanoic acid  \\\n",
       "Sample                                                                 \n",
       "HSM5MD5D          10.983070     8.921725                    7.474772   \n",
       "MSM6J2K6          11.961903     8.158516                   10.554145   \n",
       "HSM5MD6K          12.452268    10.565273                    7.426549   \n",
       "MSM6J2HT          10.711658     7.231287                   10.719251   \n",
       "MSM6J2JR          10.173706     8.054205                   10.098520   \n",
       "\n",
       "          HMDB0037942  TG(14:0/14:0/16:0)  HMDB0042093  HMDB0043058  \\\n",
       "Sample                                                                \n",
       "HSM5MD5D    11.372916            8.328209     9.034677     9.106978   \n",
       "MSM6J2K6    12.910531            7.724005     8.360773    10.696412   \n",
       "HSM5MD6K    14.486872            6.380123     7.874739    10.091460   \n",
       "MSM6J2HT    12.291635            2.140066     8.196437    10.134004   \n",
       "MSM6J2JR    12.539816           15.878592     7.670429    11.928935   \n",
       "\n",
       "          2-Hydroxyglutarate  HMDB0059824  10Z-Heptadecenoic acid  \n",
       "Sample                                                             \n",
       "HSM5MD5D           11.996672     8.412055               12.759515  \n",
       "MSM6J2K6           12.976577    10.601199               15.023866  \n",
       "HSM5MD6K           11.489984     9.605822               12.312858  \n",
       "MSM6J2HT           12.532018    10.553153               13.993887  \n",
       "MSM6J2JR           11.867189     9.873131               13.960778  \n",
       "\n",
       "[5 rows x 375 columns]"
      ],
      "text/html": [
       "<div>\n",
       "<style scoped>\n",
       "    .dataframe tbody tr th:only-of-type {\n",
       "        vertical-align: middle;\n",
       "    }\n",
       "\n",
       "    .dataframe tbody tr th {\n",
       "        vertical-align: top;\n",
       "    }\n",
       "\n",
       "    .dataframe thead th {\n",
       "        text-align: right;\n",
       "    }\n",
       "</style>\n",
       "<table border=\"1\" class=\"dataframe\">\n",
       "  <thead>\n",
       "    <tr style=\"text-align: right;\">\n",
       "      <th></th>\n",
       "      <th>Deoxycytidine</th>\n",
       "      <th>4-Pyridoxic acid</th>\n",
       "      <th>alpha-Ketoisovaleric acid</th>\n",
       "      <th>p-Hydroxyphenylacetic acid</th>\n",
       "      <th>Ureidopropionic acid</th>\n",
       "      <th>Biotin</th>\n",
       "      <th>Adenine</th>\n",
       "      <th>Taurocholic acid</th>\n",
       "      <th>Butyric acid</th>\n",
       "      <th>Betaine</th>\n",
       "      <th>...</th>\n",
       "      <th>N-Acetylhistidine</th>\n",
       "      <th>HMDB0035665</th>\n",
       "      <th>17-Methyloctadecanoic acid</th>\n",
       "      <th>HMDB0037942</th>\n",
       "      <th>TG(14:0/14:0/16:0)</th>\n",
       "      <th>HMDB0042093</th>\n",
       "      <th>HMDB0043058</th>\n",
       "      <th>2-Hydroxyglutarate</th>\n",
       "      <th>HMDB0059824</th>\n",
       "      <th>10Z-Heptadecenoic acid</th>\n",
       "    </tr>\n",
       "    <tr>\n",
       "      <th>Sample</th>\n",
       "      <th></th>\n",
       "      <th></th>\n",
       "      <th></th>\n",
       "      <th></th>\n",
       "      <th></th>\n",
       "      <th></th>\n",
       "      <th></th>\n",
       "      <th></th>\n",
       "      <th></th>\n",
       "      <th></th>\n",
       "      <th></th>\n",
       "      <th></th>\n",
       "      <th></th>\n",
       "      <th></th>\n",
       "      <th></th>\n",
       "      <th></th>\n",
       "      <th></th>\n",
       "      <th></th>\n",
       "      <th></th>\n",
       "      <th></th>\n",
       "      <th></th>\n",
       "    </tr>\n",
       "  </thead>\n",
       "  <tbody>\n",
       "    <tr>\n",
       "      <th>HSM5MD5D</th>\n",
       "      <td>12.818366</td>\n",
       "      <td>14.149857</td>\n",
       "      <td>10.236991</td>\n",
       "      <td>10.802408</td>\n",
       "      <td>9.801067</td>\n",
       "      <td>18.017231</td>\n",
       "      <td>14.302072</td>\n",
       "      <td>13.069583</td>\n",
       "      <td>15.220003</td>\n",
       "      <td>11.722051</td>\n",
       "      <td>...</td>\n",
       "      <td>10.983070</td>\n",
       "      <td>8.921725</td>\n",
       "      <td>7.474772</td>\n",
       "      <td>11.372916</td>\n",
       "      <td>8.328209</td>\n",
       "      <td>9.034677</td>\n",
       "      <td>9.106978</td>\n",
       "      <td>11.996672</td>\n",
       "      <td>8.412055</td>\n",
       "      <td>12.759515</td>\n",
       "    </tr>\n",
       "    <tr>\n",
       "      <th>MSM6J2K6</th>\n",
       "      <td>15.510480</td>\n",
       "      <td>15.616391</td>\n",
       "      <td>9.592059</td>\n",
       "      <td>11.748164</td>\n",
       "      <td>9.639001</td>\n",
       "      <td>17.552187</td>\n",
       "      <td>15.118838</td>\n",
       "      <td>14.322898</td>\n",
       "      <td>15.558922</td>\n",
       "      <td>13.311884</td>\n",
       "      <td>...</td>\n",
       "      <td>11.961903</td>\n",
       "      <td>8.158516</td>\n",
       "      <td>10.554145</td>\n",
       "      <td>12.910531</td>\n",
       "      <td>7.724005</td>\n",
       "      <td>8.360773</td>\n",
       "      <td>10.696412</td>\n",
       "      <td>12.976577</td>\n",
       "      <td>10.601199</td>\n",
       "      <td>15.023866</td>\n",
       "    </tr>\n",
       "    <tr>\n",
       "      <th>HSM5MD6K</th>\n",
       "      <td>15.267840</td>\n",
       "      <td>14.491845</td>\n",
       "      <td>7.985825</td>\n",
       "      <td>11.977470</td>\n",
       "      <td>9.835423</td>\n",
       "      <td>17.051244</td>\n",
       "      <td>14.985529</td>\n",
       "      <td>13.674023</td>\n",
       "      <td>16.236450</td>\n",
       "      <td>13.114035</td>\n",
       "      <td>...</td>\n",
       "      <td>12.452268</td>\n",
       "      <td>10.565273</td>\n",
       "      <td>7.426549</td>\n",
       "      <td>14.486872</td>\n",
       "      <td>6.380123</td>\n",
       "      <td>7.874739</td>\n",
       "      <td>10.091460</td>\n",
       "      <td>11.489984</td>\n",
       "      <td>9.605822</td>\n",
       "      <td>12.312858</td>\n",
       "    </tr>\n",
       "    <tr>\n",
       "      <th>MSM6J2HT</th>\n",
       "      <td>16.727060</td>\n",
       "      <td>15.203554</td>\n",
       "      <td>9.617271</td>\n",
       "      <td>13.011155</td>\n",
       "      <td>10.635158</td>\n",
       "      <td>16.334514</td>\n",
       "      <td>14.196841</td>\n",
       "      <td>15.915374</td>\n",
       "      <td>15.786928</td>\n",
       "      <td>13.736330</td>\n",
       "      <td>...</td>\n",
       "      <td>10.711658</td>\n",
       "      <td>7.231287</td>\n",
       "      <td>10.719251</td>\n",
       "      <td>12.291635</td>\n",
       "      <td>2.140066</td>\n",
       "      <td>8.196437</td>\n",
       "      <td>10.134004</td>\n",
       "      <td>12.532018</td>\n",
       "      <td>10.553153</td>\n",
       "      <td>13.993887</td>\n",
       "    </tr>\n",
       "    <tr>\n",
       "      <th>MSM6J2JR</th>\n",
       "      <td>14.153341</td>\n",
       "      <td>12.077506</td>\n",
       "      <td>7.546974</td>\n",
       "      <td>11.778416</td>\n",
       "      <td>8.489205</td>\n",
       "      <td>18.341299</td>\n",
       "      <td>13.402568</td>\n",
       "      <td>11.597285</td>\n",
       "      <td>15.355539</td>\n",
       "      <td>13.193619</td>\n",
       "      <td>...</td>\n",
       "      <td>10.173706</td>\n",
       "      <td>8.054205</td>\n",
       "      <td>10.098520</td>\n",
       "      <td>12.539816</td>\n",
       "      <td>15.878592</td>\n",
       "      <td>7.670429</td>\n",
       "      <td>11.928935</td>\n",
       "      <td>11.867189</td>\n",
       "      <td>9.873131</td>\n",
       "      <td>13.960778</td>\n",
       "    </tr>\n",
       "  </tbody>\n",
       "</table>\n",
       "<p>5 rows × 375 columns</p>\n",
       "</div>"
      ]
     },
     "execution_count": 34,
     "metadata": {},
     "output_type": "execute_result"
    }
   ],
   "execution_count": 34
  },
  {
   "cell_type": "markdown",
   "source": [
    "Correlation test:\n",
    "For each metabolite independently, and for each taxa independently, (aka for each (metabolite, genus) tuple) calculate correlation across samples. \n",
    "\n",
    "Kendall's tau is preferred over Spearman correlation when: (a) we want robustness to outliers (b) small number of samples (c) many rank ties. \n",
    "So I think it may be good for our data. "
   ],
   "metadata": {
    "collapsed": false
   },
   "id": "5050457ec78b194f"
  },
  {
   "cell_type": "code",
   "source": [
    "# Do we have 'Unknown' in our taxa? no. They drop unknown - is it problematic? As in mice we do have unknown... But it's really different %. "
   ],
   "metadata": {
    "collapsed": false,
    "ExecuteTime": {
     "end_time": "2024-05-20T08:19:52.115764Z",
     "start_time": "2024-05-20T08:19:52.113487Z"
    }
   },
   "id": "f2799be6efe820f8",
   "execution_count": 11,
   "outputs": []
  },
  {
   "cell_type": "code",
   "source": [
    "metabolome_bacteria_corr_coefficient = pd.DataFrame(index=taxa.columns, columns=metabolite.columns)\n",
    "metabolome_bacteria_p_values = pd.DataFrame(index=taxa.columns, columns=metabolite.columns)\n",
    "\n",
    "for metabolome in metabolite.columns:\n",
    "    for bacteria in taxa.columns:\n",
    "        coefficient, p  = stats.kendalltau(metabolite[metabolome], taxa[bacteria])\n",
    "        metabolome_bacteria_corr_coefficient.loc[bacteria, metabolome] = coefficient\n",
    "        metabolome_bacteria_p_values.loc[bacteria, metabolome] = p\n",
    "        "
   ],
   "metadata": {
    "collapsed": false,
    "ExecuteTime": {
     "end_time": "2024-05-30T09:09:54.289456Z",
     "start_time": "2024-05-30T09:09:44.898525Z"
    }
   },
   "id": "97fc12ee20cdbb43",
   "outputs": [],
   "execution_count": 35
  },
  {
   "cell_type": "code",
   "source": [
    "# With multi-comparison correction (FDR)\n",
    "# what to do with nans?\n",
    "p_values = metabolome_bacteria_p_values.stack()\n",
    "_, p_values_corrected = fdrcorrection(p_values)\n",
    "metabolome_bacteria_p_values_fdr_correction = pd.Series(p_values_corrected, index=p_values.index).unstack()"
   ],
   "metadata": {
    "collapsed": false,
    "ExecuteTime": {
     "end_time": "2024-05-30T09:09:54.317567Z",
     "start_time": "2024-05-30T09:09:54.290500Z"
    }
   },
   "id": "95ac35a75fe0527a",
   "outputs": [],
   "execution_count": 36
  },
  {
   "cell_type": "code",
   "source": [
    "metabolome_bacteria_p_values_fdr_correction"
   ],
   "metadata": {
    "collapsed": false,
    "ExecuteTime": {
     "end_time": "2024-05-30T09:09:54.530166Z",
     "start_time": "2024-05-30T09:09:54.520479Z"
    }
   },
   "id": "5c2beaa1dc06c925",
   "outputs": [
    {
     "data": {
      "text/plain": [
       "                                                   Deoxycytidine  \\\n",
       "d__Bacteria;p__Proteobacteria;c__Gammaproteobac...      0.907919   \n",
       "d__Bacteria;p__Firmicutes_A;c__Clostridia;o__Os...      0.357703   \n",
       "d__Bacteria;p__Firmicutes_A;c__Clostridia;o__Os...      0.276929   \n",
       "d__Bacteria;p__Bacteroidota;c__Bacteroidia;o__B...      0.688299   \n",
       "d__Bacteria;p__Firmicutes_A;c__Clostridia;o__La...      0.834606   \n",
       "...                                                          ...   \n",
       "d__Bacteria;p__Firmicutes_A;c__Clostridia;o__La...      0.374254   \n",
       "d__Bacteria;p__Firmicutes_C;c__Negativicutes;o_...      0.486909   \n",
       "d__Bacteria;p__Firmicutes_A;c__Clostridia;o__La...      0.177957   \n",
       "d__Bacteria;p__Firmicutes_A;c__Clostridia;o__Os...      0.213344   \n",
       "d__Bacteria;p__Firmicutes_A;c__Clostridia;o__La...      0.501703   \n",
       "\n",
       "                                                   4-Pyridoxic acid  \\\n",
       "d__Bacteria;p__Proteobacteria;c__Gammaproteobac...         0.542831   \n",
       "d__Bacteria;p__Firmicutes_A;c__Clostridia;o__Os...         0.323391   \n",
       "d__Bacteria;p__Firmicutes_A;c__Clostridia;o__Os...         0.441636   \n",
       "d__Bacteria;p__Bacteroidota;c__Bacteroidia;o__B...         0.865584   \n",
       "d__Bacteria;p__Firmicutes_A;c__Clostridia;o__La...         0.881419   \n",
       "...                                                             ...   \n",
       "d__Bacteria;p__Firmicutes_A;c__Clostridia;o__La...         0.800469   \n",
       "d__Bacteria;p__Firmicutes_C;c__Negativicutes;o_...         0.183561   \n",
       "d__Bacteria;p__Firmicutes_A;c__Clostridia;o__La...         0.497278   \n",
       "d__Bacteria;p__Firmicutes_A;c__Clostridia;o__Os...         0.493846   \n",
       "d__Bacteria;p__Firmicutes_A;c__Clostridia;o__La...         0.497278   \n",
       "\n",
       "                                                   alpha-Ketoisovaleric acid  \\\n",
       "d__Bacteria;p__Proteobacteria;c__Gammaproteobac...                  0.914013   \n",
       "d__Bacteria;p__Firmicutes_A;c__Clostridia;o__Os...                  0.967226   \n",
       "d__Bacteria;p__Firmicutes_A;c__Clostridia;o__Os...                  0.484206   \n",
       "d__Bacteria;p__Bacteroidota;c__Bacteroidia;o__B...                   0.93315   \n",
       "d__Bacteria;p__Firmicutes_A;c__Clostridia;o__La...                  0.827313   \n",
       "...                                                                      ...   \n",
       "d__Bacteria;p__Firmicutes_A;c__Clostridia;o__La...                  0.819483   \n",
       "d__Bacteria;p__Firmicutes_C;c__Negativicutes;o_...                  0.764658   \n",
       "d__Bacteria;p__Firmicutes_A;c__Clostridia;o__La...                  0.453099   \n",
       "d__Bacteria;p__Firmicutes_A;c__Clostridia;o__Os...                  0.542831   \n",
       "d__Bacteria;p__Firmicutes_A;c__Clostridia;o__La...                  0.682965   \n",
       "\n",
       "                                                   p-Hydroxyphenylacetic acid  \\\n",
       "d__Bacteria;p__Proteobacteria;c__Gammaproteobac...                   0.012921   \n",
       "d__Bacteria;p__Firmicutes_A;c__Clostridia;o__Os...                    0.07648   \n",
       "d__Bacteria;p__Firmicutes_A;c__Clostridia;o__Os...                    0.00222   \n",
       "d__Bacteria;p__Bacteroidota;c__Bacteroidia;o__B...                   0.696279   \n",
       "d__Bacteria;p__Firmicutes_A;c__Clostridia;o__La...                   0.360345   \n",
       "...                                                                       ...   \n",
       "d__Bacteria;p__Firmicutes_A;c__Clostridia;o__La...                   0.920131   \n",
       "d__Bacteria;p__Firmicutes_C;c__Negativicutes;o_...                    0.61616   \n",
       "d__Bacteria;p__Firmicutes_A;c__Clostridia;o__La...                   0.623478   \n",
       "d__Bacteria;p__Firmicutes_A;c__Clostridia;o__Os...                   0.001282   \n",
       "d__Bacteria;p__Firmicutes_A;c__Clostridia;o__La...                   0.055371   \n",
       "\n",
       "                                                   Ureidopropionic acid  \\\n",
       "d__Bacteria;p__Proteobacteria;c__Gammaproteobac...             0.293948   \n",
       "d__Bacteria;p__Firmicutes_A;c__Clostridia;o__Os...              0.42483   \n",
       "d__Bacteria;p__Firmicutes_A;c__Clostridia;o__Os...             0.083159   \n",
       "d__Bacteria;p__Bacteroidota;c__Bacteroidia;o__B...             0.161068   \n",
       "d__Bacteria;p__Firmicutes_A;c__Clostridia;o__La...             0.359671   \n",
       "...                                                                 ...   \n",
       "d__Bacteria;p__Firmicutes_A;c__Clostridia;o__La...             0.415128   \n",
       "d__Bacteria;p__Firmicutes_C;c__Negativicutes;o_...             0.769996   \n",
       "d__Bacteria;p__Firmicutes_A;c__Clostridia;o__La...              0.51315   \n",
       "d__Bacteria;p__Firmicutes_A;c__Clostridia;o__Os...              0.40892   \n",
       "d__Bacteria;p__Firmicutes_A;c__Clostridia;o__La...             0.288077   \n",
       "\n",
       "                                                      Biotin   Adenine  \\\n",
       "d__Bacteria;p__Proteobacteria;c__Gammaproteobac...   0.69028  0.319324   \n",
       "d__Bacteria;p__Firmicutes_A;c__Clostridia;o__Os...  0.659534  0.717074   \n",
       "d__Bacteria;p__Firmicutes_A;c__Clostridia;o__Os...  0.515497  0.914852   \n",
       "d__Bacteria;p__Bacteroidota;c__Bacteroidia;o__B...  0.777492  0.397244   \n",
       "d__Bacteria;p__Firmicutes_A;c__Clostridia;o__La...  0.687812  0.953973   \n",
       "...                                                      ...       ...   \n",
       "d__Bacteria;p__Firmicutes_A;c__Clostridia;o__La...  0.916331  0.499646   \n",
       "d__Bacteria;p__Firmicutes_C;c__Negativicutes;o_...  0.762845  0.253255   \n",
       "d__Bacteria;p__Firmicutes_A;c__Clostridia;o__La...  0.156125  0.022285   \n",
       "d__Bacteria;p__Firmicutes_A;c__Clostridia;o__Os...  0.258243  0.953505   \n",
       "d__Bacteria;p__Firmicutes_A;c__Clostridia;o__La...  0.901187  0.558195   \n",
       "\n",
       "                                                   Taurocholic acid  \\\n",
       "d__Bacteria;p__Proteobacteria;c__Gammaproteobac...         0.343756   \n",
       "d__Bacteria;p__Firmicutes_A;c__Clostridia;o__Os...         0.433721   \n",
       "d__Bacteria;p__Firmicutes_A;c__Clostridia;o__Os...          0.09501   \n",
       "d__Bacteria;p__Bacteroidota;c__Bacteroidia;o__B...         0.854071   \n",
       "d__Bacteria;p__Firmicutes_A;c__Clostridia;o__La...         0.130154   \n",
       "...                                                             ...   \n",
       "d__Bacteria;p__Firmicutes_A;c__Clostridia;o__La...         0.429382   \n",
       "d__Bacteria;p__Firmicutes_C;c__Negativicutes;o_...         0.839686   \n",
       "d__Bacteria;p__Firmicutes_A;c__Clostridia;o__La...         0.923614   \n",
       "d__Bacteria;p__Firmicutes_A;c__Clostridia;o__Os...         0.009549   \n",
       "d__Bacteria;p__Firmicutes_A;c__Clostridia;o__La...         0.145623   \n",
       "\n",
       "                                                   Butyric acid   Betaine  \\\n",
       "d__Bacteria;p__Proteobacteria;c__Gammaproteobac...     0.567806  0.286669   \n",
       "d__Bacteria;p__Firmicutes_A;c__Clostridia;o__Os...     0.874311  0.093377   \n",
       "d__Bacteria;p__Firmicutes_A;c__Clostridia;o__Os...          1.0  0.124822   \n",
       "d__Bacteria;p__Bacteroidota;c__Bacteroidia;o__B...     0.662516  0.662516   \n",
       "d__Bacteria;p__Firmicutes_A;c__Clostridia;o__La...     0.813141  0.538537   \n",
       "...                                                         ...       ...   \n",
       "d__Bacteria;p__Firmicutes_A;c__Clostridia;o__La...     0.879011  0.277432   \n",
       "d__Bacteria;p__Firmicutes_C;c__Negativicutes;o_...     0.923614  0.163105   \n",
       "d__Bacteria;p__Firmicutes_A;c__Clostridia;o__La...     0.206551  0.281328   \n",
       "d__Bacteria;p__Firmicutes_A;c__Clostridia;o__Os...     0.967226  0.312682   \n",
       "d__Bacteria;p__Firmicutes_A;c__Clostridia;o__La...     0.800469  0.467727   \n",
       "\n",
       "                                                    ... N-Acetylhistidine  \\\n",
       "d__Bacteria;p__Proteobacteria;c__Gammaproteobac...  ...          0.683689   \n",
       "d__Bacteria;p__Firmicutes_A;c__Clostridia;o__Os...  ...           0.92513   \n",
       "d__Bacteria;p__Firmicutes_A;c__Clostridia;o__Os...  ...          0.709494   \n",
       "d__Bacteria;p__Bacteroidota;c__Bacteroidia;o__B...  ...          0.429382   \n",
       "d__Bacteria;p__Firmicutes_A;c__Clostridia;o__La...  ...          0.946027   \n",
       "...                                                 ...               ...   \n",
       "d__Bacteria;p__Firmicutes_A;c__Clostridia;o__La...  ...          0.681014   \n",
       "d__Bacteria;p__Firmicutes_C;c__Negativicutes;o_...  ...          0.937349   \n",
       "d__Bacteria;p__Firmicutes_A;c__Clostridia;o__La...  ...          0.309356   \n",
       "d__Bacteria;p__Firmicutes_A;c__Clostridia;o__Os...  ...          0.926765   \n",
       "d__Bacteria;p__Firmicutes_A;c__Clostridia;o__La...  ...          0.858249   \n",
       "\n",
       "                                                   HMDB0035665  \\\n",
       "d__Bacteria;p__Proteobacteria;c__Gammaproteobac...    0.055747   \n",
       "d__Bacteria;p__Firmicutes_A;c__Clostridia;o__Os...     0.58536   \n",
       "d__Bacteria;p__Firmicutes_A;c__Clostridia;o__Os...    0.785143   \n",
       "d__Bacteria;p__Bacteroidota;c__Bacteroidia;o__B...    0.985803   \n",
       "d__Bacteria;p__Firmicutes_A;c__Clostridia;o__La...    0.977682   \n",
       "...                                                        ...   \n",
       "d__Bacteria;p__Firmicutes_A;c__Clostridia;o__La...    0.361869   \n",
       "d__Bacteria;p__Firmicutes_C;c__Negativicutes;o_...    0.876079   \n",
       "d__Bacteria;p__Firmicutes_A;c__Clostridia;o__La...    0.351081   \n",
       "d__Bacteria;p__Firmicutes_A;c__Clostridia;o__Os...     0.54547   \n",
       "d__Bacteria;p__Firmicutes_A;c__Clostridia;o__La...    0.501309   \n",
       "\n",
       "                                                   17-Methyloctadecanoic acid  \\\n",
       "d__Bacteria;p__Proteobacteria;c__Gammaproteobac...                   0.623478   \n",
       "d__Bacteria;p__Firmicutes_A;c__Clostridia;o__Os...                   0.850062   \n",
       "d__Bacteria;p__Firmicutes_A;c__Clostridia;o__Os...                   0.494493   \n",
       "d__Bacteria;p__Bacteroidota;c__Bacteroidia;o__B...                   0.249485   \n",
       "d__Bacteria;p__Firmicutes_A;c__Clostridia;o__La...                   0.944326   \n",
       "...                                                                       ...   \n",
       "d__Bacteria;p__Firmicutes_A;c__Clostridia;o__La...                   0.709494   \n",
       "d__Bacteria;p__Firmicutes_C;c__Negativicutes;o_...                   0.275753   \n",
       "d__Bacteria;p__Firmicutes_A;c__Clostridia;o__La...                   0.435841   \n",
       "d__Bacteria;p__Firmicutes_A;c__Clostridia;o__Os...                    0.99863   \n",
       "d__Bacteria;p__Firmicutes_A;c__Clostridia;o__La...                     0.7562   \n",
       "\n",
       "                                                   HMDB0037942  \\\n",
       "d__Bacteria;p__Proteobacteria;c__Gammaproteobac...    0.033552   \n",
       "d__Bacteria;p__Firmicutes_A;c__Clostridia;o__Os...    0.112571   \n",
       "d__Bacteria;p__Firmicutes_A;c__Clostridia;o__Os...    0.147878   \n",
       "d__Bacteria;p__Bacteroidota;c__Bacteroidia;o__B...     0.23021   \n",
       "d__Bacteria;p__Firmicutes_A;c__Clostridia;o__La...    0.578707   \n",
       "...                                                        ...   \n",
       "d__Bacteria;p__Firmicutes_A;c__Clostridia;o__La...    0.839686   \n",
       "d__Bacteria;p__Firmicutes_C;c__Negativicutes;o_...    0.370686   \n",
       "d__Bacteria;p__Firmicutes_A;c__Clostridia;o__La...    0.292498   \n",
       "d__Bacteria;p__Firmicutes_A;c__Clostridia;o__Os...    0.682965   \n",
       "d__Bacteria;p__Firmicutes_A;c__Clostridia;o__La...     0.39071   \n",
       "\n",
       "                                                   TG(14:0/14:0/16:0)  \\\n",
       "d__Bacteria;p__Proteobacteria;c__Gammaproteobac...           0.654363   \n",
       "d__Bacteria;p__Firmicutes_A;c__Clostridia;o__Os...           0.547257   \n",
       "d__Bacteria;p__Firmicutes_A;c__Clostridia;o__Os...            0.65173   \n",
       "d__Bacteria;p__Bacteroidota;c__Bacteroidia;o__B...           0.992121   \n",
       "d__Bacteria;p__Firmicutes_A;c__Clostridia;o__La...            0.94916   \n",
       "...                                                               ...   \n",
       "d__Bacteria;p__Firmicutes_A;c__Clostridia;o__La...           0.767113   \n",
       "d__Bacteria;p__Firmicutes_C;c__Negativicutes;o_...           0.912257   \n",
       "d__Bacteria;p__Firmicutes_A;c__Clostridia;o__La...           0.750623   \n",
       "d__Bacteria;p__Firmicutes_A;c__Clostridia;o__Os...           0.652513   \n",
       "d__Bacteria;p__Firmicutes_A;c__Clostridia;o__La...            0.25604   \n",
       "\n",
       "                                                   HMDB0042093 HMDB0043058  \\\n",
       "d__Bacteria;p__Proteobacteria;c__Gammaproteobac...    0.889895    0.465301   \n",
       "d__Bacteria;p__Firmicutes_A;c__Clostridia;o__Os...    0.889895    0.383813   \n",
       "d__Bacteria;p__Firmicutes_A;c__Clostridia;o__Os...    0.680345    0.086363   \n",
       "d__Bacteria;p__Bacteroidota;c__Bacteroidia;o__B...    0.598127    0.307371   \n",
       "d__Bacteria;p__Firmicutes_A;c__Clostridia;o__La...    0.779839    0.939607   \n",
       "...                                                        ...         ...   \n",
       "d__Bacteria;p__Firmicutes_A;c__Clostridia;o__La...    0.965154    0.888403   \n",
       "d__Bacteria;p__Firmicutes_C;c__Negativicutes;o_...     0.86718    0.959622   \n",
       "d__Bacteria;p__Firmicutes_A;c__Clostridia;o__La...    0.961312    0.740647   \n",
       "d__Bacteria;p__Firmicutes_A;c__Clostridia;o__Os...    0.355622     0.13223   \n",
       "d__Bacteria;p__Firmicutes_A;c__Clostridia;o__La...     0.73745    0.187659   \n",
       "\n",
       "                                                   2-Hydroxyglutarate  \\\n",
       "d__Bacteria;p__Proteobacteria;c__Gammaproteobac...           0.649909   \n",
       "d__Bacteria;p__Firmicutes_A;c__Clostridia;o__Os...           0.670373   \n",
       "d__Bacteria;p__Firmicutes_A;c__Clostridia;o__Os...           0.264812   \n",
       "d__Bacteria;p__Bacteroidota;c__Bacteroidia;o__B...           0.997158   \n",
       "d__Bacteria;p__Firmicutes_A;c__Clostridia;o__La...           0.202551   \n",
       "...                                                               ...   \n",
       "d__Bacteria;p__Firmicutes_A;c__Clostridia;o__La...           0.678556   \n",
       "d__Bacteria;p__Firmicutes_C;c__Negativicutes;o_...           0.931322   \n",
       "d__Bacteria;p__Firmicutes_A;c__Clostridia;o__La...           0.467727   \n",
       "d__Bacteria;p__Firmicutes_A;c__Clostridia;o__Os...           0.742487   \n",
       "d__Bacteria;p__Firmicutes_A;c__Clostridia;o__La...           0.404225   \n",
       "\n",
       "                                                   HMDB0059824  \\\n",
       "d__Bacteria;p__Proteobacteria;c__Gammaproteobac...    0.317055   \n",
       "d__Bacteria;p__Firmicutes_A;c__Clostridia;o__Os...    0.509024   \n",
       "d__Bacteria;p__Firmicutes_A;c__Clostridia;o__Os...    0.402026   \n",
       "d__Bacteria;p__Bacteroidota;c__Bacteroidia;o__B...    0.239772   \n",
       "d__Bacteria;p__Firmicutes_A;c__Clostridia;o__La...     0.72236   \n",
       "...                                                        ...   \n",
       "d__Bacteria;p__Firmicutes_A;c__Clostridia;o__La...    0.364662   \n",
       "d__Bacteria;p__Firmicutes_C;c__Negativicutes;o_...    0.337803   \n",
       "d__Bacteria;p__Firmicutes_A;c__Clostridia;o__La...    0.386178   \n",
       "d__Bacteria;p__Firmicutes_A;c__Clostridia;o__Os...    0.240912   \n",
       "d__Bacteria;p__Firmicutes_A;c__Clostridia;o__La...    0.647148   \n",
       "\n",
       "                                                   10Z-Heptadecenoic acid  \n",
       "d__Bacteria;p__Proteobacteria;c__Gammaproteobac...                0.69375  \n",
       "d__Bacteria;p__Firmicutes_A;c__Clostridia;o__Os...               0.947671  \n",
       "d__Bacteria;p__Firmicutes_A;c__Clostridia;o__Os...               0.395185  \n",
       "d__Bacteria;p__Bacteroidota;c__Bacteroidia;o__B...               0.020758  \n",
       "d__Bacteria;p__Firmicutes_A;c__Clostridia;o__La...               0.431691  \n",
       "...                                                                   ...  \n",
       "d__Bacteria;p__Firmicutes_A;c__Clostridia;o__La...               0.484809  \n",
       "d__Bacteria;p__Firmicutes_C;c__Negativicutes;o_...               0.177386  \n",
       "d__Bacteria;p__Firmicutes_A;c__Clostridia;o__La...               0.542831  \n",
       "d__Bacteria;p__Firmicutes_A;c__Clostridia;o__Os...               0.522832  \n",
       "d__Bacteria;p__Firmicutes_A;c__Clostridia;o__La...               0.802699  \n",
       "\n",
       "[107 rows x 375 columns]"
      ],
      "text/html": [
       "<div>\n",
       "<style scoped>\n",
       "    .dataframe tbody tr th:only-of-type {\n",
       "        vertical-align: middle;\n",
       "    }\n",
       "\n",
       "    .dataframe tbody tr th {\n",
       "        vertical-align: top;\n",
       "    }\n",
       "\n",
       "    .dataframe thead th {\n",
       "        text-align: right;\n",
       "    }\n",
       "</style>\n",
       "<table border=\"1\" class=\"dataframe\">\n",
       "  <thead>\n",
       "    <tr style=\"text-align: right;\">\n",
       "      <th></th>\n",
       "      <th>Deoxycytidine</th>\n",
       "      <th>4-Pyridoxic acid</th>\n",
       "      <th>alpha-Ketoisovaleric acid</th>\n",
       "      <th>p-Hydroxyphenylacetic acid</th>\n",
       "      <th>Ureidopropionic acid</th>\n",
       "      <th>Biotin</th>\n",
       "      <th>Adenine</th>\n",
       "      <th>Taurocholic acid</th>\n",
       "      <th>Butyric acid</th>\n",
       "      <th>Betaine</th>\n",
       "      <th>...</th>\n",
       "      <th>N-Acetylhistidine</th>\n",
       "      <th>HMDB0035665</th>\n",
       "      <th>17-Methyloctadecanoic acid</th>\n",
       "      <th>HMDB0037942</th>\n",
       "      <th>TG(14:0/14:0/16:0)</th>\n",
       "      <th>HMDB0042093</th>\n",
       "      <th>HMDB0043058</th>\n",
       "      <th>2-Hydroxyglutarate</th>\n",
       "      <th>HMDB0059824</th>\n",
       "      <th>10Z-Heptadecenoic acid</th>\n",
       "    </tr>\n",
       "  </thead>\n",
       "  <tbody>\n",
       "    <tr>\n",
       "      <th>d__Bacteria;p__Proteobacteria;c__Gammaproteobacteria;o__Burkholderiales;f__Burkholderiaceae;g__Sutterella</th>\n",
       "      <td>0.907919</td>\n",
       "      <td>0.542831</td>\n",
       "      <td>0.914013</td>\n",
       "      <td>0.012921</td>\n",
       "      <td>0.293948</td>\n",
       "      <td>0.69028</td>\n",
       "      <td>0.319324</td>\n",
       "      <td>0.343756</td>\n",
       "      <td>0.567806</td>\n",
       "      <td>0.286669</td>\n",
       "      <td>...</td>\n",
       "      <td>0.683689</td>\n",
       "      <td>0.055747</td>\n",
       "      <td>0.623478</td>\n",
       "      <td>0.033552</td>\n",
       "      <td>0.654363</td>\n",
       "      <td>0.889895</td>\n",
       "      <td>0.465301</td>\n",
       "      <td>0.649909</td>\n",
       "      <td>0.317055</td>\n",
       "      <td>0.69375</td>\n",
       "    </tr>\n",
       "    <tr>\n",
       "      <th>d__Bacteria;p__Firmicutes_A;c__Clostridia;o__Oscillospirales;f__Acutalibacteraceae;g__CAG-177</th>\n",
       "      <td>0.357703</td>\n",
       "      <td>0.323391</td>\n",
       "      <td>0.967226</td>\n",
       "      <td>0.07648</td>\n",
       "      <td>0.42483</td>\n",
       "      <td>0.659534</td>\n",
       "      <td>0.717074</td>\n",
       "      <td>0.433721</td>\n",
       "      <td>0.874311</td>\n",
       "      <td>0.093377</td>\n",
       "      <td>...</td>\n",
       "      <td>0.92513</td>\n",
       "      <td>0.58536</td>\n",
       "      <td>0.850062</td>\n",
       "      <td>0.112571</td>\n",
       "      <td>0.547257</td>\n",
       "      <td>0.889895</td>\n",
       "      <td>0.383813</td>\n",
       "      <td>0.670373</td>\n",
       "      <td>0.509024</td>\n",
       "      <td>0.947671</td>\n",
       "    </tr>\n",
       "    <tr>\n",
       "      <th>d__Bacteria;p__Firmicutes_A;c__Clostridia;o__Oscillospirales;f__Oscillospiraceae;g__Faecousia</th>\n",
       "      <td>0.276929</td>\n",
       "      <td>0.441636</td>\n",
       "      <td>0.484206</td>\n",
       "      <td>0.00222</td>\n",
       "      <td>0.083159</td>\n",
       "      <td>0.515497</td>\n",
       "      <td>0.914852</td>\n",
       "      <td>0.09501</td>\n",
       "      <td>1.0</td>\n",
       "      <td>0.124822</td>\n",
       "      <td>...</td>\n",
       "      <td>0.709494</td>\n",
       "      <td>0.785143</td>\n",
       "      <td>0.494493</td>\n",
       "      <td>0.147878</td>\n",
       "      <td>0.65173</td>\n",
       "      <td>0.680345</td>\n",
       "      <td>0.086363</td>\n",
       "      <td>0.264812</td>\n",
       "      <td>0.402026</td>\n",
       "      <td>0.395185</td>\n",
       "    </tr>\n",
       "    <tr>\n",
       "      <th>d__Bacteria;p__Bacteroidota;c__Bacteroidia;o__Bacteroidales;f__Bacteroidaceae;g__Alloprevotella</th>\n",
       "      <td>0.688299</td>\n",
       "      <td>0.865584</td>\n",
       "      <td>0.93315</td>\n",
       "      <td>0.696279</td>\n",
       "      <td>0.161068</td>\n",
       "      <td>0.777492</td>\n",
       "      <td>0.397244</td>\n",
       "      <td>0.854071</td>\n",
       "      <td>0.662516</td>\n",
       "      <td>0.662516</td>\n",
       "      <td>...</td>\n",
       "      <td>0.429382</td>\n",
       "      <td>0.985803</td>\n",
       "      <td>0.249485</td>\n",
       "      <td>0.23021</td>\n",
       "      <td>0.992121</td>\n",
       "      <td>0.598127</td>\n",
       "      <td>0.307371</td>\n",
       "      <td>0.997158</td>\n",
       "      <td>0.239772</td>\n",
       "      <td>0.020758</td>\n",
       "    </tr>\n",
       "    <tr>\n",
       "      <th>d__Bacteria;p__Firmicutes_A;c__Clostridia;o__Lachnospirales;f__Anaerotignaceae;g__Anaerotignum</th>\n",
       "      <td>0.834606</td>\n",
       "      <td>0.881419</td>\n",
       "      <td>0.827313</td>\n",
       "      <td>0.360345</td>\n",
       "      <td>0.359671</td>\n",
       "      <td>0.687812</td>\n",
       "      <td>0.953973</td>\n",
       "      <td>0.130154</td>\n",
       "      <td>0.813141</td>\n",
       "      <td>0.538537</td>\n",
       "      <td>...</td>\n",
       "      <td>0.946027</td>\n",
       "      <td>0.977682</td>\n",
       "      <td>0.944326</td>\n",
       "      <td>0.578707</td>\n",
       "      <td>0.94916</td>\n",
       "      <td>0.779839</td>\n",
       "      <td>0.939607</td>\n",
       "      <td>0.202551</td>\n",
       "      <td>0.72236</td>\n",
       "      <td>0.431691</td>\n",
       "    </tr>\n",
       "    <tr>\n",
       "      <th>...</th>\n",
       "      <td>...</td>\n",
       "      <td>...</td>\n",
       "      <td>...</td>\n",
       "      <td>...</td>\n",
       "      <td>...</td>\n",
       "      <td>...</td>\n",
       "      <td>...</td>\n",
       "      <td>...</td>\n",
       "      <td>...</td>\n",
       "      <td>...</td>\n",
       "      <td>...</td>\n",
       "      <td>...</td>\n",
       "      <td>...</td>\n",
       "      <td>...</td>\n",
       "      <td>...</td>\n",
       "      <td>...</td>\n",
       "      <td>...</td>\n",
       "      <td>...</td>\n",
       "      <td>...</td>\n",
       "      <td>...</td>\n",
       "      <td>...</td>\n",
       "    </tr>\n",
       "    <tr>\n",
       "      <th>d__Bacteria;p__Firmicutes_A;c__Clostridia;o__Lachnospirales;f__Lachnospiraceae;g__Eubacterium_I</th>\n",
       "      <td>0.374254</td>\n",
       "      <td>0.800469</td>\n",
       "      <td>0.819483</td>\n",
       "      <td>0.920131</td>\n",
       "      <td>0.415128</td>\n",
       "      <td>0.916331</td>\n",
       "      <td>0.499646</td>\n",
       "      <td>0.429382</td>\n",
       "      <td>0.879011</td>\n",
       "      <td>0.277432</td>\n",
       "      <td>...</td>\n",
       "      <td>0.681014</td>\n",
       "      <td>0.361869</td>\n",
       "      <td>0.709494</td>\n",
       "      <td>0.839686</td>\n",
       "      <td>0.767113</td>\n",
       "      <td>0.965154</td>\n",
       "      <td>0.888403</td>\n",
       "      <td>0.678556</td>\n",
       "      <td>0.364662</td>\n",
       "      <td>0.484809</td>\n",
       "    </tr>\n",
       "    <tr>\n",
       "      <th>d__Bacteria;p__Firmicutes_C;c__Negativicutes;o__Veillonellales;f__Megasphaeraceae;g__Megasphaera</th>\n",
       "      <td>0.486909</td>\n",
       "      <td>0.183561</td>\n",
       "      <td>0.764658</td>\n",
       "      <td>0.61616</td>\n",
       "      <td>0.769996</td>\n",
       "      <td>0.762845</td>\n",
       "      <td>0.253255</td>\n",
       "      <td>0.839686</td>\n",
       "      <td>0.923614</td>\n",
       "      <td>0.163105</td>\n",
       "      <td>...</td>\n",
       "      <td>0.937349</td>\n",
       "      <td>0.876079</td>\n",
       "      <td>0.275753</td>\n",
       "      <td>0.370686</td>\n",
       "      <td>0.912257</td>\n",
       "      <td>0.86718</td>\n",
       "      <td>0.959622</td>\n",
       "      <td>0.931322</td>\n",
       "      <td>0.337803</td>\n",
       "      <td>0.177386</td>\n",
       "    </tr>\n",
       "    <tr>\n",
       "      <th>d__Bacteria;p__Firmicutes_A;c__Clostridia;o__Lachnospirales;f__Lachnospiraceae;g__Roseburia</th>\n",
       "      <td>0.177957</td>\n",
       "      <td>0.497278</td>\n",
       "      <td>0.453099</td>\n",
       "      <td>0.623478</td>\n",
       "      <td>0.51315</td>\n",
       "      <td>0.156125</td>\n",
       "      <td>0.022285</td>\n",
       "      <td>0.923614</td>\n",
       "      <td>0.206551</td>\n",
       "      <td>0.281328</td>\n",
       "      <td>...</td>\n",
       "      <td>0.309356</td>\n",
       "      <td>0.351081</td>\n",
       "      <td>0.435841</td>\n",
       "      <td>0.292498</td>\n",
       "      <td>0.750623</td>\n",
       "      <td>0.961312</td>\n",
       "      <td>0.740647</td>\n",
       "      <td>0.467727</td>\n",
       "      <td>0.386178</td>\n",
       "      <td>0.542831</td>\n",
       "    </tr>\n",
       "    <tr>\n",
       "      <th>d__Bacteria;p__Firmicutes_A;c__Clostridia;o__Oscillospirales;f__Oscillospiraceae;g__CAG-103</th>\n",
       "      <td>0.213344</td>\n",
       "      <td>0.493846</td>\n",
       "      <td>0.542831</td>\n",
       "      <td>0.001282</td>\n",
       "      <td>0.40892</td>\n",
       "      <td>0.258243</td>\n",
       "      <td>0.953505</td>\n",
       "      <td>0.009549</td>\n",
       "      <td>0.967226</td>\n",
       "      <td>0.312682</td>\n",
       "      <td>...</td>\n",
       "      <td>0.926765</td>\n",
       "      <td>0.54547</td>\n",
       "      <td>0.99863</td>\n",
       "      <td>0.682965</td>\n",
       "      <td>0.652513</td>\n",
       "      <td>0.355622</td>\n",
       "      <td>0.13223</td>\n",
       "      <td>0.742487</td>\n",
       "      <td>0.240912</td>\n",
       "      <td>0.522832</td>\n",
       "    </tr>\n",
       "    <tr>\n",
       "      <th>d__Bacteria;p__Firmicutes_A;c__Clostridia;o__Lachnospirales;f__Lachnospiraceae;g__Eubacterium_F</th>\n",
       "      <td>0.501703</td>\n",
       "      <td>0.497278</td>\n",
       "      <td>0.682965</td>\n",
       "      <td>0.055371</td>\n",
       "      <td>0.288077</td>\n",
       "      <td>0.901187</td>\n",
       "      <td>0.558195</td>\n",
       "      <td>0.145623</td>\n",
       "      <td>0.800469</td>\n",
       "      <td>0.467727</td>\n",
       "      <td>...</td>\n",
       "      <td>0.858249</td>\n",
       "      <td>0.501309</td>\n",
       "      <td>0.7562</td>\n",
       "      <td>0.39071</td>\n",
       "      <td>0.25604</td>\n",
       "      <td>0.73745</td>\n",
       "      <td>0.187659</td>\n",
       "      <td>0.404225</td>\n",
       "      <td>0.647148</td>\n",
       "      <td>0.802699</td>\n",
       "    </tr>\n",
       "  </tbody>\n",
       "</table>\n",
       "<p>107 rows × 375 columns</p>\n",
       "</div>"
      ]
     },
     "execution_count": 37,
     "metadata": {},
     "output_type": "execute_result"
    }
   ],
   "execution_count": 37
  },
  {
   "cell_type": "code",
   "source": [
    "metabolome_bacteria_corr_coefficient = metabolome_bacteria_corr_coefficient.T.stack()\n",
    "metabolome_bacteria_p_values_fdr_correction = metabolome_bacteria_p_values_fdr_correction.T.stack()\n",
    "metabolome_bacteria_significant_corr = metabolome_bacteria_corr_coefficient[metabolome_bacteria_p_values_fdr_correction < 0.05]\n"
   ],
   "metadata": {
    "collapsed": false,
    "ExecuteTime": {
     "end_time": "2024-05-30T09:10:04.994108Z",
     "start_time": "2024-05-30T09:10:04.982636Z"
    }
   },
   "id": "758f172925e44a5b",
   "outputs": [],
   "execution_count": 38
  },
  {
   "cell_type": "code",
   "source": [
    "print(f\"There are {metabolome_bacteria_significant_corr.shape[0]} significant couples out of {metabolome_bacteria_corr_coefficient.shape[0]} \"\n",
    "      f\" ({taxa.shape[1]} genus, {metabolite.shape[1]} metabolome) \"\n",
    "      f\"after FDR correction (aka {round(100 * metabolome_bacteria_significant_corr.shape[0]/ metabolome_bacteria_corr_coefficient.shape[0] ,2)} %.)\")"
   ],
   "metadata": {
    "collapsed": false,
    "ExecuteTime": {
     "end_time": "2024-05-30T09:10:07.565250Z",
     "start_time": "2024-05-30T09:10:07.562184Z"
    }
   },
   "id": "32435fb300e96aa",
   "outputs": [
    {
     "name": "stdout",
     "output_type": "stream",
     "text": [
      "There are 2570 significant couples out of 40125  (107 genus, 375 metabolome) after FDR correction (aka 6.4 %.)\n"
     ]
    }
   ],
   "execution_count": 39
  },
  {
   "cell_type": "code",
   "source": [
    "metabolome_bacteria_significant_corr.sort_values(ascending=False)\n"
   ],
   "metadata": {
    "collapsed": false,
    "ExecuteTime": {
     "end_time": "2024-05-20T08:20:00.669102Z",
     "start_time": "2024-05-20T08:20:00.664174Z"
    }
   },
   "id": "ae2250e8ec818132",
   "execution_count": 18,
   "outputs": []
  },
  {
   "metadata": {},
   "cell_type": "markdown",
   "source": "",
   "id": "afb31058d3309c8a"
  },
  {
   "metadata": {},
   "cell_type": "markdown",
   "source": "",
   "id": "d375f4c0f799955b"
  },
  {
   "metadata": {},
   "cell_type": "code",
   "outputs": [],
   "execution_count": 40,
   "source": [
    "metabolome_bacteria_significant_corr.to_pickle(f'{dataset}/metabolome_bacteria_significant_corr_kendall-tau.pkl')\n",
    "metabolome_bacteria_corr_coefficient.to_pickle(f'{dataset}/metabolome_bacteria_corr_coefficient_kendall-tau.pkl')\n",
    "metabolome_bacteria_p_values_fdr_correction.to_pickle(f'{dataset}/metabolome_bacteria_p_values_fdr_correction_kendall-tau.pkl')"
   ],
   "id": "f820ca4eb5545ad2"
  },
  {
   "metadata": {
    "ExecuteTime": {
     "end_time": "2024-05-20T08:20:00.682804Z",
     "start_time": "2024-05-20T08:20:00.681544Z"
    }
   },
   "cell_type": "code",
   "source": [
    "taxa_rename_to_genus = pd.Series(metabolome_bacteria_significant_corr.index.get_level_values(1), index=metabolome_bacteria_significant_corr.index.get_level_values(1)).str.extract('.*g__(.*)').squeeze()\n",
    "metabolome_bacteria_significant_corr = metabolome_bacteria_significant_corr.rename(taxa_rename_to_genus.to_dict(), axis=0, level=1)\n"
   ],
   "id": "cae20ccdd2c7fdaf",
   "execution_count": 21,
   "outputs": []
  },
  {
   "metadata": {
    "ExecuteTime": {
     "end_time": "2024-05-30T09:12:25.602303Z",
     "start_time": "2024-05-30T09:12:25.598043Z"
    }
   },
   "cell_type": "code",
   "source": "metabolome_bacteria_significant_corr.head()",
   "id": "e9a9ac913c9da91e",
   "outputs": [
    {
     "data": {
      "text/plain": [
       "Deoxycytidine  Scatosoma     -0.222061\n",
       "               Alistipes_A   -0.223075\n",
       "               Alistipes     -0.214515\n",
       "               Coproplasma    -0.24494\n",
       "               Akkermansia   -0.213382\n",
       "dtype: object"
      ]
     },
     "execution_count": 44,
     "metadata": {},
     "output_type": "execute_result"
    }
   ],
   "execution_count": 44
  },
  {
   "cell_type": "code",
   "source": [
    "plt.rc('xtick', labelsize=10)\n",
    "plt.rc('ytick', labelsize=10)\n",
    "\n",
    "top_metabolite = metabolome_bacteria_significant_corr.sort_values(ascending=False).index[0][0]\n",
    "idx = pd.IndexSlice\n",
    "metabolome_bacteria_significant_corr.loc[idx[top_metabolite, :]].sort_values(ascending=False).plot.bar(figsize=(4,3), title=top_metabolite)"
   ],
   "metadata": {
    "collapsed": false,
    "ExecuteTime": {
     "end_time": "2024-05-20T08:20:00.907766Z",
     "start_time": "2024-05-20T08:20:00.688127Z"
    }
   },
   "id": "10b342c3871a58d8",
   "execution_count": 23,
   "outputs": []
  },
  {
   "cell_type": "code",
   "source": [
    "bottom_metabolite = metabolome_bacteria_significant_corr.sort_values(ascending=False).index[-1][0]\n",
    "metabolome_bacteria_significant_corr.loc[idx[bottom_metabolite, :]].sort_values(ascending=False).plot.bar(figsize=(12,6), title=bottom_metabolite)"
   ],
   "metadata": {
    "collapsed": false,
    "ExecuteTime": {
     "end_time": "2024-05-20T08:20:01.175908Z",
     "start_time": "2024-05-20T08:20:00.908866Z"
    }
   },
   "id": "d53bd047fbe1b28c",
   "execution_count": 24,
   "outputs": []
  },
  {
   "metadata": {
    "ExecuteTime": {
     "end_time": "2024-05-20T08:20:01.180352Z",
     "start_time": "2024-05-20T08:20:01.176962Z"
    }
   },
   "cell_type": "code",
   "source": [
    "# How many bacteria are significantly correlated with metabolites?\n",
    "print(f\"We have {len(metabolome_bacteria_significant_corr.index.get_level_values(1).unique())} microbes with significant correlation to metabolite out of \"\n",
    "      f\"{taxa.shape[1]} microbes ({round(len(metabolome_bacteria_significant_corr.index.get_level_values(1).unique()) / taxa.shape[1] * 100)}%)\")"
   ],
   "id": "bf3d3dcc5cf32a33",
   "execution_count": 25,
   "outputs": []
  },
  {
   "cell_type": "code",
   "source": [
    "# Search for significant bacteria:\n",
    "# Number of metabolites each bacteria significantly associate with\n",
    "metabolome_bacteria_significant_corr.groupby(axis=0, level=1).apply(lambda x: x.shape[0]).sort_values(ascending=False)"
   ],
   "metadata": {
    "collapsed": false,
    "ExecuteTime": {
     "end_time": "2024-05-20T08:20:01.187633Z",
     "start_time": "2024-05-20T08:20:01.181040Z"
    }
   },
   "id": "40911671a01583c2",
   "execution_count": 26,
   "outputs": []
  },
  {
   "metadata": {
    "ExecuteTime": {
     "end_time": "2024-05-20T08:20:01.194947Z",
     "start_time": "2024-05-20T08:20:01.188235Z"
    }
   },
   "cell_type": "code",
   "source": "metabolome_bacteria_significant_corr.groupby(axis=0, level=1).apply(lambda x: x.shape[0]).describe()",
   "id": "2184ca4fc22ad27d",
   "execution_count": 27,
   "outputs": []
  },
  {
   "metadata": {
    "ExecuteTime": {
     "end_time": "2024-05-20T08:20:01.207794Z",
     "start_time": "2024-05-20T08:20:01.197322Z"
    }
   },
   "cell_type": "code",
   "source": [
    "# Number of bacteria each metabolites significantly associate with\n",
    "metabolome_bacteria_significant_corr.groupby(axis=0, level=0).apply(lambda x: x.shape[0]).sort_values(ascending=False).describe()"
   ],
   "id": "d72a1e89985ae835",
   "execution_count": 28,
   "outputs": []
  },
  {
   "metadata": {},
   "cell_type": "markdown",
   "source": "We can see that the #metabolites that correlate with the bacteria is highley divers (std 17) where most bacteria effect up to 4 metabolites, while some correlates with up to 86. ",
   "id": "82c099a28057160d"
  },
  {
   "metadata": {
    "ExecuteTime": {
     "end_time": "2024-05-20T08:20:01.210839Z",
     "start_time": "2024-05-20T08:20:01.208398Z"
    }
   },
   "cell_type": "code",
   "source": [
    "# How many metabolism highly-derived from bacteria over-all the metabolites in the DB?\n",
    "print(f\"We have {len(metabolome_bacteria_significant_corr.index.get_level_values(0).unique())} metabolite with significant correlation to microbiome out of \"\n",
    "      f\"{metabolite.shape[1]} metabolites ({round(len(metabolome_bacteria_significant_corr.index.get_level_values(0).unique()) / metabolite.shape[1] * 100)}%)\")"
   ],
   "id": "fc6d65c5ce6a357e",
   "execution_count": 29,
   "outputs": []
  },
  {
   "metadata": {},
   "cell_type": "markdown",
   "source": "Number of bacteria each metabolite have significant correlation with:",
   "id": "7b1147a6bde85da2"
  },
  {
   "metadata": {
    "ExecuteTime": {
     "end_time": "2024-05-20T08:20:01.221099Z",
     "start_time": "2024-05-20T08:20:01.211386Z"
    }
   },
   "cell_type": "code",
   "source": "metabolome_bacteria_significant_corr.groupby(axis=0, level=0).apply(lambda x: x.shape[0]).sort_values(ascending=False).describe()\n",
   "id": "f4a1acb2a40980ed",
   "execution_count": 30,
   "outputs": []
  },
  {
   "metadata": {},
   "cell_type": "markdown",
   "source": "we see most metabolites have 3-11 significantly associate (kendall-tau) bacteria.",
   "id": "fe6326121858f4e2"
  },
  {
   "cell_type": "code",
   "source": [
    "top_bacteria = metabolome_bacteria_significant_corr.groupby(axis=0, level=1).apply(lambda x: x.shape[0]).idxmax()\n",
    "metabolome_bacteria_significant_corr.loc[idx[:, top_bacteria]].sort_values(ascending=False).plot.bar(figsize=(16,6), title=f'{top_bacteria} significant correlation to metabolites')\n"
   ],
   "metadata": {
    "collapsed": false,
    "ExecuteTime": {
     "end_time": "2024-05-20T08:20:01.958910Z",
     "start_time": "2024-05-20T08:20:01.221674Z"
    }
   },
   "id": "a4494e8e5a67b07",
   "execution_count": 31,
   "outputs": []
  },
  {
   "metadata": {
    "ExecuteTime": {
     "end_time": "2024-05-20T08:20:01.964453Z",
     "start_time": "2024-05-20T08:20:01.959880Z"
    }
   },
   "cell_type": "code",
   "source": [
    "metabolites_feces_from_microbial_origin_hmdb = pd.read_csv('//metabolites_feces_from_microbial_origin_hmdb')\n",
    "metabolites_feces_from_microbial_origin_hmdb = metabolites_feces_from_microbial_origin_hmdb.set_index('HMDB_ID')['NAME']"
   ],
   "id": "99dac08455473965",
   "execution_count": 32,
   "outputs": []
  },
  {
   "metadata": {},
   "cell_type": "markdown",
   "source": "Compare the overlap between the metabolites that we have find as significantly-correlated with microbiome and HMDB list of 117 feces metabolite that origin from microbial.",
   "id": "6148315acf009160"
  },
  {
   "metadata": {
    "ExecuteTime": {
     "end_time": "2024-05-20T08:20:01.968667Z",
     "start_time": "2024-05-20T08:20:01.965197Z"
    }
   },
   "cell_type": "code",
   "source": "metabolome_bacteria_significant_corr.index.get_level_values(0).unique().intersection(metabolites_feces_from_microbial_origin_hmdb.unique())",
   "id": "d1e41cd022f54d53",
   "execution_count": 33,
   "outputs": []
  },
  {
   "metadata": {
    "ExecuteTime": {
     "end_time": "2024-05-20T08:20:01.972446Z",
     "start_time": "2024-05-20T08:20:01.969247Z"
    }
   },
   "cell_type": "code",
   "source": "metabolome_bacteria_significant_corr.index.get_level_values(0).unique().intersection(metabolites_feces_from_microbial_origin_hmdb.unique()).shape[0]",
   "id": "e3776b303d25896c",
   "execution_count": 34,
   "outputs": []
  },
  {
   "metadata": {},
   "cell_type": "markdown",
   "source": "How many of the feces metabolite that origin from microbial (HMDB list) are in our datasets (with enough data?)",
   "id": "a7b88210650c0b47"
  },
  {
   "metadata": {
    "ExecuteTime": {
     "end_time": "2024-05-20T08:20:01.975884Z",
     "start_time": "2024-05-20T08:20:01.973105Z"
    }
   },
   "cell_type": "code",
   "source": "metabolite.columns.intersection(metabolites_feces_from_microbial_origin_hmdb.unique()).shape[0]",
   "id": "8422e996ac21232e",
   "execution_count": 35,
   "outputs": []
  },
  {
   "metadata": {
    "ExecuteTime": {
     "end_time": "2024-05-20T08:20:01.978721Z",
     "start_time": "2024-05-20T08:20:01.976546Z"
    }
   },
   "cell_type": "code",
   "source": "24/28",
   "id": "48f7ad8a1c9446d3",
   "execution_count": 36,
   "outputs": []
  },
  {
   "metadata": {
    "ExecuteTime": {
     "end_time": "2024-05-20T08:20:02.002857Z",
     "start_time": "2024-05-20T08:20:01.979487Z"
    }
   },
   "cell_type": "code",
   "source": [
    "metabolome_corr_df = pd.DataFrame({'#bacteria_in_assosiation': metabolome_bacteria_significant_corr.groupby(axis=0, level=0).apply(lambda x: x.shape[0]).sort_values(ascending=False), 'in_HMDB_list': pd.Series(metabolite.columns, index=metabolite.columns).apply(lambda x: x in metabolites_feces_from_microbial_origin_hmdb.unique())})\n",
    "metabolome_corr_df = metabolome_corr_df.reset_index(drop=False).rename(columns={'index': 'metabolites'})\n"
   ],
   "id": "17778701d79a89fc",
   "execution_count": 37,
   "outputs": []
  },
  {
   "metadata": {
    "ExecuteTime": {
     "end_time": "2024-05-20T08:20:02.285518Z",
     "start_time": "2024-05-20T08:20:02.003506Z"
    }
   },
   "cell_type": "code",
   "source": "metabolome_corr_df[metabolome_corr_df['in_HMDB_list']].sort_values(by='#bacteria_in_assosiation', ascending=False).plot.bar(x='metabolites', y='#bacteria_in_assosiation',figsize=(6,4))",
   "id": "352f55b67e57fa44",
   "execution_count": 38,
   "outputs": []
  },
  {
   "metadata": {
    "ExecuteTime": {
     "end_time": "2024-05-20T08:20:04.200393Z",
     "start_time": "2024-05-20T08:20:02.286695Z"
    }
   },
   "cell_type": "code",
   "source": "metabolome_corr_df[~metabolome_corr_df['in_HMDB_list']].sort_values(by='#bacteria_in_assosiation', ascending=False).plot.bar(x='metabolites', y='#bacteria_in_assosiation',figsize=(12,4))",
   "id": "367bfda6d85da915",
   "execution_count": 39,
   "outputs": []
  },
  {
   "metadata": {},
   "cell_type": "markdown",
   "source": "What do we know on the 24 metabolites (fecal from microbial origin according to HMDB) #TODO",
   "id": "1291f8ef198ea0bb"
  },
  {
   "metadata": {
    "ExecuteTime": {
     "end_time": "2024-05-20T08:20:04.210596Z",
     "start_time": "2024-05-20T08:20:04.203490Z"
    }
   },
   "cell_type": "code",
   "source": [
    "import re\n",
    "taxa_genus = taxa.rename(columns=lambda x: re.match('.*g__(.*)', x).group(1))"
   ],
   "id": "cf43330bc834ebef",
   "execution_count": 41,
   "outputs": []
  },
  {
   "metadata": {
    "ExecuteTime": {
     "end_time": "2024-05-20T08:20:04.224654Z",
     "start_time": "2024-05-20T08:20:04.211446Z"
    }
   },
   "cell_type": "code",
   "source": "metabolome_bacteria_p_values_fdr_correction = metabolome_bacteria_p_values_fdr_correction.rename(taxa_rename_to_genus.to_dict(), axis=0, level=1)",
   "id": "2e9fe623378e353a",
   "execution_count": 42,
   "outputs": []
  },
  {
   "metadata": {},
   "cell_type": "markdown",
   "source": [
    "sanity checks - for some significant correlation between microbiome-metabolome plot the relation across the samples \n",
    "see how much I believe this correlation analysis & how much it's effected by outliers. "
   ],
   "id": "4fc8af9f397ac56b"
  },
  {
   "metadata": {
    "ExecuteTime": {
     "end_time": "2024-05-20T08:20:04.365659Z",
     "start_time": "2024-05-20T08:20:04.225483Z"
    }
   },
   "cell_type": "code",
   "source": [
    "metabolite_1, microbiome_1 = metabolome_bacteria_significant_corr.sort_values(ascending=False).index[0]\n",
    "pd.concat([metabolite[metabolite_1], taxa_genus[microbiome_1]], axis=1).plot.scatter(x=microbiome_1, y=metabolite_1, figsize=(6,6), \n",
    "                                                                                     title = f'corr coef={round(metabolome_bacteria_significant_corr[(metabolite_1, microbiome_1)],2)}, p-value={\"{:.2e}\".format(metabolome_bacteria_p_values_fdr_correction[(metabolite_1, microbiome_1)])}')"
   ],
   "id": "627125997453dea4",
   "execution_count": 43,
   "outputs": []
  },
  {
   "metadata": {
    "ExecuteTime": {
     "end_time": "2024-05-20T08:20:04.493430Z",
     "start_time": "2024-05-20T08:20:04.366656Z"
    }
   },
   "cell_type": "code",
   "source": [
    "metabolite_1, microbiome_1 = metabolome_bacteria_significant_corr.sort_values(ascending=False).index[2]\n",
    "pd.concat([metabolite[metabolite_1], taxa_genus[microbiome_1]], axis=1).plot.scatter(x=microbiome_1, y=metabolite_1, figsize=(6,6), \n",
    "                                                                                     title = f'corr coef={round(metabolome_bacteria_significant_corr[(metabolite_1, microbiome_1)],2)}, p-value={\"{:.2e}\".format(metabolome_bacteria_p_values_fdr_correction[(metabolite_1, microbiome_1)])}')"
   ],
   "id": "ba161c6179693b0a",
   "execution_count": 44,
   "outputs": []
  },
  {
   "metadata": {
    "ExecuteTime": {
     "end_time": "2024-05-20T08:20:04.617705Z",
     "start_time": "2024-05-20T08:20:04.494271Z"
    }
   },
   "cell_type": "code",
   "source": [
    "outliers = taxa_genus[microbiome_1][taxa_genus[microbiome_1] > 0.008].index\n",
    "pd.concat([metabolite[metabolite_1].drop(outliers), taxa_genus[microbiome_1].drop(outliers)], axis=1).plot.scatter(x=microbiome_1, y=metabolite_1, figsize=(6,6), \n",
    "                                                                                     title = f'corr coef={round(metabolome_bacteria_significant_corr[(metabolite_1, microbiome_1)],2)}, p-value={\"{:.2e}\".format(metabolome_bacteria_p_values_fdr_correction[(metabolite_1, microbiome_1)])}')"
   ],
   "id": "b805c9374022bad8",
   "execution_count": 45,
   "outputs": []
  },
  {
   "metadata": {
    "ExecuteTime": {
     "end_time": "2024-05-20T08:20:04.620482Z",
     "start_time": "2024-05-20T08:20:04.618408Z"
    }
   },
   "cell_type": "code",
   "source": [
    "# metabolome_bacteria_corr_coefficient \n",
    "# metabolome_bacteria_p_values_fdr_correction"
   ],
   "id": "2013daa084c2b15f",
   "execution_count": 46,
   "outputs": []
  },
  {
   "metadata": {
    "ExecuteTime": {
     "end_time": "2024-05-20T08:20:04.624453Z",
     "start_time": "2024-05-20T08:20:04.621246Z"
    }
   },
   "cell_type": "code",
   "source": [
    "#  For unknown (without a name, and known) taxa, plot a scatter plot of the correlations to see if it’s due to some outliers or do I believe it. (metabolite vs. taxa across the 90 samples + in the title mention the correlation coefficient) \n",
    "\n",
    "# Plot also metabolite vs. taxa across the 90 samples of metabolite that are known to be microbial origin (the 5 I didn't got as significant)? what does it even mean? read a bit more?\n",
    "\n",
    "# The most interest question I think is why I didn't get the other 5 microbial origin metabolite as metabolite with correlation to microbiota?\n",
    "metabolites_group = metabolite.columns.intersection(metabolites_feces_from_microbial_origin_hmdb.unique()).difference(metabolome_bacteria_significant_corr.index.get_level_values(0))\n",
    "print(metabolites_group)"
   ],
   "id": "6d2f40c0b32d76a7",
   "execution_count": 47,
   "outputs": []
  },
  {
   "metadata": {},
   "cell_type": "code",
   "execution_count": null,
   "source": "",
   "id": "24bf734cc64e50d1",
   "outputs": []
  },
  {
   "metadata": {
    "ExecuteTime": {
     "end_time": "2024-05-20T08:20:04.630273Z",
     "start_time": "2024-05-20T08:20:04.625078Z"
    }
   },
   "cell_type": "code",
   "source": "hmdb_metadata.query('name in @metabolites_group').set_index('name')['description'].iloc[0]",
   "id": "8cdf2cf534541bbb",
   "execution_count": 48,
   "outputs": []
  },
  {
   "metadata": {},
   "cell_type": "markdown",
   "source": "Top 5 bacteria (that correlates with a lot of metabolites):  ",
   "id": "4432c654319105df"
  },
  {
   "metadata": {
    "ExecuteTime": {
     "end_time": "2024-05-20T08:20:04.635722Z",
     "start_time": "2024-05-20T08:20:04.630846Z"
    }
   },
   "cell_type": "code",
   "source": "metabolome_bacteria_significant_corr.groupby(axis=0, level=1).apply(lambda x: x.shape[0]).sort_values(ascending=False).iloc[:5].index.to_list()",
   "id": "e6436ca76d0066e1",
   "execution_count": 49,
   "outputs": []
  },
  {
   "metadata": {},
   "cell_type": "markdown",
   "source": [
    "Internet: \n",
    "Alistipes - Gram-negative genus in the phylum Bacteridota. Highly associated with our health. \n",
    " https://en.wikipedia.org/wiki/Alistipes\n",
    " https://www.sciencedirect.com/topics/immunology-and-microbiology/alistipes\n",
    " https://www.frontiersin.org/journals/immunology/articles/10.3389/fimmu.2020.00906/full\n",
    " Indeed involve in a lot of pathways:\n",
    "https://www.genome.jp/kegg-bin/show_organism?menu_type=pathway_maps&category=Alistipes\n"
   ],
   "id": "3b6e4b5d2f94bc8"
  },
  {
   "metadata": {},
   "cell_type": "markdown",
   "source": [
    "Our data: \n",
    "* per bacteria, show the relative-abundance across the 90 samples. (distribution)"
   ],
   "id": "6978407b95effce8"
  },
  {
   "metadata": {},
   "cell_type": "markdown",
   "source": "",
   "id": "6b80ce7b78c0b53f"
  },
  {
   "cell_type": "code",
   "source": [
    "sns.set_theme(rc={'figure.figsize':(20,14), 'xtick.labelsize':5, 'ytick.labelsize':5})\n",
    "sns.heatmap((metabolome_bacteria_p_values_fdr_correction.unstack() < 0.05).astype(int)).set(title='Heatmap significant or not correlation of Metabolite & Bacteria')"
   ],
   "metadata": {
    "collapsed": false,
    "ExecuteTime": {
     "end_time": "2024-05-20T08:20:05.861165Z",
     "start_time": "2024-05-20T08:20:04.636240Z"
    }
   },
   "id": "e133b2febbef7682",
   "execution_count": 50,
   "outputs": []
  },
  {
   "cell_type": "code",
   "source": [
    "sns.heatmap(metabolome_bacteria_significant_corr.unstack().astype(float)).set(title='Heatmap significant correlation of Metabolite & Bacteria')\n"
   ],
   "metadata": {
    "collapsed": false,
    "ExecuteTime": {
     "end_time": "2024-05-20T08:20:07.020922Z",
     "start_time": "2024-05-20T08:20:05.862059Z"
    }
   },
   "id": "6b3fccbffe475db",
   "execution_count": 51,
   "outputs": []
  }
 ],
 "metadata": {
  "kernelspec": {
   "display_name": "Python 3",
   "language": "python",
   "name": "python3"
  },
  "language_info": {
   "codemirror_mode": {
    "name": "ipython",
    "version": 2
   },
   "file_extension": ".py",
   "mimetype": "text/x-python",
   "name": "python",
   "nbconvert_exporter": "python",
   "pygments_lexer": "ipython2",
   "version": "2.7.6"
  }
 },
 "nbformat": 4,
 "nbformat_minor": 5
}
