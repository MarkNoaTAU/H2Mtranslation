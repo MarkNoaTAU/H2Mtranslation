{
 "cells": [
  {
   "cell_type": "markdown",
   "source": [
    "Basic analysis to iHMP_IBDMDB_2019. The overlap (21 metabolites) with OSA. "
   ],
   "metadata": {
    "collapsed": false
   },
   "id": "55984875b3b74231"
  },
  {
   "cell_type": "code",
   "source": [
    "import pandas as pd\n",
    "import numpy as np\n",
    "import scipy.stats as stats\n",
    "from statsmodels.stats.multitest import fdrcorrection\n",
    "import matplotlib.pyplot as plt\n",
    "import seaborn as sns\n",
    "from preprocessors import MetabolitePreprocessor\n"
   ],
   "metadata": {
    "collapsed": false,
    "ExecuteTime": {
     "end_time": "2024-05-20T08:19:29.942608Z",
     "start_time": "2024-05-20T08:19:29.935908Z"
    }
   },
   "id": "3f8cbdcd46923338",
   "execution_count": 1,
   "outputs": []
  },
  {
   "cell_type": "markdown",
   "source": [
    "Metabolite mapped to HMDB - v. Taxa mapped using GTDB - v.\n",
    "This research data is HMP2 cohort - longitudinal samples from IBD patient and control.\n",
    "The metabolom is untargeted. Microbiome is shotgun. \n",
    "There are 382 samples for 105 patient. For control we have 104 samples for 26 subjects.\n",
    "We will take only control and all samples (ignoring longitudinal). \n"
   ],
   "metadata": {
    "collapsed": false
   },
   "id": "2ac452edd76193ce"
  },
  {
   "cell_type": "code",
   "source": [
    "human_db_path = '/home/noa/lab_code/microbiome-metabolome-curated-data/data/processed_data'\n",
    "dataset = 'iHMP_IBDMDB_2019'\n",
    "\n",
    "metadata = pd.read_csv(f'{human_db_path}/{dataset}/metadata.tsv' ,sep='\\t')\n",
    "metabolite = pd.read_csv(f'{human_db_path}/{dataset}/mtb.tsv' ,sep='\\t')\n",
    "metabolite_to_hmdb = pd.read_csv(f'{human_db_path}/{dataset}/mtb.map.tsv' ,sep='\\t')\n",
    "taxa = pd.read_csv(f'{human_db_path}/{dataset}/genera.tsv' ,sep='\\t')"
   ],
   "metadata": {
    "collapsed": false,
    "ExecuteTime": {
     "end_time": "2024-05-20T08:19:51.834037Z",
     "start_time": "2024-05-20T08:19:30.154735Z"
    }
   },
   "id": "9edfb48aa667670c",
   "execution_count": 2,
   "outputs": []
  },
  {
   "cell_type": "code",
   "source": [
    "metabolite_to_hmdb = metabolite_to_hmdb.set_index('Compound')['HMDB']"
   ],
   "metadata": {
    "collapsed": false,
    "ExecuteTime": {
     "end_time": "2024-05-20T08:19:51.841874Z",
     "start_time": "2024-05-20T08:19:51.835005Z"
    }
   },
   "id": "5b276fca982f5cfe",
   "execution_count": 3,
   "outputs": []
  },
  {
   "cell_type": "markdown",
   "source": [
    "Metadata overview: Study.Group:\n",
    "CD - Crohn's disease\n",
    "UC - ulcreative colitis. \n",
    "nonIBD - control "
   ],
   "metadata": {
    "collapsed": false
   },
   "id": "5176a53f2120544c"
  },
  {
   "cell_type": "code",
   "source": [
    "# Filter to control samples only:\n",
    "control_samples_ids = metadata[metadata['Study.Group'] == 'nonIBD'].Sample.unique()\n",
    "taxa = taxa[taxa.Sample.isin(control_samples_ids)]\n",
    "metabolite = metabolite[metabolite.Sample.isin(control_samples_ids)]\n"
   ],
   "metadata": {
    "collapsed": false,
    "ExecuteTime": {
     "end_time": "2024-05-20T08:19:51.879157Z",
     "start_time": "2024-05-20T08:19:51.842514Z"
    }
   },
   "id": "3daf5191d082d5de",
   "execution_count": 4,
   "outputs": []
  },
  {
   "metadata": {},
   "cell_type": "markdown",
   "source": [
    "Taxa is in genus level in relative abundance. \n",
    "No need to normalize, but do need to filter rare taxa. "
   ],
   "id": "2a9d7c3669aaa18a"
  },
  {
   "metadata": {},
   "cell_type": "markdown",
   "source": "Filter rare taxa according to the following criteria: we want that the at least 10% of the samples will have relative-abundance larger than 0.001.",
   "id": "cb47dee0bd53bbd5"
  },
  {
   "metadata": {
    "ExecuteTime": {
     "end_time": "2024-05-20T08:19:51.892382Z",
     "start_time": "2024-05-20T08:19:51.880241Z"
    }
   },
   "cell_type": "code",
   "source": [
    "# Filter rare taxa (taxa have non-zero values in >10% of the samples)\")\n",
    "# Filter rare taxa according to the following criteria: we want that the at least 10% of the samples will have relative-abundance larger than 0.001.\n",
    "\n",
    "taxa = taxa.set_index('Sample')\n",
    "verbose=False\n",
    "percentage=10\n",
    "abundance_threshold=0.001\n",
    "min_number_of_samples = int((taxa.shape[0] / 100) * percentage)\n",
    "print(\n",
    "    f\"The number of genus/features that have relative abundance values larger then {abundance_threshold} on > {percentage} % samples are: \"\n",
    "    f\"{(((taxa > abundance_threshold).sum(axis=0)) >= min_number_of_samples).sum()}\"\n",
    "    f\" out of {taxa.shape[1]} genus/features before-filtering.\")\n",
    "\n",
    "non_rare_columns = taxa.columns[\n",
    "    ((taxa > abundance_threshold).sum(axis=0)) >= min_number_of_samples]\n",
    "taxa = taxa[non_rare_columns]"
   ],
   "id": "7992cf5e3c4b0363",
   "execution_count": 5,
   "outputs": []
  },
  {
   "metadata": {},
   "cell_type": "markdown",
   "source": [
    "Load metabolite data.\n",
    "Map compound to HMDB (article metabolite name in the original data). As it can be many to one, we will sum according to HMDB.\n",
    "1. Map metabolites compounds to HMDB name convention (Keep only the once we recognize)\n",
    "2. Sum the abundance of compounds map to the same HMDB metabolite. "
   ],
   "id": "2ab040af54418cd3"
  },
  {
   "cell_type": "code",
   "source": [
    "metabolite = metabolite.set_index('Sample')"
   ],
   "metadata": {
    "collapsed": false,
    "ExecuteTime": {
     "end_time": "2024-05-20T08:19:51.966153Z",
     "start_time": "2024-05-20T08:19:51.893030Z"
    }
   },
   "id": "ab83413d762bc0d3",
   "execution_count": 6,
   "outputs": []
  },
  {
   "cell_type": "code",
   "source": [
    "# metabolite.columns.isin(metabolite_to_hmdb.index).all()\n",
    "metabolite = metabolite[metabolite.columns.intersection(metabolite_to_hmdb.dropna().index)].rename(columns=metabolite_to_hmdb.dropna())\n",
    "metabolite = metabolite.groupby(by=metabolite.columns, axis=1).sum()\n",
    "print(metabolite.shape)\n",
    "# Rename from HMDB to meangful naming... \n",
    "map_hmdb_id_to_name = pd.read_pickle('//map_hmdb_id_to_name.pkl')\n",
    "hmdb_metadata = pd.read_pickle('//hmdb_name_and_description.pkl')\n",
    "metabolite = metabolite.rename(columns=map_hmdb_id_to_name)\n"
   ],
   "metadata": {
    "collapsed": false,
    "ExecuteTime": {
     "end_time": "2024-05-20T08:19:52.017516Z",
     "start_time": "2024-05-20T08:19:51.966979Z"
    }
   },
   "id": "b76f92257fe83009",
   "execution_count": 7,
   "outputs": []
  },
  {
   "metadata": {},
   "cell_type": "markdown",
   "source": "Filter rare metabolite",
   "id": "8779a1141ddd3612"
  },
  {
   "cell_type": "code",
   "source": [
    "percentage = 85\n",
    "min_number_of_samples = int((metabolite.shape[0] / 100) * percentage)\n",
    "print(f\"min_number_of_samples: {min_number_of_samples}\")\n",
    "print(f\"metabolite shape: {metabolite.shape}\")"
   ],
   "metadata": {
    "collapsed": false,
    "ExecuteTime": {
     "end_time": "2024-05-20T08:19:52.021138Z",
     "start_time": "2024-05-20T08:19:52.018375Z"
    }
   },
   "id": "b45c384ef33ca98",
   "execution_count": 8,
   "outputs": []
  },
  {
   "cell_type": "code",
   "source": [
    "metabolite = metabolite.fillna(0)\n",
    "non_rare_columns = metabolite.columns[((metabolite.shape[0] - (\n",
    "            metabolite.round(decimals=8) == 0).sum(axis=0)) >= min_number_of_samples)]\n",
    "print(f\"There are {len(non_rare_columns)} metabolite with sufficient number of samples \"\n",
    "      f\"(>{percentage}%) out of {metabolite.shape[1]} metabolites.\")\n",
    "metabolite= metabolite[non_rare_columns]"
   ],
   "metadata": {
    "collapsed": false,
    "ExecuteTime": {
     "end_time": "2024-05-20T08:19:52.025706Z",
     "start_time": "2024-05-20T08:19:52.021764Z"
    }
   },
   "id": "968094ac117f9150",
   "execution_count": 9,
   "outputs": []
  },
  {
   "metadata": {},
   "cell_type": "markdown",
   "source": "Pre-processing metabolite data:",
   "id": "98d9ff49f6f86325"
  },
  {
   "cell_type": "code",
   "source": [
    "min_value_per_metabolite = metabolite.replace(to_replace=0, value=np.nan).min(axis=0) / 2\n",
    "metabolite.replace(to_replace=np.nan, value=0, inplace=True)\n",
    "metabolite.replace(to_replace=0, value=min_value_per_metabolite, inplace=True)\n",
    "metabolite = metabolite.apply(lambda x: np.log(x + 1))\n",
    "metabolite.head()\n"
   ],
   "metadata": {
    "collapsed": false,
    "ExecuteTime": {
     "end_time": "2024-05-20T08:19:52.110841Z",
     "start_time": "2024-05-20T08:19:52.026348Z"
    }
   },
   "id": "859ee93f4d1a4a74",
   "execution_count": 10,
   "outputs": []
  },
  {
   "cell_type": "markdown",
   "source": [
    "Correlation test:\n",
    "For each metabolite independently, and for each taxa independently, (aka for each (metabolite, genus) tuple) calculate correlation across samples. \n",
    "\n",
    "Kendall's tau is preferred over Spearman correlation when: (a) we want robustness to outliers (b) small number of samples (c) many rank ties. \n",
    "So I think it may be good for our data. "
   ],
   "metadata": {
    "collapsed": false
   },
   "id": "5050457ec78b194f"
  },
  {
   "cell_type": "code",
   "source": [
    "# Do we have 'Unknown' in our taxa? no. They drop unknown - is it problematic? As in mice we do have unknown... But it's really different %. "
   ],
   "metadata": {
    "collapsed": false,
    "ExecuteTime": {
     "end_time": "2024-05-20T08:19:52.115764Z",
     "start_time": "2024-05-20T08:19:52.113487Z"
    }
   },
   "id": "f2799be6efe820f8",
   "execution_count": 11,
   "outputs": []
  },
  {
   "cell_type": "code",
   "source": [
    "metabolome_bacteria_corr_coefficient = pd.DataFrame(index=taxa.columns, columns=metabolite.columns)\n",
    "metabolome_bacteria_p_values = pd.DataFrame(index=taxa.columns, columns=metabolite.columns)\n",
    "\n",
    "for metabolome in metabolite.columns:\n",
    "    for bacteria in taxa.columns:\n",
    "        coefficient, p  = stats.kendalltau(metabolite[metabolome], taxa[bacteria])\n",
    "        metabolome_bacteria_corr_coefficient.loc[bacteria, metabolome] = coefficient\n",
    "        metabolome_bacteria_p_values.loc[bacteria, metabolome] = p\n",
    "        "
   ],
   "metadata": {
    "collapsed": false,
    "ExecuteTime": {
     "end_time": "2024-05-20T08:20:00.607814Z",
     "start_time": "2024-05-20T08:19:52.116581Z"
    }
   },
   "id": "97fc12ee20cdbb43",
   "execution_count": 12,
   "outputs": []
  },
  {
   "cell_type": "code",
   "source": [
    "# With multi-comparison correction (FDR)\n",
    "# what to do with nans?\n",
    "p_values = metabolome_bacteria_p_values.stack()\n",
    "_, p_values_corrected = fdrcorrection(p_values)\n",
    "metabolome_bacteria_p_values_fdr_correction = pd.Series(p_values_corrected, index=p_values.index).unstack()"
   ],
   "metadata": {
    "collapsed": false,
    "ExecuteTime": {
     "end_time": "2024-05-20T08:20:00.638396Z",
     "start_time": "2024-05-20T08:20:00.608851Z"
    }
   },
   "id": "95ac35a75fe0527a",
   "execution_count": 13,
   "outputs": []
  },
  {
   "cell_type": "code",
   "source": [
    "metabolome_bacteria_p_values_fdr_correction"
   ],
   "metadata": {
    "collapsed": false,
    "ExecuteTime": {
     "end_time": "2024-05-20T08:20:00.647634Z",
     "start_time": "2024-05-20T08:20:00.639431Z"
    }
   },
   "id": "5c2beaa1dc06c925",
   "execution_count": 14,
   "outputs": []
  },
  {
   "cell_type": "code",
   "source": [
    "metabolome_bacteria_corr_coefficient = metabolome_bacteria_corr_coefficient.T.stack()\n",
    "metabolome_bacteria_p_values_fdr_correction = metabolome_bacteria_p_values_fdr_correction.T.stack()\n",
    "metabolome_bacteria_significant_corr = metabolome_bacteria_corr_coefficient[metabolome_bacteria_p_values_fdr_correction < 0.05]\n"
   ],
   "metadata": {
    "collapsed": false,
    "ExecuteTime": {
     "end_time": "2024-05-20T08:20:00.653147Z",
     "start_time": "2024-05-20T08:20:00.648132Z"
    }
   },
   "id": "758f172925e44a5b",
   "execution_count": 15,
   "outputs": []
  },
  {
   "cell_type": "code",
   "source": [
    "print(f\"There are {metabolome_bacteria_significant_corr.shape[0]} significant couples out of {metabolome_bacteria_corr_coefficient.shape[0]} \"\n",
    "      f\" ({taxa.shape[1]} genus, {metabolite.shape[1]} metabolome) \"\n",
    "      f\"after FDR correction (aka {round(100 * metabolome_bacteria_significant_corr.shape[0]/ metabolome_bacteria_corr_coefficient.shape[0] ,2)} %.)\")"
   ],
   "metadata": {
    "collapsed": false,
    "ExecuteTime": {
     "end_time": "2024-05-20T08:20:00.663599Z",
     "start_time": "2024-05-20T08:20:00.660891Z"
    }
   },
   "id": "32435fb300e96aa",
   "execution_count": 17,
   "outputs": []
  },
  {
   "cell_type": "code",
   "source": [
    "metabolome_bacteria_significant_corr.sort_values(ascending=False)\n"
   ],
   "metadata": {
    "collapsed": false,
    "ExecuteTime": {
     "end_time": "2024-05-20T08:20:00.669102Z",
     "start_time": "2024-05-20T08:20:00.664174Z"
    }
   },
   "id": "ae2250e8ec818132",
   "execution_count": 18,
   "outputs": []
  },
  {
   "cell_type": "code",
   "source": [
    "# metabolome_bacteria_significant_corr.to_pickle(f'{dataset}/metabolome_bacteria_significant_corr_kendall-tau.pkl')\n",
    "# metabolome_bacteria_corr_coefficient.to_pickle(f'{dataset}/metabolome_bacteria_corr_coefficient_kendall-tau.pkl')\n",
    "# metabolome_bacteria_p_values_fdr_correction.to_pickle(f'{dataset}/metabolome_bacteria_p_values_fdr_correction_kendall-tau.pkl')"
   ],
   "metadata": {
    "collapsed": false,
    "ExecuteTime": {
     "end_time": "2024-05-20T08:20:00.671203Z",
     "start_time": "2024-05-20T08:20:00.669688Z"
    }
   },
   "id": "f820ca4eb5545ad2",
   "execution_count": 19,
   "outputs": []
  },
  {
   "cell_type": "code",
   "source": [
    "taxa_rename_to_genus = pd.Series(metabolome_bacteria_significant_corr.index.get_level_values(1), index=metabolome_bacteria_significant_corr.index.get_level_values(1)).str.extract('.*g__(.*)').squeeze()"
   ],
   "metadata": {
    "collapsed": false,
    "ExecuteTime": {
     "end_time": "2024-05-20T08:20:00.675870Z",
     "start_time": "2024-05-20T08:20:00.671942Z"
    }
   },
   "id": "8df14df90b759dfc",
   "execution_count": 20,
   "outputs": []
  },
  {
   "cell_type": "code",
   "source": [
    "metabolome_bacteria_significant_corr = metabolome_bacteria_significant_corr.rename(taxa_rename_to_genus.to_dict(), axis=0, level=1)"
   ],
   "metadata": {
    "collapsed": false,
    "ExecuteTime": {
     "end_time": "2024-05-20T08:20:00.680933Z",
     "start_time": "2024-05-20T08:20:00.676458Z"
    }
   },
   "id": "6c95715f2bff32ea",
   "execution_count": 21,
   "outputs": []
  },
  {
   "metadata": {
    "ExecuteTime": {
     "end_time": "2024-05-20T08:20:00.682804Z",
     "start_time": "2024-05-20T08:20:00.681544Z"
    }
   },
   "cell_type": "code",
   "source": "",
   "id": "cae20ccdd2c7fdaf",
   "execution_count": 21,
   "outputs": []
  },
  {
   "metadata": {
    "ExecuteTime": {
     "end_time": "2024-05-20T08:20:00.687286Z",
     "start_time": "2024-05-20T08:20:00.683617Z"
    }
   },
   "cell_type": "code",
   "source": "metabolome_bacteria_significant_corr.head()",
   "id": "e9a9ac913c9da91e",
   "execution_count": 22,
   "outputs": []
  },
  {
   "cell_type": "code",
   "source": [
    "plt.rc('xtick', labelsize=10)\n",
    "plt.rc('ytick', labelsize=10)\n",
    "\n",
    "top_metabolite = metabolome_bacteria_significant_corr.sort_values(ascending=False).index[0][0]\n",
    "idx = pd.IndexSlice\n",
    "metabolome_bacteria_significant_corr.loc[idx[top_metabolite, :]].sort_values(ascending=False).plot.bar(figsize=(4,3), title=top_metabolite)"
   ],
   "metadata": {
    "collapsed": false,
    "ExecuteTime": {
     "end_time": "2024-05-20T08:20:00.907766Z",
     "start_time": "2024-05-20T08:20:00.688127Z"
    }
   },
   "id": "10b342c3871a58d8",
   "execution_count": 23,
   "outputs": []
  },
  {
   "cell_type": "code",
   "source": [
    "bottom_metabolite = metabolome_bacteria_significant_corr.sort_values(ascending=False).index[-1][0]\n",
    "metabolome_bacteria_significant_corr.loc[idx[bottom_metabolite, :]].sort_values(ascending=False).plot.bar(figsize=(12,6), title=bottom_metabolite)"
   ],
   "metadata": {
    "collapsed": false,
    "ExecuteTime": {
     "end_time": "2024-05-20T08:20:01.175908Z",
     "start_time": "2024-05-20T08:20:00.908866Z"
    }
   },
   "id": "d53bd047fbe1b28c",
   "execution_count": 24,
   "outputs": []
  },
  {
   "metadata": {
    "ExecuteTime": {
     "end_time": "2024-05-20T08:20:01.180352Z",
     "start_time": "2024-05-20T08:20:01.176962Z"
    }
   },
   "cell_type": "code",
   "source": [
    "# How many bacteria are significantly correlated with metabolites?\n",
    "print(f\"We have {len(metabolome_bacteria_significant_corr.index.get_level_values(1).unique())} microbes with significant correlation to metabolite out of \"\n",
    "      f\"{taxa.shape[1]} microbes ({round(len(metabolome_bacteria_significant_corr.index.get_level_values(1).unique()) / taxa.shape[1] * 100)}%)\")"
   ],
   "id": "bf3d3dcc5cf32a33",
   "execution_count": 25,
   "outputs": []
  },
  {
   "cell_type": "code",
   "source": [
    "# Search for significant bacteria:\n",
    "# Number of metabolites each bacteria significantly associate with\n",
    "metabolome_bacteria_significant_corr.groupby(axis=0, level=1).apply(lambda x: x.shape[0]).sort_values(ascending=False)"
   ],
   "metadata": {
    "collapsed": false,
    "ExecuteTime": {
     "end_time": "2024-05-20T08:20:01.187633Z",
     "start_time": "2024-05-20T08:20:01.181040Z"
    }
   },
   "id": "40911671a01583c2",
   "execution_count": 26,
   "outputs": []
  },
  {
   "metadata": {
    "ExecuteTime": {
     "end_time": "2024-05-20T08:20:01.194947Z",
     "start_time": "2024-05-20T08:20:01.188235Z"
    }
   },
   "cell_type": "code",
   "source": "metabolome_bacteria_significant_corr.groupby(axis=0, level=1).apply(lambda x: x.shape[0]).describe()",
   "id": "2184ca4fc22ad27d",
   "execution_count": 27,
   "outputs": []
  },
  {
   "metadata": {
    "ExecuteTime": {
     "end_time": "2024-05-20T08:20:01.207794Z",
     "start_time": "2024-05-20T08:20:01.197322Z"
    }
   },
   "cell_type": "code",
   "source": [
    "# Number of bacteria each metabolites significantly associate with\n",
    "metabolome_bacteria_significant_corr.groupby(axis=0, level=0).apply(lambda x: x.shape[0]).sort_values(ascending=False).describe()"
   ],
   "id": "d72a1e89985ae835",
   "execution_count": 28,
   "outputs": []
  },
  {
   "metadata": {},
   "cell_type": "markdown",
   "source": "We can see that the #metabolites that correlate with the bacteria is highley divers (std 17) where most bacteria effect up to 4 metabolites, while some correlates with up to 86. ",
   "id": "82c099a28057160d"
  },
  {
   "metadata": {
    "ExecuteTime": {
     "end_time": "2024-05-20T08:20:01.210839Z",
     "start_time": "2024-05-20T08:20:01.208398Z"
    }
   },
   "cell_type": "code",
   "source": [
    "# How many metabolism highly-derived from bacteria over-all the metabolites in the DB?\n",
    "print(f\"We have {len(metabolome_bacteria_significant_corr.index.get_level_values(0).unique())} metabolite with significant correlation to microbiome out of \"\n",
    "      f\"{metabolite.shape[1]} metabolites ({round(len(metabolome_bacteria_significant_corr.index.get_level_values(0).unique()) / metabolite.shape[1] * 100)}%)\")"
   ],
   "id": "fc6d65c5ce6a357e",
   "execution_count": 29,
   "outputs": []
  },
  {
   "metadata": {},
   "cell_type": "markdown",
   "source": "Number of bacteria each metabolite have significant correlation with:",
   "id": "7b1147a6bde85da2"
  },
  {
   "metadata": {
    "ExecuteTime": {
     "end_time": "2024-05-20T08:20:01.221099Z",
     "start_time": "2024-05-20T08:20:01.211386Z"
    }
   },
   "cell_type": "code",
   "source": "metabolome_bacteria_significant_corr.groupby(axis=0, level=0).apply(lambda x: x.shape[0]).sort_values(ascending=False).describe()\n",
   "id": "f4a1acb2a40980ed",
   "execution_count": 30,
   "outputs": []
  },
  {
   "metadata": {},
   "cell_type": "markdown",
   "source": "we see most metabolites have 3-11 significantly associate (kendall-tau) bacteria.",
   "id": "fe6326121858f4e2"
  },
  {
   "cell_type": "code",
   "source": [
    "top_bacteria = metabolome_bacteria_significant_corr.groupby(axis=0, level=1).apply(lambda x: x.shape[0]).idxmax()\n",
    "metabolome_bacteria_significant_corr.loc[idx[:, top_bacteria]].sort_values(ascending=False).plot.bar(figsize=(16,6), title=f'{top_bacteria} significant correlation to metabolites')\n"
   ],
   "metadata": {
    "collapsed": false,
    "ExecuteTime": {
     "end_time": "2024-05-20T08:20:01.958910Z",
     "start_time": "2024-05-20T08:20:01.221674Z"
    }
   },
   "id": "a4494e8e5a67b07",
   "execution_count": 31,
   "outputs": []
  },
  {
   "metadata": {
    "ExecuteTime": {
     "end_time": "2024-05-20T08:20:01.964453Z",
     "start_time": "2024-05-20T08:20:01.959880Z"
    }
   },
   "cell_type": "code",
   "source": [
    "metabolites_feces_from_microbial_origin_hmdb = pd.read_csv('//metabolites_feces_from_microbial_origin_hmdb')\n",
    "metabolites_feces_from_microbial_origin_hmdb = metabolites_feces_from_microbial_origin_hmdb.set_index('HMDB_ID')['NAME']"
   ],
   "id": "99dac08455473965",
   "execution_count": 32,
   "outputs": []
  },
  {
   "metadata": {},
   "cell_type": "markdown",
   "source": "Compare the overlap between the metabolites that we have find as significantly-correlated with microbiome and HMDB list of 117 feces metabolite that origin from microbial.",
   "id": "6148315acf009160"
  },
  {
   "metadata": {
    "ExecuteTime": {
     "end_time": "2024-05-20T08:20:01.968667Z",
     "start_time": "2024-05-20T08:20:01.965197Z"
    }
   },
   "cell_type": "code",
   "source": "metabolome_bacteria_significant_corr.index.get_level_values(0).unique().intersection(metabolites_feces_from_microbial_origin_hmdb.unique())",
   "id": "d1e41cd022f54d53",
   "execution_count": 33,
   "outputs": []
  },
  {
   "metadata": {
    "ExecuteTime": {
     "end_time": "2024-05-20T08:20:01.972446Z",
     "start_time": "2024-05-20T08:20:01.969247Z"
    }
   },
   "cell_type": "code",
   "source": "metabolome_bacteria_significant_corr.index.get_level_values(0).unique().intersection(metabolites_feces_from_microbial_origin_hmdb.unique()).shape[0]",
   "id": "e3776b303d25896c",
   "execution_count": 34,
   "outputs": []
  },
  {
   "metadata": {},
   "cell_type": "markdown",
   "source": "How many of the feces metabolite that origin from microbial (HMDB list) are in our datasets (with enough data?)",
   "id": "a7b88210650c0b47"
  },
  {
   "metadata": {
    "ExecuteTime": {
     "end_time": "2024-05-20T08:20:01.975884Z",
     "start_time": "2024-05-20T08:20:01.973105Z"
    }
   },
   "cell_type": "code",
   "source": "metabolite.columns.intersection(metabolites_feces_from_microbial_origin_hmdb.unique()).shape[0]",
   "id": "8422e996ac21232e",
   "execution_count": 35,
   "outputs": []
  },
  {
   "metadata": {
    "ExecuteTime": {
     "end_time": "2024-05-20T08:20:01.978721Z",
     "start_time": "2024-05-20T08:20:01.976546Z"
    }
   },
   "cell_type": "code",
   "source": "24/28",
   "id": "48f7ad8a1c9446d3",
   "execution_count": 36,
   "outputs": []
  },
  {
   "metadata": {
    "ExecuteTime": {
     "end_time": "2024-05-20T08:20:02.002857Z",
     "start_time": "2024-05-20T08:20:01.979487Z"
    }
   },
   "cell_type": "code",
   "source": [
    "metabolome_corr_df = pd.DataFrame({'#bacteria_in_assosiation': metabolome_bacteria_significant_corr.groupby(axis=0, level=0).apply(lambda x: x.shape[0]).sort_values(ascending=False), 'in_HMDB_list': pd.Series(metabolite.columns, index=metabolite.columns).apply(lambda x: x in metabolites_feces_from_microbial_origin_hmdb.unique())})\n",
    "metabolome_corr_df = metabolome_corr_df.reset_index(drop=False).rename(columns={'index': 'metabolites'})\n"
   ],
   "id": "17778701d79a89fc",
   "execution_count": 37,
   "outputs": []
  },
  {
   "metadata": {
    "ExecuteTime": {
     "end_time": "2024-05-20T08:20:02.285518Z",
     "start_time": "2024-05-20T08:20:02.003506Z"
    }
   },
   "cell_type": "code",
   "source": "metabolome_corr_df[metabolome_corr_df['in_HMDB_list']].sort_values(by='#bacteria_in_assosiation', ascending=False).plot.bar(x='metabolites', y='#bacteria_in_assosiation',figsize=(6,4))",
   "id": "352f55b67e57fa44",
   "execution_count": 38,
   "outputs": []
  },
  {
   "metadata": {
    "ExecuteTime": {
     "end_time": "2024-05-20T08:20:04.200393Z",
     "start_time": "2024-05-20T08:20:02.286695Z"
    }
   },
   "cell_type": "code",
   "source": "metabolome_corr_df[~metabolome_corr_df['in_HMDB_list']].sort_values(by='#bacteria_in_assosiation', ascending=False).plot.bar(x='metabolites', y='#bacteria_in_assosiation',figsize=(12,4))",
   "id": "367bfda6d85da915",
   "execution_count": 39,
   "outputs": []
  },
  {
   "metadata": {},
   "cell_type": "markdown",
   "source": "What do we know on the 24 metabolites (fecal from microbial origin according to HMDB) #TODO",
   "id": "1291f8ef198ea0bb"
  },
  {
   "metadata": {
    "ExecuteTime": {
     "end_time": "2024-05-20T08:20:04.210596Z",
     "start_time": "2024-05-20T08:20:04.203490Z"
    }
   },
   "cell_type": "code",
   "source": [
    "import re\n",
    "taxa_genus = taxa.rename(columns=lambda x: re.match('.*g__(.*)', x).group(1))"
   ],
   "id": "cf43330bc834ebef",
   "execution_count": 41,
   "outputs": []
  },
  {
   "metadata": {
    "ExecuteTime": {
     "end_time": "2024-05-20T08:20:04.224654Z",
     "start_time": "2024-05-20T08:20:04.211446Z"
    }
   },
   "cell_type": "code",
   "source": "metabolome_bacteria_p_values_fdr_correction = metabolome_bacteria_p_values_fdr_correction.rename(taxa_rename_to_genus.to_dict(), axis=0, level=1)",
   "id": "2e9fe623378e353a",
   "execution_count": 42,
   "outputs": []
  },
  {
   "metadata": {},
   "cell_type": "markdown",
   "source": [
    "sanity checks - for some significant correlation between microbiome-metabolome plot the relation across the samples \n",
    "see how much I believe this correlation analysis & how much it's effected by outliers. "
   ],
   "id": "4fc8af9f397ac56b"
  },
  {
   "metadata": {
    "ExecuteTime": {
     "end_time": "2024-05-20T08:20:04.365659Z",
     "start_time": "2024-05-20T08:20:04.225483Z"
    }
   },
   "cell_type": "code",
   "source": [
    "metabolite_1, microbiome_1 = metabolome_bacteria_significant_corr.sort_values(ascending=False).index[0]\n",
    "pd.concat([metabolite[metabolite_1], taxa_genus[microbiome_1]], axis=1).plot.scatter(x=microbiome_1, y=metabolite_1, figsize=(6,6), \n",
    "                                                                                     title = f'corr coef={round(metabolome_bacteria_significant_corr[(metabolite_1, microbiome_1)],2)}, p-value={\"{:.2e}\".format(metabolome_bacteria_p_values_fdr_correction[(metabolite_1, microbiome_1)])}')"
   ],
   "id": "627125997453dea4",
   "execution_count": 43,
   "outputs": []
  },
  {
   "metadata": {
    "ExecuteTime": {
     "end_time": "2024-05-20T08:20:04.493430Z",
     "start_time": "2024-05-20T08:20:04.366656Z"
    }
   },
   "cell_type": "code",
   "source": [
    "metabolite_1, microbiome_1 = metabolome_bacteria_significant_corr.sort_values(ascending=False).index[2]\n",
    "pd.concat([metabolite[metabolite_1], taxa_genus[microbiome_1]], axis=1).plot.scatter(x=microbiome_1, y=metabolite_1, figsize=(6,6), \n",
    "                                                                                     title = f'corr coef={round(metabolome_bacteria_significant_corr[(metabolite_1, microbiome_1)],2)}, p-value={\"{:.2e}\".format(metabolome_bacteria_p_values_fdr_correction[(metabolite_1, microbiome_1)])}')"
   ],
   "id": "ba161c6179693b0a",
   "execution_count": 44,
   "outputs": []
  },
  {
   "metadata": {
    "ExecuteTime": {
     "end_time": "2024-05-20T08:20:04.617705Z",
     "start_time": "2024-05-20T08:20:04.494271Z"
    }
   },
   "cell_type": "code",
   "source": [
    "outliers = taxa_genus[microbiome_1][taxa_genus[microbiome_1] > 0.008].index\n",
    "pd.concat([metabolite[metabolite_1].drop(outliers), taxa_genus[microbiome_1].drop(outliers)], axis=1).plot.scatter(x=microbiome_1, y=metabolite_1, figsize=(6,6), \n",
    "                                                                                     title = f'corr coef={round(metabolome_bacteria_significant_corr[(metabolite_1, microbiome_1)],2)}, p-value={\"{:.2e}\".format(metabolome_bacteria_p_values_fdr_correction[(metabolite_1, microbiome_1)])}')"
   ],
   "id": "b805c9374022bad8",
   "execution_count": 45,
   "outputs": []
  },
  {
   "metadata": {
    "ExecuteTime": {
     "end_time": "2024-05-20T08:20:04.620482Z",
     "start_time": "2024-05-20T08:20:04.618408Z"
    }
   },
   "cell_type": "code",
   "source": [
    "# metabolome_bacteria_corr_coefficient \n",
    "# metabolome_bacteria_p_values_fdr_correction"
   ],
   "id": "2013daa084c2b15f",
   "execution_count": 46,
   "outputs": []
  },
  {
   "metadata": {
    "ExecuteTime": {
     "end_time": "2024-05-20T08:20:04.624453Z",
     "start_time": "2024-05-20T08:20:04.621246Z"
    }
   },
   "cell_type": "code",
   "source": [
    "#  For unknown (without a name, and known) taxa, plot a scatter plot of the correlations to see if it’s due to some outliers or do I believe it. (metabolite vs. taxa across the 90 samples + in the title mention the correlation coefficient) \n",
    "\n",
    "# Plot also metabolite vs. taxa across the 90 samples of metabolite that are known to be microbial origin (the 5 I didn't got as significant)? what does it even mean? read a bit more?\n",
    "\n",
    "# The most interest question I think is why I didn't get the other 5 microbial origin metabolite as metabolite with correlation to microbiota?\n",
    "metabolites_group = metabolite.columns.intersection(metabolites_feces_from_microbial_origin_hmdb.unique()).difference(metabolome_bacteria_significant_corr.index.get_level_values(0))\n",
    "print(metabolites_group)"
   ],
   "id": "6d2f40c0b32d76a7",
   "execution_count": 47,
   "outputs": []
  },
  {
   "metadata": {},
   "cell_type": "code",
   "execution_count": null,
   "source": "",
   "id": "24bf734cc64e50d1",
   "outputs": []
  },
  {
   "metadata": {
    "ExecuteTime": {
     "end_time": "2024-05-20T08:20:04.630273Z",
     "start_time": "2024-05-20T08:20:04.625078Z"
    }
   },
   "cell_type": "code",
   "source": "hmdb_metadata.query('name in @metabolites_group').set_index('name')['description'].iloc[0]",
   "id": "8cdf2cf534541bbb",
   "execution_count": 48,
   "outputs": []
  },
  {
   "metadata": {},
   "cell_type": "markdown",
   "source": "Top 5 bacteria (that correlates with a lot of metabolites):  ",
   "id": "4432c654319105df"
  },
  {
   "metadata": {
    "ExecuteTime": {
     "end_time": "2024-05-20T08:20:04.635722Z",
     "start_time": "2024-05-20T08:20:04.630846Z"
    }
   },
   "cell_type": "code",
   "source": "metabolome_bacteria_significant_corr.groupby(axis=0, level=1).apply(lambda x: x.shape[0]).sort_values(ascending=False).iloc[:5].index.to_list()",
   "id": "e6436ca76d0066e1",
   "execution_count": 49,
   "outputs": []
  },
  {
   "metadata": {},
   "cell_type": "markdown",
   "source": [
    "Internet: \n",
    "Alistipes - Gram-negative genus in the phylum Bacteridota. Highly associated with our health. \n",
    " https://en.wikipedia.org/wiki/Alistipes\n",
    " https://www.sciencedirect.com/topics/immunology-and-microbiology/alistipes\n",
    " https://www.frontiersin.org/journals/immunology/articles/10.3389/fimmu.2020.00906/full\n",
    " Indeed involve in a lot of pathways:\n",
    "https://www.genome.jp/kegg-bin/show_organism?menu_type=pathway_maps&category=Alistipes\n"
   ],
   "id": "3b6e4b5d2f94bc8"
  },
  {
   "metadata": {},
   "cell_type": "markdown",
   "source": [
    "Our data: \n",
    "* per bacteria, show the relative-abundance across the 90 samples. (distribution)"
   ],
   "id": "6978407b95effce8"
  },
  {
   "metadata": {},
   "cell_type": "markdown",
   "source": "",
   "id": "6b80ce7b78c0b53f"
  },
  {
   "cell_type": "code",
   "source": [
    "sns.set_theme(rc={'figure.figsize':(20,14), 'xtick.labelsize':5, 'ytick.labelsize':5})\n",
    "sns.heatmap((metabolome_bacteria_p_values_fdr_correction.unstack() < 0.05).astype(int)).set(title='Heatmap significant or not correlation of Metabolite & Bacteria')"
   ],
   "metadata": {
    "collapsed": false,
    "ExecuteTime": {
     "end_time": "2024-05-20T08:20:05.861165Z",
     "start_time": "2024-05-20T08:20:04.636240Z"
    }
   },
   "id": "e133b2febbef7682",
   "execution_count": 50,
   "outputs": []
  },
  {
   "cell_type": "code",
   "source": [
    "sns.heatmap(metabolome_bacteria_significant_corr.unstack().astype(float)).set(title='Heatmap significant correlation of Metabolite & Bacteria')\n"
   ],
   "metadata": {
    "collapsed": false,
    "ExecuteTime": {
     "end_time": "2024-05-20T08:20:07.020922Z",
     "start_time": "2024-05-20T08:20:05.862059Z"
    }
   },
   "id": "6b3fccbffe475db",
   "execution_count": 51,
   "outputs": []
  }
 ],
 "metadata": {
  "kernelspec": {
   "display_name": "Python 3",
   "language": "python",
   "name": "python3"
  },
  "language_info": {
   "codemirror_mode": {
    "name": "ipython",
    "version": 2
   },
   "file_extension": ".py",
   "mimetype": "text/x-python",
   "name": "python",
   "nbconvert_exporter": "python",
   "pygments_lexer": "ipython2",
   "version": "2.7.6"
  }
 },
 "nbformat": 4,
 "nbformat_minor": 5
}
