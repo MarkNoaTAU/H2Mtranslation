{
 "cells": [
  {
   "cell_type": "markdown",
   "source": [
    "Basic analysis to iHMP_IBDMDB_2019. The overlap (21 metabolites) with OSA. "
   ],
   "metadata": {
    "collapsed": false
   },
   "id": "55984875b3b74231"
  },
  {
   "cell_type": "code",
   "source": [
    "import pandas as pd\n",
    "import numpy as np\n",
    "import scipy.stats as stats\n",
    "from statsmodels.stats.multitest import fdrcorrection\n",
    "import matplotlib.pyplot as plt\n",
    "import seaborn as sns\n",
    "from preprocessors import MetabolitePreprocessor\n"
   ],
   "metadata": {
    "collapsed": false,
    "ExecuteTime": {
     "end_time": "2024-05-16T11:22:02.792014Z",
     "start_time": "2024-05-16T11:22:02.788912Z"
    }
   },
   "id": "3f8cbdcd46923338",
   "execution_count": 4,
   "outputs": []
  },
  {
   "cell_type": "markdown",
   "source": [
    "Metabolite mapped to HMDB - v. Taxa mapped using GTDB - v.\n",
    "This research data is HMP2 cohort - longitudinal samples from IBD patient and control.\n",
    "The metabolom is untargeted. Microbiome is shotgun. \n",
    "There are 382 samples for 105 patient. For control we have 104 samples for 26 subjects.\n",
    "We will take only control and all samples (ignoring longitudinal). \n"
   ],
   "metadata": {
    "collapsed": false
   },
   "id": "2ac452edd76193ce"
  },
  {
   "cell_type": "code",
   "source": [
    "human_db_path = '/home/noa/lab_code/microbiome-metabolome-curated-data/data/processed_data'\n",
    "dataset = 'iHMP_IBDMDB_2019'\n",
    "\n",
    "metadata = pd.read_csv(f'{human_db_path}/{dataset}/metadata.tsv' ,sep='\\t')\n",
    "metabolite = pd.read_csv(f'{human_db_path}/{dataset}/mtb.tsv' ,sep='\\t')\n",
    "metabolite_to_hmdb = pd.read_csv(f'{human_db_path}/{dataset}/mtb.map.tsv' ,sep='\\t')\n",
    "taxa = pd.read_csv(f'{human_db_path}/{dataset}/genera.tsv' ,sep='\\t')"
   ],
   "metadata": {
    "collapsed": false,
    "ExecuteTime": {
     "end_time": "2024-05-16T11:22:25.838567Z",
     "start_time": "2024-05-16T11:22:03.187819Z"
    }
   },
   "id": "9edfb48aa667670c",
   "execution_count": 5,
   "outputs": []
  },
  {
   "cell_type": "code",
   "source": [
    "metabolite_to_hmdb = metabolite_to_hmdb.set_index('Compound')['HMDB']"
   ],
   "metadata": {
    "collapsed": false,
    "ExecuteTime": {
     "end_time": "2024-05-16T11:22:25.843908Z",
     "start_time": "2024-05-16T11:22:25.839774Z"
    }
   },
   "id": "5b276fca982f5cfe",
   "execution_count": 6,
   "outputs": []
  },
  {
   "cell_type": "markdown",
   "source": [
    "Metadata overview: Study.Group:\n",
    "CD - Crohn's disease\n",
    "UC - ulcreative colitis. \n",
    "nonIBD - control "
   ],
   "metadata": {
    "collapsed": false
   },
   "id": "5176a53f2120544c"
  },
  {
   "cell_type": "code",
   "source": [
    "# Filter to control samples only:\n",
    "control_samples_ids = metadata[metadata['Study.Group'] == 'nonIBD'].Sample.unique()\n",
    "taxa = taxa[taxa.Sample.isin(control_samples_ids)]\n",
    "metabolite = metabolite[metabolite.Sample.isin(control_samples_ids)]\n"
   ],
   "metadata": {
    "collapsed": false,
    "ExecuteTime": {
     "end_time": "2024-05-16T11:22:25.884180Z",
     "start_time": "2024-05-16T11:22:25.844668Z"
    }
   },
   "id": "3daf5191d082d5de",
   "execution_count": 7,
   "outputs": []
  },
  {
   "cell_type": "markdown",
   "source": [
    "Taxa is in genus level in relative abundance. \n",
    "No need to normalize, but do need to filter rare taxa. "
   ],
   "metadata": {
    "collapsed": false
   },
   "id": "2a9d7c3669aaa18a"
  },
  {
   "cell_type": "code",
   "source": [
    "# Filter rare taxa (taxa have non-zero values in >10% of the samples)\")\n",
    "# Filter rare taxa according to the following criteria: we want that the at least 10% of the samples will have relative-abundance larger than 0.001.\n",
    "\n",
    "taxa = taxa.set_index('Sample')\n",
    "verbose=False\n",
    "percentage=10\n",
    "abundance_threshold=0.001\n",
    "min_number_of_samples = int((taxa.shape[0] / 100) * percentage)\n",
    "print(\n",
    "    f\"The number of genus/features that have relative abundance values larger then {abundance_threshold} on > {percentage} % samples are: \"\n",
    "    f\"{(((taxa > abundance_threshold).sum(axis=0)) >= min_number_of_samples).sum()}\"\n",
    "    f\" out of {taxa.shape[1]} genus/features before-filtering.\")\n",
    "\n",
    "non_rare_columns = taxa.columns[\n",
    "    ((taxa > abundance_threshold).sum(axis=0)) >= min_number_of_samples]\n",
    "taxa = taxa[non_rare_columns]"
   ],
   "metadata": {
    "collapsed": false,
    "ExecuteTime": {
     "end_time": "2024-05-16T11:22:25.896696Z",
     "start_time": "2024-05-16T11:22:25.885400Z"
    }
   },
   "id": "7992cf5e3c4b0363",
   "execution_count": 8,
   "outputs": []
  },
  {
   "metadata": {
    "ExecuteTime": {
     "end_time": "2024-05-16T11:22:25.899316Z",
     "start_time": "2024-05-16T11:22:25.897417Z"
    }
   },
   "cell_type": "code",
   "source": "# taxa_mean_abundance_across_samples = taxa.mean()",
   "id": "9e9a32b25fb80ab7",
   "execution_count": 9,
   "outputs": []
  },
  {
   "metadata": {
    "ExecuteTime": {
     "end_time": "2024-05-16T11:22:25.902033Z",
     "start_time": "2024-05-16T11:22:25.900197Z"
    }
   },
   "cell_type": "code",
   "source": "# taxa_mean_abundance_across_samples.plot.hist(bins=100)",
   "id": "4cf004b0815fa0c",
   "execution_count": 10,
   "outputs": []
  },
  {
   "metadata": {
    "ExecuteTime": {
     "end_time": "2024-05-16T11:22:25.905016Z",
     "start_time": "2024-05-16T11:22:25.903166Z"
    }
   },
   "cell_type": "code",
   "source": [
    "# pd.cut(taxa_mean_abundance_across_samples, bins=20, retbins=True)\n",
    "# taxa_mean_abundance_across_samples.describe()"
   ],
   "id": "154f19a64c02627c",
   "execution_count": 11,
   "outputs": []
  },
  {
   "metadata": {
    "ExecuteTime": {
     "end_time": "2024-05-16T11:22:25.907485Z",
     "start_time": "2024-05-16T11:22:25.905824Z"
    }
   },
   "cell_type": "code",
   "source": [
    "# print(f\"{np.count_nonzero(taxa_mean_abundance_across_samples < 0.01)} out of {taxa_mean_abundance_across_samples.shape[0]} samples have mean-relative abundance below 0.01%. \\n\"\n",
    "#       f\" AKA {round((np.count_nonzero(taxa_mean_abundance_across_samples < 0.01)) / taxa_mean_abundance_across_samples.shape[0] * 100, 2)} % consider rare. Filtering using this threshold will leave us with: {( taxa_mean_abundance_across_samples.shape[0] - (np.count_nonzero(taxa_mean_abundance_across_samples < 0.01)))} genus.\")"
   ],
   "id": "a24040e003b0b1ee",
   "execution_count": 12,
   "outputs": []
  },
  {
   "metadata": {
    "ExecuteTime": {
     "end_time": "2024-05-16T11:22:25.909669Z",
     "start_time": "2024-05-16T11:22:25.908118Z"
    }
   },
   "cell_type": "code",
   "source": [
    "# So maybe selecting the mean in such diverse dataset is too much? maybe we should take other quantile? \n",
    "# Maybe we can say that we want that in 10% of the samples it will have relative-abundance above x? \n",
    "# Or that in the median? \n",
    "# taxa_q10_abundance_across_samples = taxa.quantile(q=0.9)\n"
   ],
   "id": "b3dde42a5b28b780",
   "execution_count": 13,
   "outputs": []
  },
  {
   "metadata": {
    "ExecuteTime": {
     "end_time": "2024-05-16T11:22:25.912731Z",
     "start_time": "2024-05-16T11:22:25.911146Z"
    }
   },
   "cell_type": "code",
   "source": "# taxa_q10_abundance_across_samples.plot.hist(bins=100)\n",
   "id": "8994c54d97907450",
   "execution_count": 14,
   "outputs": []
  },
  {
   "metadata": {
    "ExecuteTime": {
     "end_time": "2024-05-16T11:22:25.915056Z",
     "start_time": "2024-05-16T11:22:25.913494Z"
    }
   },
   "cell_type": "code",
   "source": "# taxa_q10_abundance_across_samples.describe()",
   "id": "686b97dd3b8281e4",
   "execution_count": 15,
   "outputs": []
  },
  {
   "metadata": {
    "ExecuteTime": {
     "end_time": "2024-05-16T11:22:25.917545Z",
     "start_time": "2024-05-16T11:22:25.915810Z"
    }
   },
   "cell_type": "code",
   "source": "# taxa_q10_abundance_across_samples.sort_values()\n",
   "id": "df8d474c7ac85319",
   "execution_count": 16,
   "outputs": []
  },
  {
   "metadata": {
    "ExecuteTime": {
     "end_time": "2024-05-16T11:22:25.920716Z",
     "start_time": "2024-05-16T11:22:25.918753Z"
    }
   },
   "cell_type": "code",
   "source": [
    "# print(f\"{np.count_nonzero(taxa_q10_abundance_across_samples < 0.01)} out of {taxa_q10_abundance_across_samples.shape[0]} samples have quantile 90% relative abundance below 0.01%. \\n\"\n",
    "#       f\" AKA {round((np.count_nonzero(taxa_q10_abundance_across_samples < 0.01)) / taxa_q10_abundance_across_samples.shape[0] * 100, 2)} % consider rare. Filtering using this threshold will leave us with: {( taxa_q10_abundance_across_samples.shape[0] - (np.count_nonzero(taxa_q10_abundance_across_samples < 0.01)))} genus.\")"
   ],
   "id": "7dcbda848c4da0c0",
   "execution_count": 17,
   "outputs": []
  },
  {
   "metadata": {
    "ExecuteTime": {
     "end_time": "2024-05-16T11:22:25.923830Z",
     "start_time": "2024-05-16T11:22:25.921681Z"
    }
   },
   "cell_type": "code",
   "source": [
    "# print(f\"{np.count_nonzero(taxa_q10_abundance_across_samples < 0.001)} out of {taxa_q10_abundance_across_samples.shape[0]} samples have quantile 90% relative abundance below 0.001%. \\n\"\n",
    "#       f\" AKA {round((np.count_nonzero(taxa_q10_abundance_across_samples < 0.001)) / taxa_q10_abundance_across_samples.shape[0] * 100, 2)} % consider rare. Filtering using this threshold will leave us with: {( taxa_q10_abundance_across_samples.shape[0] - (np.count_nonzero(taxa_q10_abundance_across_samples < 0.001)))} genus.\")"
   ],
   "id": "ebd901a285922920",
   "execution_count": 18,
   "outputs": []
  },
  {
   "metadata": {},
   "cell_type": "markdown",
   "source": "Filter rare taxa according to the following criteria: we want that the at least 10% of the samples will have relative-abundance larger than 0.001.",
   "id": "cb47dee0bd53bbd5"
  },
  {
   "cell_type": "code",
   "source": [
    "metabolite = metabolite.set_index('Sample')"
   ],
   "metadata": {
    "collapsed": false,
    "ExecuteTime": {
     "end_time": "2024-05-16T11:22:26.028337Z",
     "start_time": "2024-05-16T11:22:25.924750Z"
    }
   },
   "id": "ab83413d762bc0d3",
   "execution_count": 19,
   "outputs": []
  },
  {
   "cell_type": "code",
   "source": [
    "# metabolite.columns.isin(metabolite_to_hmdb.index).all()\n",
    "metabolite = metabolite[metabolite.columns.intersection(metabolite_to_hmdb.dropna().index)].rename(columns=metabolite_to_hmdb.dropna())"
   ],
   "metadata": {
    "collapsed": false,
    "ExecuteTime": {
     "end_time": "2024-05-16T11:22:26.050507Z",
     "start_time": "2024-05-16T11:22:26.029435Z"
    }
   },
   "id": "b76f92257fe83009",
   "execution_count": 20,
   "outputs": []
  },
  {
   "cell_type": "markdown",
   "source": [
    "Map compound to HMDB (article metabolite name in the original data). As it can be many to one, we will sum according to HMDB."
   ],
   "metadata": {
    "collapsed": false
   },
   "id": "c27b1869931cb3c5"
  },
  {
   "cell_type": "code",
   "source": [
    "metabolite = metabolite.groupby(by=metabolite.columns, axis=1).sum()"
   ],
   "metadata": {
    "collapsed": false,
    "ExecuteTime": {
     "end_time": "2024-05-16T11:22:26.057589Z",
     "start_time": "2024-05-16T11:22:26.051810Z"
    }
   },
   "id": "5587bb8fdaa0e298",
   "execution_count": 21,
   "outputs": []
  },
  {
   "cell_type": "code",
   "source": "metabolite.shape",
   "metadata": {
    "collapsed": false,
    "ExecuteTime": {
     "end_time": "2024-05-16T11:22:26.062279Z",
     "start_time": "2024-05-16T11:22:26.058517Z"
    }
   },
   "id": "89e28e57d099d5cc",
   "execution_count": 22,
   "outputs": []
  },
  {
   "metadata": {},
   "cell_type": "markdown",
   "source": "Filter rare metabolite",
   "id": "8779a1141ddd3612"
  },
  {
   "cell_type": "code",
   "source": [
    "percentage = 85\n",
    "min_number_of_samples = int((metabolite.shape[0] / 100) * percentage)\n",
    "min_number_of_samples"
   ],
   "metadata": {
    "collapsed": false,
    "ExecuteTime": {
     "end_time": "2024-05-16T11:22:26.065524Z",
     "start_time": "2024-05-16T11:22:26.062865Z"
    }
   },
   "id": "b45c384ef33ca98",
   "execution_count": 23,
   "outputs": []
  },
  {
   "cell_type": "code",
   "source": [
    "metabolite.shape"
   ],
   "metadata": {
    "collapsed": false,
    "ExecuteTime": {
     "end_time": "2024-05-16T11:22:26.068882Z",
     "start_time": "2024-05-16T11:22:26.066240Z"
    }
   },
   "id": "a9514636f932b515",
   "execution_count": 24,
   "outputs": []
  },
  {
   "cell_type": "code",
   "source": [
    "metabolite = metabolite.fillna(0)"
   ],
   "metadata": {
    "collapsed": false,
    "ExecuteTime": {
     "end_time": "2024-05-16T11:22:26.071769Z",
     "start_time": "2024-05-16T11:22:26.069587Z"
    }
   },
   "id": "968094ac117f9150",
   "execution_count": 25,
   "outputs": []
  },
  {
   "cell_type": "code",
   "source": [
    "(metabolite.round(decimals=8) == 0).sum(axis=0)"
   ],
   "metadata": {
    "collapsed": false,
    "ExecuteTime": {
     "end_time": "2024-05-16T11:22:26.076042Z",
     "start_time": "2024-05-16T11:22:26.072554Z"
    }
   },
   "id": "b712301fcc693028",
   "execution_count": 26,
   "outputs": []
  },
  {
   "cell_type": "code",
   "source": [
    "non_rare_columns = metabolite.columns[((metabolite.shape[0] - (\n",
    "            metabolite.round(decimals=8) == 0).sum(axis=0)) >= min_number_of_samples)]\n",
    "print(f\"There are {len(non_rare_columns)} metabolite with sufficient number of samples \"\n",
    "      f\"(>{percentage}%) out of {metabolite.shape[1]} metabolites.\")\n",
    "metabolite= metabolite[non_rare_columns]"
   ],
   "metadata": {
    "collapsed": false,
    "ExecuteTime": {
     "end_time": "2024-05-16T11:22:26.080256Z",
     "start_time": "2024-05-16T11:22:26.076723Z"
    }
   },
   "id": "23a8c9590e485699",
   "execution_count": 27,
   "outputs": []
  },
  {
   "metadata": {},
   "cell_type": "markdown",
   "source": "Pre-processing metabolite data:",
   "id": "98d9ff49f6f86325"
  },
  {
   "metadata": {
    "ExecuteTime": {
     "end_time": "2024-05-16T11:22:26.083174Z",
     "start_time": "2024-05-16T11:22:26.080915Z"
    }
   },
   "cell_type": "code",
   "source": [
    "# hmdb_metadata = pd.read_xml('/home/noa/lab_code/H2Mtranslation/data/feces_metabolites.xml')\n",
    "# map_hmdb_id_to_name = hmdb_metadata.set_index('accession', drop=True)['name']\n",
    "# map_hmdb_id_to_name.to_pickle('/home/noa/lab_code/H2Mtranslation/data/map_hmdb_id_to_name.pkl')\n",
    "# hmdb_metadata.set_index('accession', drop=True)[['name', 'description']].to_pickle('/home/noa/lab_code/H2Mtranslation/data/hmdb_name_and_description.pkl')\n"
   ],
   "id": "e4a4d009576cc6a6",
   "execution_count": 28,
   "outputs": []
  },
  {
   "metadata": {
    "ExecuteTime": {
     "end_time": "2024-05-16T11:22:26.087901Z",
     "start_time": "2024-05-16T11:22:26.083911Z"
    }
   },
   "cell_type": "code",
   "source": "map_hmdb_id_to_name = pd.read_pickle('//map_hmdb_id_to_name.pkl')",
   "id": "44c18329e9b2db78",
   "execution_count": 29,
   "outputs": []
  },
  {
   "metadata": {
    "ExecuteTime": {
     "end_time": "2024-05-16T11:22:26.116626Z",
     "start_time": "2024-05-16T11:22:26.088865Z"
    }
   },
   "cell_type": "code",
   "source": "hmdb_metadata = pd.read_pickle('//hmdb_name_and_description.pkl')\n",
   "id": "5f9e540cc0645558",
   "execution_count": 30,
   "outputs": []
  },
  {
   "cell_type": "code",
   "source": [
    "min_value_per_metabolite = metabolite.replace(to_replace=0, value=np.nan).min(axis=0) / 2\n",
    "metabolite.replace(to_replace=np.nan, value=0, inplace=True)\n",
    "metabolite.replace(to_replace=0, value=min_value_per_metabolite, inplace=True)\n",
    "metabolite = metabolite.apply(lambda x: np.log(x + 1))"
   ],
   "metadata": {
    "collapsed": false,
    "ExecuteTime": {
     "end_time": "2024-05-16T11:22:26.196652Z",
     "start_time": "2024-05-16T11:22:26.117663Z"
    }
   },
   "id": "859ee93f4d1a4a74",
   "execution_count": 31,
   "outputs": []
  },
  {
   "metadata": {
    "ExecuteTime": {
     "end_time": "2024-05-16T11:22:26.203614Z",
     "start_time": "2024-05-16T11:22:26.199488Z"
    }
   },
   "cell_type": "code",
   "source": "metabolite = metabolite.rename(columns=map_hmdb_id_to_name)",
   "id": "a2ef6a12ddcdab33",
   "execution_count": 32,
   "outputs": []
  },
  {
   "cell_type": "code",
   "source": [
    "metabolite.head()"
   ],
   "metadata": {
    "collapsed": false,
    "ExecuteTime": {
     "end_time": "2024-05-16T11:22:26.215701Z",
     "start_time": "2024-05-16T11:22:26.204446Z"
    }
   },
   "id": "90583ceb2f05aff3",
   "execution_count": 33,
   "outputs": []
  },
  {
   "cell_type": "markdown",
   "source": [
    "Correlation test:\n",
    "For each metabolite independently, and for each taxa independently, (aka for each (metabolite, genus) tuple) calculate correlation across samples. "
   ],
   "metadata": {
    "collapsed": false
   },
   "id": "5050457ec78b194f"
  },
  {
   "cell_type": "code",
   "source": [
    "# Do we have 'Unknown' in our taxa? no. They drop unknown - is it problematic? As in mice we do have unknown... But it's really different %. "
   ],
   "metadata": {
    "collapsed": false,
    "ExecuteTime": {
     "end_time": "2024-05-16T11:22:26.217964Z",
     "start_time": "2024-05-16T11:22:26.216396Z"
    }
   },
   "id": "f2799be6efe820f8",
   "execution_count": 34,
   "outputs": []
  },
  {
   "cell_type": "code",
   "source": [
    "metabolome_bacteria_corr_coefficient = pd.DataFrame(index=taxa.columns, columns=metabolite.columns)\n",
    "metabolome_bacteria_p_values = pd.DataFrame(index=taxa.columns, columns=metabolite.columns)\n",
    "\n",
    "for metabolome in metabolite.columns:\n",
    "    for bacteria in taxa.columns:\n",
    "        coefficient, p  = stats.pearsonr(metabolite[metabolome], taxa[bacteria])\n",
    "        metabolome_bacteria_corr_coefficient.loc[bacteria, metabolome] = coefficient\n",
    "        metabolome_bacteria_p_values.loc[bacteria, metabolome] = p\n",
    "        "
   ],
   "metadata": {
    "collapsed": false,
    "ExecuteTime": {
     "end_time": "2024-05-16T11:22:45.449267Z",
     "start_time": "2024-05-16T11:22:26.218813Z"
    }
   },
   "id": "97fc12ee20cdbb43",
   "execution_count": 35,
   "outputs": []
  },
  {
   "cell_type": "code",
   "source": [
    "# With multi-comparison correction (FDR)\n",
    "# what to do with nans?\n",
    "p_values = metabolome_bacteria_p_values.stack()\n",
    "_, p_values_corrected = fdrcorrection(p_values)\n",
    "metabolome_bacteria_p_values_fdr_correction = pd.Series(p_values_corrected, index=p_values.index).unstack()"
   ],
   "metadata": {
    "collapsed": false,
    "ExecuteTime": {
     "end_time": "2024-05-16T11:22:45.485524Z",
     "start_time": "2024-05-16T11:22:45.450556Z"
    }
   },
   "id": "95ac35a75fe0527a",
   "execution_count": 36,
   "outputs": []
  },
  {
   "cell_type": "code",
   "source": [
    "metabolome_bacteria_p_values_fdr_correction"
   ],
   "metadata": {
    "collapsed": false,
    "ExecuteTime": {
     "end_time": "2024-05-16T11:22:45.497361Z",
     "start_time": "2024-05-16T11:22:45.486563Z"
    }
   },
   "id": "5c2beaa1dc06c925",
   "execution_count": 37,
   "outputs": []
  },
  {
   "cell_type": "code",
   "source": [
    "metabolome_bacteria_corr_coefficient = metabolome_bacteria_corr_coefficient.T.stack()\n",
    "metabolome_bacteria_p_values_fdr_correction = metabolome_bacteria_p_values_fdr_correction.T.stack()"
   ],
   "metadata": {
    "collapsed": false,
    "ExecuteTime": {
     "end_time": "2024-05-16T11:22:45.506986Z",
     "start_time": "2024-05-16T11:22:45.498645Z"
    }
   },
   "id": "758f172925e44a5b",
   "execution_count": 38,
   "outputs": []
  },
  {
   "cell_type": "code",
   "source": [
    "metabolome_bacteria_significant_corr = metabolome_bacteria_corr_coefficient[metabolome_bacteria_p_values_fdr_correction < 0.05]"
   ],
   "metadata": {
    "collapsed": false,
    "ExecuteTime": {
     "end_time": "2024-05-16T11:22:45.518685Z",
     "start_time": "2024-05-16T11:22:45.508694Z"
    }
   },
   "id": "9e41fbb63cb8203e",
   "execution_count": 39,
   "outputs": []
  },
  {
   "cell_type": "code",
   "source": [
    "print(f\"There are {metabolome_bacteria_significant_corr.shape[0]} significant couples out of {metabolome_bacteria_corr_coefficient.shape[0]} \"\n",
    "      f\" ({taxa.shape[1]} genus, {metabolite.shape[1]} metabolome) \"\n",
    "      f\"after FDR correction (aka {round(100 * metabolome_bacteria_significant_corr.shape[0]/ metabolome_bacteria_corr_coefficient.shape[0] ,2)} %.)\")"
   ],
   "metadata": {
    "collapsed": false,
    "ExecuteTime": {
     "end_time": "2024-05-16T11:22:45.521958Z",
     "start_time": "2024-05-16T11:22:45.519488Z"
    }
   },
   "id": "32435fb300e96aa",
   "execution_count": 40,
   "outputs": []
  },
  {
   "cell_type": "code",
   "source": [
    "metabolome_bacteria_significant_corr.sort_values(ascending=False)\n"
   ],
   "metadata": {
    "collapsed": false,
    "ExecuteTime": {
     "end_time": "2024-05-16T11:22:45.529486Z",
     "start_time": "2024-05-16T11:22:45.522956Z"
    }
   },
   "id": "ae2250e8ec818132",
   "execution_count": 41,
   "outputs": []
  },
  {
   "cell_type": "code",
   "source": [
    "metabolome_bacteria_significant_corr.to_pickle(f'{dataset}/metabolome_bacteria_significant_corr_draft1.pkl')\n",
    "metabolome_bacteria_corr_coefficient.to_pickle(f'{dataset}/metabolome_bacteria_corr_coefficient_draft1.pkl')\n",
    "metabolome_bacteria_p_values_fdr_correction.to_pickle(f'{dataset}/metabolome_bacteria_p_values_fdr_correction_draft1.pkl')"
   ],
   "metadata": {
    "collapsed": false,
    "ExecuteTime": {
     "end_time": "2024-05-16T11:22:45.594621Z",
     "start_time": "2024-05-16T11:22:45.530515Z"
    }
   },
   "id": "f820ca4eb5545ad2",
   "execution_count": 42,
   "outputs": []
  },
  {
   "cell_type": "code",
   "source": [
    "taxa_rename_to_genus = pd.Series(metabolome_bacteria_significant_corr.index.get_level_values(1), index=metabolome_bacteria_significant_corr.index.get_level_values(1)).str.extract('.*g__(.*)').squeeze()"
   ],
   "metadata": {
    "collapsed": false,
    "ExecuteTime": {
     "end_time": "2024-05-16T11:22:45.598832Z",
     "start_time": "2024-05-16T11:22:45.595364Z"
    }
   },
   "id": "8df14df90b759dfc",
   "execution_count": 43,
   "outputs": []
  },
  {
   "metadata": {
    "ExecuteTime": {
     "end_time": "2024-05-16T11:22:45.602654Z",
     "start_time": "2024-05-16T11:22:45.599663Z"
    }
   },
   "cell_type": "code",
   "source": "taxa_rename_to_genus.head()",
   "id": "e8f8e3dc85e99117",
   "execution_count": 44,
   "outputs": []
  },
  {
   "cell_type": "code",
   "source": [
    "metabolome_bacteria_significant_corr = metabolome_bacteria_significant_corr.rename(taxa_rename_to_genus.to_dict(), axis=0, level=1)"
   ],
   "metadata": {
    "collapsed": false,
    "ExecuteTime": {
     "end_time": "2024-05-16T11:22:45.607030Z",
     "start_time": "2024-05-16T11:22:45.603303Z"
    }
   },
   "id": "6c95715f2bff32ea",
   "execution_count": 45,
   "outputs": []
  },
  {
   "cell_type": "code",
   "source": [
    "plt.rc('xtick', labelsize=10)\n",
    "plt.rc('ytick', labelsize=10)\n",
    "\n",
    "top_metabolite = metabolome_bacteria_significant_corr.sort_values(ascending=False).index[0][0]\n",
    "idx = pd.IndexSlice\n",
    "metabolome_bacteria_significant_corr.loc[idx[top_metabolite, :]].sort_values(ascending=False).plot.bar(figsize=(4,3), title=top_metabolite)"
   ],
   "metadata": {
    "collapsed": false,
    "ExecuteTime": {
     "end_time": "2024-05-16T11:22:45.748116Z",
     "start_time": "2024-05-16T11:22:45.607676Z"
    }
   },
   "id": "10b342c3871a58d8",
   "execution_count": 46,
   "outputs": []
  },
  {
   "cell_type": "code",
   "source": [
    "bottom_metabolite = metabolome_bacteria_significant_corr.sort_values(ascending=False).index[-1][0]\n",
    "metabolome_bacteria_significant_corr.loc[idx[bottom_metabolite, :]].sort_values(ascending=False).plot.bar(figsize=(12,6), title=bottom_metabolite)"
   ],
   "metadata": {
    "collapsed": false,
    "ExecuteTime": {
     "end_time": "2024-05-16T11:22:45.893625Z",
     "start_time": "2024-05-16T11:22:45.748841Z"
    }
   },
   "id": "d53bd047fbe1b28c",
   "execution_count": 47,
   "outputs": []
  },
  {
   "metadata": {
    "ExecuteTime": {
     "end_time": "2024-05-16T11:22:45.897567Z",
     "start_time": "2024-05-16T11:22:45.894434Z"
    }
   },
   "cell_type": "code",
   "source": [
    "# How many bacteria are significantly correlated with metabolites?\n",
    "print(f\"We have {len(metabolome_bacteria_significant_corr.index.get_level_values(1).unique())} microbes with significant correlation to metabolite out of \"\n",
    "      f\"{taxa.shape[1]} metabolites ({round(len(metabolome_bacteria_significant_corr.index.get_level_values(1).unique()) / taxa.shape[1] * 100)}%)\")"
   ],
   "id": "bf3d3dcc5cf32a33",
   "execution_count": 48,
   "outputs": []
  },
  {
   "cell_type": "code",
   "source": [
    "# Search for significant bacteria:\n",
    "# Number of metabolites each bacteria significantly effects on\n",
    "metabolome_bacteria_significant_corr.groupby(axis=0, level=1).apply(lambda x: x.shape[0]).sort_values(ascending=False)"
   ],
   "metadata": {
    "collapsed": false,
    "ExecuteTime": {
     "end_time": "2024-05-16T11:22:45.904136Z",
     "start_time": "2024-05-16T11:22:45.898331Z"
    }
   },
   "id": "40911671a01583c2",
   "execution_count": 49,
   "outputs": []
  },
  {
   "metadata": {
    "ExecuteTime": {
     "end_time": "2024-05-16T11:22:45.911854Z",
     "start_time": "2024-05-16T11:22:45.904886Z"
    }
   },
   "cell_type": "code",
   "source": "metabolome_bacteria_significant_corr.groupby(axis=0, level=1).apply(lambda x: x.shape[0]).describe()",
   "id": "2184ca4fc22ad27d",
   "execution_count": 50,
   "outputs": []
  },
  {
   "metadata": {},
   "cell_type": "markdown",
   "source": "We can see that the #metabolites that correlate with the bacteria is highley divers (std 17) where most bacteria effect up to 4 metabolites, while some correlates with up to 86. ",
   "id": "82c099a28057160d"
  },
  {
   "metadata": {
    "ExecuteTime": {
     "end_time": "2024-05-16T11:22:45.916125Z",
     "start_time": "2024-05-16T11:22:45.912587Z"
    }
   },
   "cell_type": "code",
   "source": [
    "# How many metabolism highly-derived from bacteria over-all the metabolites in the DB?\n",
    "print(f\"We have {len(metabolome_bacteria_significant_corr.index.get_level_values(0).unique())} metabolite with significant correlation to microbiome out of \"\n",
    "      f\"{metabolite.shape[1]} metabolites ({round(len(metabolome_bacteria_significant_corr.index.get_level_values(0).unique()) / metabolite.shape[1] * 100)}%)\")"
   ],
   "id": "fc6d65c5ce6a357e",
   "execution_count": 51,
   "outputs": []
  },
  {
   "metadata": {},
   "cell_type": "markdown",
   "source": "Number of bacteria each metabolite have significant correlation with:",
   "id": "7b1147a6bde85da2"
  },
  {
   "metadata": {
    "ExecuteTime": {
     "end_time": "2024-05-16T11:22:45.925713Z",
     "start_time": "2024-05-16T11:22:45.916758Z"
    }
   },
   "cell_type": "code",
   "source": "metabolome_bacteria_significant_corr.groupby(axis=0, level=0).apply(lambda x: x.shape[0]).sort_values(ascending=False).describe()\n",
   "id": "f4a1acb2a40980ed",
   "execution_count": 52,
   "outputs": []
  },
  {
   "metadata": {},
   "cell_type": "markdown",
   "source": [
    "we mostly see 1/2 bacteria is significantly associate to the metabolite, \n",
    "were sometimes we see multiple bacteria associate with the metabolite."
   ],
   "id": "fe6326121858f4e2"
  },
  {
   "cell_type": "code",
   "source": [
    "top_bacteria = metabolome_bacteria_significant_corr.groupby(axis=0, level=1).apply(lambda x: x.shape[0]).idxmax()\n",
    "metabolome_bacteria_significant_corr.loc[idx[:, top_bacteria]].sort_values(ascending=False).plot.bar(figsize=(12,6), title=f'{top_bacteria} significant correlation to metabolites')\n"
   ],
   "metadata": {
    "collapsed": false,
    "ExecuteTime": {
     "end_time": "2024-05-16T11:22:46.611089Z",
     "start_time": "2024-05-16T11:22:45.926418Z"
    }
   },
   "id": "a4494e8e5a67b07",
   "execution_count": 53,
   "outputs": []
  },
  {
   "metadata": {
    "ExecuteTime": {
     "end_time": "2024-05-16T11:22:46.616685Z",
     "start_time": "2024-05-16T11:22:46.612303Z"
    }
   },
   "cell_type": "code",
   "source": [
    "metabolites_feces_from_microbial_origin_hmdb = pd.read_csv('//metabolites_feces_from_microbial_origin_hmdb')\n",
    "metabolites_feces_from_microbial_origin_hmdb = metabolites_feces_from_microbial_origin_hmdb.set_index('HMDB_ID')['NAME']"
   ],
   "id": "99dac08455473965",
   "execution_count": 54,
   "outputs": []
  },
  {
   "metadata": {},
   "cell_type": "markdown",
   "source": "Compare the overlap between the metabolites that we have find as significantly-correlated with microbiome and HMDB list of 117 feces metabolite that origin from microbial.",
   "id": "6148315acf009160"
  },
  {
   "metadata": {
    "ExecuteTime": {
     "end_time": "2024-05-16T11:22:46.620901Z",
     "start_time": "2024-05-16T11:22:46.617491Z"
    }
   },
   "cell_type": "code",
   "source": "metabolome_bacteria_significant_corr.index.get_level_values(0).unique().intersection(metabolites_feces_from_microbial_origin_hmdb.unique())",
   "id": "d1e41cd022f54d53",
   "execution_count": 55,
   "outputs": []
  },
  {
   "metadata": {
    "ExecuteTime": {
     "end_time": "2024-05-16T11:22:46.625821Z",
     "start_time": "2024-05-16T11:22:46.621949Z"
    }
   },
   "cell_type": "code",
   "source": "metabolome_bacteria_significant_corr.index.get_level_values(0).unique().intersection(metabolites_feces_from_microbial_origin_hmdb.unique()).shape[0]",
   "id": "e3776b303d25896c",
   "execution_count": 56,
   "outputs": []
  },
  {
   "metadata": {},
   "cell_type": "markdown",
   "source": "How many of the feces metabolite that origin from microbial (HMDB list) are in our datasets (with enough data?)",
   "id": "a7b88210650c0b47"
  },
  {
   "metadata": {
    "ExecuteTime": {
     "end_time": "2024-05-16T11:22:46.630014Z",
     "start_time": "2024-05-16T11:22:46.626730Z"
    }
   },
   "cell_type": "code",
   "source": "metabolite.columns.intersection(metabolites_feces_from_microbial_origin_hmdb.unique()).shape[0]",
   "id": "8422e996ac21232e",
   "execution_count": 57,
   "outputs": []
  },
  {
   "metadata": {
    "ExecuteTime": {
     "end_time": "2024-05-16T11:22:46.633447Z",
     "start_time": "2024-05-16T11:22:46.630891Z"
    }
   },
   "cell_type": "code",
   "source": "23/28",
   "id": "48f7ad8a1c9446d3",
   "execution_count": 58,
   "outputs": []
  },
  {
   "metadata": {},
   "cell_type": "markdown",
   "source": [
    "So we identified 23/28 (82%) as associate to microbiome, (overall to 75% of the 375 metabolite we measure have correlation. \n",
    "How is it relative to randomly sampling 28 metabolite out of the 375 with significant tag?) \n",
    "\n",
    "How the relationship look like on the 5 that we didn't identify as microbiome driven? \n",
    "How this 23 look like with respect to the rest? \n",
    "How many unknown/known metabolite do I have in this list?  \n"
   ],
   "id": "c0d9ec143af36f21"
  },
  {
   "metadata": {
    "ExecuteTime": {
     "end_time": "2024-05-16T11:22:46.670007Z",
     "start_time": "2024-05-16T11:22:46.634287Z"
    }
   },
   "cell_type": "code",
   "source": [
    "# sample 28 out of 375 only with the tag significant/not. And calculate the groups % of positive. \n",
    "is_metabolite_correlates = pd.Series(metabolite.columns, index=metabolite.columns).apply(lambda x: x in metabolome_bacteria_significant_corr.index.get_level_values(0).unique())\n",
    "is_metabolite_correlates"
   ],
   "id": "f58a0c85f20de728",
   "execution_count": 59,
   "outputs": []
  },
  {
   "metadata": {
    "ExecuteTime": {
     "end_time": "2024-05-16T11:22:46.744532Z",
     "start_time": "2024-05-16T11:22:46.670803Z"
    }
   },
   "cell_type": "code",
   "source": "exp_ = [round(is_metabolite_correlates.sample(n=28).mean() * 100, 2) for _ in range(1000)]",
   "id": "e5aac03f80aabc7",
   "execution_count": 60,
   "outputs": []
  },
  {
   "metadata": {
    "ExecuteTime": {
     "end_time": "2024-05-16T11:22:46.751299Z",
     "start_time": "2024-05-16T11:22:46.745726Z"
    }
   },
   "cell_type": "code",
   "source": "pd.Series(exp_).describe()",
   "id": "585f91563dee1954",
   "execution_count": 61,
   "outputs": []
  },
  {
   "metadata": {},
   "cell_type": "markdown",
   "source": "What do we know on the 23 metabolites (fecal from microbial origin according to HMDB) #TODO",
   "id": "1291f8ef198ea0bb"
  },
  {
   "metadata": {
    "ExecuteTime": {
     "end_time": "2024-05-16T11:22:46.755150Z",
     "start_time": "2024-05-16T11:22:46.752137Z"
    }
   },
   "cell_type": "code",
   "source": [
    "import re\n",
    "taxa_genus = taxa.rename(columns=lambda x: re.match('.*g__(.*)', x).group(1))"
   ],
   "id": "cf43330bc834ebef",
   "execution_count": 62,
   "outputs": []
  },
  {
   "metadata": {
    "ExecuteTime": {
     "end_time": "2024-05-16T11:22:46.772778Z",
     "start_time": "2024-05-16T11:22:46.756243Z"
    }
   },
   "cell_type": "code",
   "source": "metabolome_bacteria_p_values_fdr_correction = metabolome_bacteria_p_values_fdr_correction.rename(taxa_rename_to_genus.to_dict(), axis=0, level=1)",
   "id": "2e9fe623378e353a",
   "execution_count": 63,
   "outputs": []
  },
  {
   "metadata": {},
   "cell_type": "markdown",
   "source": [
    "sanity checks - for some significant correlation between microbiome-metabolome plot the relation across the samples \n",
    "see how much I believe this correlation analysis & how much it's effected by outliers. "
   ],
   "id": "4fc8af9f397ac56b"
  },
  {
   "metadata": {
    "ExecuteTime": {
     "end_time": "2024-05-16T11:22:46.941587Z",
     "start_time": "2024-05-16T11:22:46.773729Z"
    }
   },
   "cell_type": "code",
   "source": [
    "metabolite_1, microbiome_1 = metabolome_bacteria_significant_corr.sort_values(ascending=False).index[0]\n",
    "pd.concat([metabolite[metabolite_1], taxa_genus[microbiome_1]], axis=1).plot.scatter(x=microbiome_1, y=metabolite_1, figsize=(6,6), \n",
    "                                                                                     title = f'corr coef={round(metabolome_bacteria_significant_corr[(metabolite_1, microbiome_1)],2)}, p-value={\"{:.2e}\".format(metabolome_bacteria_p_values_fdr_correction[(metabolite_1, microbiome_1)])}')"
   ],
   "id": "627125997453dea4",
   "execution_count": 64,
   "outputs": []
  },
  {
   "metadata": {
    "ExecuteTime": {
     "end_time": "2024-05-16T11:22:46.946483Z",
     "start_time": "2024-05-16T11:22:46.942720Z"
    }
   },
   "cell_type": "code",
   "source": "metabolite[metabolite_1][metabolite[metabolite_1] > 18].index[0]",
   "id": "c4e7966b41de1ae2",
   "execution_count": 65,
   "outputs": []
  },
  {
   "metadata": {
    "ExecuteTime": {
     "end_time": "2024-05-16T11:22:47.089393Z",
     "start_time": "2024-05-16T11:22:46.947565Z"
    }
   },
   "cell_type": "code",
   "source": [
    "coefficient, p  = stats.pearsonr(metabolite[metabolite_1].drop('MSM6J2M3'), taxa_genus[microbiome_1].drop('MSM6J2M3'))\n",
    "pd.concat([metabolite[metabolite_1].drop('MSM6J2M3'), taxa_genus[microbiome_1].drop('MSM6J2M3')], axis=1).plot.scatter(x=microbiome_1, y=metabolite_1, figsize=(6,6), \n",
    "                                                                                     title = f'corr coef={round(coefficient,2)}, p-value={\"{:.2e}\".format(p)}')"
   ],
   "id": "642334a93a08b6c2",
   "execution_count": 66,
   "outputs": []
  },
  {
   "metadata": {
    "ExecuteTime": {
     "end_time": "2024-05-16T11:22:47.235775Z",
     "start_time": "2024-05-16T11:22:47.090218Z"
    }
   },
   "cell_type": "code",
   "source": [
    "metabolite_1, microbiome_1 = metabolome_bacteria_significant_corr.sort_values(ascending=False).index[2]\n",
    "pd.concat([metabolite[metabolite_1], taxa_genus[microbiome_1]], axis=1).plot.scatter(x=microbiome_1, y=metabolite_1, figsize=(6,6), \n",
    "                                                                                     title = f'corr coef={round(metabolome_bacteria_significant_corr[(metabolite_1, microbiome_1)],2)}, p-value={\"{:.2e}\".format(metabolome_bacteria_p_values_fdr_correction[(metabolite_1, microbiome_1)])}')"
   ],
   "id": "ba161c6179693b0a",
   "execution_count": 67,
   "outputs": []
  },
  {
   "metadata": {
    "ExecuteTime": {
     "end_time": "2024-05-16T11:22:47.239920Z",
     "start_time": "2024-05-16T11:22:47.236848Z"
    }
   },
   "cell_type": "code",
   "source": "outliers = taxa_genus[microbiome_1][taxa_genus[microbiome_1] > 0.006].index.to_list()\n",
   "id": "6bdcfbde4a2a5847",
   "execution_count": 68,
   "outputs": []
  },
  {
   "metadata": {
    "ExecuteTime": {
     "end_time": "2024-05-16T11:22:47.243397Z",
     "start_time": "2024-05-16T11:22:47.240683Z"
    }
   },
   "cell_type": "code",
   "source": "outliers",
   "id": "9a30003f3478b273",
   "execution_count": 69,
   "outputs": []
  },
  {
   "metadata": {
    "ExecuteTime": {
     "end_time": "2024-05-16T11:22:47.383337Z",
     "start_time": "2024-05-16T11:22:47.243923Z"
    }
   },
   "cell_type": "code",
   "source": [
    "# outliers = metabolite[metabolite_1][metabolite[metabolite_1] < 12].index.to_list()\n",
    "coefficient, p  = stats.pearsonr(metabolite[metabolite_1].drop(outliers), taxa_genus[microbiome_1].drop(outliers))\n",
    "pd.concat([metabolite[metabolite_1].drop(outliers), taxa_genus[microbiome_1].drop(outliers)], axis=1).plot.scatter(x=microbiome_1, y=metabolite_1, figsize=(6,6), \n",
    "                                                                                     title = f'corr coef={round(coefficient,2)}, p-value={\"{:.2e}\".format(p)}')"
   ],
   "id": "cea854a55bf97a48",
   "execution_count": 70,
   "outputs": []
  },
  {
   "metadata": {
    "ExecuteTime": {
     "end_time": "2024-05-16T11:22:47.385891Z",
     "start_time": "2024-05-16T11:22:47.384057Z"
    }
   },
   "cell_type": "code",
   "source": [
    "# metabolome_bacteria_corr_coefficient \n",
    "# metabolome_bacteria_p_values_fdr_correction"
   ],
   "id": "2013daa084c2b15f",
   "execution_count": 71,
   "outputs": []
  },
  {
   "metadata": {
    "ExecuteTime": {
     "end_time": "2024-05-16T11:22:47.391261Z",
     "start_time": "2024-05-16T11:22:47.386618Z"
    }
   },
   "cell_type": "code",
   "source": [
    "#  For unknown (without a name, and known) taxa, plot a scatter plot of the correlations to see if it’s due to some outliers or do I believe it. (metabolite vs. taxa across the 90 samples + in the title mention the correlation coefficient) \n",
    "\n",
    "# Plot also metabolite vs. taxa across the 90 samples of metabolite that are known to be microbial origin (the 5 I didn't got as significant)? what does it even mean? read a bit more?\n",
    "\n",
    "# The most interest question I think is why I didn't get the other 5 microbial origin metabolite as metabolite with correlation to microbiota?\n",
    "metabolites_group = metabolite.columns.intersection(metabolites_feces_from_microbial_origin_hmdb.unique()).difference(metabolome_bacteria_significant_corr.index.get_level_values(0))\n",
    "print(metabolites_group)"
   ],
   "id": "6d2f40c0b32d76a7",
   "execution_count": 72,
   "outputs": []
  },
  {
   "metadata": {
    "ExecuteTime": {
     "end_time": "2024-05-16T11:22:47.397692Z",
     "start_time": "2024-05-16T11:22:47.391974Z"
    }
   },
   "cell_type": "code",
   "source": "hmdb_metadata.query('name in @metabolites_group').set_index('name')['description'].iloc[0]",
   "id": "8cdf2cf534541bbb",
   "execution_count": 73,
   "outputs": []
  },
  {
   "metadata": {
    "ExecuteTime": {
     "end_time": "2024-05-16T11:22:47.522207Z",
     "start_time": "2024-05-16T11:22:47.398414Z"
    }
   },
   "cell_type": "code",
   "source": "metabolite['2-Hydroxyglutarate'].plot.hist(figsize=(6,6))",
   "id": "4c96219f128672c5",
   "execution_count": 74,
   "outputs": []
  },
  {
   "metadata": {
    "ExecuteTime": {
     "end_time": "2024-05-16T11:22:47.524994Z",
     "start_time": "2024-05-16T11:22:47.523049Z"
    }
   },
   "cell_type": "code",
   "source": [
    "# before grouping by and other pre-processing:\n",
    "# \n",
    "# metabolite_org = pd.read_csv(f'{human_db_path}/{dataset}/mtb.tsv' ,sep='\\t')\n",
    "# metabolite_org = metabolite_org[metabolite_org.Sample.isin(control_samples_ids)]\n",
    "# metabolite_org = metabolite_org.set_index('Sample')\n",
    "# metabolite_org = metabolite_org[metabolite_org.columns.intersection(metabolite_to_hmdb.dropna().index)].rename(columns=metabolite_to_hmdb.dropna())\n",
    "# metabolite_org = metabolite_org.rename(columns=map_hmdb_id_to_name)\n"
   ],
   "id": "829e1e31bfff21f7",
   "execution_count": 75,
   "outputs": []
  },
  {
   "metadata": {
    "ExecuteTime": {
     "end_time": "2024-05-16T11:22:47.527709Z",
     "start_time": "2024-05-16T11:22:47.525857Z"
    }
   },
   "cell_type": "code",
   "source": "# metabolite_org[metabolites_group]",
   "id": "4f63d2e5ae917436",
   "execution_count": 76,
   "outputs": []
  },
  {
   "metadata": {},
   "cell_type": "markdown",
   "source": "Top 5 bacteria (that correlates with a lot of metabolites):  ",
   "id": "4432c654319105df"
  },
  {
   "metadata": {
    "ExecuteTime": {
     "end_time": "2024-05-16T11:22:47.534294Z",
     "start_time": "2024-05-16T11:22:47.528506Z"
    }
   },
   "cell_type": "code",
   "source": "metabolome_bacteria_significant_corr.groupby(axis=0, level=1).apply(lambda x: x.shape[0]).sort_values(ascending=False).iloc[:5].index.to_list()",
   "id": "e6436ca76d0066e1",
   "execution_count": 77,
   "outputs": []
  },
  {
   "metadata": {},
   "cell_type": "markdown",
   "source": [
    "Internet: \n",
    "Alistipes - Gram-negative genus in the phylum Bacteridota. Highly associated with our health. \n",
    " https://en.wikipedia.org/wiki/Alistipes\n",
    " https://www.sciencedirect.com/topics/immunology-and-microbiology/alistipes\n",
    " https://www.frontiersin.org/journals/immunology/articles/10.3389/fimmu.2020.00906/full\n",
    " Indeed involve in a lot of pathways:\n",
    "https://www.genome.jp/kegg-bin/show_organism?menu_type=pathway_maps&category=Alistipes\n"
   ],
   "id": "3b6e4b5d2f94bc8"
  },
  {
   "metadata": {},
   "cell_type": "markdown",
   "source": [
    "Our data: \n",
    "* per bacteria, show the relative-abundance across the 90 samples. (distribution)"
   ],
   "id": "6978407b95effce8"
  },
  {
   "metadata": {
    "ExecuteTime": {
     "end_time": "2024-05-16T11:22:47.668577Z",
     "start_time": "2024-05-16T11:22:47.535010Z"
    }
   },
   "cell_type": "code",
   "source": "taxa_genus['Alistipes'].plot.hist(figsize=(4,6), title='Alistipes')",
   "id": "7a22f2b8585f5e12",
   "execution_count": 78,
   "outputs": []
  },
  {
   "metadata": {
    "ExecuteTime": {
     "end_time": "2024-05-16T11:22:47.673501Z",
     "start_time": "2024-05-16T11:22:47.669339Z"
    }
   },
   "cell_type": "code",
   "source": "taxa_genus['Alistipes'].describe()",
   "id": "e97c27172a9eff6a",
   "execution_count": 79,
   "outputs": []
  },
  {
   "metadata": {},
   "cell_type": "markdown",
   "source": "",
   "id": "6b80ce7b78c0b53f"
  },
  {
   "metadata": {
    "ExecuteTime": {
     "end_time": "2024-05-16T11:22:47.676254Z",
     "start_time": "2024-05-16T11:22:47.674340Z"
    }
   },
   "cell_type": "code",
   "source": "# TODO: How much the result changes/ how does they look like when I consider sperman/ kendall correlation? ",
   "id": "3c6f5ef6231a670e",
   "execution_count": 80,
   "outputs": []
  },
  {
   "cell_type": "code",
   "source": [
    "sns.set_theme(rc={'figure.figsize':(20,14), 'xtick.labelsize':5, 'ytick.labelsize':5})\n",
    "sns.heatmap((metabolome_bacteria_p_values_fdr_correction.unstack() < 0.05).astype(int)).set(title='Heatmap significant or not correlation of Metabolite & Bacteria')"
   ],
   "metadata": {
    "collapsed": false,
    "ExecuteTime": {
     "end_time": "2024-05-16T11:22:49.162572Z",
     "start_time": "2024-05-16T11:22:47.676929Z"
    }
   },
   "id": "e133b2febbef7682",
   "execution_count": 81,
   "outputs": []
  },
  {
   "cell_type": "code",
   "source": [
    "sns.heatmap(metabolome_bacteria_significant_corr.unstack().astype(float)).set(title='Heatmap significant correlation of Metabolite & Bacteria')\n"
   ],
   "metadata": {
    "collapsed": false,
    "ExecuteTime": {
     "end_time": "2024-05-16T11:22:50.430625Z",
     "start_time": "2024-05-16T11:22:49.163504Z"
    }
   },
   "id": "6b3fccbffe475db",
   "execution_count": 82,
   "outputs": []
  }
 ],
 "metadata": {
  "kernelspec": {
   "display_name": "Python 3",
   "language": "python",
   "name": "python3"
  },
  "language_info": {
   "codemirror_mode": {
    "name": "ipython",
    "version": 2
   },
   "file_extension": ".py",
   "mimetype": "text/x-python",
   "name": "python",
   "nbconvert_exporter": "python",
   "pygments_lexer": "ipython2",
   "version": "2.7.6"
  }
 },
 "nbformat": 4,
 "nbformat_minor": 5
}
