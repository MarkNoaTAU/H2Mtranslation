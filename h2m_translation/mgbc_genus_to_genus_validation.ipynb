{
 "cells": [
  {
   "metadata": {},
   "cell_type": "markdown",
   "source": "Inspect genus-to-genus taxonomic mapping based on MGBC toolkit table:\n",
   "id": "45a622cd93a7b5aa"
  },
  {
   "metadata": {},
   "cell_type": "code",
   "outputs": [],
   "execution_count": null,
   "source": [
    "import pandas as pd\n",
    "import numpy as np\n",
    "import scipy.stats as stats"
   ],
   "id": "e895da2f702ef2b1"
  },
  {
   "metadata": {},
   "cell_type": "code",
   "outputs": [],
   "execution_count": 6,
   "source": [
    "mgbc_clostest_taxa_table_path = '/home/noa/lab_code/MGBC-Toolkit/data/closest_tax.tsv'\n",
    "mgbc_clostest_taxa_table = pd.read_csv(mgbc_clostest_taxa_table_path, sep='\\t', header=None, names = ['method', 'reference_genome', 'query_genome', 'distance', 'reference_taxonomy', 'query_taxonomy'])"
   ],
   "id": "cef445b3c2588091"
  },
  {
   "metadata": {},
   "cell_type": "code",
   "outputs": [
    {
     "data": {
      "text/plain": [
       "     method  reference_genome query_genome  distance  \\\n",
       "0  taxonomy  GUT_GENOME000010   MGBC000100  0.020884   \n",
       "1  taxonomy  GUT_GENOME000035   MGBC000465  0.009662   \n",
       "2  taxonomy  GUT_GENOME000049   MGBC109121  0.200162   \n",
       "3  taxonomy  GUT_GENOME000057   MGBC115383  0.008205   \n",
       "4  taxonomy  GUT_GENOME000064   MGBC161554  0.625505   \n",
       "\n",
       "                                  reference_taxonomy  \\\n",
       "0  d__Bacteria;p__Firmicutes_A;c__Clostridia;o__O...   \n",
       "1  d__Bacteria;p__Bacteroidota;c__Bacteroidia;o__...   \n",
       "2  d__Bacteria;p__Firmicutes_A;c__Clostridia;o__L...   \n",
       "3  d__Bacteria;p__Proteobacteria;c__Gammaproteoba...   \n",
       "4  d__Bacteria;p__Firmicutes;c__Bacilli;o__Lactob...   \n",
       "\n",
       "                                      query_taxonomy  \n",
       "0  d__Bacteria;p__Firmicutes_A;c__Clostridia;o__O...  \n",
       "1  d__Bacteria;p__Bacteroidota;c__Bacteroidia;o__...  \n",
       "2  d__Bacteria;p__Firmicutes_A;c__Clostridia;o__L...  \n",
       "3  d__Bacteria;p__Proteobacteria;c__Gammaproteoba...  \n",
       "4  d__Bacteria;p__Firmicutes;c__Bacilli;o__Lactob...  "
      ],
      "text/html": [
       "<div>\n",
       "<style scoped>\n",
       "    .dataframe tbody tr th:only-of-type {\n",
       "        vertical-align: middle;\n",
       "    }\n",
       "\n",
       "    .dataframe tbody tr th {\n",
       "        vertical-align: top;\n",
       "    }\n",
       "\n",
       "    .dataframe thead th {\n",
       "        text-align: right;\n",
       "    }\n",
       "</style>\n",
       "<table border=\"1\" class=\"dataframe\">\n",
       "  <thead>\n",
       "    <tr style=\"text-align: right;\">\n",
       "      <th></th>\n",
       "      <th>method</th>\n",
       "      <th>reference_genome</th>\n",
       "      <th>query_genome</th>\n",
       "      <th>distance</th>\n",
       "      <th>reference_taxonomy</th>\n",
       "      <th>query_taxonomy</th>\n",
       "    </tr>\n",
       "  </thead>\n",
       "  <tbody>\n",
       "    <tr>\n",
       "      <th>0</th>\n",
       "      <td>taxonomy</td>\n",
       "      <td>GUT_GENOME000010</td>\n",
       "      <td>MGBC000100</td>\n",
       "      <td>0.020884</td>\n",
       "      <td>d__Bacteria;p__Firmicutes_A;c__Clostridia;o__O...</td>\n",
       "      <td>d__Bacteria;p__Firmicutes_A;c__Clostridia;o__O...</td>\n",
       "    </tr>\n",
       "    <tr>\n",
       "      <th>1</th>\n",
       "      <td>taxonomy</td>\n",
       "      <td>GUT_GENOME000035</td>\n",
       "      <td>MGBC000465</td>\n",
       "      <td>0.009662</td>\n",
       "      <td>d__Bacteria;p__Bacteroidota;c__Bacteroidia;o__...</td>\n",
       "      <td>d__Bacteria;p__Bacteroidota;c__Bacteroidia;o__...</td>\n",
       "    </tr>\n",
       "    <tr>\n",
       "      <th>2</th>\n",
       "      <td>taxonomy</td>\n",
       "      <td>GUT_GENOME000049</td>\n",
       "      <td>MGBC109121</td>\n",
       "      <td>0.200162</td>\n",
       "      <td>d__Bacteria;p__Firmicutes_A;c__Clostridia;o__L...</td>\n",
       "      <td>d__Bacteria;p__Firmicutes_A;c__Clostridia;o__L...</td>\n",
       "    </tr>\n",
       "    <tr>\n",
       "      <th>3</th>\n",
       "      <td>taxonomy</td>\n",
       "      <td>GUT_GENOME000057</td>\n",
       "      <td>MGBC115383</td>\n",
       "      <td>0.008205</td>\n",
       "      <td>d__Bacteria;p__Proteobacteria;c__Gammaproteoba...</td>\n",
       "      <td>d__Bacteria;p__Proteobacteria;c__Gammaproteoba...</td>\n",
       "    </tr>\n",
       "    <tr>\n",
       "      <th>4</th>\n",
       "      <td>taxonomy</td>\n",
       "      <td>GUT_GENOME000064</td>\n",
       "      <td>MGBC161554</td>\n",
       "      <td>0.625505</td>\n",
       "      <td>d__Bacteria;p__Firmicutes;c__Bacilli;o__Lactob...</td>\n",
       "      <td>d__Bacteria;p__Firmicutes;c__Bacilli;o__Lactob...</td>\n",
       "    </tr>\n",
       "  </tbody>\n",
       "</table>\n",
       "</div>"
      ]
     },
     "execution_count": 7,
     "metadata": {},
     "output_type": "execute_result"
    }
   ],
   "execution_count": 7,
   "source": "mgbc_clostest_taxa_table.head()",
   "id": "26031e3f1f0aa205"
  },
  {
   "metadata": {},
   "cell_type": "code",
   "outputs": [],
   "execution_count": 8,
   "source": "taxonomic_table = mgbc_clostest_taxa_table.query('method == \"taxonomy\" & reference_genome.str.contains(\"MGBC\")')",
   "id": "2468a54edf350ca8"
  },
  {
   "metadata": {},
   "cell_type": "code",
   "outputs": [
    {
     "name": "stderr",
     "output_type": "stream",
     "text": [
      "/tmp/ipykernel_39110/3870564890.py:2: SettingWithCopyWarning: \n",
      "A value is trying to be set on a copy of a slice from a DataFrame.\n",
      "Try using .loc[row_indexer,col_indexer] = value instead\n",
      "\n",
      "See the caveats in the documentation: https://pandas.pydata.org/pandas-docs/stable/user_guide/indexing.html#returning-a-view-versus-a-copy\n",
      "  taxonomic_table['reference_genus'] = taxonomic_table.reference_taxonomy.str.extract('(.*;g__[^;]+).*')\n"
     ]
    }
   ],
   "execution_count": 9,
   "source": [
    "# extract reference genus\n",
    "taxonomic_table['reference_genus'] = taxonomic_table.reference_taxonomy.str.extract('(.*;g__[^;]+).*')"
   ],
   "id": "b92b1e1cbf014f71"
  },
  {
   "metadata": {},
   "cell_type": "code",
   "outputs": [
    {
     "name": "stderr",
     "output_type": "stream",
     "text": [
      "/tmp/ipykernel_39110/2204288660.py:1: SettingWithCopyWarning: \n",
      "A value is trying to be set on a copy of a slice from a DataFrame.\n",
      "Try using .loc[row_indexer,col_indexer] = value instead\n",
      "\n",
      "See the caveats in the documentation: https://pandas.pydata.org/pandas-docs/stable/user_guide/indexing.html#returning-a-view-versus-a-copy\n",
      "  taxonomic_table['query_genus'] = taxonomic_table.query_taxonomy.str.extract('(.*;g__[^;]+).*')\n"
     ]
    }
   ],
   "execution_count": 10,
   "source": "taxonomic_table['query_genus'] = taxonomic_table.query_taxonomy.str.extract('(.*;g__[^;]+).*')\n",
   "id": "884f1b4cf1099ab2"
  },
  {
   "metadata": {},
   "cell_type": "code",
   "outputs": [],
   "execution_count": 11,
   "source": [
    "# sanity check: we expect all the genus to be mapped to the same genus according to taxonomic distance\n",
    "# some_genus = taxonomic_table['reference_genus'].iloc[0]\n",
    "# taxonomic_table.query('reference_genus == @some_genus').query_genus.unique()\n",
    "number_of_genus_mapped_per_reference_genus = taxonomic_table.groupby('reference_genus').apply(lambda x: len(x.query_genus.unique()))"
   ],
   "id": "d0311a8c62e22569"
  },
  {
   "metadata": {},
   "cell_type": "code",
   "outputs": [
    {
     "data": {
      "text/plain": [
       "count    225.000000\n",
       "mean       1.008889\n",
       "std        0.094070\n",
       "min        1.000000\n",
       "25%        1.000000\n",
       "50%        1.000000\n",
       "75%        1.000000\n",
       "max        2.000000\n",
       "dtype: float64"
      ]
     },
     "execution_count": 12,
     "metadata": {},
     "output_type": "execute_result"
    }
   ],
   "execution_count": 12,
   "source": "number_of_genus_mapped_per_reference_genus.describe()",
   "id": "169e43d4b61a2f95"
  },
  {
   "metadata": {},
   "cell_type": "code",
   "outputs": [
    {
     "data": {
      "text/plain": [
       "2"
      ]
     },
     "execution_count": 13,
     "metadata": {},
     "output_type": "execute_result"
    }
   ],
   "execution_count": 13,
   "source": "np.count_nonzero(number_of_genus_mapped_per_reference_genus == 2)",
   "id": "41415f437091b657"
  },
  {
   "metadata": {},
   "cell_type": "code",
   "outputs": [
    {
     "data": {
      "text/plain": [
       "                                      reference_taxonomy  \\\n",
       "45836  d__Bacteria;p__Bacteroidota;c__Bacteroidia;o__...   \n",
       "45846  d__Bacteria;p__Bacteroidota;c__Bacteroidia;o__...   \n",
       "\n",
       "                                          query_taxonomy  \\\n",
       "45836  d__Bacteria;p__Bacteroidota;c__Bacteroidia;o__...   \n",
       "45846  d__Bacteria;p__Bacteroidota;c__Bacteroidia;o__...   \n",
       "\n",
       "                                             query_genus  \n",
       "45836                                                NaN  \n",
       "45846  d__Bacteria;p__Bacteroidota;c__Bacteroidia;o__...  "
      ],
      "text/html": [
       "<div>\n",
       "<style scoped>\n",
       "    .dataframe tbody tr th:only-of-type {\n",
       "        vertical-align: middle;\n",
       "    }\n",
       "\n",
       "    .dataframe tbody tr th {\n",
       "        vertical-align: top;\n",
       "    }\n",
       "\n",
       "    .dataframe thead th {\n",
       "        text-align: right;\n",
       "    }\n",
       "</style>\n",
       "<table border=\"1\" class=\"dataframe\">\n",
       "  <thead>\n",
       "    <tr style=\"text-align: right;\">\n",
       "      <th></th>\n",
       "      <th>reference_taxonomy</th>\n",
       "      <th>query_taxonomy</th>\n",
       "      <th>query_genus</th>\n",
       "    </tr>\n",
       "  </thead>\n",
       "  <tbody>\n",
       "    <tr>\n",
       "      <th>45836</th>\n",
       "      <td>d__Bacteria;p__Bacteroidota;c__Bacteroidia;o__...</td>\n",
       "      <td>d__Bacteria;p__Bacteroidota;c__Bacteroidia;o__...</td>\n",
       "      <td>NaN</td>\n",
       "    </tr>\n",
       "    <tr>\n",
       "      <th>45846</th>\n",
       "      <td>d__Bacteria;p__Bacteroidota;c__Bacteroidia;o__...</td>\n",
       "      <td>d__Bacteria;p__Bacteroidota;c__Bacteroidia;o__...</td>\n",
       "      <td>d__Bacteria;p__Bacteroidota;c__Bacteroidia;o__...</td>\n",
       "    </tr>\n",
       "  </tbody>\n",
       "</table>\n",
       "</div>"
      ]
     },
     "execution_count": 15,
     "metadata": {},
     "output_type": "execute_result"
    }
   ],
   "execution_count": 15,
   "source": [
    "outlier_genus = number_of_genus_mapped_per_reference_genus[number_of_genus_mapped_per_reference_genus == 2].index\n",
    "taxonomic_table.query('reference_genus in @outlier_genus[0]')[['reference_taxonomy', 'query_taxonomy', 'query_genus']]\n",
    "# One of the species was not labeled to genus level, only to family level - which explain the difference (actually they are the same and we can ignore, we just need to verify we take the genus mapping and ignore the nuns.) "
   ],
   "id": "5f1a11cfd1babc45"
  },
  {
   "metadata": {},
   "cell_type": "code",
   "outputs": [
    {
     "data": {
      "text/plain": [
       "                                      reference_taxonomy  \\\n",
       "45343  d__Bacteria;p__Firmicutes_A;c__Clostridia;o__L...   \n",
       "45405  d__Bacteria;p__Firmicutes_A;c__Clostridia;o__L...   \n",
       "45611  d__Bacteria;p__Firmicutes_A;c__Clostridia;o__L...   \n",
       "45654  d__Bacteria;p__Firmicutes_A;c__Clostridia;o__L...   \n",
       "45700  d__Bacteria;p__Firmicutes_A;c__Clostridia;o__L...   \n",
       "45795  d__Bacteria;p__Firmicutes_A;c__Clostridia;o__L...   \n",
       "45867  d__Bacteria;p__Firmicutes_A;c__Clostridia;o__L...   \n",
       "45869  d__Bacteria;p__Firmicutes_A;c__Clostridia;o__L...   \n",
       "45876  d__Bacteria;p__Firmicutes_A;c__Clostridia;o__L...   \n",
       "45881  d__Bacteria;p__Firmicutes_A;c__Clostridia;o__L...   \n",
       "46114  d__Bacteria;p__Firmicutes_A;c__Clostridia;o__L...   \n",
       "46175  d__Bacteria;p__Firmicutes_A;c__Clostridia;o__L...   \n",
       "\n",
       "                                          query_taxonomy  \n",
       "45343  d__Bacteria;p__Firmicutes_A;c__Clostridia;o__L...  \n",
       "45405  d__Bacteria;p__Firmicutes_A;c__Clostridia;o__L...  \n",
       "45611  d__Bacteria;p__Firmicutes_A;c__Clostridia;o__L...  \n",
       "45654  d__Bacteria;p__Firmicutes_A;c__Clostridia;o__L...  \n",
       "45700  d__Bacteria;p__Firmicutes_A;c__Clostridia;o__L...  \n",
       "45795  d__Bacteria;p__Firmicutes_A;c__Clostridia;o__L...  \n",
       "45867  d__Bacteria;p__Firmicutes_A;c__Clostridia;o__L...  \n",
       "45869  d__Bacteria;p__Firmicutes_A;c__Clostridia;o__L...  \n",
       "45876  d__Bacteria;p__Firmicutes_A;c__Clostridia;o__L...  \n",
       "45881  d__Bacteria;p__Firmicutes_A;c__Clostridia;o__L...  \n",
       "46114  d__Bacteria;p__Firmicutes_A;c__Clostridia;o__L...  \n",
       "46175  d__Bacteria;p__Firmicutes_A;c__Clostridia;o__L...  "
      ],
      "text/html": [
       "<div>\n",
       "<style scoped>\n",
       "    .dataframe tbody tr th:only-of-type {\n",
       "        vertical-align: middle;\n",
       "    }\n",
       "\n",
       "    .dataframe tbody tr th {\n",
       "        vertical-align: top;\n",
       "    }\n",
       "\n",
       "    .dataframe thead th {\n",
       "        text-align: right;\n",
       "    }\n",
       "</style>\n",
       "<table border=\"1\" class=\"dataframe\">\n",
       "  <thead>\n",
       "    <tr style=\"text-align: right;\">\n",
       "      <th></th>\n",
       "      <th>reference_taxonomy</th>\n",
       "      <th>query_taxonomy</th>\n",
       "    </tr>\n",
       "  </thead>\n",
       "  <tbody>\n",
       "    <tr>\n",
       "      <th>45343</th>\n",
       "      <td>d__Bacteria;p__Firmicutes_A;c__Clostridia;o__L...</td>\n",
       "      <td>d__Bacteria;p__Firmicutes_A;c__Clostridia;o__L...</td>\n",
       "    </tr>\n",
       "    <tr>\n",
       "      <th>45405</th>\n",
       "      <td>d__Bacteria;p__Firmicutes_A;c__Clostridia;o__L...</td>\n",
       "      <td>d__Bacteria;p__Firmicutes_A;c__Clostridia;o__L...</td>\n",
       "    </tr>\n",
       "    <tr>\n",
       "      <th>45611</th>\n",
       "      <td>d__Bacteria;p__Firmicutes_A;c__Clostridia;o__L...</td>\n",
       "      <td>d__Bacteria;p__Firmicutes_A;c__Clostridia;o__L...</td>\n",
       "    </tr>\n",
       "    <tr>\n",
       "      <th>45654</th>\n",
       "      <td>d__Bacteria;p__Firmicutes_A;c__Clostridia;o__L...</td>\n",
       "      <td>d__Bacteria;p__Firmicutes_A;c__Clostridia;o__L...</td>\n",
       "    </tr>\n",
       "    <tr>\n",
       "      <th>45700</th>\n",
       "      <td>d__Bacteria;p__Firmicutes_A;c__Clostridia;o__L...</td>\n",
       "      <td>d__Bacteria;p__Firmicutes_A;c__Clostridia;o__L...</td>\n",
       "    </tr>\n",
       "    <tr>\n",
       "      <th>45795</th>\n",
       "      <td>d__Bacteria;p__Firmicutes_A;c__Clostridia;o__L...</td>\n",
       "      <td>d__Bacteria;p__Firmicutes_A;c__Clostridia;o__L...</td>\n",
       "    </tr>\n",
       "    <tr>\n",
       "      <th>45867</th>\n",
       "      <td>d__Bacteria;p__Firmicutes_A;c__Clostridia;o__L...</td>\n",
       "      <td>d__Bacteria;p__Firmicutes_A;c__Clostridia;o__L...</td>\n",
       "    </tr>\n",
       "    <tr>\n",
       "      <th>45869</th>\n",
       "      <td>d__Bacteria;p__Firmicutes_A;c__Clostridia;o__L...</td>\n",
       "      <td>d__Bacteria;p__Firmicutes_A;c__Clostridia;o__L...</td>\n",
       "    </tr>\n",
       "    <tr>\n",
       "      <th>45876</th>\n",
       "      <td>d__Bacteria;p__Firmicutes_A;c__Clostridia;o__L...</td>\n",
       "      <td>d__Bacteria;p__Firmicutes_A;c__Clostridia;o__L...</td>\n",
       "    </tr>\n",
       "    <tr>\n",
       "      <th>45881</th>\n",
       "      <td>d__Bacteria;p__Firmicutes_A;c__Clostridia;o__L...</td>\n",
       "      <td>d__Bacteria;p__Firmicutes_A;c__Clostridia;o__L...</td>\n",
       "    </tr>\n",
       "    <tr>\n",
       "      <th>46114</th>\n",
       "      <td>d__Bacteria;p__Firmicutes_A;c__Clostridia;o__L...</td>\n",
       "      <td>d__Bacteria;p__Firmicutes_A;c__Clostridia;o__L...</td>\n",
       "    </tr>\n",
       "    <tr>\n",
       "      <th>46175</th>\n",
       "      <td>d__Bacteria;p__Firmicutes_A;c__Clostridia;o__L...</td>\n",
       "      <td>d__Bacteria;p__Firmicutes_A;c__Clostridia;o__L...</td>\n",
       "    </tr>\n",
       "  </tbody>\n",
       "</table>\n",
       "</div>"
      ]
     },
     "execution_count": 16,
     "metadata": {},
     "output_type": "execute_result"
    }
   ],
   "execution_count": 16,
   "source": "taxonomic_table.query('reference_genus in @outlier_genus[1]')[['reference_taxonomy', 'query_taxonomy']]\n",
   "id": "e0919a5710c7325d"
  },
  {
   "metadata": {},
   "cell_type": "markdown",
   "source": [
    "We have 225 mice-genus in the MGBC table. \n",
    "We expected all the genus to be mapped to the same genus according to taxonomic distance, it's true mostly (for 223 genus)\n",
    "But 2 genus have been mapped to 2 different genus based on their taxonomic distance:\n",
    "Those genus are: \n",
    "'d__Bacteria;p__Bacteroidota;c__Bacteroidia;o__Bacteroidales;f__Bacteroidaceae;g__Paraprevotella' \n",
    " 'd__Bacteria;p__Firmicutes_A;c__Clostridia;o__Lachnospirales;f__Lachnospiraceae;g__Eubacterium_J'\n",
    " \n"
   ],
   "id": "702d091258900a6e"
  },
  {
   "metadata": {},
   "cell_type": "code",
   "outputs": [],
   "execution_count": null,
   "source": "",
   "id": "e75e01362960d108"
  },
  {
   "metadata": {},
   "cell_type": "markdown",
   "source": "Following consulting with Elhanan, we decided that this outlier is reasonable. And we will work with this table.\n",
   "id": "ffba6dbaf1a99184"
  }
 ],
 "metadata": {
  "kernelspec": {
   "display_name": "Python 3",
   "language": "python",
   "name": "python3"
  },
  "language_info": {
   "codemirror_mode": {
    "name": "ipython",
    "version": 2
   },
   "file_extension": ".py",
   "mimetype": "text/x-python",
   "name": "python",
   "nbconvert_exporter": "python",
   "pygments_lexer": "ipython2",
   "version": "2.7.6"
  }
 },
 "nbformat": 4,
 "nbformat_minor": 5
}
