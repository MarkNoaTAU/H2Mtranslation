{
 "cells": [
  {
   "cell_type": "code",
   "execution_count": 1,
   "id": "initial_id",
   "metadata": {
    "collapsed": true,
    "ExecuteTime": {
     "end_time": "2024-03-04T08:39:33.682340Z",
     "start_time": "2024-03-04T08:39:33.003122Z"
    }
   },
   "source": [
    "import pandas as pd\n",
    "import numpy as np\n",
    "import scipy.stats as stats\n",
    "from data.taxonomy_normalizer import NaiveTaxonomyNormalizer, preprocess_filter_rare_taxa\n"
   ],
   "outputs": []
  },
  {
   "cell_type": "markdown",
   "source": [
    "Load data from Haddad OSA experiment:"
   ],
   "metadata": {
    "collapsed": false
   },
   "id": "f37b6aaee45e7b68"
  },
  {
   "cell_type": "code",
   "source": [
    "taxa = pd.read_csv('taxonomic_observed_abundance_HaddadOSA.csv').set_index('#SampleID')\n",
    "\n",
    "metadata = pd.read_csv('relevant_metadata_haddad_osa.csv').set_index('#SampleID')\n",
    "\n",
    "metabolite_features = pd.read_csv('metabolite_unique_gnp_annotated_HaddadOSA.csv').rename(columns={'Unnamed: 0': '#SampleID'}).set_index('#SampleID')"
   ],
   "metadata": {
    "collapsed": false,
    "ExecuteTime": {
     "end_time": "2024-03-04T08:39:33.703087Z",
     "start_time": "2024-03-04T08:39:33.683437Z"
    }
   },
   "id": "f292497343f7ec7b",
   "execution_count": 2,
   "outputs": []
  },
  {
   "cell_type": "markdown",
   "source": [
    "filter only the control samples from both the metabolite and the taxonomy using the metadata:\n"
   ],
   "metadata": {
    "collapsed": false
   },
   "id": "6186f438fc18b5dd"
  },
  {
   "cell_type": "code",
   "source": [
    "control_samples = metadata[metadata.control].index\n",
    "metabolite_features = metabolite_features.loc[control_samples, :]\n",
    "taxa = taxa.loc[control_samples, :]"
   ],
   "metadata": {
    "collapsed": false,
    "ExecuteTime": {
     "end_time": "2024-03-04T08:39:33.707692Z",
     "start_time": "2024-03-04T08:39:33.703710Z"
    }
   },
   "id": "55e5a301c58719de",
   "execution_count": 3,
   "outputs": []
  },
  {
   "cell_type": "markdown",
   "source": [
    "Prep taxa: calculate relative-abundance, consider if to drop unknown or not\n"
   ],
   "metadata": {
    "collapsed": false
   },
   "id": "7733a459ab56d7e6"
  },
  {
   "cell_type": "code",
   "source": [
    "DROP_UNKNOWN_TAXA = False\n",
    "UNKNOWN_TH = 1.0\n",
    "naive_normalizer = NaiveTaxonomyNormalizer(drop_unknown_taxa=DROP_UNKNOWN_TAXA, unknown_taxa_sample_threshold=UNKNOWN_TH)\n",
    "taxa = preprocess_filter_rare_taxa(taxa)\n",
    "relative_abundance = naive_normalizer.normalize(taxa)\n"
   ],
   "metadata": {
    "collapsed": false,
    "ExecuteTime": {
     "end_time": "2024-03-04T08:39:35.338438Z",
     "start_time": "2024-03-04T08:39:33.708916Z"
    }
   },
   "id": "e1e3fe494954288d",
   "execution_count": 4,
   "outputs": []
  },
  {
   "cell_type": "markdown",
   "source": [
    "Prep metabolite:"
   ],
   "metadata": {
    "collapsed": false
   },
   "id": "bd3f454551dcf857"
  },
  {
   "cell_type": "code",
   "source": [
    "from preprocessors import MetabolitePreprocessor\n",
    "metabolite_preprocessor = MetabolitePreprocessor()\n",
    "metabolite_features = metabolite_preprocessor.preprocess(metabolite_features)\n"
   ],
   "metadata": {
    "collapsed": false,
    "ExecuteTime": {
     "end_time": "2024-03-04T08:39:36.238242Z",
     "start_time": "2024-03-04T08:39:35.339167Z"
    }
   },
   "id": "82bce5d8319504fe",
   "execution_count": 5,
   "outputs": []
  },
  {
   "cell_type": "markdown",
   "source": [
    "Correlation test:\n",
    "For each metabolite independently, and for each taxa independently, (aka for each (metabolite, genus) tuple) calculate correlation across samples. "
   ],
   "metadata": {
    "collapsed": false
   },
   "id": "aefd677da6861c22"
  },
  {
   "cell_type": "code",
   "source": [
    "metabolite_features = pd.read_csv('metabolite_HMDB_annotated_HaddadOSA.csv', index_col='Unnamed: 0')\n",
    "metabolite_features = metabolite_features.loc[control_samples, :]\n"
   ],
   "metadata": {
    "collapsed": false,
    "ExecuteTime": {
     "end_time": "2024-03-04T08:39:36.251182Z",
     "start_time": "2024-03-04T08:39:36.239238Z"
    }
   },
   "id": "891e2dd064e1c6d",
   "execution_count": 6,
   "outputs": []
  },
  {
   "cell_type": "code",
   "source": [
    "from preprocessors import MetabolitePreprocessor\n",
    "metabolite_preprocessor = MetabolitePreprocessor()\n",
    "metabolite_features = metabolite_preprocessor.preprocess(metabolite_features)"
   ],
   "metadata": {
    "collapsed": false,
    "ExecuteTime": {
     "end_time": "2024-03-04T08:39:36.772633Z",
     "start_time": "2024-03-04T08:39:36.252221Z"
    }
   },
   "id": "dc55c1f0a1bc4280",
   "execution_count": 7,
   "outputs": []
  },
  {
   "cell_type": "code",
   "source": [
    "metabolome_bacteria_corr_coefficient = pd.DataFrame(index=relative_abundance.columns, columns=metabolite_features.columns)\n",
    "metabolome_bacteria_p_values = pd.DataFrame(index=relative_abundance.columns, columns=metabolite_features.columns)\n",
    "\n",
    "for metabolome in metabolite_features.columns:\n",
    "    for bacteria in relative_abundance.columns:\n",
    "        coefficient, p  = stats.pearsonr(metabolite_features[metabolome], relative_abundance[bacteria])\n",
    "        metabolome_bacteria_corr_coefficient.loc[bacteria, metabolome] = coefficient\n",
    "        metabolome_bacteria_p_values.loc[bacteria, metabolome] = p\n",
    "        \n",
    "# Dropping the \"Unknown\"\n",
    "metabolome_bacteria_corr_coefficient = metabolome_bacteria_corr_coefficient.drop(index=['Unknown'])\n",
    "metabolome_bacteria_p_values = metabolome_bacteria_p_values.drop(index=['Unknown'])"
   ],
   "metadata": {
    "collapsed": false,
    "ExecuteTime": {
     "end_time": "2024-03-04T08:39:38.281017Z",
     "start_time": "2024-03-04T08:39:36.773330Z"
    }
   },
   "id": "540051797c063563",
   "execution_count": 8,
   "outputs": []
  },
  {
   "cell_type": "code",
   "source": [
    "metabolome_bacteria_p_values.stack().hist()"
   ],
   "metadata": {
    "collapsed": false,
    "ExecuteTime": {
     "end_time": "2024-03-04T08:41:40.530092Z",
     "start_time": "2024-03-04T08:41:40.459920Z"
    }
   },
   "id": "eabb1904f696dcba",
   "execution_count": 26,
   "outputs": []
  },
  {
   "cell_type": "code",
   "source": [
    "# With multi-comparison correction (FDR)\n",
    "from statsmodels.stats.multitest import fdrcorrection\n",
    "# what to do with nans?\n",
    "p_values = metabolome_bacteria_p_values.stack()\n",
    "_, p_values_corrected = fdrcorrection(p_values)\n",
    "metabolome_bacteria_p_values_fdr_correction = pd.Series(p_values_corrected, index=p_values.index).unstack()"
   ],
   "metadata": {
    "collapsed": false,
    "ExecuteTime": {
     "end_time": "2024-03-04T08:39:38.303527Z",
     "start_time": "2024-03-04T08:39:38.281680Z"
    }
   },
   "id": "c24ef2bd2892c9ad",
   "execution_count": 9,
   "outputs": []
  },
  {
   "cell_type": "code",
   "source": [
    "metabolome_bacteria_p_values_fdr_correction.hist(bins=10)"
   ],
   "metadata": {
    "collapsed": false,
    "ExecuteTime": {
     "end_time": "2024-03-04T08:41:11.583010Z",
     "start_time": "2024-03-04T08:41:11.453110Z"
    }
   },
   "id": "b3fac4a234d79729",
   "execution_count": 22,
   "outputs": []
  },
  {
   "cell_type": "code",
   "source": [
    "(metabolome_bacteria_p_values_fdr_correction < 0.05).sum(axis=0)"
   ],
   "metadata": {
    "collapsed": false,
    "ExecuteTime": {
     "end_time": "2024-03-04T08:39:38.308379Z",
     "start_time": "2024-03-04T08:39:38.304221Z"
    }
   },
   "id": "8ee7b3169a5de62",
   "execution_count": 10,
   "outputs": []
  },
  {
   "cell_type": "code",
   "source": [
    "print(f\"{(metabolome_bacteria_p_values_fdr_correction < 0.05).sum(axis=0)} couples are significant out of {metabolome_bacteria_p_values_fdr_correction.shape[0]} aka {100 * (metabolome_bacteria_p_values_fdr_correction < 0.05).sum(axis=0)/metabolome_bacteria_p_values_fdr_correction.shape } %\")"
   ],
   "metadata": {
    "collapsed": false,
    "ExecuteTime": {
     "end_time": "2024-03-04T08:45:54.106697Z",
     "start_time": "2024-03-04T08:45:54.102842Z"
    }
   },
   "id": "5a4625d4830ccb92",
   "execution_count": 32,
   "outputs": []
  },
  {
   "cell_type": "code",
   "source": [
    "metabolome_bacteria_corr_coefficient = metabolome_bacteria_corr_coefficient.T.stack()\n",
    "metabolome_bacteria_p_values_fdr_correction = metabolome_bacteria_p_values_fdr_correction.T.stack()"
   ],
   "metadata": {
    "collapsed": false,
    "ExecuteTime": {
     "end_time": "2024-03-04T08:39:38.323163Z",
     "start_time": "2024-03-04T08:39:38.319872Z"
    }
   },
   "id": "999015695abf9a2e",
   "execution_count": 14,
   "outputs": []
  },
  {
   "cell_type": "code",
   "source": [
    "metabolome_bacteria_significant_corr = metabolome_bacteria_corr_coefficient[metabolome_bacteria_p_values_fdr_correction < 0.05]\n"
   ],
   "metadata": {
    "collapsed": false,
    "ExecuteTime": {
     "end_time": "2024-03-04T08:39:38.326253Z",
     "start_time": "2024-03-04T08:39:38.323815Z"
    }
   },
   "id": "e3a23509c0db7560",
   "execution_count": 15,
   "outputs": []
  },
  {
   "cell_type": "code",
   "source": [
    "metabolome_bacteria_significant_corr.sort_values(ascending=False)\n"
   ],
   "metadata": {
    "collapsed": false,
    "ExecuteTime": {
     "end_time": "2024-03-04T08:39:38.330653Z",
     "start_time": "2024-03-04T08:39:38.326821Z"
    }
   },
   "id": "ad80acaef84acb33",
   "execution_count": 16,
   "outputs": []
  },
  {
   "cell_type": "code",
   "source": [
    "import matplotlib.pyplot as plt\n",
    "plt.rc('xtick', labelsize=10)\n",
    "top_metabolite = metabolome_bacteria_significant_corr.sort_values(ascending=False).index[0][0]\n",
    "idx = pd.IndexSlice\n",
    "metabolome_bacteria_significant_corr.loc[idx[top_metabolite, :]].sort_values(ascending=False).plot.bar(figsize=(4,3), title=top_metabolite)"
   ],
   "metadata": {
    "collapsed": false,
    "ExecuteTime": {
     "end_time": "2024-03-04T08:50:24.348595Z",
     "start_time": "2024-03-04T08:50:24.277429Z"
    }
   },
   "id": "99a9659379da66b1",
   "execution_count": 46,
   "outputs": []
  },
  {
   "cell_type": "code",
   "source": [
    "bottom_metabolite = metabolome_bacteria_significant_corr.sort_values(ascending=False).index[-1][0]\n",
    "metabolome_bacteria_significant_corr.loc[idx[bottom_metabolite, :]].sort_values(ascending=False).plot.bar(figsize=(4,3), title=top_metabolite)"
   ],
   "metadata": {
    "collapsed": false,
    "ExecuteTime": {
     "end_time": "2024-03-04T08:50:36.850446Z",
     "start_time": "2024-03-04T08:50:36.776202Z"
    }
   },
   "id": "d9df0c8deced230c",
   "execution_count": 47,
   "outputs": []
  },
  {
   "cell_type": "code",
   "source": [
    "# Search for significant bacteria:\n",
    "metabolome_bacteria_significant_corr.groupby(axis=0, level=1).apply(lambda x: x.shape[0]).sort_values(ascending=False).plot.bar(figsize=(8,4), title='Number of metabolites each bacteria significantly effects on')"
   ],
   "metadata": {
    "collapsed": false,
    "ExecuteTime": {
     "end_time": "2024-03-04T08:54:32.356055Z",
     "start_time": "2024-03-04T08:54:32.164107Z"
    }
   },
   "id": "26b6da38e95ae9b1",
   "execution_count": 52,
   "outputs": []
  },
  {
   "cell_type": "markdown",
   "source": [
    "Indeed we got that Lactococcus is significantly effecting on many metabolites. And this genus is a lactic acid bacteria that known to produce a single product - lactic acid. "
   ],
   "metadata": {
    "collapsed": false
   },
   "id": "c3637edf8cfa52de"
  },
  {
   "cell_type": "code",
   "source": [
    "lactoccoccus = 'Lactococcus'\n",
    "metabolome_bacteria_significant_corr.loc[idx[:, lactoccoccus]].sort_values(ascending=False).plot.bar(figsize=(4,3), title='Lactococcus significant correlation to metabolites')\n"
   ],
   "metadata": {
    "collapsed": false,
    "ExecuteTime": {
     "end_time": "2024-03-04T08:58:40.444126Z",
     "start_time": "2024-03-04T08:58:40.337657Z"
    }
   },
   "id": "43f09b24f7de7e75",
   "execution_count": 55,
   "outputs": []
  },
  {
   "cell_type": "code",
   "source": [
    "metabolome_bacteria_significant_corr.loc[idx[:, lactoccoccus]].sort_values(ascending=False).index[0]"
   ],
   "metadata": {
    "collapsed": false,
    "ExecuteTime": {
     "end_time": "2024-03-04T08:59:23.994341Z",
     "start_time": "2024-03-04T08:59:23.990521Z"
    }
   },
   "id": "2f4e49ae4ec19b72",
   "execution_count": 58,
   "outputs": []
  },
  {
   "cell_type": "markdown",
   "source": [
    "HMDB0002103 is 27-Hydroxycholesterol (27-HC) it's a dihydroxy bile acids. The enzyme is critical for the degradation of the steroid side-chain and a genetic deficiency of the enzyme leads to reduced formation of bile acids in humans. Might be linked to our health and cholesterol."
   ],
   "metadata": {
    "collapsed": false
   },
   "id": "f82041b0affa361c"
  },
  {
   "cell_type": "code",
   "source": [
    "metabolome_bacteria_significant_corr.loc[idx[:, lactoccoccus]].sort_values(ascending=False).index[-1]\n"
   ],
   "metadata": {
    "collapsed": false,
    "ExecuteTime": {
     "end_time": "2024-03-04T08:59:34.252703Z",
     "start_time": "2024-03-04T08:59:34.248582Z"
    }
   },
   "id": "22a52be9fef337c5",
   "execution_count": 59,
   "outputs": []
  },
  {
   "cell_type": "code",
   "source": [
    "# (metabolome_bacteria_p_values_fdr_correction.unstack() < 0.05).astype(int).style.background_gradient(cmap ='viridis').set_properties(**{'font-size': '1px'}) "
   ],
   "metadata": {
    "collapsed": false,
    "ExecuteTime": {
     "end_time": "2024-03-04T09:14:32.532502Z",
     "start_time": "2024-03-04T09:14:32.450185Z"
    }
   },
   "id": "ea719801c816506e",
   "execution_count": 75,
   "outputs": []
  },
  {
   "cell_type": "code",
   "source": [
    "metabolome_bacteria_p_values_fdr_correction.unstack().shape"
   ],
   "metadata": {
    "collapsed": false,
    "ExecuteTime": {
     "end_time": "2024-03-04T09:15:23.591203Z",
     "start_time": "2024-03-04T09:15:23.585964Z"
    }
   },
   "id": "c2d8dfd6293d2417",
   "execution_count": 77,
   "outputs": []
  },
  {
   "cell_type": "markdown",
   "source": [
    "HMDB0002103 is Isonicotinic acid a type of  pyridinecarboxylic acids. "
   ],
   "metadata": {
    "collapsed": false
   },
   "id": "72210012bee6d494"
  },
  {
   "cell_type": "code",
   "source": [
    "# from matplotlib import rcParams\n",
    "# rcParams.keys()"
   ],
   "metadata": {
    "collapsed": false,
    "ExecuteTime": {
     "end_time": "2024-03-04T09:22:42.801704Z",
     "start_time": "2024-03-04T09:22:42.796848Z"
    }
   },
   "id": "c91fa838786f5057",
   "execution_count": 85,
   "outputs": []
  },
  {
   "cell_type": "code",
   "source": [
    "import seaborn as sns\n",
    "sns.set_theme(rc={'figure.figsize':(8,6), 'xtick.labelsize':5, 'ytick.labelsize':5})\n",
    "sns.heatmap((metabolome_bacteria_p_values_fdr_correction.unstack() < 0.05).astype(int)).set(title='Heatmap significant or not correlation of Metabolite & Bacteria')"
   ],
   "metadata": {
    "collapsed": false,
    "ExecuteTime": {
     "end_time": "2024-03-04T09:25:05.728626Z",
     "start_time": "2024-03-04T09:25:05.101895Z"
    }
   },
   "id": "c14e4bdad1fbb94c",
   "execution_count": 87,
   "outputs": []
  },
  {
   "cell_type": "code",
   "source": [
    "metabolome_bacteria_corr_coefficient.astype(float)"
   ],
   "metadata": {
    "collapsed": false,
    "ExecuteTime": {
     "end_time": "2024-03-04T09:27:34.089223Z",
     "start_time": "2024-03-04T09:27:34.083694Z"
    }
   },
   "id": "712d99c6cd6bcaca",
   "execution_count": 92,
   "outputs": []
  },
  {
   "cell_type": "code",
   "source": [
    "sns.heatmap(metabolome_bacteria_significant_corr.unstack().astype(float)).set(title='Heatmap significant correlation of Metabolite & Bacteria')"
   ],
   "metadata": {
    "collapsed": false,
    "ExecuteTime": {
     "end_time": "2024-03-04T09:28:26.112211Z",
     "start_time": "2024-03-04T09:28:25.657596Z"
    }
   },
   "id": "e63c862a0504cc82",
   "execution_count": 95,
   "outputs": []
  },
  {
   "cell_type": "code",
   "source": [
    "metabolome_bacteria_significant_corr.to_pickle('analysis/metabolome_bacteria_significant_corr.pkl')\n",
    "metabolome_bacteria_corr_coefficient.to_pickle('analysis/metabolome_bacteria_corr_coefficient.pkl')\n",
    "metabolome_bacteria_p_values_fdr_correction.to_pickle('analysis/metabolome_bacteria_p_values_fdr_correction.pkl')"
   ],
   "metadata": {
    "collapsed": false,
    "ExecuteTime": {
     "end_time": "2024-03-04T11:40:58.201120Z",
     "start_time": "2024-03-04T11:40:58.192098Z"
    }
   },
   "id": "225be9a9a093897d",
   "execution_count": 97,
   "outputs": []
  },
  {
   "cell_type": "code",
   "source": [
    "# TODO: Compare the result to the article result? for the sanity check?"
   ],
   "metadata": {
    "collapsed": false,
    "ExecuteTime": {
     "end_time": "2024-03-04T08:39:38.332721Z",
     "start_time": "2024-03-04T08:39:38.331204Z"
    }
   },
   "id": "eddc0b78f6757fb6",
   "execution_count": 17,
   "outputs": []
  }
 ],
 "metadata": {
  "kernelspec": {
   "display_name": "Python 3",
   "language": "python",
   "name": "python3"
  },
  "language_info": {
   "codemirror_mode": {
    "name": "ipython",
    "version": 2
   },
   "file_extension": ".py",
   "mimetype": "text/x-python",
   "name": "python",
   "nbconvert_exporter": "python",
   "pygments_lexer": "ipython2",
   "version": "2.7.6"
  }
 },
 "nbformat": 4,
 "nbformat_minor": 5
}
