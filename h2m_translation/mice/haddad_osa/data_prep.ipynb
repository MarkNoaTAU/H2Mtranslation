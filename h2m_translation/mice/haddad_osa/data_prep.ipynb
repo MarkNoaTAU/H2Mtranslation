{
 "cells": [
  {
   "cell_type": "markdown",
   "source": [
    "Data preparation for Haddad OSA article\n"
   ],
   "metadata": {
    "collapsed": false
   },
   "id": "c850129f569a01fb"
  },
  {
   "cell_type": "code",
   "source": [
    "import pandas as pd\n",
    "import numpy as np"
   ],
   "metadata": {
    "collapsed": false,
    "ExecuteTime": {
     "end_time": "2024-01-11T14:19:43.868016692Z",
     "start_time": "2024-01-11T14:19:43.679666304Z"
    }
   },
   "id": "f7495e0e7aa6c99e",
   "execution_count": 1,
   "outputs": []
  },
  {
   "cell_type": "markdown",
   "source": [
    "Taxonomic feature table: Samples x Taxonomic species"
   ],
   "metadata": {
    "collapsed": false
   },
   "id": "9991929c69bea87d"
  },
  {
   "cell_type": "code",
   "source": [
    "taxa = pd.read_csv('taxonomic_observed_abundance_HaddadOSA.csv')\n",
    "taxa = taxa.set_index('#SampleID')"
   ],
   "metadata": {
    "collapsed": false,
    "ExecuteTime": {
     "end_time": "2023-12-31T14:38:48.830717403Z",
     "start_time": "2023-12-31T14:38:48.789486757Z"
    }
   },
   "id": "9719641286329134",
   "execution_count": 136,
   "outputs": []
  },
  {
   "cell_type": "code",
   "source": [
    "taxa.head()"
   ],
   "metadata": {
    "collapsed": false,
    "ExecuteTime": {
     "end_time": "2023-12-31T14:38:50.957503488Z",
     "start_time": "2023-12-31T14:38:50.953238753Z"
    }
   },
   "id": "de988fe6e1f3acf8",
   "execution_count": 137,
   "outputs": []
  },
  {
   "cell_type": "markdown",
   "source": [
    "Meta-data:"
   ],
   "metadata": {
    "collapsed": false
   },
   "id": "d5bb24b16d53bf0b"
  },
  {
   "cell_type": "code",
   "source": [
    "metadata = pd.read_csv('original/haddad_6weeks_metadata_matched.txt', sep='\\t')"
   ],
   "metadata": {
    "collapsed": false,
    "ExecuteTime": {
     "end_time": "2023-12-31T10:17:44.562786427Z",
     "start_time": "2023-12-31T10:17:44.518186925Z"
    }
   },
   "id": "e4687f8dccd744c8",
   "execution_count": 64,
   "outputs": []
  },
  {
   "cell_type": "code",
   "source": [
    "metadata.columns"
   ],
   "metadata": {
    "collapsed": false,
    "ExecuteTime": {
     "end_time": "2023-12-31T10:08:20.305856516Z",
     "start_time": "2023-12-31T10:08:20.302724389Z"
    }
   },
   "id": "400bf5459ce39db5",
   "execution_count": 27,
   "outputs": []
  },
  {
   "cell_type": "code",
   "source": [
    "metadata.head()"
   ],
   "metadata": {
    "collapsed": false,
    "ExecuteTime": {
     "end_time": "2023-12-31T10:15:26.016413516Z",
     "start_time": "2023-12-31T10:15:26.013235963Z"
    }
   },
   "id": "b5051f2d46d98370",
   "execution_count": 51,
   "outputs": []
  },
  {
   "cell_type": "markdown",
   "source": [
    "Which metadata we care about: \n",
    "* age / collection_timestamp for time-series data. Or maybe better, use the Description to extract the serial number of the collection.\n",
    "* IHH exposure - exposure_type - different between control and study-group. IHH - study_group, Air - Control\n",
    "* host_subject_id / mouse_number\n",
    "\n",
    "\n",
    "Some information about the experiment: \n",
    "Should be 16 mouse, 8 control. \n",
    "Each mouse should have 3 timestamps samples (feces).\n",
    " "
   ],
   "metadata": {
    "collapsed": false
   },
   "id": "4337519e1ec4860b"
  },
  {
   "cell_type": "code",
   "source": [
    "metadata['exposure_type'].unique()"
   ],
   "metadata": {
    "collapsed": false,
    "ExecuteTime": {
     "end_time": "2023-12-31T10:01:30.694821488Z",
     "start_time": "2023-12-31T10:01:30.649904663Z"
    }
   },
   "id": "7c7a0ee95268768",
   "execution_count": 11,
   "outputs": []
  },
  {
   "cell_type": "code",
   "source": [
    "metadata['host_subject_id'].unique()"
   ],
   "metadata": {
    "collapsed": false,
    "ExecuteTime": {
     "end_time": "2023-12-31T10:03:27.156692243Z",
     "start_time": "2023-12-31T10:03:27.153982802Z"
    }
   },
   "id": "c3a8a8ddeee2d4cb",
   "execution_count": 16,
   "outputs": []
  },
  {
   "cell_type": "code",
   "source": [
    "metadata = metadata.set_index('#SampleID')"
   ],
   "metadata": {
    "collapsed": false,
    "ExecuteTime": {
     "end_time": "2023-12-31T10:17:50.740336461Z",
     "start_time": "2023-12-31T10:17:50.736472819Z"
    }
   },
   "id": "df58116cd02061eb",
   "execution_count": 65,
   "outputs": []
  },
  {
   "cell_type": "code",
   "source": [
    "metadata = pd.concat([metadata['host_subject_id'].to_frame()\n",
    "                         , metadata['Description'].str.extract(r'.*collection (\\d+) of .*').squeeze().to_frame('seq_sample_number'),\n",
    "                      metadata['exposure_type'].map({'IHH': False, 'Air': True}).to_frame('control')], axis=1)"
   ],
   "metadata": {
    "collapsed": false,
    "ExecuteTime": {
     "end_time": "2023-12-31T10:17:53.149621364Z",
     "start_time": "2023-12-31T10:17:53.147098515Z"
    }
   },
   "id": "d182104a1333ff03",
   "execution_count": 66,
   "outputs": []
  },
  {
   "cell_type": "code",
   "source": [
    "metadata['seq_sample_number'] = metadata['seq_sample_number'].astype(int)"
   ],
   "metadata": {
    "collapsed": false,
    "ExecuteTime": {
     "end_time": "2023-12-31T10:22:06.629596671Z",
     "start_time": "2023-12-31T10:22:06.625059680Z"
    }
   },
   "id": "9e93ff9a6d367ca1",
   "execution_count": 77,
   "outputs": []
  },
  {
   "cell_type": "markdown",
   "source": [
    "Samples statistics from metadata:"
   ],
   "metadata": {
    "collapsed": false
   },
   "id": "e8be1055dabcf372"
  },
  {
   "cell_type": "code",
   "source": [
    "# How manny control samples there are?\n",
    "print(f'There are {metadata[metadata[\"control\"]].shape[0]} samples under control (including multiple-timestamps per mice)')"
   ],
   "metadata": {
    "collapsed": false,
    "ExecuteTime": {
     "end_time": "2023-12-31T10:19:48.126723373Z",
     "start_time": "2023-12-31T10:19:48.086078002Z"
    }
   },
   "id": "5b6f8d10d94368ea",
   "execution_count": 70,
   "outputs": []
  },
  {
   "cell_type": "code",
   "source": [
    "print(f\"There are {metadata.groupby('host_subject_id').apply(lambda x: x.sort_values(by='seq_sample_number', ascending=True).iloc[0]).query('control').shape[0]} under control, when taking only the first sample\")"
   ],
   "metadata": {
    "collapsed": false,
    "ExecuteTime": {
     "end_time": "2023-12-31T10:23:51.199189994Z",
     "start_time": "2023-12-31T10:23:51.155492769Z"
    }
   },
   "id": "83fb467a5a717e1f",
   "execution_count": 82,
   "outputs": []
  },
  {
   "cell_type": "code",
   "source": [
    "metadata.head()"
   ],
   "metadata": {
    "collapsed": false,
    "ExecuteTime": {
     "end_time": "2023-12-31T10:24:28.739513110Z",
     "start_time": "2023-12-31T10:24:28.695580062Z"
    }
   },
   "id": "b66d7fb14bb9b338",
   "execution_count": 83,
   "outputs": []
  },
  {
   "cell_type": "code",
   "source": [
    "metadata.to_csv('relevant_metadata_haddad_osa.csv')"
   ],
   "metadata": {
    "collapsed": false,
    "ExecuteTime": {
     "end_time": "2023-12-31T10:25:05.434845986Z",
     "start_time": "2023-12-31T10:25:05.393550364Z"
    }
   },
   "id": "b3cf0ad834e56493",
   "execution_count": 84,
   "outputs": []
  },
  {
   "cell_type": "markdown",
   "source": [
    "Load feature table of samples x metabolites (molecule annotations)\n",
    "\n",
    "Note this data is after pqn normalization (what they did in the article) \n",
    " probabilistic quotient normalization to an internal standard (m/z 278.189; real time, 3.81 min) for subsequent analysis: https://pubmed.ncbi.nlm.nih.gov/16808434/\n"
   ],
   "metadata": {
    "collapsed": false
   },
   "id": "cd9c85f67493a42a"
  },
  {
   "cell_type": "code",
   "source": [
    "feature = pd.read_table('original/haddad_6weeks_allFeatures_pqn_matched_wIDs.txt', sep ='\\t')"
   ],
   "metadata": {
    "collapsed": false,
    "ExecuteTime": {
     "end_time": "2023-12-31T11:46:45.007904096Z",
     "start_time": "2023-12-31T11:46:44.971259661Z"
    }
   },
   "id": "b15e3fe5e39c8fed",
   "execution_count": 88,
   "outputs": []
  },
  {
   "cell_type": "code",
   "source": [
    "feature.columns"
   ],
   "metadata": {
    "collapsed": false,
    "ExecuteTime": {
     "end_time": "2023-12-31T11:48:07.011058445Z",
     "start_time": "2023-12-31T11:48:06.970280913Z"
    }
   },
   "id": "a2293efebf6b3239",
   "execution_count": 90,
   "outputs": []
  },
  {
   "cell_type": "code",
   "source": [
    "feature.head()"
   ],
   "metadata": {
    "collapsed": false,
    "ExecuteTime": {
     "end_time": "2023-12-31T11:54:58.995629834Z",
     "start_time": "2023-12-31T11:54:58.952407539Z"
    }
   },
   "id": "234990e17358d38c",
   "execution_count": 93,
   "outputs": []
  },
  {
   "cell_type": "code",
   "source": [
    "feature.shape"
   ],
   "metadata": {
    "collapsed": false,
    "ExecuteTime": {
     "end_time": "2023-12-31T14:21:57.870228444Z",
     "start_time": "2023-12-31T14:21:57.863005053Z"
    }
   },
   "id": "1a0fd314e989e6c3",
   "execution_count": 109,
   "outputs": []
  },
  {
   "cell_type": "markdown",
   "source": [
    "Using what they call as \"standard identification\" we have 12 unique metabolites. "
   ],
   "metadata": {
    "collapsed": false
   },
   "id": "4c6a1f66b9d3889d"
  },
  {
   "cell_type": "code",
   "source": [
    "feature['level_1_identification'].unique()"
   ],
   "metadata": {
    "collapsed": false,
    "ExecuteTime": {
     "end_time": "2023-12-31T11:48:22.671270681Z",
     "start_time": "2023-12-31T11:48:22.669022064Z"
    }
   },
   "id": "c6462a384a322526",
   "execution_count": 91,
   "outputs": []
  },
  {
   "cell_type": "code",
   "source": [
    "feature['level_1_identification'].unique()[0]"
   ],
   "metadata": {
    "collapsed": false,
    "ExecuteTime": {
     "end_time": "2023-12-31T11:55:56.276552639Z",
     "start_time": "2023-12-31T11:55:56.273000050Z"
    }
   },
   "id": "d8a82886d08fd721",
   "execution_count": 95,
   "outputs": []
  },
  {
   "cell_type": "markdown",
   "source": [
    "Note, that we have duplication in mapping. AKA we have several features that are mapped to the same metabolites. And we also sometimes have \n",
    "different mapping in GNP and Standard."
   ],
   "metadata": {
    "collapsed": false
   },
   "id": "32e05cf35ff7cb1"
  },
  {
   "cell_type": "code",
   "source": [
    "feature[feature['level_1_identification']!= 'none']"
   ],
   "metadata": {
    "collapsed": false,
    "ExecuteTime": {
     "end_time": "2023-12-31T11:56:09.798740132Z",
     "start_time": "2023-12-31T11:56:09.792906145Z"
    }
   },
   "id": "cd0e649aa6681250",
   "execution_count": 96,
   "outputs": []
  },
  {
   "cell_type": "code",
   "source": [
    "# Extract few statistics about the metabolites:\n",
    "# How many different feature per metabolite do I have? (for level 1 and level 2)? \n",
    "# How many not-agreeing?\n",
    "# Does the different feature that map to the same level-1 metabolites are correlative to each other?\n",
    "feature[feature['level_1_identification']!= 'none'].groupby('level_1_identification').apply(lambda x: x.shape[0])\n"
   ],
   "metadata": {
    "collapsed": false,
    "ExecuteTime": {
     "end_time": "2023-12-31T12:45:23.602977158Z",
     "start_time": "2023-12-31T12:45:23.562151058Z"
    }
   },
   "id": "db210188275068bc",
   "execution_count": 97,
   "outputs": []
  },
  {
   "cell_type": "markdown",
   "source": [
    "Are the features that mapped to the same level_1 identifiers are correlated?"
   ],
   "metadata": {
    "collapsed": false
   },
   "id": "25c21eb9011cf775"
  },
  {
   "cell_type": "code",
   "source": [
    "feature['level_1_identification'].unique()"
   ],
   "metadata": {
    "collapsed": false,
    "ExecuteTime": {
     "end_time": "2024-01-01T08:01:44.086876692Z",
     "start_time": "2024-01-01T08:01:44.046270763Z"
    }
   },
   "id": "4b7b5c99127c496f",
   "execution_count": 141,
   "outputs": []
  },
  {
   "cell_type": "code",
   "source": [
    "for metabolic in feature['level_1_identification'].unique():\n",
    "    if metabolic == 'none':\n",
    "        continue\n",
    "    feature_corr = feature.query('level_1_identification == @metabolic').drop(columns=['obs_mz','obs_rt','level2_gnps','level_1_identification','level_1_identification']).set_index('#featureID').T.corr()\n",
    "    for i in range(feature_corr.shape[0]):\n",
    "        feature_corr.iloc[i, i] = np.nan\n",
    "    print(f\"Mean correlation of features under {metabolic}: {round(feature_corr.corr().mean().mean(),3)}, #features :{feature.query('level_1_identification == @metabolic').shape[0]}\")"
   ],
   "metadata": {
    "collapsed": false,
    "ExecuteTime": {
     "end_time": "2024-01-01T08:10:36.903090099Z",
     "start_time": "2024-01-01T08:10:36.801922340Z"
    }
   },
   "id": "ff8c881a7ae911e5",
   "execution_count": 169,
   "outputs": []
  },
  {
   "cell_type": "code",
   "source": [
    "feature_corr = feature.query('level_1_identification == \"Taurocholic acid\"').drop(columns=['obs_mz','obs_rt','level2_gnps','level_1_identification','level_1_identification']).set_index('#featureID').T.corr()"
   ],
   "metadata": {
    "collapsed": false,
    "ExecuteTime": {
     "end_time": "2024-01-01T08:11:14.614017659Z",
     "start_time": "2024-01-01T08:11:14.610324797Z"
    }
   },
   "id": "2539777e2152a9d",
   "execution_count": 171,
   "outputs": []
  },
  {
   "cell_type": "code",
   "source": [
    "for i in range(feature_corr.shape[0]):\n",
    "    feature_corr.iloc[i, i] = np.nan\n"
   ],
   "metadata": {
    "collapsed": false,
    "ExecuteTime": {
     "end_time": "2024-01-01T08:11:17.768543136Z",
     "start_time": "2024-01-01T08:11:17.764683239Z"
    }
   },
   "id": "2bb35e5e56fbc17",
   "execution_count": 172,
   "outputs": []
  },
  {
   "cell_type": "code",
   "source": [
    "feature_corr"
   ],
   "metadata": {
    "collapsed": false,
    "ExecuteTime": {
     "end_time": "2024-01-01T08:11:21.816455964Z",
     "start_time": "2024-01-01T08:11:21.813358940Z"
    }
   },
   "id": "8ec4206b0253448b",
   "execution_count": 173,
   "outputs": []
  },
  {
   "cell_type": "code",
   "source": [
    "# GNPs seems to be mapped to be more unique (a lot of them are mapped feature -> metabolite. So maybe this can be my demand, that \n",
    "# I would work with a level of identification, that I have a unique metabolism. \n",
    "\n",
    "# Seems like it is possible to annotate between GNPs to HMDB ids. Might take a while due.\n",
    "\n",
    "feature[feature['level2_gnps']!= 'none'].groupby('level2_gnps').apply(lambda x: x.shape[0])"
   ],
   "metadata": {
    "collapsed": false,
    "ExecuteTime": {
     "end_time": "2023-12-31T12:46:29.226917773Z",
     "start_time": "2023-12-31T12:46:29.186366319Z"
    }
   },
   "id": "8309232097b1a5df",
   "execution_count": 98,
   "outputs": []
  },
  {
   "cell_type": "code",
   "source": [
    "feature[feature['level_1_identification']!= 'none'][['level2_gnps', 'level_1_identification']]"
   ],
   "metadata": {
    "collapsed": false,
    "ExecuteTime": {
     "end_time": "2023-12-31T13:33:01.515649074Z",
     "start_time": "2023-12-31T13:33:01.472799338Z"
    }
   },
   "id": "527697afde386fc7",
   "execution_count": 103,
   "outputs": []
  },
  {
   "cell_type": "code",
   "source": [
    "feature[feature['level_1_identification']!= 'none'][['level2_gnps', 'level_1_identification']].iloc[0]\n",
    "# 3.beta.-Hydroxy-5-cholenoic acid I try to see if it is a specification of Deoxycholic acid. I'm not sure. \n",
    "feature[feature['level_1_identification']!= 'none'][['level2_gnps', 'level_1_identification']].iloc[3]\n",
    "# 12-Ketodeoxycholic acid - how can it be both Cholic acid and a-Muricholic acid ? "
   ],
   "metadata": {
    "collapsed": false,
    "ExecuteTime": {
     "end_time": "2023-12-31T13:37:59.015488439Z",
     "start_time": "2023-12-31T13:37:58.971679613Z"
    }
   },
   "id": "c7868eed0138a8fc",
   "execution_count": 106,
   "outputs": []
  },
  {
   "cell_type": "code",
   "source": [
    "# It seems to me that I can take the feature with 1 mapping to GNPs. It seems to be equivalent to HMDB identifier. \n",
    "\n",
    "(feature[feature['level2_gnps']!= 'none'].groupby('level2_gnps').apply(lambda x: x.shape[0]) == 1).sum()\n",
    "# I would have 121 metabolites like that. Create this table.\n",
    "\n",
    "# If I needed to work manually (due seems to have this library) \n",
    "# Then, out of this table select 10 that I would also annotate using HMDB for comparison with Efrat's work on Humans."
   ],
   "metadata": {
    "collapsed": false,
    "ExecuteTime": {
     "end_time": "2023-12-31T13:42:49.617153703Z",
     "start_time": "2023-12-31T13:42:49.610930729Z"
    }
   },
   "id": "f52e9335eee64ed0",
   "execution_count": 108,
   "outputs": []
  },
  {
   "cell_type": "code",
   "source": [
    "# In the end I need a metabolic name in a convention I could work with: KEGG, HMDB, \n",
    "# Map using the help of Efrat and this library: MetaboAnalystR (?) verify if they didn't provide any...?\n",
    "\n",
    "\n",
    "# I would like to have a mapping to KEGG and HMDB identifies. See if it is provided somehow.\n",
    "\n",
    "# In the end I would like to look on metabolites with high-confidence. AKA one-to-one mapping to KEDD/HMDB identifiers. \n",
    "# Understand why I have conflicts between level-1 and level-2 identification and consider how to handle this subset of features -\n",
    "# I might want to drop them as well.\n",
    "\n",
    "# I think that level 1 should be more accurate than level-2. So, if I'm using level-1 it's ok. But if I'm using level 2 and there is missmatch \n",
    "# with level 1 - i might want to drop that feature \\ use level 1. Check first if level-2 is a case of level 1. \n",
    "\n"
   ],
   "metadata": {
    "collapsed": false,
    "ExecuteTime": {
     "end_time": "2023-12-31T13:06:26.934712061Z",
     "start_time": "2023-12-31T13:06:26.891417213Z"
    }
   },
   "id": "be8d017c6e1ed4b2",
   "execution_count": 99,
   "outputs": []
  },
  {
   "cell_type": "code",
   "source": [
    "# Create the standard identification metabolites feature table:"
   ],
   "metadata": {
    "collapsed": false
   },
   "id": "ad86c33273b1e8aa",
   "execution_count": null,
   "outputs": []
  },
  {
   "cell_type": "markdown",
   "source": [
    "Using GNPS we have 201 identified un-targeted metabolites, out of 1710 features of metabolites (aka most metabolites are not identified)"
   ],
   "metadata": {
    "collapsed": false
   },
   "id": "715159621f8f4ac7"
  },
  {
   "cell_type": "code",
   "source": [
    "feature['level2_gnps'].unique()\n"
   ],
   "metadata": {
    "collapsed": false,
    "ExecuteTime": {
     "end_time": "2023-12-31T11:50:49.928336039Z",
     "start_time": "2023-12-31T11:50:49.886266396Z"
    }
   },
   "id": "d9b60c8d8b6c1882",
   "execution_count": 92,
   "outputs": []
  },
  {
   "cell_type": "code",
   "source": [
    "# Create the GNPs metabolites feature table:\n",
    "unique_gnp_metabolite = (feature[feature['level2_gnps']!= 'none'].groupby('level2_gnps').apply(lambda x: x.shape[0]) == 1)\n",
    "unique_gnp_metabolite = unique_gnp_metabolite[unique_gnp_metabolite].index"
   ],
   "metadata": {
    "collapsed": false,
    "ExecuteTime": {
     "end_time": "2023-12-31T14:25:41.102131024Z",
     "start_time": "2023-12-31T14:25:41.089302023Z"
    }
   },
   "id": "d08eadeca6c577c1",
   "execution_count": 114,
   "outputs": []
  },
  {
   "cell_type": "code",
   "source": [
    "# feature['level2_gnps'].isin(unique_gnp_metabolite)\n",
    "metabolite_features = feature.query('level2_gnps in @unique_gnp_metabolite').drop(['obs_mz', 'obs_rt', 'level_1_identification', '#featureID'], axis=1).set_index('level2_gnps').T\n"
   ],
   "metadata": {
    "collapsed": false,
    "ExecuteTime": {
     "end_time": "2023-12-31T14:30:59.366810591Z",
     "start_time": "2023-12-31T14:30:59.323974962Z"
    }
   },
   "id": "f66ebfc1ff14f34c",
   "execution_count": 125,
   "outputs": []
  },
  {
   "cell_type": "code",
   "source": [
    "metabolite_features.to_csv('metabolite_unique_gnp_annotated_HaddadOSA.csv')"
   ],
   "metadata": {
    "collapsed": false,
    "ExecuteTime": {
     "end_time": "2023-12-31T14:32:25.071067964Z",
     "start_time": "2023-12-31T14:32:25.025340078Z"
    }
   },
   "id": "1343aa897584dead",
   "execution_count": 126,
   "outputs": []
  },
  {
   "cell_type": "markdown",
   "source": [
    "Map metabolites GNPS annotation to HMDB and KEGG ids:"
   ],
   "metadata": {
    "collapsed": false
   },
   "id": "f5537af798f1fa0f"
  },
  {
   "cell_type": "code",
   "source": [
    "metabolite_features = pd.read_csv('metabolite_unique_gnp_annotated_HaddadOSA.csv', index_col='Unnamed: 0')"
   ],
   "metadata": {
    "collapsed": false,
    "ExecuteTime": {
     "end_time": "2024-01-11T14:19:59.315327501Z",
     "start_time": "2024-01-11T14:19:59.293993301Z"
    }
   },
   "id": "dadf74b6026a9168",
   "execution_count": 2,
   "outputs": []
  },
  {
   "cell_type": "code",
   "source": [
    "# pd.DataFrame({'GNPS indexes': metabolite_features.columns}).to_csv('gnps_indexes_to_hmdb_ids.csv', index=False)"
   ],
   "metadata": {
    "collapsed": false,
    "ExecuteTime": {
     "end_time": "2024-01-09T09:53:35.409863100Z",
     "start_time": "2024-01-09T09:53:35.369118104Z"
    }
   },
   "id": "e8cb3da7c57d7fcd",
   "execution_count": 12,
   "outputs": []
  },
  {
   "cell_type": "code",
   "source": [
    "gnps_indexes = pd.read_csv('gnps_indexes_to_hmdb_ids.csv')"
   ],
   "metadata": {
    "collapsed": false,
    "ExecuteTime": {
     "end_time": "2024-01-11T14:20:05.844346911Z",
     "start_time": "2024-01-11T14:20:05.836364321Z"
    }
   },
   "id": "7488399c97f2b6fb",
   "execution_count": 4,
   "outputs": []
  },
  {
   "cell_type": "code",
   "source": [
    "import re\n",
    "# gnps_indexes['Spectral Match to (.*) from NIST14'] = gnps_indexes['GNPS indexes'].str.extract(r'Spectral Match to (.*) from NIST14')\n",
    "# gnps_indexes.to_csv('gnps_indexes_to_hmdb_ids.csv', index=False)\n",
    "# with open ('GNPs_spectral_matches_names.txt', 'w') as f:\n",
    "#     for ind in gnps_indexes['Spectral Match to (.*) from NIST14'].dropna().to_list():\n",
    "#         f.write(f\"{ind}\\n\")"
   ],
   "metadata": {
    "collapsed": false,
    "ExecuteTime": {
     "end_time": "2024-01-09T10:05:48.173837438Z",
     "start_time": "2024-01-09T10:05:48.128576214Z"
    }
   },
   "id": "5d6be294a948fd64",
   "execution_count": 17,
   "outputs": []
  },
  {
   "cell_type": "code",
   "source": [
    "gnps_indexes.head()"
   ],
   "metadata": {
    "collapsed": false,
    "ExecuteTime": {
     "end_time": "2024-01-11T14:20:25.884113634Z",
     "start_time": "2024-01-11T14:20:25.876706049Z"
    }
   },
   "id": "a40a23ae0c3d1c52",
   "execution_count": 7,
   "outputs": []
  },
  {
   "cell_type": "code",
   "source": [
    "metabolite_features.head()"
   ],
   "metadata": {
    "collapsed": false,
    "ExecuteTime": {
     "end_time": "2024-01-11T14:20:29.000770586Z",
     "start_time": "2024-01-11T14:20:28.990631145Z"
    }
   },
   "id": "6d32e6c397e669b1",
   "execution_count": 8,
   "outputs": []
  },
  {
   "cell_type": "code",
   "source": [
    "gnps_to_hmdb_ids = gnps_indexes.set_index('GNPS indexes')['HMDB id']"
   ],
   "metadata": {
    "collapsed": false,
    "ExecuteTime": {
     "end_time": "2024-01-11T14:21:28.939300242Z",
     "start_time": "2024-01-11T14:21:28.933847879Z"
    }
   },
   "id": "e30a184a7a682dc5",
   "execution_count": 12,
   "outputs": []
  },
  {
   "cell_type": "code",
   "source": [
    "print(f\"There are {gnps_to_hmdb_ids.dropna().shape[0]} metabolites mapped from GNPS to HMDB, out of {gnps_to_hmdb_ids.shape[0]}\")"
   ],
   "metadata": {
    "collapsed": false,
    "ExecuteTime": {
     "end_time": "2024-01-11T14:22:16.655371185Z",
     "start_time": "2024-01-11T14:22:16.613082711Z"
    }
   },
   "id": "61ee40229f7fae97",
   "execution_count": 15,
   "outputs": []
  },
  {
   "cell_type": "markdown",
   "source": [
    "Create HMDB ids metabolities data, and revisit the statistical analysis with this annotation. Then, save both the significant couples result and the coefficient as is (without filtering). "
   ],
   "metadata": {
    "collapsed": false
   },
   "id": "5074c416c5dd44d0"
  },
  {
   "cell_type": "code",
   "source": [
    "metabolite_features.loc[:, gnps_to_hmdb_ids.dropna().index].rename(columns=gnps_to_hmdb_ids.dropna()).to_csv('metabolite_HMDB_annotated_HaddadOSA.csv')"
   ],
   "metadata": {
    "collapsed": false,
    "ExecuteTime": {
     "end_time": "2024-01-11T15:08:43.547239441Z",
     "start_time": "2024-01-11T15:08:43.506603362Z"
    }
   },
   "id": "bea9a396c46c7af2",
   "execution_count": 20,
   "outputs": []
  },
  {
   "cell_type": "markdown",
   "source": [
    "Process Metabolites features (according to the article): "
   ],
   "metadata": {
    "collapsed": false
   },
   "id": "5a29487656cc6c80"
  },
  {
   "cell_type": "markdown",
   "source": [
    "filter only the control samples from both the metabolite and the taxonomy using the metadata:"
   ],
   "metadata": {
    "collapsed": false
   },
   "id": "fa9a80882dbb8f70"
  },
  {
   "cell_type": "code",
   "source": [
    "control_samples = metadata[metadata.control].index"
   ],
   "metadata": {
    "collapsed": false,
    "ExecuteTime": {
     "end_time": "2023-12-31T14:37:17.423396365Z",
     "start_time": "2023-12-31T14:37:17.420224365Z"
    }
   },
   "id": "e163d632b146ba49",
   "execution_count": 132,
   "outputs": []
  },
  {
   "cell_type": "code",
   "source": [
    "metabolite_features_control = metabolite_features.loc[control_samples, :]\n",
    "taxa_features_control = taxa.loc[control_samples, :]"
   ],
   "metadata": {
    "collapsed": false,
    "ExecuteTime": {
     "end_time": "2023-12-31T14:38:56.371770577Z",
     "start_time": "2023-12-31T14:38:56.368469003Z"
    }
   },
   "id": "ee546c7d500eae57",
   "execution_count": 138,
   "outputs": []
  },
  {
   "cell_type": "markdown",
   "source": [
    "Correlation test:\n",
    "For each metabolite independently, and for each taxa independently, (aka for each (metabolite, genus) tuple) calculate correlation across samples. \n",
    "(Should I apply log on top of the pqn normalization? I think not but verify with Efrat)\n",
    "\n",
    "Note, Need to think with Elhanhan whether we should drop the unknown taxa or not... as I'm working with different taxa... (human/ mice) and maybe the unknown taxa in mice have meaning... "
   ],
   "metadata": {
    "collapsed": false
   },
   "id": "8621dd48cd8b208e"
  },
  {
   "cell_type": "markdown",
   "source": [
    "Prep taxa: calculate relative-abundance, consider if to drop unknown or not"
   ],
   "metadata": {
    "collapsed": false
   },
   "id": "4cdbea62bf434390"
  },
  {
   "cell_type": "code",
   "source": [
    "DROP_UNKNOWN_TAXA = False\n",
    "\n"
   ],
   "metadata": {
    "collapsed": false
   },
   "id": "99bfe78242e69920",
   "execution_count": null,
   "outputs": []
  },
  {
   "cell_type": "code",
   "source": [
    "taxa"
   ],
   "metadata": {
    "collapsed": false,
    "ExecuteTime": {
     "end_time": "2023-12-31T14:45:14.744539866Z",
     "start_time": "2023-12-31T14:45:14.700965744Z"
    }
   },
   "id": "32f70454e84307b3",
   "execution_count": 140,
   "outputs": []
  }
 ],
 "metadata": {
  "kernelspec": {
   "display_name": "Python 3",
   "language": "python",
   "name": "python3"
  },
  "language_info": {
   "codemirror_mode": {
    "name": "ipython",
    "version": 2
   },
   "file_extension": ".py",
   "mimetype": "text/x-python",
   "name": "python",
   "nbconvert_exporter": "python",
   "pygments_lexer": "ipython2",
   "version": "2.7.6"
  }
 },
 "nbformat": 4,
 "nbformat_minor": 5
}
