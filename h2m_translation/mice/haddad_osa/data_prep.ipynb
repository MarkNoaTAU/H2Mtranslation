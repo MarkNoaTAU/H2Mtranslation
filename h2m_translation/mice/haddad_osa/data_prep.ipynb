{
 "cells": [
  {
   "cell_type": "markdown",
   "source": [
    "Data preparation for Haddad OSA article\n"
   ],
   "metadata": {
    "collapsed": false
   },
   "id": "c850129f569a01fb"
  },
  {
   "cell_type": "code",
   "source": [
    "import pandas as pd\n",
    "import numpy as np"
   ],
   "metadata": {
    "collapsed": false,
    "ExecuteTime": {
     "end_time": "2024-05-29T09:20:01.142700Z",
     "start_time": "2024-05-29T09:20:01.005558Z"
    }
   },
   "id": "f7495e0e7aa6c99e",
   "outputs": [],
   "execution_count": 1
  },
  {
   "cell_type": "markdown",
   "source": [
    "Taxonomic feature table: Samples x Taxonomic species"
   ],
   "metadata": {
    "collapsed": false
   },
   "id": "9991929c69bea87d"
  },
  {
   "cell_type": "code",
   "source": [
    "taxa = pd.read_csv('data/taxonomic_observed_abundance_HaddadOSA.csv')\n",
    "taxa = taxa.set_index('#SampleID')"
   ],
   "metadata": {
    "collapsed": false,
    "ExecuteTime": {
     "end_time": "2024-05-29T09:20:20.227852Z",
     "start_time": "2024-05-29T09:20:20.214827Z"
    }
   },
   "id": "9719641286329134",
   "outputs": [],
   "execution_count": 3
  },
  {
   "cell_type": "code",
   "source": [
    "taxa.head()"
   ],
   "metadata": {
    "collapsed": false,
    "ExecuteTime": {
     "end_time": "2024-05-29T09:20:23.988753Z",
     "start_time": "2024-05-29T09:20:23.975742Z"
    }
   },
   "id": "de988fe6e1f3acf8",
   "outputs": [
    {
     "data": {
      "text/plain": [
       "               14-2  1XD42-69  1XD8-76  Acetatifactor  Acetoanaerobium  \\\n",
       "#SampleID                                                                \n",
       "10422.17.F.10   9.0       3.0      1.0           15.0              0.0   \n",
       "10422.17.F.11  15.0       2.0      1.0           11.0              0.0   \n",
       "10422.17.F.12  16.0       4.0      2.0           11.0              0.0   \n",
       "10422.17.F.13  38.0      13.0      3.0           10.0              0.0   \n",
       "10422.17.F.3    5.0       4.0      0.0           19.0              0.0   \n",
       "\n",
       "               Achromobacter  Acidovorax  Acinetobacter  Actinomycetospora  \\\n",
       "#SampleID                                                                    \n",
       "10422.17.F.10            0.0         0.0            0.0                0.0   \n",
       "10422.17.F.11            0.0         0.0            0.0                0.0   \n",
       "10422.17.F.12            0.0         0.0            0.0                0.0   \n",
       "10422.17.F.13            0.0         0.0            0.0                0.0   \n",
       "10422.17.F.3             0.0         0.0            0.0                0.0   \n",
       "\n",
       "               Acutalibacter  ...  UBA7109  UBA8904  UBA964  UTPLA1  Unknown  \\\n",
       "#SampleID                     ...                                              \n",
       "10422.17.F.10            2.0  ...      1.0      0.0     0.0     0.0   1267.0   \n",
       "10422.17.F.11           32.0  ...     10.0      0.0     0.0     0.0   1131.0   \n",
       "10422.17.F.12           17.0  ...     12.0      0.0     0.0     0.0   1106.0   \n",
       "10422.17.F.13           22.0  ...      3.0      0.0     0.0     0.0    938.0   \n",
       "10422.17.F.3            10.0  ...      2.0      0.0     0.0     0.0    948.0   \n",
       "\n",
       "               UphvI-Ar2  Usitatibacter  Variovorax  Ventrimonas  XBB1006  \n",
       "#SampleID                                                                  \n",
       "10422.17.F.10        0.0            0.0         0.0          0.0      0.0  \n",
       "10422.17.F.11        0.0            0.0         0.0          1.0      0.0  \n",
       "10422.17.F.12        0.0            0.0         0.0          1.0      0.0  \n",
       "10422.17.F.13        0.0            0.0         0.0          0.0      0.0  \n",
       "10422.17.F.3         0.0            0.0         0.0          4.0      0.0  \n",
       "\n",
       "[5 rows x 246 columns]"
      ],
      "text/html": [
       "<div>\n",
       "<style scoped>\n",
       "    .dataframe tbody tr th:only-of-type {\n",
       "        vertical-align: middle;\n",
       "    }\n",
       "\n",
       "    .dataframe tbody tr th {\n",
       "        vertical-align: top;\n",
       "    }\n",
       "\n",
       "    .dataframe thead th {\n",
       "        text-align: right;\n",
       "    }\n",
       "</style>\n",
       "<table border=\"1\" class=\"dataframe\">\n",
       "  <thead>\n",
       "    <tr style=\"text-align: right;\">\n",
       "      <th></th>\n",
       "      <th>14-2</th>\n",
       "      <th>1XD42-69</th>\n",
       "      <th>1XD8-76</th>\n",
       "      <th>Acetatifactor</th>\n",
       "      <th>Acetoanaerobium</th>\n",
       "      <th>Achromobacter</th>\n",
       "      <th>Acidovorax</th>\n",
       "      <th>Acinetobacter</th>\n",
       "      <th>Actinomycetospora</th>\n",
       "      <th>Acutalibacter</th>\n",
       "      <th>...</th>\n",
       "      <th>UBA7109</th>\n",
       "      <th>UBA8904</th>\n",
       "      <th>UBA964</th>\n",
       "      <th>UTPLA1</th>\n",
       "      <th>Unknown</th>\n",
       "      <th>UphvI-Ar2</th>\n",
       "      <th>Usitatibacter</th>\n",
       "      <th>Variovorax</th>\n",
       "      <th>Ventrimonas</th>\n",
       "      <th>XBB1006</th>\n",
       "    </tr>\n",
       "    <tr>\n",
       "      <th>#SampleID</th>\n",
       "      <th></th>\n",
       "      <th></th>\n",
       "      <th></th>\n",
       "      <th></th>\n",
       "      <th></th>\n",
       "      <th></th>\n",
       "      <th></th>\n",
       "      <th></th>\n",
       "      <th></th>\n",
       "      <th></th>\n",
       "      <th></th>\n",
       "      <th></th>\n",
       "      <th></th>\n",
       "      <th></th>\n",
       "      <th></th>\n",
       "      <th></th>\n",
       "      <th></th>\n",
       "      <th></th>\n",
       "      <th></th>\n",
       "      <th></th>\n",
       "      <th></th>\n",
       "    </tr>\n",
       "  </thead>\n",
       "  <tbody>\n",
       "    <tr>\n",
       "      <th>10422.17.F.10</th>\n",
       "      <td>9.0</td>\n",
       "      <td>3.0</td>\n",
       "      <td>1.0</td>\n",
       "      <td>15.0</td>\n",
       "      <td>0.0</td>\n",
       "      <td>0.0</td>\n",
       "      <td>0.0</td>\n",
       "      <td>0.0</td>\n",
       "      <td>0.0</td>\n",
       "      <td>2.0</td>\n",
       "      <td>...</td>\n",
       "      <td>1.0</td>\n",
       "      <td>0.0</td>\n",
       "      <td>0.0</td>\n",
       "      <td>0.0</td>\n",
       "      <td>1267.0</td>\n",
       "      <td>0.0</td>\n",
       "      <td>0.0</td>\n",
       "      <td>0.0</td>\n",
       "      <td>0.0</td>\n",
       "      <td>0.0</td>\n",
       "    </tr>\n",
       "    <tr>\n",
       "      <th>10422.17.F.11</th>\n",
       "      <td>15.0</td>\n",
       "      <td>2.0</td>\n",
       "      <td>1.0</td>\n",
       "      <td>11.0</td>\n",
       "      <td>0.0</td>\n",
       "      <td>0.0</td>\n",
       "      <td>0.0</td>\n",
       "      <td>0.0</td>\n",
       "      <td>0.0</td>\n",
       "      <td>32.0</td>\n",
       "      <td>...</td>\n",
       "      <td>10.0</td>\n",
       "      <td>0.0</td>\n",
       "      <td>0.0</td>\n",
       "      <td>0.0</td>\n",
       "      <td>1131.0</td>\n",
       "      <td>0.0</td>\n",
       "      <td>0.0</td>\n",
       "      <td>0.0</td>\n",
       "      <td>1.0</td>\n",
       "      <td>0.0</td>\n",
       "    </tr>\n",
       "    <tr>\n",
       "      <th>10422.17.F.12</th>\n",
       "      <td>16.0</td>\n",
       "      <td>4.0</td>\n",
       "      <td>2.0</td>\n",
       "      <td>11.0</td>\n",
       "      <td>0.0</td>\n",
       "      <td>0.0</td>\n",
       "      <td>0.0</td>\n",
       "      <td>0.0</td>\n",
       "      <td>0.0</td>\n",
       "      <td>17.0</td>\n",
       "      <td>...</td>\n",
       "      <td>12.0</td>\n",
       "      <td>0.0</td>\n",
       "      <td>0.0</td>\n",
       "      <td>0.0</td>\n",
       "      <td>1106.0</td>\n",
       "      <td>0.0</td>\n",
       "      <td>0.0</td>\n",
       "      <td>0.0</td>\n",
       "      <td>1.0</td>\n",
       "      <td>0.0</td>\n",
       "    </tr>\n",
       "    <tr>\n",
       "      <th>10422.17.F.13</th>\n",
       "      <td>38.0</td>\n",
       "      <td>13.0</td>\n",
       "      <td>3.0</td>\n",
       "      <td>10.0</td>\n",
       "      <td>0.0</td>\n",
       "      <td>0.0</td>\n",
       "      <td>0.0</td>\n",
       "      <td>0.0</td>\n",
       "      <td>0.0</td>\n",
       "      <td>22.0</td>\n",
       "      <td>...</td>\n",
       "      <td>3.0</td>\n",
       "      <td>0.0</td>\n",
       "      <td>0.0</td>\n",
       "      <td>0.0</td>\n",
       "      <td>938.0</td>\n",
       "      <td>0.0</td>\n",
       "      <td>0.0</td>\n",
       "      <td>0.0</td>\n",
       "      <td>0.0</td>\n",
       "      <td>0.0</td>\n",
       "    </tr>\n",
       "    <tr>\n",
       "      <th>10422.17.F.3</th>\n",
       "      <td>5.0</td>\n",
       "      <td>4.0</td>\n",
       "      <td>0.0</td>\n",
       "      <td>19.0</td>\n",
       "      <td>0.0</td>\n",
       "      <td>0.0</td>\n",
       "      <td>0.0</td>\n",
       "      <td>0.0</td>\n",
       "      <td>0.0</td>\n",
       "      <td>10.0</td>\n",
       "      <td>...</td>\n",
       "      <td>2.0</td>\n",
       "      <td>0.0</td>\n",
       "      <td>0.0</td>\n",
       "      <td>0.0</td>\n",
       "      <td>948.0</td>\n",
       "      <td>0.0</td>\n",
       "      <td>0.0</td>\n",
       "      <td>0.0</td>\n",
       "      <td>4.0</td>\n",
       "      <td>0.0</td>\n",
       "    </tr>\n",
       "  </tbody>\n",
       "</table>\n",
       "<p>5 rows × 246 columns</p>\n",
       "</div>"
      ]
     },
     "execution_count": 4,
     "metadata": {},
     "output_type": "execute_result"
    }
   ],
   "execution_count": 4
  },
  {
   "cell_type": "markdown",
   "source": [
    "Meta-data:"
   ],
   "metadata": {
    "collapsed": false
   },
   "id": "d5bb24b16d53bf0b"
  },
  {
   "cell_type": "code",
   "source": [
    "metadata = pd.read_csv('original/haddad_6weeks_metadata_matched.txt', sep='\\t')"
   ],
   "metadata": {
    "collapsed": false,
    "ExecuteTime": {
     "end_time": "2024-05-29T12:20:45.481541Z",
     "start_time": "2024-05-29T12:20:45.474272Z"
    }
   },
   "id": "e4687f8dccd744c8",
   "outputs": [],
   "execution_count": 9
  },
  {
   "cell_type": "markdown",
   "source": [
    "Which metadata we care about: \n",
    "* age / collection_timestamp for time-series data. Or maybe better, use the Description to extract the serial number of the collection.\n",
    "* IHH exposure - exposure_type - different between control and study-group. IHH - study_group, Air - Control\n",
    "* host_subject_id / mouse_number\n",
    "\n",
    "\n",
    "Some information about the experiment: \n",
    "Should be 16 mouse, 8 control. \n",
    "Each mouse should have 3 timestamps samples (feces).\n",
    " "
   ],
   "metadata": {
    "collapsed": false
   },
   "id": "4337519e1ec4860b"
  },
  {
   "cell_type": "code",
   "source": [
    "metadata['exposure_type'].unique()"
   ],
   "metadata": {
    "collapsed": false,
    "ExecuteTime": {
     "end_time": "2024-05-29T12:20:51.169704Z",
     "start_time": "2024-05-29T12:20:51.165960Z"
    }
   },
   "id": "7c7a0ee95268768",
   "outputs": [
    {
     "data": {
      "text/plain": [
       "array(['IHH', 'Air'], dtype=object)"
      ]
     },
     "execution_count": 10,
     "metadata": {},
     "output_type": "execute_result"
    }
   ],
   "execution_count": 10
  },
  {
   "cell_type": "code",
   "source": [
    "metadata['host_subject_id'].unique()"
   ],
   "metadata": {
    "collapsed": false,
    "ExecuteTime": {
     "end_time": "2024-05-29T12:20:53.308954Z",
     "start_time": "2024-05-29T12:20:53.305275Z"
    }
   },
   "id": "c3a8a8ddeee2d4cb",
   "outputs": [
    {
     "data": {
      "text/plain": [
       "array(['Mouse 17', 'Mouse 18', 'Mouse 19', 'Mouse 20', 'Mouse 21',\n",
       "       'Mouse 22', 'Mouse 23', 'Mouse 24', 'Mouse 25', 'Mouse 26',\n",
       "       'Mouse 27', 'Mouse 28', 'Mouse 29', 'Mouse 30', 'Mouse 31',\n",
       "       'Mouse 32'], dtype=object)"
      ]
     },
     "execution_count": 11,
     "metadata": {},
     "output_type": "execute_result"
    }
   ],
   "execution_count": 11
  },
  {
   "cell_type": "code",
   "source": [
    "metadata = metadata.set_index('#SampleID')"
   ],
   "metadata": {
    "collapsed": false,
    "ExecuteTime": {
     "end_time": "2024-05-29T12:20:59.602270Z",
     "start_time": "2024-05-29T12:20:59.598832Z"
    }
   },
   "id": "df58116cd02061eb",
   "outputs": [],
   "execution_count": 12
  },
  {
   "cell_type": "code",
   "source": [
    "metadata = pd.concat([metadata['host_subject_id'].to_frame()\n",
    "                         , metadata['Description'].str.extract(r'.*collection (\\d+) of .*').squeeze().to_frame('seq_sample_number'),\n",
    "                      metadata['exposure_type'].map({'IHH': False, 'Air': True}).to_frame('control')], axis=1)"
   ],
   "metadata": {
    "collapsed": false,
    "ExecuteTime": {
     "end_time": "2024-05-29T12:21:04.378628Z",
     "start_time": "2024-05-29T12:21:04.374344Z"
    }
   },
   "id": "d182104a1333ff03",
   "outputs": [],
   "execution_count": 13
  },
  {
   "cell_type": "code",
   "source": [
    "metadata['seq_sample_number'] = metadata['seq_sample_number'].astype(int)"
   ],
   "metadata": {
    "collapsed": false,
    "ExecuteTime": {
     "end_time": "2024-05-29T12:21:18.387850Z",
     "start_time": "2024-05-29T12:21:18.384840Z"
    }
   },
   "id": "9e93ff9a6d367ca1",
   "outputs": [],
   "execution_count": 14
  },
  {
   "cell_type": "markdown",
   "source": [
    "Samples statistics from metadata:"
   ],
   "metadata": {
    "collapsed": false
   },
   "id": "e8be1055dabcf372"
  },
  {
   "cell_type": "code",
   "source": [
    "# How manny control samples there are?\n",
    "print(f'There are {metadata[metadata[\"control\"]].shape[0]} samples under control (including multiple-timestamps per mice)')"
   ],
   "metadata": {
    "collapsed": false,
    "ExecuteTime": {
     "end_time": "2024-05-29T12:21:24.787132Z",
     "start_time": "2024-05-29T12:21:24.783084Z"
    }
   },
   "id": "5b6f8d10d94368ea",
   "outputs": [
    {
     "name": "stdout",
     "output_type": "stream",
     "text": [
      "There are 90 samples under control (including multiple-timestamps per mice)\n"
     ]
    }
   ],
   "execution_count": 15
  },
  {
   "cell_type": "code",
   "source": [
    "print(f\"There are {metadata.groupby('host_subject_id').apply(lambda x: x.sort_values(by='seq_sample_number', ascending=True).iloc[0]).query('control').shape[0]} under control, when taking only the first sample\")"
   ],
   "metadata": {
    "collapsed": false,
    "ExecuteTime": {
     "end_time": "2024-05-29T12:21:27.644975Z",
     "start_time": "2024-05-29T12:21:27.633593Z"
    }
   },
   "id": "83fb467a5a717e1f",
   "outputs": [
    {
     "name": "stdout",
     "output_type": "stream",
     "text": [
      "There are 8 under control, when taking only the first sample\n"
     ]
    }
   ],
   "execution_count": 16
  },
  {
   "cell_type": "code",
   "source": [
    "metadata.to_csv('relevant_metadata_haddad_osa.csv')"
   ],
   "metadata": {
    "collapsed": false,
    "ExecuteTime": {
     "end_time": "2024-05-29T12:21:43.434588Z",
     "start_time": "2024-05-29T12:21:43.431159Z"
    }
   },
   "id": "b3cf0ad834e56493",
   "outputs": [],
   "execution_count": 18
  },
  {
   "metadata": {},
   "cell_type": "markdown",
   "source": "Metabolites:",
   "id": "1d9e26f67d4bbe81"
  },
  {
   "cell_type": "markdown",
   "source": [
    "Load feature table of samples x metabolites (molecule annotations)\n",
    "\n",
    "Note this data is after pqn normalization (what they did in the article) \n",
    " probabilistic quotient normalization to an internal standard (m/z 278.189; real time, 3.81 min) for subsequent analysis: https://pubmed.ncbi.nlm.nih.gov/16808434/\n",
    "\n",
    "Metabolite feature was annotated in OSA article using two methods: \n",
    "\"standard identification\" label as \"level_1_identification\", very high level, have 12 unique metabolite label with a lot of compounds mapped to the same label.\n",
    "The \"standard method\", using theoretical matching to obs_mz/obs_rt.  \n",
    "GNP label as \"level_2_identification\", more descriptive and fine-grained. GNPS method is algorithmic, data dependent method.  \n",
    "We choose to work with GNP labels as the \"compound\" (name convention from Efrat's work on humans) in this article.  \n",
    " "
   ],
   "metadata": {
    "collapsed": false
   },
   "id": "cd9c85f67493a42a"
  },
  {
   "cell_type": "markdown",
   "source": [
    "Using GNPS we have 201 identified un-targeted metabolites, out of 1710 features of metabolites (aka most metabolites are not identified)\n",
    "\n",
    "As many metabolite features can be mapped to the same GNPs we will group and sum those. \n"
   ],
   "metadata": {
    "collapsed": false
   },
   "id": "715159621f8f4ac7"
  },
  {
   "metadata": {
    "ExecuteTime": {
     "end_time": "2024-05-29T12:58:41.597783Z",
     "start_time": "2024-05-29T12:58:41.556636Z"
    }
   },
   "cell_type": "code",
   "source": "metabolite_features = pd.read_table('original/haddad_6weeks_allFeatures_pqn_matched_wIDs.txt', sep ='\\t')",
   "id": "b15e3fe5e39c8fed",
   "outputs": [],
   "execution_count": 63
  },
  {
   "metadata": {
    "ExecuteTime": {
     "end_time": "2024-05-29T12:58:43.759240Z",
     "start_time": "2024-05-29T12:58:43.755017Z"
    }
   },
   "cell_type": "code",
   "source": "metabolite_features.shape",
   "id": "1a0fd314e989e6c3",
   "outputs": [
    {
     "data": {
      "text/plain": [
       "(1710, 187)"
      ]
     },
     "execution_count": 64,
     "metadata": {},
     "output_type": "execute_result"
    }
   ],
   "execution_count": 64
  },
  {
   "metadata": {
    "ExecuteTime": {
     "end_time": "2024-05-29T12:58:50.122170Z",
     "start_time": "2024-05-29T12:58:50.110926Z"
    }
   },
   "cell_type": "code",
   "source": "metabolite_features.head()",
   "id": "5498c8546ad4b1c8",
   "outputs": [
    {
     "data": {
      "text/plain": [
       "                             #featureID  10422.17.F.10  10422.17.F.11  \\\n",
       "0  132.1020923761221_0.4491537660256411   4.178184e+08   5.991767e+08   \n",
       "1  166.0862755041856_0.5858793269230769   3.634780e+08   6.513032e+08   \n",
       "2   357.2784138555112_5.010000161030595   3.730101e+08   4.353000e+08   \n",
       "3  104.1070008277893_0.3359217147435899   5.302187e+08   5.266541e+08   \n",
       "4  373.2735011621581_3.9791876602564105   3.504783e+08   7.103335e+08   \n",
       "\n",
       "   10422.17.F.12  10422.17.F.13  10422.17.F.3  10422.17.F.4  10422.17.F.5  \\\n",
       "0   2.710109e+08   3.743728e+08  3.945791e+08  2.378697e+08  6.067018e+08   \n",
       "1   2.239334e+08   3.676121e+08  3.633605e+08  2.232058e+08  5.965530e+08   \n",
       "2   4.358499e+08   3.920798e+08  4.798095e+08  6.040222e+08  4.506884e+08   \n",
       "3   2.206500e+08   4.904235e+08  3.866654e+08  2.319210e+08  4.159313e+08   \n",
       "4   5.852700e+08   6.007156e+08  4.190507e+08  3.375733e+08  5.356349e+08   \n",
       "\n",
       "   10422.17.F.6  10422.17.F.7  ...  10422.32.F.4  10422.32.F.5  10422.32.F.6  \\\n",
       "0  1.485607e+08  4.227354e+08  ...  2.788358e+08  5.916759e+08  5.721519e+08   \n",
       "1  9.996564e+07  3.635239e+08  ...  2.763446e+08  6.018018e+08  6.096148e+08   \n",
       "2  3.380187e+08  3.516232e+08  ...  4.220846e+08  3.300669e+08  2.797125e+08   \n",
       "3  3.514383e+08  4.247292e+08  ...  3.700028e+08  4.422595e+08  4.189123e+08   \n",
       "4  4.656738e+08  5.054181e+08  ...  5.776752e+08  5.265270e+08  6.323558e+08   \n",
       "\n",
       "   10422.32.F.7  10422.32.F.8  10422.32.F.9      obs_mz      obs_rt  \\\n",
       "0  4.399011e+08  3.049192e+08  7.210507e+08  132.102092   26.949226   \n",
       "1  4.788034e+08  2.669838e+08  9.595680e+08  166.086276   35.152760   \n",
       "2  3.749462e+08  2.102451e+08  4.921743e+08  357.278414  300.600010   \n",
       "3  4.235277e+08  2.993632e+08  5.883732e+08  104.107001   20.155303   \n",
       "4  7.072081e+08  3.048172e+08  7.343837e+08  373.273501  238.751260   \n",
       "\n",
       "                                         level2_gnps  level_1_identification  \n",
       "0                                               none                    none  \n",
       "1  Massbank:PB006064 Phenylalanine|(2S)-2-amino-3...                    none  \n",
       "2  Spectral Match to 3.beta.-Hydroxy-5-cholenoic ...        Deoxycholic acid  \n",
       "3                                               none                    none  \n",
       "4          Spectral Match to Cholic acid from NIST14       b-Muricholic acid  \n",
       "\n",
       "[5 rows x 187 columns]"
      ],
      "text/html": [
       "<div>\n",
       "<style scoped>\n",
       "    .dataframe tbody tr th:only-of-type {\n",
       "        vertical-align: middle;\n",
       "    }\n",
       "\n",
       "    .dataframe tbody tr th {\n",
       "        vertical-align: top;\n",
       "    }\n",
       "\n",
       "    .dataframe thead th {\n",
       "        text-align: right;\n",
       "    }\n",
       "</style>\n",
       "<table border=\"1\" class=\"dataframe\">\n",
       "  <thead>\n",
       "    <tr style=\"text-align: right;\">\n",
       "      <th></th>\n",
       "      <th>#featureID</th>\n",
       "      <th>10422.17.F.10</th>\n",
       "      <th>10422.17.F.11</th>\n",
       "      <th>10422.17.F.12</th>\n",
       "      <th>10422.17.F.13</th>\n",
       "      <th>10422.17.F.3</th>\n",
       "      <th>10422.17.F.4</th>\n",
       "      <th>10422.17.F.5</th>\n",
       "      <th>10422.17.F.6</th>\n",
       "      <th>10422.17.F.7</th>\n",
       "      <th>...</th>\n",
       "      <th>10422.32.F.4</th>\n",
       "      <th>10422.32.F.5</th>\n",
       "      <th>10422.32.F.6</th>\n",
       "      <th>10422.32.F.7</th>\n",
       "      <th>10422.32.F.8</th>\n",
       "      <th>10422.32.F.9</th>\n",
       "      <th>obs_mz</th>\n",
       "      <th>obs_rt</th>\n",
       "      <th>level2_gnps</th>\n",
       "      <th>level_1_identification</th>\n",
       "    </tr>\n",
       "  </thead>\n",
       "  <tbody>\n",
       "    <tr>\n",
       "      <th>0</th>\n",
       "      <td>132.1020923761221_0.4491537660256411</td>\n",
       "      <td>4.178184e+08</td>\n",
       "      <td>5.991767e+08</td>\n",
       "      <td>2.710109e+08</td>\n",
       "      <td>3.743728e+08</td>\n",
       "      <td>3.945791e+08</td>\n",
       "      <td>2.378697e+08</td>\n",
       "      <td>6.067018e+08</td>\n",
       "      <td>1.485607e+08</td>\n",
       "      <td>4.227354e+08</td>\n",
       "      <td>...</td>\n",
       "      <td>2.788358e+08</td>\n",
       "      <td>5.916759e+08</td>\n",
       "      <td>5.721519e+08</td>\n",
       "      <td>4.399011e+08</td>\n",
       "      <td>3.049192e+08</td>\n",
       "      <td>7.210507e+08</td>\n",
       "      <td>132.102092</td>\n",
       "      <td>26.949226</td>\n",
       "      <td>none</td>\n",
       "      <td>none</td>\n",
       "    </tr>\n",
       "    <tr>\n",
       "      <th>1</th>\n",
       "      <td>166.0862755041856_0.5858793269230769</td>\n",
       "      <td>3.634780e+08</td>\n",
       "      <td>6.513032e+08</td>\n",
       "      <td>2.239334e+08</td>\n",
       "      <td>3.676121e+08</td>\n",
       "      <td>3.633605e+08</td>\n",
       "      <td>2.232058e+08</td>\n",
       "      <td>5.965530e+08</td>\n",
       "      <td>9.996564e+07</td>\n",
       "      <td>3.635239e+08</td>\n",
       "      <td>...</td>\n",
       "      <td>2.763446e+08</td>\n",
       "      <td>6.018018e+08</td>\n",
       "      <td>6.096148e+08</td>\n",
       "      <td>4.788034e+08</td>\n",
       "      <td>2.669838e+08</td>\n",
       "      <td>9.595680e+08</td>\n",
       "      <td>166.086276</td>\n",
       "      <td>35.152760</td>\n",
       "      <td>Massbank:PB006064 Phenylalanine|(2S)-2-amino-3...</td>\n",
       "      <td>none</td>\n",
       "    </tr>\n",
       "    <tr>\n",
       "      <th>2</th>\n",
       "      <td>357.2784138555112_5.010000161030595</td>\n",
       "      <td>3.730101e+08</td>\n",
       "      <td>4.353000e+08</td>\n",
       "      <td>4.358499e+08</td>\n",
       "      <td>3.920798e+08</td>\n",
       "      <td>4.798095e+08</td>\n",
       "      <td>6.040222e+08</td>\n",
       "      <td>4.506884e+08</td>\n",
       "      <td>3.380187e+08</td>\n",
       "      <td>3.516232e+08</td>\n",
       "      <td>...</td>\n",
       "      <td>4.220846e+08</td>\n",
       "      <td>3.300669e+08</td>\n",
       "      <td>2.797125e+08</td>\n",
       "      <td>3.749462e+08</td>\n",
       "      <td>2.102451e+08</td>\n",
       "      <td>4.921743e+08</td>\n",
       "      <td>357.278414</td>\n",
       "      <td>300.600010</td>\n",
       "      <td>Spectral Match to 3.beta.-Hydroxy-5-cholenoic ...</td>\n",
       "      <td>Deoxycholic acid</td>\n",
       "    </tr>\n",
       "    <tr>\n",
       "      <th>3</th>\n",
       "      <td>104.1070008277893_0.3359217147435899</td>\n",
       "      <td>5.302187e+08</td>\n",
       "      <td>5.266541e+08</td>\n",
       "      <td>2.206500e+08</td>\n",
       "      <td>4.904235e+08</td>\n",
       "      <td>3.866654e+08</td>\n",
       "      <td>2.319210e+08</td>\n",
       "      <td>4.159313e+08</td>\n",
       "      <td>3.514383e+08</td>\n",
       "      <td>4.247292e+08</td>\n",
       "      <td>...</td>\n",
       "      <td>3.700028e+08</td>\n",
       "      <td>4.422595e+08</td>\n",
       "      <td>4.189123e+08</td>\n",
       "      <td>4.235277e+08</td>\n",
       "      <td>2.993632e+08</td>\n",
       "      <td>5.883732e+08</td>\n",
       "      <td>104.107001</td>\n",
       "      <td>20.155303</td>\n",
       "      <td>none</td>\n",
       "      <td>none</td>\n",
       "    </tr>\n",
       "    <tr>\n",
       "      <th>4</th>\n",
       "      <td>373.2735011621581_3.9791876602564105</td>\n",
       "      <td>3.504783e+08</td>\n",
       "      <td>7.103335e+08</td>\n",
       "      <td>5.852700e+08</td>\n",
       "      <td>6.007156e+08</td>\n",
       "      <td>4.190507e+08</td>\n",
       "      <td>3.375733e+08</td>\n",
       "      <td>5.356349e+08</td>\n",
       "      <td>4.656738e+08</td>\n",
       "      <td>5.054181e+08</td>\n",
       "      <td>...</td>\n",
       "      <td>5.776752e+08</td>\n",
       "      <td>5.265270e+08</td>\n",
       "      <td>6.323558e+08</td>\n",
       "      <td>7.072081e+08</td>\n",
       "      <td>3.048172e+08</td>\n",
       "      <td>7.343837e+08</td>\n",
       "      <td>373.273501</td>\n",
       "      <td>238.751260</td>\n",
       "      <td>Spectral Match to Cholic acid from NIST14</td>\n",
       "      <td>b-Muricholic acid</td>\n",
       "    </tr>\n",
       "  </tbody>\n",
       "</table>\n",
       "<p>5 rows × 187 columns</p>\n",
       "</div>"
      ]
     },
     "execution_count": 65,
     "metadata": {},
     "output_type": "execute_result"
    }
   ],
   "execution_count": 65
  },
  {
   "metadata": {
    "ExecuteTime": {
     "end_time": "2024-05-29T12:59:55.722812Z",
     "start_time": "2024-05-29T12:59:55.717093Z"
    }
   },
   "cell_type": "code",
   "source": "gnp_metabolite = metabolite_features[metabolite_features['level2_gnps']!= 'none'].drop(columns=['#featureID','level_1_identification', 'obs_mz','obs_rt']).groupby('level2_gnps').sum()\n",
   "id": "3ea0ec29b266fb72",
   "outputs": [],
   "execution_count": 67
  },
  {
   "metadata": {
    "ExecuteTime": {
     "end_time": "2024-05-29T12:59:58.161911Z",
     "start_time": "2024-05-29T12:59:58.158200Z"
    }
   },
   "cell_type": "code",
   "source": "gnp_metabolite.shape",
   "id": "8d52745db588430c",
   "outputs": [
    {
     "data": {
      "text/plain": [
       "(201, 182)"
      ]
     },
     "execution_count": 68,
     "metadata": {},
     "output_type": "execute_result"
    }
   ],
   "execution_count": 68
  },
  {
   "metadata": {
    "ExecuteTime": {
     "end_time": "2024-05-29T13:00:01.054226Z",
     "start_time": "2024-05-29T13:00:01.051286Z"
    }
   },
   "cell_type": "code",
   "source": "gnp_metabolite = gnp_metabolite.T",
   "id": "7c8fa08a860e41fe",
   "outputs": [],
   "execution_count": 69
  },
  {
   "metadata": {
    "ExecuteTime": {
     "end_time": "2024-05-29T14:51:18.649938Z",
     "start_time": "2024-05-29T14:51:18.637443Z"
    }
   },
   "cell_type": "code",
   "source": "gnp_metabolite.head()",
   "id": "d58d490d0e936161",
   "outputs": [
    {
     "data": {
      "text/plain": [
       "level2_gnps    ()-Myristoylcarnitine     (S)-Equol  0498_Daidzein  \\\n",
       "10422.17.F.10           3.159649e+08  3.922909e+08   4.118110e+08   \n",
       "10422.17.F.11           2.126023e+07  1.867059e+08   0.000000e+00   \n",
       "10422.17.F.12           2.336577e+08  3.954004e+08   2.159655e+08   \n",
       "10422.17.F.13           2.502001e+08  8.583749e+07   3.043807e+08   \n",
       "10422.17.F.3            1.676555e+09  1.524704e+07   4.848800e+08   \n",
       "\n",
       "level2_gnps    1,2,3,4-tetrahydroharmane-3-carboxylic acid  \\\n",
       "10422.17.F.10                                 1.424319e+08   \n",
       "10422.17.F.11                                 4.496135e+08   \n",
       "10422.17.F.12                                 1.159784e+08   \n",
       "10422.17.F.13                                 7.896079e+08   \n",
       "10422.17.F.3                                  1.208026e+09   \n",
       "\n",
       "level2_gnps    1-(9Z-Octadecenoyl)-sn-glycero-3-phosphocholine  \\\n",
       "10422.17.F.10                                     5.126184e+08   \n",
       "10422.17.F.11                                     1.727695e+08   \n",
       "10422.17.F.12                                     2.714844e+08   \n",
       "10422.17.F.13                                     6.983418e+08   \n",
       "10422.17.F.3                                      1.179622e+09   \n",
       "\n",
       "level2_gnps    1-Stearoyl-2-hydroxy-sn-glycero-3-phosphocholine  \\\n",
       "10422.17.F.10                                      8.969007e+07   \n",
       "10422.17.F.11                                      2.019812e+08   \n",
       "10422.17.F.12                                      2.939630e+08   \n",
       "10422.17.F.13                                      6.601377e+08   \n",
       "10422.17.F.3                                       2.965064e+09   \n",
       "\n",
       "level2_gnps    1-Stearoyl-2-hydroxy-sn-glycero-3-phosphoethanolamine  \\\n",
       "10422.17.F.10                                       4.198768e+08       \n",
       "10422.17.F.11                                       3.141754e+07       \n",
       "10422.17.F.12                                       3.047576e+08       \n",
       "10422.17.F.13                                       5.279404e+08       \n",
       "10422.17.F.3                                        2.442140e+09       \n",
       "\n",
       "level2_gnps    11Z-hexadecenoic acid  \\\n",
       "10422.17.F.10           5.648033e+07   \n",
       "10422.17.F.11           1.046284e+08   \n",
       "10422.17.F.12           1.251146e+08   \n",
       "10422.17.F.13           2.304841e+08   \n",
       "10422.17.F.3            1.394876e+08   \n",
       "\n",
       "level2_gnps    13S-Hydroxy-9Z,11E,15Z-octadecatrienoic acid  \\\n",
       "10422.17.F.10                                  1.184549e+09   \n",
       "10422.17.F.11                                  1.934521e+09   \n",
       "10422.17.F.12                                  1.904190e+09   \n",
       "10422.17.F.13                                  2.999902e+09   \n",
       "10422.17.F.3                                   1.313219e+09   \n",
       "\n",
       "level2_gnps    1OPalmitoyl2Oacetylsnglycero3phosphorylcholine  ...  \\\n",
       "10422.17.F.10                                    1.108540e+09  ...   \n",
       "10422.17.F.11                                    2.901169e+08  ...   \n",
       "10422.17.F.12                                    1.127209e+08  ...   \n",
       "10422.17.F.13                                    5.924575e+09  ...   \n",
       "10422.17.F.3                                     4.320742e+08  ...   \n",
       "\n",
       "level2_gnps        Ursodiol   Val Ile Ser   Val Ile Thr   Val Leu Ile  \\\n",
       "10422.17.F.10  5.528667e+08  2.181808e+08  3.471831e+08  1.534835e+08   \n",
       "10422.17.F.11  1.452149e+09  9.307885e+08  3.394768e+09  8.419900e+08   \n",
       "10422.17.F.12  9.390147e+08  3.715455e+08  1.247775e+09  4.383393e+08   \n",
       "10422.17.F.13  1.072192e+09  1.465024e+09  2.544299e+09  8.091601e+08   \n",
       "10422.17.F.3   3.081732e+08  9.684140e+08  1.597777e+09  4.121136e+08   \n",
       "\n",
       "level2_gnps     Val Pro Val       Val Tyr   Val Val Leu  \\\n",
       "10422.17.F.10  1.821822e+08  1.407291e+08  2.693802e+08   \n",
       "10422.17.F.11  6.658940e+08  6.349237e+08  1.361782e+09   \n",
       "10422.17.F.12  3.722912e+07  1.393732e+08  3.297086e+10   \n",
       "10422.17.F.13  1.091217e+09  1.016178e+09  1.253986e+09   \n",
       "10422.17.F.3   5.428282e+08  4.873222e+08  6.365133e+08   \n",
       "\n",
       "level2_gnps    cis-7-Hexadecenoic acid methyl ester  \\\n",
       "10422.17.F.10                          1.256537e+08   \n",
       "10422.17.F.11                          2.059950e+08   \n",
       "10422.17.F.12                          2.709687e+08   \n",
       "10422.17.F.13                          5.420607e+08   \n",
       "10422.17.F.3                           4.903278e+08   \n",
       "\n",
       "level2_gnps    none_16904_dereplictor_pv_3.86203e-22       sucrose  \n",
       "10422.17.F.10                           0.000000e+00  1.000284e+09  \n",
       "10422.17.F.11                           3.319443e+08  1.110240e+09  \n",
       "10422.17.F.12                           6.959110e+08  2.403973e+09  \n",
       "10422.17.F.13                           3.120713e+09  7.512926e+09  \n",
       "10422.17.F.3                            4.637753e+07  4.109085e+08  \n",
       "\n",
       "[5 rows x 201 columns]"
      ],
      "text/html": [
       "<div>\n",
       "<style scoped>\n",
       "    .dataframe tbody tr th:only-of-type {\n",
       "        vertical-align: middle;\n",
       "    }\n",
       "\n",
       "    .dataframe tbody tr th {\n",
       "        vertical-align: top;\n",
       "    }\n",
       "\n",
       "    .dataframe thead th {\n",
       "        text-align: right;\n",
       "    }\n",
       "</style>\n",
       "<table border=\"1\" class=\"dataframe\">\n",
       "  <thead>\n",
       "    <tr style=\"text-align: right;\">\n",
       "      <th>level2_gnps</th>\n",
       "      <th>()-Myristoylcarnitine</th>\n",
       "      <th>(S)-Equol</th>\n",
       "      <th>0498_Daidzein</th>\n",
       "      <th>1,2,3,4-tetrahydroharmane-3-carboxylic acid</th>\n",
       "      <th>1-(9Z-Octadecenoyl)-sn-glycero-3-phosphocholine</th>\n",
       "      <th>1-Stearoyl-2-hydroxy-sn-glycero-3-phosphocholine</th>\n",
       "      <th>1-Stearoyl-2-hydroxy-sn-glycero-3-phosphoethanolamine</th>\n",
       "      <th>11Z-hexadecenoic acid</th>\n",
       "      <th>13S-Hydroxy-9Z,11E,15Z-octadecatrienoic acid</th>\n",
       "      <th>1OPalmitoyl2Oacetylsnglycero3phosphorylcholine</th>\n",
       "      <th>...</th>\n",
       "      <th>Ursodiol</th>\n",
       "      <th>Val Ile Ser</th>\n",
       "      <th>Val Ile Thr</th>\n",
       "      <th>Val Leu Ile</th>\n",
       "      <th>Val Pro Val</th>\n",
       "      <th>Val Tyr</th>\n",
       "      <th>Val Val Leu</th>\n",
       "      <th>cis-7-Hexadecenoic acid methyl ester</th>\n",
       "      <th>none_16904_dereplictor_pv_3.86203e-22</th>\n",
       "      <th>sucrose</th>\n",
       "    </tr>\n",
       "  </thead>\n",
       "  <tbody>\n",
       "    <tr>\n",
       "      <th>10422.17.F.10</th>\n",
       "      <td>3.159649e+08</td>\n",
       "      <td>3.922909e+08</td>\n",
       "      <td>4.118110e+08</td>\n",
       "      <td>1.424319e+08</td>\n",
       "      <td>5.126184e+08</td>\n",
       "      <td>8.969007e+07</td>\n",
       "      <td>4.198768e+08</td>\n",
       "      <td>5.648033e+07</td>\n",
       "      <td>1.184549e+09</td>\n",
       "      <td>1.108540e+09</td>\n",
       "      <td>...</td>\n",
       "      <td>5.528667e+08</td>\n",
       "      <td>2.181808e+08</td>\n",
       "      <td>3.471831e+08</td>\n",
       "      <td>1.534835e+08</td>\n",
       "      <td>1.821822e+08</td>\n",
       "      <td>1.407291e+08</td>\n",
       "      <td>2.693802e+08</td>\n",
       "      <td>1.256537e+08</td>\n",
       "      <td>0.000000e+00</td>\n",
       "      <td>1.000284e+09</td>\n",
       "    </tr>\n",
       "    <tr>\n",
       "      <th>10422.17.F.11</th>\n",
       "      <td>2.126023e+07</td>\n",
       "      <td>1.867059e+08</td>\n",
       "      <td>0.000000e+00</td>\n",
       "      <td>4.496135e+08</td>\n",
       "      <td>1.727695e+08</td>\n",
       "      <td>2.019812e+08</td>\n",
       "      <td>3.141754e+07</td>\n",
       "      <td>1.046284e+08</td>\n",
       "      <td>1.934521e+09</td>\n",
       "      <td>2.901169e+08</td>\n",
       "      <td>...</td>\n",
       "      <td>1.452149e+09</td>\n",
       "      <td>9.307885e+08</td>\n",
       "      <td>3.394768e+09</td>\n",
       "      <td>8.419900e+08</td>\n",
       "      <td>6.658940e+08</td>\n",
       "      <td>6.349237e+08</td>\n",
       "      <td>1.361782e+09</td>\n",
       "      <td>2.059950e+08</td>\n",
       "      <td>3.319443e+08</td>\n",
       "      <td>1.110240e+09</td>\n",
       "    </tr>\n",
       "    <tr>\n",
       "      <th>10422.17.F.12</th>\n",
       "      <td>2.336577e+08</td>\n",
       "      <td>3.954004e+08</td>\n",
       "      <td>2.159655e+08</td>\n",
       "      <td>1.159784e+08</td>\n",
       "      <td>2.714844e+08</td>\n",
       "      <td>2.939630e+08</td>\n",
       "      <td>3.047576e+08</td>\n",
       "      <td>1.251146e+08</td>\n",
       "      <td>1.904190e+09</td>\n",
       "      <td>1.127209e+08</td>\n",
       "      <td>...</td>\n",
       "      <td>9.390147e+08</td>\n",
       "      <td>3.715455e+08</td>\n",
       "      <td>1.247775e+09</td>\n",
       "      <td>4.383393e+08</td>\n",
       "      <td>3.722912e+07</td>\n",
       "      <td>1.393732e+08</td>\n",
       "      <td>3.297086e+10</td>\n",
       "      <td>2.709687e+08</td>\n",
       "      <td>6.959110e+08</td>\n",
       "      <td>2.403973e+09</td>\n",
       "    </tr>\n",
       "    <tr>\n",
       "      <th>10422.17.F.13</th>\n",
       "      <td>2.502001e+08</td>\n",
       "      <td>8.583749e+07</td>\n",
       "      <td>3.043807e+08</td>\n",
       "      <td>7.896079e+08</td>\n",
       "      <td>6.983418e+08</td>\n",
       "      <td>6.601377e+08</td>\n",
       "      <td>5.279404e+08</td>\n",
       "      <td>2.304841e+08</td>\n",
       "      <td>2.999902e+09</td>\n",
       "      <td>5.924575e+09</td>\n",
       "      <td>...</td>\n",
       "      <td>1.072192e+09</td>\n",
       "      <td>1.465024e+09</td>\n",
       "      <td>2.544299e+09</td>\n",
       "      <td>8.091601e+08</td>\n",
       "      <td>1.091217e+09</td>\n",
       "      <td>1.016178e+09</td>\n",
       "      <td>1.253986e+09</td>\n",
       "      <td>5.420607e+08</td>\n",
       "      <td>3.120713e+09</td>\n",
       "      <td>7.512926e+09</td>\n",
       "    </tr>\n",
       "    <tr>\n",
       "      <th>10422.17.F.3</th>\n",
       "      <td>1.676555e+09</td>\n",
       "      <td>1.524704e+07</td>\n",
       "      <td>4.848800e+08</td>\n",
       "      <td>1.208026e+09</td>\n",
       "      <td>1.179622e+09</td>\n",
       "      <td>2.965064e+09</td>\n",
       "      <td>2.442140e+09</td>\n",
       "      <td>1.394876e+08</td>\n",
       "      <td>1.313219e+09</td>\n",
       "      <td>4.320742e+08</td>\n",
       "      <td>...</td>\n",
       "      <td>3.081732e+08</td>\n",
       "      <td>9.684140e+08</td>\n",
       "      <td>1.597777e+09</td>\n",
       "      <td>4.121136e+08</td>\n",
       "      <td>5.428282e+08</td>\n",
       "      <td>4.873222e+08</td>\n",
       "      <td>6.365133e+08</td>\n",
       "      <td>4.903278e+08</td>\n",
       "      <td>4.637753e+07</td>\n",
       "      <td>4.109085e+08</td>\n",
       "    </tr>\n",
       "  </tbody>\n",
       "</table>\n",
       "<p>5 rows × 201 columns</p>\n",
       "</div>"
      ]
     },
     "execution_count": 146,
     "metadata": {},
     "output_type": "execute_result"
    }
   ],
   "execution_count": 146
  },
  {
   "cell_type": "code",
   "source": "gnp_metabolite.to_csv('data/metabolite_gnp_annotated_HaddadOSA.csv')",
   "metadata": {
    "collapsed": false,
    "ExecuteTime": {
     "end_time": "2024-05-29T14:51:21.666912Z",
     "start_time": "2024-05-29T14:51:21.637600Z"
    }
   },
   "id": "1343aa897584dead",
   "outputs": [],
   "execution_count": 147
  },
  {
   "cell_type": "markdown",
   "source": [
    "Map metabolites GNPS annotation to HMDB and KEGG ids:"
   ],
   "metadata": {
    "collapsed": false
   },
   "id": "f5537af798f1fa0f"
  },
  {
   "cell_type": "code",
   "source": "metabolite_features = pd.read_csv('data/metabolite_gnp_annotated_HaddadOSA.csv', index_col='Unnamed: 0')",
   "metadata": {
    "collapsed": false,
    "ExecuteTime": {
     "end_time": "2024-05-29T13:21:09.229543Z",
     "start_time": "2024-05-29T13:21:09.218984Z"
    }
   },
   "id": "dadf74b6026a9168",
   "outputs": [],
   "execution_count": 132
  },
  {
   "metadata": {
    "ExecuteTime": {
     "end_time": "2024-05-29T13:21:10.809761Z",
     "start_time": "2024-05-29T13:21:10.803086Z"
    }
   },
   "cell_type": "code",
   "source": "metabolite_features = metabolite_features.stack().reset_index(drop=False).rename(columns={'level_0': 'sample_id', 'level_1':'metabolite_id' ,0:'metabolite_level'})",
   "id": "a590086d4189751e",
   "outputs": [],
   "execution_count": 133
  },
  {
   "metadata": {
    "ExecuteTime": {
     "end_time": "2024-05-29T13:21:13.104725Z",
     "start_time": "2024-05-29T13:21:13.098974Z"
    }
   },
   "cell_type": "code",
   "source": "metabolite_features.head()",
   "id": "21571848bc5e8932",
   "outputs": [
    {
     "data": {
      "text/plain": [
       "       sample_id                                    metabolite_id  \\\n",
       "0  10422.17.F.10                            ()-Myristoylcarnitine   \n",
       "1  10422.17.F.10                                        (S)-Equol   \n",
       "2  10422.17.F.10                                    0498_Daidzein   \n",
       "3  10422.17.F.10      1,2,3,4-tetrahydroharmane-3-carboxylic acid   \n",
       "4  10422.17.F.10  1-(9Z-Octadecenoyl)-sn-glycero-3-phosphocholine   \n",
       "\n",
       "   metabolite_level  \n",
       "0      3.159649e+08  \n",
       "1      3.922909e+08  \n",
       "2      4.118110e+08  \n",
       "3      1.424319e+08  \n",
       "4      5.126184e+08  "
      ],
      "text/html": [
       "<div>\n",
       "<style scoped>\n",
       "    .dataframe tbody tr th:only-of-type {\n",
       "        vertical-align: middle;\n",
       "    }\n",
       "\n",
       "    .dataframe tbody tr th {\n",
       "        vertical-align: top;\n",
       "    }\n",
       "\n",
       "    .dataframe thead th {\n",
       "        text-align: right;\n",
       "    }\n",
       "</style>\n",
       "<table border=\"1\" class=\"dataframe\">\n",
       "  <thead>\n",
       "    <tr style=\"text-align: right;\">\n",
       "      <th></th>\n",
       "      <th>sample_id</th>\n",
       "      <th>metabolite_id</th>\n",
       "      <th>metabolite_level</th>\n",
       "    </tr>\n",
       "  </thead>\n",
       "  <tbody>\n",
       "    <tr>\n",
       "      <th>0</th>\n",
       "      <td>10422.17.F.10</td>\n",
       "      <td>()-Myristoylcarnitine</td>\n",
       "      <td>3.159649e+08</td>\n",
       "    </tr>\n",
       "    <tr>\n",
       "      <th>1</th>\n",
       "      <td>10422.17.F.10</td>\n",
       "      <td>(S)-Equol</td>\n",
       "      <td>3.922909e+08</td>\n",
       "    </tr>\n",
       "    <tr>\n",
       "      <th>2</th>\n",
       "      <td>10422.17.F.10</td>\n",
       "      <td>0498_Daidzein</td>\n",
       "      <td>4.118110e+08</td>\n",
       "    </tr>\n",
       "    <tr>\n",
       "      <th>3</th>\n",
       "      <td>10422.17.F.10</td>\n",
       "      <td>1,2,3,4-tetrahydroharmane-3-carboxylic acid</td>\n",
       "      <td>1.424319e+08</td>\n",
       "    </tr>\n",
       "    <tr>\n",
       "      <th>4</th>\n",
       "      <td>10422.17.F.10</td>\n",
       "      <td>1-(9Z-Octadecenoyl)-sn-glycero-3-phosphocholine</td>\n",
       "      <td>5.126184e+08</td>\n",
       "    </tr>\n",
       "  </tbody>\n",
       "</table>\n",
       "</div>"
      ]
     },
     "execution_count": 134,
     "metadata": {},
     "output_type": "execute_result"
    }
   ],
   "execution_count": 134
  },
  {
   "metadata": {},
   "cell_type": "markdown",
   "source": "Map the GNPS metabolites to HMDB",
   "id": "d28e9c60f74e62e3"
  },
  {
   "cell_type": "code",
   "source": [
    "gnps_indexes = pd.read_csv('data/gnps_indexes_to_hmdb_ids.csv')\n",
    "gnps_to_hmdb_ids = gnps_indexes.set_index('GNPS indexes')['HMDB id']\n"
   ],
   "metadata": {
    "collapsed": false,
    "ExecuteTime": {
     "end_time": "2024-05-29T13:21:24.803894Z",
     "start_time": "2024-05-29T13:21:24.799363Z"
    }
   },
   "id": "7488399c97f2b6fb",
   "outputs": [],
   "execution_count": 135
  },
  {
   "metadata": {
    "ExecuteTime": {
     "end_time": "2024-05-29T13:07:36.055363Z",
     "start_time": "2024-05-29T13:07:36.052004Z"
    }
   },
   "cell_type": "code",
   "source": "gnps_to_hmdb_ids.shape",
   "id": "a40a23ae0c3d1c52",
   "outputs": [
    {
     "data": {
      "text/plain": [
       "(121,)"
      ]
     },
     "execution_count": 106,
     "metadata": {},
     "output_type": "execute_result"
    }
   ],
   "execution_count": 106
  },
  {
   "metadata": {
    "ExecuteTime": {
     "end_time": "2024-05-29T13:24:26.175053Z",
     "start_time": "2024-05-29T13:24:26.172001Z"
    }
   },
   "cell_type": "code",
   "source": "print(f\"There are {gnps_to_hmdb_ids.dropna().shape[0]} metabolites mapped from GNPS to HMDB, {gnps_to_hmdb_ids.dropna().unique().shape[0]} unique HMDB ids, out of {gnps_to_hmdb_ids.shape[0]} GNPS ids\")",
   "id": "61ee40229f7fae97",
   "outputs": [
    {
     "name": "stdout",
     "output_type": "stream",
     "text": [
      "There are 73 metabolites mapped from GNPS to HMDB, 71 unique HMDB ids, out of 121 GNPS ids\n"
     ]
    }
   ],
   "execution_count": 143
  },
  {
   "metadata": {
    "ExecuteTime": {
     "end_time": "2024-05-29T13:22:37.000616Z",
     "start_time": "2024-05-29T13:22:36.995726Z"
    }
   },
   "cell_type": "code",
   "source": "metabolite_features['metabolite_id'] = metabolite_features['metabolite_id'].map(gnps_to_hmdb_ids)",
   "id": "e445f0e7e6283b01",
   "outputs": [],
   "execution_count": 138
  },
  {
   "metadata": {
    "ExecuteTime": {
     "end_time": "2024-05-29T13:23:34.265226Z",
     "start_time": "2024-05-29T13:23:34.256550Z"
    }
   },
   "cell_type": "code",
   "source": "metabolite_features = metabolite_features.pivot_table(columns='metabolite_id', aggfunc='sum', index='sample_id', values='metabolite_level')",
   "id": "538656d5a2e1b488",
   "outputs": [],
   "execution_count": 140
  },
  {
   "metadata": {
    "ExecuteTime": {
     "end_time": "2024-05-29T14:51:36.379476Z",
     "start_time": "2024-05-29T14:51:36.369704Z"
    }
   },
   "cell_type": "code",
   "source": "metabolite_features.to_csv('data/metabolite_HMDB_annotated_HaddadOSA.csv')",
   "id": "a51ff94dc02b877e",
   "outputs": [],
   "execution_count": 148
  }
 ],
 "metadata": {
  "kernelspec": {
   "display_name": "Python 3",
   "language": "python",
   "name": "python3"
  },
  "language_info": {
   "codemirror_mode": {
    "name": "ipython",
    "version": 2
   },
   "file_extension": ".py",
   "mimetype": "text/x-python",
   "name": "python",
   "nbconvert_exporter": "python",
   "pygments_lexer": "ipython2",
   "version": "2.7.6"
  }
 },
 "nbformat": 4,
 "nbformat_minor": 5
}
