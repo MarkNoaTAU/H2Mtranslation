{
 "cells": [
  {
   "cell_type": "markdown",
   "source": [
    "Find a relevant Human DB, aka a DB to compare to how have large overlap of Metabolite data. (From Efrat's cohort)\n",
    "To find the Dataset, we will compare the HMDB metabolite in each dataset in \n",
    "data/processed_data/{dataset}/mtb.map.tsv with our metabolite list. \n"
   ],
   "metadata": {
    "collapsed": false
   },
   "id": "2570543c8687ecc6"
  },
  {
   "cell_type": "code",
   "source": [
    "import pandas as pd \n",
    "import numpy as np\n",
    "\n",
    "metabolome_bacteria_significant_corr = pd.read_pickle('analysis/metabolome_bacteria_significant_corr.pkl')\n",
    "metabolomes_osa = metabolome_bacteria_significant_corr.index.get_level_values(0)"
   ],
   "metadata": {
    "collapsed": false,
    "ExecuteTime": {
     "end_time": "2024-03-04T11:51:01.073122Z",
     "start_time": "2024-03-04T11:51:01.070337Z"
    }
   },
   "id": "fb3a88d3ea7f855b",
   "execution_count": 1,
   "outputs": []
  },
  {
   "cell_type": "code",
   "source": [
    "metabolomes_osa"
   ],
   "metadata": {
    "collapsed": false,
    "ExecuteTime": {
     "end_time": "2024-03-04T11:51:57.366050Z",
     "start_time": "2024-03-04T11:51:57.361469Z"
    }
   },
   "id": "667cd303d89ed931",
   "execution_count": 6,
   "outputs": []
  },
  {
   "cell_type": "code",
   "source": [
    "from os import listdir\n",
    "from os.path import isfile, join\n",
    "mypath = '/home/noa/lab_code/microbiome-metabolome-curated-data/data/processed_data'\n",
    "datasets = listdir(mypath)\n",
    "metabolome_intersect_db = pd.Series(index=datasets, dtype=int)\n",
    "for dataset in datasets:\n",
    "    metabolome_in_db = pd.Index(pd.read_csv(f'{mypath}/{dataset}/mtb.map.tsv',sep='\\t')['HMDB'].dropna())\n",
    "    metabolome_intersect_db[dataset] = len(metabolome_in_db.intersection(metabolomes_osa))\n",
    "    print(f\"Dataset: {dataset} have {metabolome_intersect_db[dataset] } metabolite in common with OSA experiment\")\n"
   ],
   "metadata": {
    "collapsed": false,
    "ExecuteTime": {
     "end_time": "2024-03-04T12:01:40.791109Z",
     "start_time": "2024-03-04T12:01:40.704241Z"
    }
   },
   "id": "b7594ad0444a1597",
   "execution_count": 35,
   "outputs": []
  },
  {
   "cell_type": "code",
   "source": [
    "print(f\"The dataset that have the largest number of metabolite in common with OSA is: {metabolome_intersect_db.idxmax()}, with {metabolome_intersect_db.max()} metabolites in common\")"
   ],
   "metadata": {
    "collapsed": false,
    "ExecuteTime": {
     "end_time": "2024-03-04T12:01:42.860699Z",
     "start_time": "2024-03-04T12:01:42.857782Z"
    }
   },
   "id": "1f7213830aac0398",
   "execution_count": 36,
   "outputs": []
  }
 ],
 "metadata": {
  "kernelspec": {
   "display_name": "Python 3",
   "language": "python",
   "name": "python3"
  },
  "language_info": {
   "codemirror_mode": {
    "name": "ipython",
    "version": 2
   },
   "file_extension": ".py",
   "mimetype": "text/x-python",
   "name": "python",
   "nbconvert_exporter": "python",
   "pygments_lexer": "ipython2",
   "version": "2.7.6"
  }
 },
 "nbformat": 4,
 "nbformat_minor": 5
}
