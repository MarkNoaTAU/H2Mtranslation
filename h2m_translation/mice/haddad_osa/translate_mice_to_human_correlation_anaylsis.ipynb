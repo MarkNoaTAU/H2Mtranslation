{
 "cells": [
  {
   "cell_type": "markdown",
   "source": [
    "Translate Mice to Human correlation analysis using MGBC taxa-to-taxa translation tool. "
   ],
   "metadata": {
    "collapsed": false
   },
   "id": "62c4f79dcc8d7419"
  },
  {
   "cell_type": "code",
   "outputs": [],
   "source": [
    "import pandas as pd \n",
    "import numpy as np "
   ],
   "metadata": {
    "collapsed": false,
    "ExecuteTime": {
     "end_time": "2024-03-05T14:56:41.355355Z",
     "start_time": "2024-03-05T14:56:41.353452Z"
    }
   },
   "id": "48c57c492fca3673",
   "execution_count": 1
  },
  {
   "cell_type": "markdown",
   "source": [
    "As a first step, extract from the Mice microbiome-metabolome association analysis a set of mice taxa we want to translate to human."
   ],
   "metadata": {
    "collapsed": false
   },
   "id": "7336afd2e26854de"
  },
  {
   "cell_type": "code",
   "outputs": [
    {
     "data": {
      "text/plain": "Index(['Acutalibacter', 'CAG-485', 'Eubacterium_R', 'Faecalibaculum',\n       'Lactococcus', 'Roseburia', 'Turicibacter', 'Pseudobutyricicoccus',\n       'CAG-56', '1XD42-69', 'Anaerotignum', 'CAJTFG01',\n       'Erysipelatoclostridium', 'Marseille-P3106', 'Emergencia',\n       'Clostridium', 'Enterenecus', 'NM07-P-09', 'Copromonas',\n       'Lawsonibacter', 'Angelakisella', 'Clostridium_Q', 'Kineothrix',\n       'Romboutsia', 'Duncaniella', 'Pelethomonas', 'BX12', 'Merdisoma',\n       'Sporofaciens', 'Lactobacillus', 'Streptococcus', '14-2',\n       'Lachnoclostridium_B', 'Anaerotruncus', '1XD8-76', 'Choladocola',\n       'COE1', 'CAG-317'],\n      dtype='object')"
     },
     "execution_count": 10,
     "metadata": {},
     "output_type": "execute_result"
    }
   ],
   "source": [
    "pd.read_pickle('analysis/metabolome_bacteria_significant_corr.pkl').unstack().columns"
   ],
   "metadata": {
    "collapsed": false,
    "ExecuteTime": {
     "end_time": "2024-03-05T14:59:30.726410Z",
     "start_time": "2024-03-05T14:59:30.720992Z"
    }
   },
   "id": "fa78e50c20df1fcc",
   "execution_count": 10
  },
  {
   "cell_type": "markdown",
   "source": [
    "MGBC code does not support genus to genus translation, only species to species. \n",
    "Maybe we can send them a question about it? \n",
    "\n",
    "Do we even need translation? Maybe first check how many genus that we have are found in both human and mice? How can we check that?\n",
    "Maybe try to load both taxa matrix and compare the overlap in the genus community? \n",
    "\n",
    "Then, lets try to extract all possible species from GTDB that under this genus, map them, and aggregate back? (majority vote/ sanity check all/most species should be mapped to the same genus? but we know they might not...? maybe we would have to work in the taxonomic comparison for that...)"
   ],
   "metadata": {
    "collapsed": false
   },
   "id": "f8f3ba3ea845d013"
  },
  {
   "cell_type": "code",
   "outputs": [],
   "source": [
    "mice_sign_corr = pd.read_pickle('analysis/metabolome_bacteria_significant_corr.pkl')\n",
    "human_sign_corr = pd.read_pickle('//human/iHMP_IBDMDB_2019_metabolome_bacteria_significant_corr.pkl')"
   ],
   "metadata": {
    "collapsed": false,
    "ExecuteTime": {
     "end_time": "2024-03-05T15:15:22.093588Z",
     "start_time": "2024-03-05T15:15:22.086171Z"
    }
   },
   "id": "a4f9702576aba363",
   "execution_count": 11
  },
  {
   "cell_type": "code",
   "outputs": [
    {
     "data": {
      "text/plain": "Index(['Acutalibacter', 'CAG-485', 'Eubacterium_R', 'Faecalibaculum',\n       'Lactococcus', 'Roseburia', 'Turicibacter', 'Pseudobutyricicoccus',\n       'CAG-485', 'Lactococcus',\n       ...\n       'Acutalibacter', 'Angelakisella', 'Anaerotignum', 'CAG-485', 'CAG-56',\n       'Erysipelatoclostridium', 'Lactococcus', 'COE1', 'Streptococcus',\n       'Acutalibacter'],\n      dtype='object', length=164)"
     },
     "execution_count": 13,
     "metadata": {},
     "output_type": "execute_result"
    }
   ],
   "source": [
    "mice_sign_corr.index.get_level_values(1)"
   ],
   "metadata": {
    "collapsed": false,
    "ExecuteTime": {
     "end_time": "2024-03-05T15:15:34.807421Z",
     "start_time": "2024-03-05T15:15:34.802114Z"
    }
   },
   "id": "78b1bc2dec91a1f0",
   "execution_count": 13
  },
  {
   "cell_type": "markdown",
   "source": [
    "Genus intersection between mice and human DB: "
   ],
   "metadata": {
    "collapsed": false
   },
   "id": "212f00627472af2e"
  },
  {
   "cell_type": "code",
   "outputs": [
    {
     "name": "stdout",
     "output_type": "stream",
     "text": [
      "Index(['Pelethomonas', 'Lawsonibacter', 'Acutalibacter', 'Anaerotruncus',\n",
      "       'Choladocola', 'Merdisoma', '1XD8-76', 'CAG-56', 'COE1', 'Emergencia',\n",
      "       'Angelakisella', 'Kineothrix', 'Lactobacillus', 'Clostridium',\n",
      "       'Pseudobutyricicoccus', 'Sporofaciens', 'Enterenecus', 'Clostridium_Q',\n",
      "       'Lactococcus'],\n",
      "      dtype='object')\n",
      "Out of 38 genus in Mice DB and 1288 in Human DB,  19 in the intersection.\n"
     ]
    }
   ],
   "source": [
    "genus_intersection = pd.Index(pd.Series(human_sign_corr.index.get_level_values(1)).str.extract('.*;g__(.*)').squeeze().tolist()).intersection(mice_sign_corr.index.get_level_values(1))\n",
    "print(genus_intersection)\n",
    "print(f\"Out of {len(mice_sign_corr.index.get_level_values(1).unique())} genus in Mice DB and {len(human_sign_corr.index.get_level_values(1).unique())} in Human DB,  {len(genus_intersection)} in the intersection.\")"
   ],
   "metadata": {
    "collapsed": false,
    "ExecuteTime": {
     "end_time": "2024-03-05T15:19:47.252579Z",
     "start_time": "2024-03-05T15:19:47.236179Z"
    }
   },
   "id": "b9d8732a0c436df9",
   "execution_count": 26
  },
  {
   "cell_type": "code",
   "outputs": [
    {
     "data": {
      "text/plain": "0.5"
     },
     "execution_count": 28,
     "metadata": {},
     "output_type": "execute_result"
    }
   ],
   "source": [
    "19/38"
   ],
   "metadata": {
    "collapsed": false,
    "ExecuteTime": {
     "end_time": "2024-03-05T15:19:59.608477Z",
     "start_time": "2024-03-05T15:19:59.605118Z"
    }
   },
   "id": "f6f798fd614997ab",
   "execution_count": 28
  },
  {
   "cell_type": "markdown",
   "source": [],
   "metadata": {
    "collapsed": false
   },
   "id": "aa158a061a8076a5"
  },
  {
   "cell_type": "markdown",
   "source": [
    "Lets try to extract all possible species from GTDB that under this genus, map them, and aggregate back? (majority vote/ sanity check all/most species should be mapped to the same genus? but we know they might not...? maybe we would have to work in the taxonomic comparison for that...)"
   ],
   "metadata": {
    "collapsed": false
   },
   "id": "f96e5ee7f84ca0aa"
  },
  {
   "cell_type": "markdown",
   "source": [
    "Use taxonomic mapping \n",
    "# TODO: Do we have the tag of 'Human' and 'Mice'? in the tree? in GTDB or other? How do they implelemt it? is it open source?"
   ],
   "metadata": {
    "collapsed": false
   },
   "id": "23e7b4ed9077a036"
  }
 ],
 "metadata": {
  "kernelspec": {
   "display_name": "Python 3",
   "language": "python",
   "name": "python3"
  },
  "language_info": {
   "codemirror_mode": {
    "name": "ipython",
    "version": 2
   },
   "file_extension": ".py",
   "mimetype": "text/x-python",
   "name": "python",
   "nbconvert_exporter": "python",
   "pygments_lexer": "ipython2",
   "version": "2.7.6"
  }
 },
 "nbformat": 4,
 "nbformat_minor": 5
}
